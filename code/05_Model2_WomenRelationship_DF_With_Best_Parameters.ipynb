{
 "cells": [
  {
   "cell_type": "markdown",
   "metadata": {},
   "source": [
    "# Web APIs & Classification"
   ]
  },
  {
   "cell_type": "markdown",
   "metadata": {},
   "source": [
    "## Project Challenge Statement\n",
    "\n",
    "### Goal: \n",
    "#### 1. Using Reddit's API, collect posts from two subreddits: AskWomen, Relationship_Advice. \n",
    "#### 2. NLP to train a classifier on which subreddit a given post came from. This is a binary classification problem.\n",
    "\n",
    "---\n",
    "\n",
    "### Datasets: \n",
    "1. AskWomen vs Relationship Advice (1, 0)\n",
    "\n",
    "---\n",
    "\n",
    "### Model Improvement\n",
    "Use all baseline models with gridsearch parameters in the previous notebook to build ensemble model. \n",
    "\n",
    "---\n",
    "\n",
    "\n",
    "### Ensemble Model \n",
    "- with CountVectorizer \n",
    "- with TFIDF Model\n",
    "- with Logistic Regression \n",
    "- with Multinomial NB\n",
    "- with RandomForestClassifier\n",
    "- with ExtraTreesClassifier\n",
    "- with AdaBoostClassifier\n",
    "- with SVM\n",
    "\n",
    "----\n",
    "\n",
    "### Notebook Walkthrough \n",
    "1. Build ensemble model \n",
    "    - `RelationshipAdvice:0, AskWomen:1`\n",
    "2. Evaluate model \n",
    "3. Plot keywords with highest coefficients \n",
    "\n",
    "---\n"
   ]
  },
  {
   "cell_type": "markdown",
   "metadata": {},
   "source": [
    "## Table of Contents \n",
    "\n",
    "This Notebook is broken down into different sections for analysis purpose. The following links are connected to differenct section within the Notebook for simple navigation. \n",
    "\n",
    "### Contents:\n",
    "- [Ensamble Model : With womenrelationship_df](#Ensamble-Model-:-With-womenrelationship_df)\n",
    "    - [Model Evaluation](#Model1-Evaluation)\n",
    "    - [Extracting Keywords Coefficients](#Extracting-Keywords-Coefficients)\n",
    "    - [Words-EDA](#Words-EDA)\n",
    "    - [Visualizing Words With Highest Coefficients](#Visualizing-Words-With-Highest-Coefficients)\n",
    "- [Model With Target Switched](#Model-With-Target-Switched)\n",
    "    - [Ensemble Model 2: With womenrelationship_df](#Ensemble-Model-2:-With-womenrelationship_df)\n",
    "    - [Model2 Evaluation](#Model2-Evaluation)\n",
    "    - [Extracting Keywords Coefficients](#Extracting-Keywords-Coefficients)\n",
    "    - [Visualizing Words With Highest Coefficients](#Visualizing-Words-With-Highest-Coefficients)\n",
    "    \n",
    "    \n",
    "---"
   ]
  },
  {
   "cell_type": "code",
   "execution_count": 411,
   "metadata": {},
   "outputs": [],
   "source": [
    "# !pip install pactools\n",
    "import warnings\n",
    "warnings.filterwarnings('ignore')"
   ]
  },
  {
   "cell_type": "code",
   "execution_count": 412,
   "metadata": {},
   "outputs": [],
   "source": [
    "import pandas as pd \n",
    "import numpy as np \n",
    "import re\n",
    "import matplotlib.pyplot as plt\n",
    "import seaborn as sns\n",
    "from sklearn.pipeline import Pipeline \n",
    "from sklearn.model_selection import train_test_split, GridSearchCV, cross_val_score\n",
    "from sklearn.linear_model import LogisticRegression\n",
    "from sklearn.feature_extraction.text import CountVectorizer, TfidfVectorizer\n",
    "from sklearn.naive_bayes import MultinomialNB\n",
    "from sklearn.ensemble import VotingClassifier\n",
    "from sklearn.neighbors import KNeighborsClassifier\n",
    "from pactools.grid_search import GridSearchCVProgressBar\n",
    "from sklearn.tree import DecisionTreeClassifier\n",
    "from sklearn import svm\n",
    "from sklearn.ensemble import VotingClassifier, BaggingClassifier, RandomForestClassifier, ExtraTreesClassifier, AdaBoostClassifier"
   ]
  },
  {
   "cell_type": "markdown",
   "metadata": {},
   "source": [
    "####  In this dataframe, the target is RelatoinshipAdvice\n",
    "```\n",
    "dic = { \"RelationshipAdvice\": 0, \"AskWomen\": 1}\n",
    "```"
   ]
  },
  {
   "cell_type": "code",
   "execution_count": 413,
   "metadata": {},
   "outputs": [
    {
     "data": {
      "text/plain": [
       "0    984\n",
       "1    723\n",
       "Name: Subreddit, dtype: int64"
      ]
     },
     "execution_count": 413,
     "metadata": {},
     "output_type": "execute_result"
    }
   ],
   "source": [
    "womenrelationship_df = pd.read_csv('../data/AskWomen_Relationship.csv')\n",
    "womenrelationship_df['Subreddit'].value_counts()"
   ]
  },
  {
   "cell_type": "code",
   "execution_count": 414,
   "metadata": {},
   "outputs": [],
   "source": [
    "X = womenrelationship_df[\"Title_Content\"]\n",
    "y = womenrelationship_df['Subreddit']\n",
    "\n",
    "#Train Test Split \n",
    "X_train, X_test, y_train, y_test = train_test_split(X, y, test_size=0.3, random_state=42, stratify = y)"
   ]
  },
  {
   "cell_type": "markdown",
   "metadata": {},
   "source": [
    "# Ensemble Model 2"
   ]
  },
  {
   "cell_type": "markdown",
   "metadata": {},
   "source": [
    "## Ensemble Model : With womenrelationship_df"
   ]
  },
  {
   "cell_type": "code",
   "execution_count": 415,
   "metadata": {},
   "outputs": [],
   "source": [
    "# models with Best Parameters from previous notebook\n",
    "mnb = MultinomialNB()\n",
    "logit = LogisticRegression()\n",
    "rf = RandomForestClassifier(max_depth = 100, \n",
    "                            min_samples_leaf= 2, \n",
    "                           n_estimators= 100)\n",
    "et = ExtraTreesClassifier( max_depth = 100, \n",
    "                           min_samples_leaf = 3, \n",
    "                           n_estimators = 50)\n",
    "ada = AdaBoostClassifier(base_estimator=DecisionTreeClassifier(max_depth = 200), \n",
    "                         learning_rate = 0.9, \n",
    "                         n_estimators = 200)\n",
    "svm = svm.SVC(C= 0.5, kernel= 'linear')"
   ]
  },
  {
   "cell_type": "code",
   "execution_count": 434,
   "metadata": {},
   "outputs": [],
   "source": [
    "#building Pipeline\n",
    "pipe2 = Pipeline([     \n",
    "#       ('cvec1', CountVectorizer(max_df= 0.95, \n",
    "#                        max_features= 1500, \n",
    "#                        min_df= 2, \n",
    "#                        ngram_range= (1,1))), \n",
    "    \n",
    "#       ('cvec2', CountVectorizer(max_df= 0.95, \n",
    "#                        max_features= 1000, \n",
    "#                        min_df= 5, \n",
    "#                        ngram_range= (1,1))), \n",
    "    \n",
    "#       ('tfidf1', TfidfVectorizer(max_df= 0.95, \n",
    "#                        max_features= 2000, \n",
    "#                        min_df= 2, \n",
    "#                        ngram_range= (1,2))),\n",
    "     \n",
    "     ('tfidf2',  TfidfVectorizer(max_df= 0.95, \n",
    "                       max_features= 1500, \n",
    "                       min_df= 5, \n",
    "                       ngram_range= (1,2))),\n",
    "     \n",
    "    ('vc', VotingClassifier(estimators= [('mnb', mnb), \n",
    "                                         ('logit', logit), \n",
    "                                         ('rf', rf),  \n",
    "                                         ('et', et), \n",
    "                                         ('ada', ada),\n",
    "                                         ('svm', svm)], \n",
    "                     voting = 'hard'))\n",
    "])"
   ]
  },
  {
   "cell_type": "code",
   "execution_count": 435,
   "metadata": {},
   "outputs": [
    {
     "data": {
      "text/plain": [
       "0.9765329012961118"
      ]
     },
     "execution_count": 435,
     "metadata": {},
     "output_type": "execute_result"
    }
   ],
   "source": [
    "#checking baseline CrossValidation Score \n",
    "cross_val_score(pipe2, X_train, y_train, cv = 10).mean()"
   ]
  },
  {
   "cell_type": "code",
   "execution_count": 436,
   "metadata": {},
   "outputs": [
    {
     "data": {
      "text/plain": [
       "Pipeline(memory=None,\n",
       "     steps=[('tfidf2', TfidfVectorizer(analyzer='word', binary=False, decode_error='strict',\n",
       "        dtype=<class 'numpy.float64'>, encoding='utf-8', input='content',\n",
       "        lowercase=True, max_df=0.95, max_features=1500, min_df=5,\n",
       "        ngram_range=(1, 2), norm='l2', preprocessor=None, smooth_idf=Tru....001, verbose=False))],\n",
       "         flatten_transform=None, n_jobs=None, voting='hard', weights=None))])"
      ]
     },
     "execution_count": 436,
     "metadata": {},
     "output_type": "execute_result"
    }
   ],
   "source": [
    "pipe2.fit(X_train, y_train)"
   ]
  },
  {
   "cell_type": "code",
   "execution_count": 437,
   "metadata": {
    "scrolled": true
   },
   "outputs": [
    {
     "name": "stdout",
     "output_type": "stream",
     "text": [
      "train score 0.9899497487437185\n",
      "test score 0.9746588693957114\n"
     ]
    }
   ],
   "source": [
    "print('train score', pipe2.score(X_train, y_train))\n",
    "print('test score', pipe2.score(X_test, y_test))"
   ]
  },
  {
   "cell_type": "code",
   "execution_count": 438,
   "metadata": {},
   "outputs": [],
   "source": [
    "#make prediction \n",
    "predict = pipe2.predict(X_train)"
   ]
  },
  {
   "cell_type": "code",
   "execution_count": 439,
   "metadata": {},
   "outputs": [],
   "source": [
    "test_predct = pipe2.predict(X_test)"
   ]
  },
  {
   "cell_type": "markdown",
   "metadata": {},
   "source": [
    "## Model Evaluation "
   ]
  },
  {
   "cell_type": "markdown",
   "metadata": {},
   "source": [
    "### Train Data Confusion Matrix"
   ]
  },
  {
   "cell_type": "code",
   "execution_count": 440,
   "metadata": {},
   "outputs": [],
   "source": [
    "from sklearn.metrics import confusion_matrix"
   ]
  },
  {
   "cell_type": "code",
   "execution_count": 441,
   "metadata": {
    "scrolled": false
   },
   "outputs": [
    {
     "data": {
      "text/plain": [
       "array([[678,  10],\n",
       "       [  2, 504]])"
      ]
     },
     "execution_count": 441,
     "metadata": {},
     "output_type": "execute_result"
    }
   ],
   "source": [
    "confusion_matrix(y_true= y_train, y_pred= predict)"
   ]
  },
  {
   "cell_type": "code",
   "execution_count": 442,
   "metadata": {},
   "outputs": [
    {
     "data": {
      "text/plain": [
       "(678, 10, 2, 504)"
      ]
     },
     "execution_count": 442,
     "metadata": {},
     "output_type": "execute_result"
    }
   ],
   "source": [
    "tn, fp, fn, tp = confusion_matrix(y_true= y_train, y_pred= predict).ravel()\n",
    "(tn, fp, fn, tp)"
   ]
  },
  {
   "cell_type": "code",
   "execution_count": 345,
   "metadata": {},
   "outputs": [
    {
     "data": {
      "text/plain": [
       "0.9980276134122288"
      ]
     },
     "execution_count": 345,
     "metadata": {},
     "output_type": "execute_result"
    }
   ],
   "source": [
    "#precision \n",
    "tp/(tp+fp)"
   ]
  },
  {
   "cell_type": "code",
   "execution_count": 443,
   "metadata": {
    "scrolled": true
   },
   "outputs": [
    {
     "data": {
      "text/plain": [
       "0.9907562735545546"
      ]
     },
     "execution_count": 443,
     "metadata": {},
     "output_type": "execute_result"
    }
   ],
   "source": [
    "from sklearn.metrics import roc_auc_score\n",
    "roc_auc_score(y_train, predict)"
   ]
  },
  {
   "cell_type": "markdown",
   "metadata": {},
   "source": [
    "### Test Data Confusion Matrix"
   ]
  },
  {
   "cell_type": "code",
   "execution_count": 444,
   "metadata": {
    "scrolled": false
   },
   "outputs": [
    {
     "data": {
      "text/plain": [
       "array([[289,   7],\n",
       "       [  6, 211]])"
      ]
     },
     "execution_count": 444,
     "metadata": {},
     "output_type": "execute_result"
    }
   ],
   "source": [
    "confusion_matrix(y_true= y_test, y_pred = test_predct)"
   ]
  },
  {
   "cell_type": "code",
   "execution_count": 445,
   "metadata": {},
   "outputs": [
    {
     "data": {
      "text/plain": [
       "(289, 7, 6, 211)"
      ]
     },
     "execution_count": 445,
     "metadata": {},
     "output_type": "execute_result"
    }
   ],
   "source": [
    "tn, fp, fn, tp = confusion_matrix(y_true= y_test, y_pred = test_predct).ravel()\n",
    "(tn, fp, fn, tp)"
   ]
  },
  {
   "cell_type": "code",
   "execution_count": 446,
   "metadata": {},
   "outputs": [
    {
     "data": {
      "text/plain": [
       "0.9678899082568807"
      ]
     },
     "execution_count": 446,
     "metadata": {},
     "output_type": "execute_result"
    }
   ],
   "source": [
    "#precision \n",
    "tp/(tp+fp)"
   ]
  },
  {
   "cell_type": "code",
   "execution_count": 447,
   "metadata": {
    "scrolled": true
   },
   "outputs": [
    {
     "data": {
      "text/plain": [
       "0.9907562735545546"
      ]
     },
     "execution_count": 447,
     "metadata": {},
     "output_type": "execute_result"
    }
   ],
   "source": [
    "roc_auc_score(y_train, predict)"
   ]
  },
  {
   "cell_type": "markdown",
   "metadata": {},
   "source": [
    "## Extracting Keywords Coefficients"
   ]
  },
  {
   "cell_type": "code",
   "execution_count": 448,
   "metadata": {},
   "outputs": [
    {
     "data": {
      "text/plain": [
       "[MultinomialNB(alpha=1.0, class_prior=None, fit_prior=True),\n",
       " LogisticRegression(C=1.0, class_weight=None, dual=False, fit_intercept=True,\n",
       "           intercept_scaling=1, max_iter=100, multi_class='warn',\n",
       "           n_jobs=None, penalty='l2', random_state=None, solver='warn',\n",
       "           tol=0.0001, verbose=0, warm_start=False),\n",
       " RandomForestClassifier(bootstrap=True, class_weight=None, criterion='gini',\n",
       "             max_depth=100, max_features='auto', max_leaf_nodes=None,\n",
       "             min_impurity_decrease=0.0, min_impurity_split=None,\n",
       "             min_samples_leaf=2, min_samples_split=2,\n",
       "             min_weight_fraction_leaf=0.0, n_estimators=100, n_jobs=None,\n",
       "             oob_score=False, random_state=None, verbose=0,\n",
       "             warm_start=False),\n",
       " ExtraTreesClassifier(bootstrap=False, class_weight=None, criterion='gini',\n",
       "            max_depth=100, max_features='auto', max_leaf_nodes=None,\n",
       "            min_impurity_decrease=0.0, min_impurity_split=None,\n",
       "            min_samples_leaf=3, min_samples_split=2,\n",
       "            min_weight_fraction_leaf=0.0, n_estimators=50, n_jobs=None,\n",
       "            oob_score=False, random_state=None, verbose=0, warm_start=False),\n",
       " AdaBoostClassifier(algorithm='SAMME.R',\n",
       "           base_estimator=DecisionTreeClassifier(class_weight=None, criterion='gini', max_depth=200,\n",
       "             max_features=None, max_leaf_nodes=None,\n",
       "             min_impurity_decrease=0.0, min_impurity_split=None,\n",
       "             min_samples_leaf=1, min_samples_split=2,\n",
       "             min_weight_fraction_leaf=0.0, presort=False, random_state=None,\n",
       "             splitter='best'),\n",
       "           learning_rate=0.9, n_estimators=200, random_state=None),\n",
       " SVC(C=0.5, cache_size=200, class_weight=None, coef0=0.0,\n",
       "   decision_function_shape='ovr', degree=3, gamma='auto_deprecated',\n",
       "   kernel='linear', max_iter=-1, probability=False, random_state=None,\n",
       "   shrinking=True, tol=0.001, verbose=False)]"
      ]
     },
     "execution_count": 448,
     "metadata": {},
     "output_type": "execute_result"
    }
   ],
   "source": [
    "pipe2.named_steps['vc'].estimators_"
   ]
  },
  {
   "cell_type": "code",
   "execution_count": 449,
   "metadata": {},
   "outputs": [
    {
     "data": {
      "text/plain": [
       "1500"
      ]
     },
     "execution_count": 449,
     "metadata": {},
     "output_type": "execute_result"
    }
   ],
   "source": [
    "#extracting coefficients \n",
    "mnb2_coef = pipe2.named_steps['vc'].estimators_[0].coef_[0]\n",
    "\n",
    "logit2_coef = pipe2.named_steps['vc'].estimators_[1].coef_[0]\n",
    "len(mnb2_coef)"
   ]
  },
  {
   "cell_type": "code",
   "execution_count": 451,
   "metadata": {
    "scrolled": false
   },
   "outputs": [
    {
     "data": {
      "text/plain": [
       "1500"
      ]
     },
     "execution_count": 451,
     "metadata": {},
     "output_type": "execute_result"
    }
   ],
   "source": [
    "#get column names for man relationship columns\n",
    "tfidf = TfidfVectorizer(max_df= 0.95, \n",
    "                       max_features= 1500, \n",
    "                       min_df= 5, \n",
    "                       ngram_range= (1,2))\n",
    "\n",
    "X_train_tfidf = tfidf.fit_transform(X_train)\n",
    "\n",
    "#Saving column name\n",
    "col_name2 = tfidf.get_feature_names()\n",
    "len(col_name2)"
   ]
  },
  {
   "cell_type": "code",
   "execution_count": 452,
   "metadata": {},
   "outputs": [
    {
     "data": {
      "text/plain": [
       "array([[0.        , 0.        , 0.        , ..., 0.        , 0.        ,\n",
       "        0.23464461],\n",
       "       [0.        , 0.        , 0.06381813, ..., 0.        , 0.        ,\n",
       "        0.        ],\n",
       "       [0.        , 0.        , 0.        , ..., 0.        , 0.        ,\n",
       "        0.        ],\n",
       "       ...,\n",
       "       [0.02823897, 0.02845002, 0.03895388, ..., 0.        , 0.        ,\n",
       "        0.        ],\n",
       "       [0.        , 0.        , 0.18418143, ..., 0.        , 0.        ,\n",
       "        0.02411878],\n",
       "       [0.        , 0.        , 0.        , ..., 0.        , 0.        ,\n",
       "        0.        ]])"
      ]
     },
     "execution_count": 452,
     "metadata": {},
     "output_type": "execute_result"
    }
   ],
   "source": [
    "#Transforming Data to array\n",
    "X_train_tfidf.toarray()"
   ]
  },
  {
   "cell_type": "code",
   "execution_count": 453,
   "metadata": {
    "scrolled": true
   },
   "outputs": [
    {
     "data": {
      "text/html": [
       "<div>\n",
       "<style scoped>\n",
       "    .dataframe tbody tr th:only-of-type {\n",
       "        vertical-align: middle;\n",
       "    }\n",
       "\n",
       "    .dataframe tbody tr th {\n",
       "        vertical-align: top;\n",
       "    }\n",
       "\n",
       "    .dataframe thead th {\n",
       "        text-align: right;\n",
       "    }\n",
       "</style>\n",
       "<table border=\"1\" class=\"dataframe\">\n",
       "  <thead>\n",
       "    <tr style=\"text-align: right;\">\n",
       "      <th></th>\n",
       "      <th>Subreddit</th>\n",
       "      <th>able</th>\n",
       "      <th>able to</th>\n",
       "      <th>about</th>\n",
       "      <th>about her</th>\n",
       "      <th>about him</th>\n",
       "      <th>about how</th>\n",
       "      <th>about it</th>\n",
       "      <th>about me</th>\n",
       "      <th>about months</th>\n",
       "      <th>...</th>\n",
       "      <th>you</th>\n",
       "      <th>you and</th>\n",
       "      <th>you feel</th>\n",
       "      <th>you have</th>\n",
       "      <th>you know</th>\n",
       "      <th>you re</th>\n",
       "      <th>you think</th>\n",
       "      <th>you ve</th>\n",
       "      <th>young</th>\n",
       "      <th>your</th>\n",
       "    </tr>\n",
       "  </thead>\n",
       "  <tbody>\n",
       "    <tr>\n",
       "      <th>0</th>\n",
       "      <td>1</td>\n",
       "      <td>0.00000</td>\n",
       "      <td>0.000000</td>\n",
       "      <td>0.000000</td>\n",
       "      <td>0.0</td>\n",
       "      <td>0.0</td>\n",
       "      <td>0.0</td>\n",
       "      <td>0.0</td>\n",
       "      <td>0.0</td>\n",
       "      <td>0.0</td>\n",
       "      <td>...</td>\n",
       "      <td>0.159695</td>\n",
       "      <td>0.0</td>\n",
       "      <td>0.0</td>\n",
       "      <td>0.0</td>\n",
       "      <td>0.0</td>\n",
       "      <td>0.00000</td>\n",
       "      <td>0.000000</td>\n",
       "      <td>0.0</td>\n",
       "      <td>0.0</td>\n",
       "      <td>0.234645</td>\n",
       "    </tr>\n",
       "    <tr>\n",
       "      <th>1</th>\n",
       "      <td>1</td>\n",
       "      <td>0.00000</td>\n",
       "      <td>0.000000</td>\n",
       "      <td>0.063818</td>\n",
       "      <td>0.0</td>\n",
       "      <td>0.0</td>\n",
       "      <td>0.0</td>\n",
       "      <td>0.0</td>\n",
       "      <td>0.0</td>\n",
       "      <td>0.0</td>\n",
       "      <td>...</td>\n",
       "      <td>0.000000</td>\n",
       "      <td>0.0</td>\n",
       "      <td>0.0</td>\n",
       "      <td>0.0</td>\n",
       "      <td>0.0</td>\n",
       "      <td>0.00000</td>\n",
       "      <td>0.000000</td>\n",
       "      <td>0.0</td>\n",
       "      <td>0.0</td>\n",
       "      <td>0.000000</td>\n",
       "    </tr>\n",
       "    <tr>\n",
       "      <th>2</th>\n",
       "      <td>1</td>\n",
       "      <td>0.00000</td>\n",
       "      <td>0.000000</td>\n",
       "      <td>0.000000</td>\n",
       "      <td>0.0</td>\n",
       "      <td>0.0</td>\n",
       "      <td>0.0</td>\n",
       "      <td>0.0</td>\n",
       "      <td>0.0</td>\n",
       "      <td>0.0</td>\n",
       "      <td>...</td>\n",
       "      <td>0.162498</td>\n",
       "      <td>0.0</td>\n",
       "      <td>0.0</td>\n",
       "      <td>0.0</td>\n",
       "      <td>0.0</td>\n",
       "      <td>0.00000</td>\n",
       "      <td>0.000000</td>\n",
       "      <td>0.0</td>\n",
       "      <td>0.0</td>\n",
       "      <td>0.000000</td>\n",
       "    </tr>\n",
       "    <tr>\n",
       "      <th>3</th>\n",
       "      <td>1</td>\n",
       "      <td>0.00000</td>\n",
       "      <td>0.000000</td>\n",
       "      <td>0.000000</td>\n",
       "      <td>0.0</td>\n",
       "      <td>0.0</td>\n",
       "      <td>0.0</td>\n",
       "      <td>0.0</td>\n",
       "      <td>0.0</td>\n",
       "      <td>0.0</td>\n",
       "      <td>...</td>\n",
       "      <td>0.335896</td>\n",
       "      <td>0.0</td>\n",
       "      <td>0.0</td>\n",
       "      <td>0.0</td>\n",
       "      <td>0.0</td>\n",
       "      <td>0.00000</td>\n",
       "      <td>0.225897</td>\n",
       "      <td>0.0</td>\n",
       "      <td>0.0</td>\n",
       "      <td>0.185078</td>\n",
       "    </tr>\n",
       "    <tr>\n",
       "      <th>4</th>\n",
       "      <td>1</td>\n",
       "      <td>0.05058</td>\n",
       "      <td>0.050958</td>\n",
       "      <td>0.023258</td>\n",
       "      <td>0.0</td>\n",
       "      <td>0.0</td>\n",
       "      <td>0.0</td>\n",
       "      <td>0.0</td>\n",
       "      <td>0.0</td>\n",
       "      <td>0.0</td>\n",
       "      <td>...</td>\n",
       "      <td>0.020728</td>\n",
       "      <td>0.0</td>\n",
       "      <td>0.0</td>\n",
       "      <td>0.0</td>\n",
       "      <td>0.0</td>\n",
       "      <td>0.05372</td>\n",
       "      <td>0.000000</td>\n",
       "      <td>0.0</td>\n",
       "      <td>0.0</td>\n",
       "      <td>0.000000</td>\n",
       "    </tr>\n",
       "  </tbody>\n",
       "</table>\n",
       "<p>5 rows × 1501 columns</p>\n",
       "</div>"
      ],
      "text/plain": [
       "   Subreddit     able   able to     about  about her  about him  about how  \\\n",
       "0          1  0.00000  0.000000  0.000000        0.0        0.0        0.0   \n",
       "1          1  0.00000  0.000000  0.063818        0.0        0.0        0.0   \n",
       "2          1  0.00000  0.000000  0.000000        0.0        0.0        0.0   \n",
       "3          1  0.00000  0.000000  0.000000        0.0        0.0        0.0   \n",
       "4          1  0.05058  0.050958  0.023258        0.0        0.0        0.0   \n",
       "\n",
       "   about it  about me  about months  ...       you  you and  you feel  \\\n",
       "0       0.0       0.0           0.0  ...  0.159695      0.0       0.0   \n",
       "1       0.0       0.0           0.0  ...  0.000000      0.0       0.0   \n",
       "2       0.0       0.0           0.0  ...  0.162498      0.0       0.0   \n",
       "3       0.0       0.0           0.0  ...  0.335896      0.0       0.0   \n",
       "4       0.0       0.0           0.0  ...  0.020728      0.0       0.0   \n",
       "\n",
       "   you have  you know   you re  you think  you ve  young      your  \n",
       "0       0.0       0.0  0.00000   0.000000     0.0    0.0  0.234645  \n",
       "1       0.0       0.0  0.00000   0.000000     0.0    0.0  0.000000  \n",
       "2       0.0       0.0  0.00000   0.000000     0.0    0.0  0.000000  \n",
       "3       0.0       0.0  0.00000   0.225897     0.0    0.0  0.185078  \n",
       "4       0.0       0.0  0.05372   0.000000     0.0    0.0  0.000000  \n",
       "\n",
       "[5 rows x 1501 columns]"
      ]
     },
     "execution_count": 453,
     "metadata": {},
     "output_type": "execute_result"
    }
   ],
   "source": [
    "#turining counts into dataframe\n",
    "relationship_word = pd.DataFrame(X_train_tfidf.toarray(), \n",
    "                       columns= col_name2)\n",
    "\n",
    "relationship_word .insert(0, 'Subreddit', y)\n",
    "relationship_word.head()"
   ]
  },
  {
   "cell_type": "code",
   "execution_count": 454,
   "metadata": {},
   "outputs": [],
   "source": [
    "#Building relationship word dataframe \n",
    "relationship_word = relationship_word.groupby('Subreddit').sum().T"
   ]
  },
  {
   "cell_type": "code",
   "execution_count": 455,
   "metadata": {},
   "outputs": [
    {
     "data": {
      "text/html": [
       "<div>\n",
       "<style scoped>\n",
       "    .dataframe tbody tr th:only-of-type {\n",
       "        vertical-align: middle;\n",
       "    }\n",
       "\n",
       "    .dataframe tbody tr th {\n",
       "        vertical-align: top;\n",
       "    }\n",
       "\n",
       "    .dataframe thead th {\n",
       "        text-align: right;\n",
       "    }\n",
       "</style>\n",
       "<table border=\"1\" class=\"dataframe\">\n",
       "  <thead>\n",
       "    <tr style=\"text-align: right;\">\n",
       "      <th></th>\n",
       "      <th>AskWomen</th>\n",
       "      <th>RelationshipAdvice</th>\n",
       "    </tr>\n",
       "  </thead>\n",
       "  <tbody>\n",
       "    <tr>\n",
       "      <th>able</th>\n",
       "      <td>1.306171</td>\n",
       "      <td>2.857767</td>\n",
       "    </tr>\n",
       "    <tr>\n",
       "      <th>able to</th>\n",
       "      <td>1.315933</td>\n",
       "      <td>2.421767</td>\n",
       "    </tr>\n",
       "    <tr>\n",
       "      <th>about</th>\n",
       "      <td>15.074853</td>\n",
       "      <td>24.812091</td>\n",
       "    </tr>\n",
       "    <tr>\n",
       "      <th>about her</th>\n",
       "      <td>1.399937</td>\n",
       "      <td>2.332591</td>\n",
       "    </tr>\n",
       "    <tr>\n",
       "      <th>about him</th>\n",
       "      <td>0.952312</td>\n",
       "      <td>1.070037</td>\n",
       "    </tr>\n",
       "  </tbody>\n",
       "</table>\n",
       "</div>"
      ],
      "text/plain": [
       "            AskWomen  RelationshipAdvice\n",
       "able        1.306171            2.857767\n",
       "able to     1.315933            2.421767\n",
       "about      15.074853           24.812091\n",
       "about her   1.399937            2.332591\n",
       "about him   0.952312            1.070037"
      ]
     },
     "execution_count": 455,
     "metadata": {},
     "output_type": "execute_result"
    }
   ],
   "source": [
    "relationship_word.columns = ['AskWomen', 'RelationshipAdvice']\n",
    "relationship_word.to_csv('../data/Relatioinship0AskWomen1wordcount.csv')\n",
    "relationship_word.head()"
   ]
  },
  {
   "cell_type": "code",
   "execution_count": 456,
   "metadata": {
    "scrolled": true
   },
   "outputs": [
    {
     "data": {
      "text/html": [
       "<div>\n",
       "<style scoped>\n",
       "    .dataframe tbody tr th:only-of-type {\n",
       "        vertical-align: middle;\n",
       "    }\n",
       "\n",
       "    .dataframe tbody tr th {\n",
       "        vertical-align: top;\n",
       "    }\n",
       "\n",
       "    .dataframe thead th {\n",
       "        text-align: right;\n",
       "    }\n",
       "</style>\n",
       "<table border=\"1\" class=\"dataframe\">\n",
       "  <thead>\n",
       "    <tr style=\"text-align: right;\">\n",
       "      <th></th>\n",
       "      <th>nb_coef</th>\n",
       "      <th>logit_coef</th>\n",
       "    </tr>\n",
       "  </thead>\n",
       "  <tbody>\n",
       "    <tr>\n",
       "      <th>able</th>\n",
       "      <td>-7.415600</td>\n",
       "      <td>0.063575</td>\n",
       "    </tr>\n",
       "    <tr>\n",
       "      <th>able to</th>\n",
       "      <td>-7.641679</td>\n",
       "      <td>0.035638</td>\n",
       "    </tr>\n",
       "    <tr>\n",
       "      <th>about</th>\n",
       "      <td>-5.861976</td>\n",
       "      <td>-0.650305</td>\n",
       "    </tr>\n",
       "    <tr>\n",
       "      <th>about her</th>\n",
       "      <td>-8.129530</td>\n",
       "      <td>-0.141794</td>\n",
       "    </tr>\n",
       "    <tr>\n",
       "      <th>about him</th>\n",
       "      <td>-8.129530</td>\n",
       "      <td>-0.094078</td>\n",
       "    </tr>\n",
       "  </tbody>\n",
       "</table>\n",
       "</div>"
      ],
      "text/plain": [
       "            nb_coef  logit_coef\n",
       "able      -7.415600    0.063575\n",
       "able to   -7.641679    0.035638\n",
       "about     -5.861976   -0.650305\n",
       "about her -8.129530   -0.141794\n",
       "about him -8.129530   -0.094078"
      ]
     },
     "execution_count": 456,
     "metadata": {},
     "output_type": "execute_result"
    }
   ],
   "source": [
    "#Building Word Dataframe with their individual coefficients \n",
    "womenrelationship_word = pd.DataFrame(data= [mnb2_coef, logit2_coef], columns= col_name2, index= ['nb_coef', 'logit_coef'])\n",
    "womenrelationship_word = womenrelationship_word.T\n",
    "womenrelationship_word.to_csv('../data/Relatioinship0AskWomen1wordcoeff.csv')\n",
    "womenrelationship_word.head()"
   ]
  },
  {
   "cell_type": "markdown",
   "metadata": {},
   "source": [
    "## Words EDA"
   ]
  },
  {
   "cell_type": "code",
   "execution_count": 504,
   "metadata": {
    "scrolled": false
   },
   "outputs": [
    {
     "data": {
      "text/html": [
       "<div>\n",
       "<style scoped>\n",
       "    .dataframe tbody tr th:only-of-type {\n",
       "        vertical-align: middle;\n",
       "    }\n",
       "\n",
       "    .dataframe tbody tr th {\n",
       "        vertical-align: top;\n",
       "    }\n",
       "\n",
       "    .dataframe thead th {\n",
       "        text-align: right;\n",
       "    }\n",
       "</style>\n",
       "<table border=\"1\" class=\"dataframe\">\n",
       "  <thead>\n",
       "    <tr style=\"text-align: right;\">\n",
       "      <th></th>\n",
       "      <th>nb_coef</th>\n",
       "      <th>logit_coef</th>\n",
       "    </tr>\n",
       "  </thead>\n",
       "  <tbody>\n",
       "    <tr>\n",
       "      <th>you</th>\n",
       "      <td>-3.751280</td>\n",
       "      <td>3.546970</td>\n",
       "    </tr>\n",
       "    <tr>\n",
       "      <th>your</th>\n",
       "      <td>-4.070718</td>\n",
       "      <td>2.248796</td>\n",
       "    </tr>\n",
       "    <tr>\n",
       "      <th>what</th>\n",
       "      <td>-4.148849</td>\n",
       "      <td>2.811666</td>\n",
       "    </tr>\n",
       "    <tr>\n",
       "      <th>do you</th>\n",
       "      <td>-4.518230</td>\n",
       "      <td>1.729328</td>\n",
       "    </tr>\n",
       "    <tr>\n",
       "      <th>do</th>\n",
       "      <td>-4.833713</td>\n",
       "      <td>0.129620</td>\n",
       "    </tr>\n",
       "    <tr>\n",
       "      <th>the</th>\n",
       "      <td>-4.856414</td>\n",
       "      <td>-0.636384</td>\n",
       "    </tr>\n",
       "    <tr>\n",
       "      <th>to</th>\n",
       "      <td>-4.859047</td>\n",
       "      <td>-2.479212</td>\n",
       "    </tr>\n",
       "    <tr>\n",
       "      <th>how</th>\n",
       "      <td>-4.859993</td>\n",
       "      <td>0.563154</td>\n",
       "    </tr>\n",
       "    <tr>\n",
       "      <th>what is</th>\n",
       "      <td>-5.112346</td>\n",
       "      <td>1.289274</td>\n",
       "    </tr>\n",
       "    <tr>\n",
       "      <th>what are</th>\n",
       "      <td>-5.113371</td>\n",
       "      <td>1.055633</td>\n",
       "    </tr>\n",
       "    <tr>\n",
       "      <th>and</th>\n",
       "      <td>-5.150087</td>\n",
       "      <td>-2.846791</td>\n",
       "    </tr>\n",
       "    <tr>\n",
       "      <th>women</th>\n",
       "      <td>-5.194354</td>\n",
       "      <td>1.404916</td>\n",
       "    </tr>\n",
       "    <tr>\n",
       "      <th>of</th>\n",
       "      <td>-5.256321</td>\n",
       "      <td>-0.672846</td>\n",
       "    </tr>\n",
       "    <tr>\n",
       "      <th>are</th>\n",
       "      <td>-5.299324</td>\n",
       "      <td>0.064553</td>\n",
       "    </tr>\n",
       "    <tr>\n",
       "      <th>how do</th>\n",
       "      <td>-5.312473</td>\n",
       "      <td>0.466720</td>\n",
       "    </tr>\n",
       "    <tr>\n",
       "      <th>did you</th>\n",
       "      <td>-5.312946</td>\n",
       "      <td>0.990316</td>\n",
       "    </tr>\n",
       "    <tr>\n",
       "      <th>did</th>\n",
       "      <td>-5.339367</td>\n",
       "      <td>0.607888</td>\n",
       "    </tr>\n",
       "    <tr>\n",
       "      <th>is</th>\n",
       "      <td>-5.352097</td>\n",
       "      <td>-0.159565</td>\n",
       "    </tr>\n",
       "    <tr>\n",
       "      <th>it</th>\n",
       "      <td>-5.391754</td>\n",
       "      <td>-1.169881</td>\n",
       "    </tr>\n",
       "    <tr>\n",
       "      <th>in</th>\n",
       "      <td>-5.407730</td>\n",
       "      <td>-0.718172</td>\n",
       "    </tr>\n",
       "  </tbody>\n",
       "</table>\n",
       "</div>"
      ],
      "text/plain": [
       "           nb_coef  logit_coef\n",
       "you      -3.751280    3.546970\n",
       "your     -4.070718    2.248796\n",
       "what     -4.148849    2.811666\n",
       "do you   -4.518230    1.729328\n",
       "do       -4.833713    0.129620\n",
       "the      -4.856414   -0.636384\n",
       "to       -4.859047   -2.479212\n",
       "how      -4.859993    0.563154\n",
       "what is  -5.112346    1.289274\n",
       "what are -5.113371    1.055633\n",
       "and      -5.150087   -2.846791\n",
       "women    -5.194354    1.404916\n",
       "of       -5.256321   -0.672846\n",
       "are      -5.299324    0.064553\n",
       "how do   -5.312473    0.466720\n",
       "did you  -5.312946    0.990316\n",
       "did      -5.339367    0.607888\n",
       "is       -5.352097   -0.159565\n",
       "it       -5.391754   -1.169881\n",
       "in       -5.407730   -0.718172"
      ]
     },
     "execution_count": 504,
     "metadata": {},
     "output_type": "execute_result"
    }
   ],
   "source": [
    "#sort by coeffients from high to low \n",
    "womenrelationship_word.sort_values(by = 'nb_coef', ascending= False ).head(20)"
   ]
  },
  {
   "cell_type": "markdown",
   "metadata": {},
   "source": [
    "### Visualizing Words With Highest Coefficients"
   ]
  },
  {
   "cell_type": "code",
   "execution_count": 510,
   "metadata": {},
   "outputs": [],
   "source": [
    "#Naive Bayes Coefficients From High to Low \n",
    "nb_idex = womenrelationship_word.sort_values(by = 'nb_coef', ascending= False).head(20).index"
   ]
  },
  {
   "cell_type": "code",
   "execution_count": 511,
   "metadata": {
    "scrolled": false
   },
   "outputs": [
    {
     "data": {
      "text/html": [
       "<div>\n",
       "<style scoped>\n",
       "    .dataframe tbody tr th:only-of-type {\n",
       "        vertical-align: middle;\n",
       "    }\n",
       "\n",
       "    .dataframe tbody tr th {\n",
       "        vertical-align: top;\n",
       "    }\n",
       "\n",
       "    .dataframe thead th {\n",
       "        text-align: right;\n",
       "    }\n",
       "</style>\n",
       "<table border=\"1\" class=\"dataframe\">\n",
       "  <thead>\n",
       "    <tr style=\"text-align: right;\">\n",
       "      <th></th>\n",
       "      <th>AskWomen</th>\n",
       "      <th>RelationshipAdvice</th>\n",
       "    </tr>\n",
       "  </thead>\n",
       "  <tbody>\n",
       "    <tr>\n",
       "      <th>you</th>\n",
       "      <td>36.010009</td>\n",
       "      <td>56.960820</td>\n",
       "    </tr>\n",
       "    <tr>\n",
       "      <th>your</th>\n",
       "      <td>27.530036</td>\n",
       "      <td>34.343546</td>\n",
       "    </tr>\n",
       "    <tr>\n",
       "      <th>what</th>\n",
       "      <td>27.290648</td>\n",
       "      <td>41.206760</td>\n",
       "    </tr>\n",
       "    <tr>\n",
       "      <th>do you</th>\n",
       "      <td>15.979241</td>\n",
       "      <td>23.144262</td>\n",
       "    </tr>\n",
       "    <tr>\n",
       "      <th>do</th>\n",
       "      <td>18.818749</td>\n",
       "      <td>29.969438</td>\n",
       "    </tr>\n",
       "    <tr>\n",
       "      <th>the</th>\n",
       "      <td>39.056518</td>\n",
       "      <td>57.914291</td>\n",
       "    </tr>\n",
       "    <tr>\n",
       "      <th>to</th>\n",
       "      <td>52.960465</td>\n",
       "      <td>85.770449</td>\n",
       "    </tr>\n",
       "    <tr>\n",
       "      <th>how</th>\n",
       "      <td>19.272961</td>\n",
       "      <td>26.344157</td>\n",
       "    </tr>\n",
       "    <tr>\n",
       "      <th>what is</th>\n",
       "      <td>7.041509</td>\n",
       "      <td>13.008830</td>\n",
       "    </tr>\n",
       "    <tr>\n",
       "      <th>what are</th>\n",
       "      <td>9.453087</td>\n",
       "      <td>11.069997</td>\n",
       "    </tr>\n",
       "    <tr>\n",
       "      <th>and</th>\n",
       "      <td>53.329890</td>\n",
       "      <td>87.391961</td>\n",
       "    </tr>\n",
       "    <tr>\n",
       "      <th>women</th>\n",
       "      <td>6.471111</td>\n",
       "      <td>13.190624</td>\n",
       "    </tr>\n",
       "    <tr>\n",
       "      <th>of</th>\n",
       "      <td>24.683798</td>\n",
       "      <td>40.244998</td>\n",
       "    </tr>\n",
       "    <tr>\n",
       "      <th>are</th>\n",
       "      <td>12.676470</td>\n",
       "      <td>18.265673</td>\n",
       "    </tr>\n",
       "    <tr>\n",
       "      <th>how do</th>\n",
       "      <td>8.611150</td>\n",
       "      <td>12.654579</td>\n",
       "    </tr>\n",
       "    <tr>\n",
       "      <th>did you</th>\n",
       "      <td>5.901974</td>\n",
       "      <td>10.263426</td>\n",
       "    </tr>\n",
       "    <tr>\n",
       "      <th>did</th>\n",
       "      <td>9.559200</td>\n",
       "      <td>14.129435</td>\n",
       "    </tr>\n",
       "    <tr>\n",
       "      <th>is</th>\n",
       "      <td>19.388094</td>\n",
       "      <td>32.733097</td>\n",
       "    </tr>\n",
       "    <tr>\n",
       "      <th>it</th>\n",
       "      <td>26.321128</td>\n",
       "      <td>44.187056</td>\n",
       "    </tr>\n",
       "    <tr>\n",
       "      <th>in</th>\n",
       "      <td>23.171681</td>\n",
       "      <td>35.329851</td>\n",
       "    </tr>\n",
       "  </tbody>\n",
       "</table>\n",
       "</div>"
      ],
      "text/plain": [
       "           AskWomen  RelationshipAdvice\n",
       "you       36.010009           56.960820\n",
       "your      27.530036           34.343546\n",
       "what      27.290648           41.206760\n",
       "do you    15.979241           23.144262\n",
       "do        18.818749           29.969438\n",
       "the       39.056518           57.914291\n",
       "to        52.960465           85.770449\n",
       "how       19.272961           26.344157\n",
       "what is    7.041509           13.008830\n",
       "what are   9.453087           11.069997\n",
       "and       53.329890           87.391961\n",
       "women      6.471111           13.190624\n",
       "of        24.683798           40.244998\n",
       "are       12.676470           18.265673\n",
       "how do     8.611150           12.654579\n",
       "did you    5.901974           10.263426\n",
       "did        9.559200           14.129435\n",
       "is        19.388094           32.733097\n",
       "it        26.321128           44.187056\n",
       "in        23.171681           35.329851"
      ]
     },
     "execution_count": 511,
     "metadata": {},
     "output_type": "execute_result"
    }
   ],
   "source": [
    "relationship_word.loc[nb_idex,]"
   ]
  },
  {
   "cell_type": "code",
   "execution_count": 512,
   "metadata": {
    "scrolled": false
   },
   "outputs": [
    {
     "data": {
      "image/png": "[encoded data removed]",
      "text/plain": [
       "<Figure size 1080x720 with 1 Axes>"
      ]
     },
     "metadata": {
      "needs_background": "light"
     },
     "output_type": "display_data"
    }
   ],
   "source": [
    "#plot counts \n",
    "plt.figure(figsize = (15,10))\n",
    "plt.title('Target: AskWomen,  Keywords From Naive Bayes Model', fontsize = 18)\n",
    "sns.barplot(y = relationship_word.loc[nb_idex,].index, \n",
    "            x = relationship_word.loc[nb_idex,]['RelationshipAdvice'],\n",
    "            palette=\"Spectral\")\n",
    "plt.savefig('../images/AskWomen(1)NB.png')"
   ]
  },
  {
   "cell_type": "code",
   "execution_count": 461,
   "metadata": {},
   "outputs": [
    {
     "data": {
      "text/html": [
       "<div>\n",
       "<style scoped>\n",
       "    .dataframe tbody tr th:only-of-type {\n",
       "        vertical-align: middle;\n",
       "    }\n",
       "\n",
       "    .dataframe tbody tr th {\n",
       "        vertical-align: top;\n",
       "    }\n",
       "\n",
       "    .dataframe thead th {\n",
       "        text-align: right;\n",
       "    }\n",
       "</style>\n",
       "<table border=\"1\" class=\"dataframe\">\n",
       "  <thead>\n",
       "    <tr style=\"text-align: right;\">\n",
       "      <th></th>\n",
       "      <th>nb_coef</th>\n",
       "      <th>logit_coef</th>\n",
       "    </tr>\n",
       "  </thead>\n",
       "  <tbody>\n",
       "    <tr>\n",
       "      <th>you</th>\n",
       "      <td>-3.751280</td>\n",
       "      <td>3.546970</td>\n",
       "    </tr>\n",
       "    <tr>\n",
       "      <th>what</th>\n",
       "      <td>-4.148849</td>\n",
       "      <td>2.811666</td>\n",
       "    </tr>\n",
       "    <tr>\n",
       "      <th>your</th>\n",
       "      <td>-4.070718</td>\n",
       "      <td>2.248796</td>\n",
       "    </tr>\n",
       "    <tr>\n",
       "      <th>do you</th>\n",
       "      <td>-4.518230</td>\n",
       "      <td>1.729328</td>\n",
       "    </tr>\n",
       "    <tr>\n",
       "      <th>women</th>\n",
       "      <td>-5.194354</td>\n",
       "      <td>1.404916</td>\n",
       "    </tr>\n",
       "    <tr>\n",
       "      <th>what is</th>\n",
       "      <td>-5.112346</td>\n",
       "      <td>1.289274</td>\n",
       "    </tr>\n",
       "    <tr>\n",
       "      <th>what are</th>\n",
       "      <td>-5.113371</td>\n",
       "      <td>1.055633</td>\n",
       "    </tr>\n",
       "    <tr>\n",
       "      <th>did you</th>\n",
       "      <td>-5.312946</td>\n",
       "      <td>0.990316</td>\n",
       "    </tr>\n",
       "    <tr>\n",
       "      <th>ladies</th>\n",
       "      <td>-5.574215</td>\n",
       "      <td>0.968368</td>\n",
       "    </tr>\n",
       "    <tr>\n",
       "      <th>how did</th>\n",
       "      <td>-5.663323</td>\n",
       "      <td>0.818149</td>\n",
       "    </tr>\n",
       "    <tr>\n",
       "      <th>what the</th>\n",
       "      <td>-5.727291</td>\n",
       "      <td>0.702583</td>\n",
       "    </tr>\n",
       "    <tr>\n",
       "      <th>woman</th>\n",
       "      <td>-5.955257</td>\n",
       "      <td>0.687746</td>\n",
       "    </tr>\n",
       "    <tr>\n",
       "      <th>when you</th>\n",
       "      <td>-5.656486</td>\n",
       "      <td>0.663387</td>\n",
       "    </tr>\n",
       "    <tr>\n",
       "      <th>hair</th>\n",
       "      <td>-6.254134</td>\n",
       "      <td>0.627703</td>\n",
       "    </tr>\n",
       "    <tr>\n",
       "      <th>have you</th>\n",
       "      <td>-5.713942</td>\n",
       "      <td>0.627676</td>\n",
       "    </tr>\n",
       "    <tr>\n",
       "      <th>who</th>\n",
       "      <td>-5.591695</td>\n",
       "      <td>0.608400</td>\n",
       "    </tr>\n",
       "    <tr>\n",
       "      <th>did</th>\n",
       "      <td>-5.339367</td>\n",
       "      <td>0.607888</td>\n",
       "    </tr>\n",
       "    <tr>\n",
       "      <th>would you</th>\n",
       "      <td>-5.585623</td>\n",
       "      <td>0.585096</td>\n",
       "    </tr>\n",
       "    <tr>\n",
       "      <th>you feel</th>\n",
       "      <td>-5.764115</td>\n",
       "      <td>0.571796</td>\n",
       "    </tr>\n",
       "    <tr>\n",
       "      <th>that you</th>\n",
       "      <td>-6.015073</td>\n",
       "      <td>0.564684</td>\n",
       "    </tr>\n",
       "  </tbody>\n",
       "</table>\n",
       "</div>"
      ],
      "text/plain": [
       "            nb_coef  logit_coef\n",
       "you       -3.751280    3.546970\n",
       "what      -4.148849    2.811666\n",
       "your      -4.070718    2.248796\n",
       "do you    -4.518230    1.729328\n",
       "women     -5.194354    1.404916\n",
       "what is   -5.112346    1.289274\n",
       "what are  -5.113371    1.055633\n",
       "did you   -5.312946    0.990316\n",
       "ladies    -5.574215    0.968368\n",
       "how did   -5.663323    0.818149\n",
       "what the  -5.727291    0.702583\n",
       "woman     -5.955257    0.687746\n",
       "when you  -5.656486    0.663387\n",
       "hair      -6.254134    0.627703\n",
       "have you  -5.713942    0.627676\n",
       "who       -5.591695    0.608400\n",
       "did       -5.339367    0.607888\n",
       "would you -5.585623    0.585096\n",
       "you feel  -5.764115    0.571796\n",
       "that you  -6.015073    0.564684"
      ]
     },
     "execution_count": 461,
     "metadata": {},
     "output_type": "execute_result"
    }
   ],
   "source": [
    "womenrelationship_word.sort_values(by = 'logit_coef', ascending= False).head(20)"
   ]
  },
  {
   "cell_type": "code",
   "execution_count": 462,
   "metadata": {},
   "outputs": [],
   "source": [
    "#Naive Bayes Coefficients From High to Low \n",
    "logreg_idex = womenrelationship_word.sort_values(by = 'logit_coef', ascending= False).head(20).index"
   ]
  },
  {
   "cell_type": "code",
   "execution_count": 463,
   "metadata": {},
   "outputs": [
    {
     "data": {
      "text/html": [
       "<div>\n",
       "<style scoped>\n",
       "    .dataframe tbody tr th:only-of-type {\n",
       "        vertical-align: middle;\n",
       "    }\n",
       "\n",
       "    .dataframe tbody tr th {\n",
       "        vertical-align: top;\n",
       "    }\n",
       "\n",
       "    .dataframe thead th {\n",
       "        text-align: right;\n",
       "    }\n",
       "</style>\n",
       "<table border=\"1\" class=\"dataframe\">\n",
       "  <thead>\n",
       "    <tr style=\"text-align: right;\">\n",
       "      <th></th>\n",
       "      <th>AskWomen</th>\n",
       "      <th>RelationshipAdvice</th>\n",
       "    </tr>\n",
       "  </thead>\n",
       "  <tbody>\n",
       "    <tr>\n",
       "      <th>you</th>\n",
       "      <td>36.010009</td>\n",
       "      <td>56.960820</td>\n",
       "    </tr>\n",
       "    <tr>\n",
       "      <th>what</th>\n",
       "      <td>27.290648</td>\n",
       "      <td>41.206760</td>\n",
       "    </tr>\n",
       "    <tr>\n",
       "      <th>your</th>\n",
       "      <td>27.530036</td>\n",
       "      <td>34.343546</td>\n",
       "    </tr>\n",
       "    <tr>\n",
       "      <th>do you</th>\n",
       "      <td>15.979241</td>\n",
       "      <td>23.144262</td>\n",
       "    </tr>\n",
       "    <tr>\n",
       "      <th>women</th>\n",
       "      <td>6.471111</td>\n",
       "      <td>13.190624</td>\n",
       "    </tr>\n",
       "    <tr>\n",
       "      <th>what is</th>\n",
       "      <td>7.041509</td>\n",
       "      <td>13.008830</td>\n",
       "    </tr>\n",
       "    <tr>\n",
       "      <th>what are</th>\n",
       "      <td>9.453087</td>\n",
       "      <td>11.069997</td>\n",
       "    </tr>\n",
       "    <tr>\n",
       "      <th>did you</th>\n",
       "      <td>5.901974</td>\n",
       "      <td>10.263426</td>\n",
       "    </tr>\n",
       "    <tr>\n",
       "      <th>ladies</th>\n",
       "      <td>4.900904</td>\n",
       "      <td>7.310869</td>\n",
       "    </tr>\n",
       "    <tr>\n",
       "      <th>how did</th>\n",
       "      <td>5.841565</td>\n",
       "      <td>5.499369</td>\n",
       "    </tr>\n",
       "    <tr>\n",
       "      <th>what the</th>\n",
       "      <td>4.659340</td>\n",
       "      <td>6.707021</td>\n",
       "    </tr>\n",
       "    <tr>\n",
       "      <th>woman</th>\n",
       "      <td>2.921135</td>\n",
       "      <td>7.694897</td>\n",
       "    </tr>\n",
       "    <tr>\n",
       "      <th>when you</th>\n",
       "      <td>4.182410</td>\n",
       "      <td>7.597638</td>\n",
       "    </tr>\n",
       "    <tr>\n",
       "      <th>hair</th>\n",
       "      <td>2.511638</td>\n",
       "      <td>3.979046</td>\n",
       "    </tr>\n",
       "    <tr>\n",
       "      <th>have you</th>\n",
       "      <td>2.907656</td>\n",
       "      <td>7.836235</td>\n",
       "    </tr>\n",
       "    <tr>\n",
       "      <th>who</th>\n",
       "      <td>8.078332</td>\n",
       "      <td>13.816515</td>\n",
       "    </tr>\n",
       "    <tr>\n",
       "      <th>did</th>\n",
       "      <td>9.559200</td>\n",
       "      <td>14.129435</td>\n",
       "    </tr>\n",
       "    <tr>\n",
       "      <th>would you</th>\n",
       "      <td>5.941712</td>\n",
       "      <td>7.848624</td>\n",
       "    </tr>\n",
       "    <tr>\n",
       "      <th>you feel</th>\n",
       "      <td>3.231125</td>\n",
       "      <td>6.868707</td>\n",
       "    </tr>\n",
       "    <tr>\n",
       "      <th>that you</th>\n",
       "      <td>3.351293</td>\n",
       "      <td>4.681238</td>\n",
       "    </tr>\n",
       "  </tbody>\n",
       "</table>\n",
       "</div>"
      ],
      "text/plain": [
       "            AskWomen  RelationshipAdvice\n",
       "you        36.010009           56.960820\n",
       "what       27.290648           41.206760\n",
       "your       27.530036           34.343546\n",
       "do you     15.979241           23.144262\n",
       "women       6.471111           13.190624\n",
       "what is     7.041509           13.008830\n",
       "what are    9.453087           11.069997\n",
       "did you     5.901974           10.263426\n",
       "ladies      4.900904            7.310869\n",
       "how did     5.841565            5.499369\n",
       "what the    4.659340            6.707021\n",
       "woman       2.921135            7.694897\n",
       "when you    4.182410            7.597638\n",
       "hair        2.511638            3.979046\n",
       "have you    2.907656            7.836235\n",
       "who         8.078332           13.816515\n",
       "did         9.559200           14.129435\n",
       "would you   5.941712            7.848624\n",
       "you feel    3.231125            6.868707\n",
       "that you    3.351293            4.681238"
      ]
     },
     "execution_count": 463,
     "metadata": {},
     "output_type": "execute_result"
    }
   ],
   "source": [
    "relationship_word.loc[logreg_idex,]"
   ]
  },
  {
   "cell_type": "code",
   "execution_count": 513,
   "metadata": {},
   "outputs": [
    {
     "data": {
      "image/png": "[encoded data removed]",
      "text/plain": [
       "<Figure size 1080x720 with 1 Axes>"
      ]
     },
     "metadata": {
      "needs_background": "light"
     },
     "output_type": "display_data"
    }
   ],
   "source": [
    "#plot counts \n",
    "plt.figure(figsize = (15,10))\n",
    "plt.title('Target: Relationship Advice,  Keywords From Logistic Regression Model', fontsize = 18)\n",
    "sns.barplot(y = relationship_word.loc[logreg_idex,].index, \n",
    "            x = relationship_word.loc[logreg_idex,]['AskWomen'],\n",
    "            palette=\"Spectral_r\")\n",
    "plt.savefig('../images/AskWomen(1)logreg.png')"
   ]
  },
  {
   "cell_type": "markdown",
   "metadata": {},
   "source": [
    "---\n",
    "# Model With Target Switched"
   ]
  },
  {
   "cell_type": "markdown",
   "metadata": {},
   "source": [
    "---\n",
    "\n",
    "### Explaination \n",
    "\n",
    "In the previous steps with dataframe women and relationship advice, this model uses dictionary: \n",
    "```\n",
    "dic = { \"AskWomen\": 1, \"RelationshipAdvice\": 0}\n",
    "```\n",
    "\n",
    "In the following section, I will swtich the target and analyze the keywords again. with new dictionary: \n",
    "```\n",
    "dic = {1: 0, 0: 1 }\n",
    "dic = { \"AskWomen\": 0, \"RelationshipAdvice\": 1}\n",
    "```\n",
    "\n",
    "\n",
    "---"
   ]
  },
  {
   "cell_type": "code",
   "execution_count": 465,
   "metadata": {
    "scrolled": true
   },
   "outputs": [
    {
     "data": {
      "text/plain": [
       "0    984\n",
       "1    723\n",
       "Name: Subreddit, dtype: int64"
      ]
     },
     "execution_count": 465,
     "metadata": {},
     "output_type": "execute_result"
    }
   ],
   "source": [
    "womenrelationship_df['Subreddit'].value_counts()"
   ]
  },
  {
   "cell_type": "code",
   "execution_count": 466,
   "metadata": {},
   "outputs": [],
   "source": [
    "#switching target. \n",
    "dic = {0: 1, 1: 0}\n",
    "womenrelationship_df2 = womenrelationship_df\n",
    "womenrelationship_df2['Subreddit'] = womenrelationship_df2['Subreddit'].map(dic)"
   ]
  },
  {
   "cell_type": "code",
   "execution_count": 467,
   "metadata": {
    "scrolled": true
   },
   "outputs": [
    {
     "name": "stdout",
     "output_type": "stream",
     "text": [
      "1    984\n",
      "0    723\n",
      "Name: Subreddit, dtype: int64\n"
     ]
    },
    {
     "data": {
      "text/html": [
       "<div>\n",
       "<style scoped>\n",
       "    .dataframe tbody tr th:only-of-type {\n",
       "        vertical-align: middle;\n",
       "    }\n",
       "\n",
       "    .dataframe tbody tr th {\n",
       "        vertical-align: top;\n",
       "    }\n",
       "\n",
       "    .dataframe thead th {\n",
       "        text-align: right;\n",
       "    }\n",
       "</style>\n",
       "<table border=\"1\" class=\"dataframe\">\n",
       "  <thead>\n",
       "    <tr style=\"text-align: right;\">\n",
       "      <th></th>\n",
       "      <th>Unnamed: 0</th>\n",
       "      <th>Subreddit</th>\n",
       "      <th>Title_Content</th>\n",
       "    </tr>\n",
       "  </thead>\n",
       "  <tbody>\n",
       "    <tr>\n",
       "      <th>0</th>\n",
       "      <td>0</td>\n",
       "      <td>0</td>\n",
       "      <td>Welcome to a new season  Spring Fall AskWomen ...</td>\n",
       "    </tr>\n",
       "    <tr>\n",
       "      <th>1</th>\n",
       "      <td>1</td>\n",
       "      <td>0</td>\n",
       "      <td>What was a time you had to let a dream  i e  c...</td>\n",
       "    </tr>\n",
       "    <tr>\n",
       "      <th>2</th>\n",
       "      <td>2</td>\n",
       "      <td>0</td>\n",
       "      <td>What s the lamest thing you ever did to get a ...</td>\n",
       "    </tr>\n",
       "    <tr>\n",
       "      <th>3</th>\n",
       "      <td>3</td>\n",
       "      <td>0</td>\n",
       "      <td>Global check in  how is everyone with anxiety ...</td>\n",
       "    </tr>\n",
       "    <tr>\n",
       "      <th>4</th>\n",
       "      <td>4</td>\n",
       "      <td>0</td>\n",
       "      <td>What s the dumbest reason someone decided not ...</td>\n",
       "    </tr>\n",
       "  </tbody>\n",
       "</table>\n",
       "</div>"
      ],
      "text/plain": [
       "   Unnamed: 0  Subreddit                                      Title_Content\n",
       "0           0          0  Welcome to a new season  Spring Fall AskWomen ...\n",
       "1           1          0  What was a time you had to let a dream  i e  c...\n",
       "2           2          0  What s the lamest thing you ever did to get a ...\n",
       "3           3          0  Global check in  how is everyone with anxiety ...\n",
       "4           4          0  What s the dumbest reason someone decided not ..."
      ]
     },
     "execution_count": 467,
     "metadata": {},
     "output_type": "execute_result"
    }
   ],
   "source": [
    "print(womenrelationship_df2['Subreddit'].value_counts())\n",
    "womenrelationship_df2.head()"
   ]
  },
  {
   "cell_type": "markdown",
   "metadata": {},
   "source": [
    "## Ensemble Model 2: With womenrelationship_df"
   ]
  },
  {
   "cell_type": "code",
   "execution_count": 470,
   "metadata": {},
   "outputs": [],
   "source": [
    "#train-test-split \n",
    "X = womenrelationship_df2[\"Title_Content\"]\n",
    "y = womenrelationship_df2['Subreddit']\n",
    "\n",
    "#Train Test Split \n",
    "X2_train, X2_test, y2_train, y2_test = train_test_split(X, y, test_size=0.3, random_state=42, stratify = y)"
   ]
  },
  {
   "cell_type": "code",
   "execution_count": 471,
   "metadata": {},
   "outputs": [],
   "source": [
    "#Building Pipeline2 \n",
    "#building Pipeline\n",
    "pipe2 = Pipeline([\n",
    "    ('tfidf2',  TfidfVectorizer(max_df= 0.95, \n",
    "                       max_features= 1500, \n",
    "                       min_df= 5, \n",
    "                       ngram_range= (1,2))),\n",
    "    \n",
    "    ('vc', VotingClassifier(estimators= [('mnb', mnb), \n",
    "                                         ('logit', logit), \n",
    "                                         ('rf', rf),  \n",
    "                                         ('et', et), \n",
    "                                         ('ada', ada),\n",
    "                                         ('svm', svm)], \n",
    "                     voting = 'hard'))\n",
    "])"
   ]
  },
  {
   "cell_type": "code",
   "execution_count": 472,
   "metadata": {},
   "outputs": [
    {
     "data": {
      "text/plain": [
       "Pipeline(memory=None,\n",
       "     steps=[('tfidf2', TfidfVectorizer(analyzer='word', binary=False, decode_error='strict',\n",
       "        dtype=<class 'numpy.float64'>, encoding='utf-8', input='content',\n",
       "        lowercase=True, max_df=0.95, max_features=1500, min_df=5,\n",
       "        ngram_range=(1, 2), norm='l2', preprocessor=None, smooth_idf=Tru....001, verbose=False))],\n",
       "         flatten_transform=None, n_jobs=None, voting='hard', weights=None))])"
      ]
     },
     "execution_count": 472,
     "metadata": {},
     "output_type": "execute_result"
    }
   ],
   "source": [
    "pipe2.fit(X2_train, y2_train)"
   ]
  },
  {
   "cell_type": "code",
   "execution_count": 473,
   "metadata": {
    "scrolled": true
   },
   "outputs": [
    {
     "name": "stdout",
     "output_type": "stream",
     "text": [
      "train score 0.9840871021775545\n",
      "test score 0.9805068226120858\n"
     ]
    }
   ],
   "source": [
    "print('train score', pipe2.score(X2_train, y2_train))\n",
    "print('test score', pipe2.score(X2_test, y2_test))"
   ]
  },
  {
   "cell_type": "code",
   "execution_count": 474,
   "metadata": {},
   "outputs": [],
   "source": [
    "#make prediction \n",
    "predict2 = pipe2.predict(X2_train)\n",
    "test_predict2 = pipe2.predict(X2_test)"
   ]
  },
  {
   "cell_type": "markdown",
   "metadata": {},
   "source": [
    "---\n",
    "## Model2 Evaluation \n",
    "\n",
    "---"
   ]
  },
  {
   "cell_type": "markdown",
   "metadata": {},
   "source": [
    "### Train Data Confusion Matrix "
   ]
  },
  {
   "cell_type": "code",
   "execution_count": 475,
   "metadata": {},
   "outputs": [
    {
     "data": {
      "text/plain": [
       "(504, 2, 17, 671)"
      ]
     },
     "execution_count": 475,
     "metadata": {},
     "output_type": "execute_result"
    }
   ],
   "source": [
    "#building confusion matrix \n",
    "tn, fp, fn, tp = confusion_matrix(y_true = y2_train, y_pred= predict2).ravel()\n",
    "(tn, fp, fn, tp)"
   ]
  },
  {
   "cell_type": "code",
   "execution_count": 476,
   "metadata": {},
   "outputs": [
    {
     "data": {
      "text/plain": [
       "0.9970282317979198"
      ]
     },
     "execution_count": 476,
     "metadata": {},
     "output_type": "execute_result"
    }
   ],
   "source": [
    "#precision \n",
    "tp/(tp+fp)"
   ]
  },
  {
   "cell_type": "code",
   "execution_count": 477,
   "metadata": {
    "scrolled": true
   },
   "outputs": [
    {
     "data": {
      "text/plain": [
       "0.985669064252229"
      ]
     },
     "execution_count": 477,
     "metadata": {},
     "output_type": "execute_result"
    }
   ],
   "source": [
    "from sklearn.metrics import roc_auc_score\n",
    "roc_auc_score(y2_train, predict2)"
   ]
  },
  {
   "cell_type": "markdown",
   "metadata": {},
   "source": [
    "### Test Data Confusion Matrix "
   ]
  },
  {
   "cell_type": "code",
   "execution_count": 478,
   "metadata": {},
   "outputs": [
    {
     "data": {
      "text/plain": [
       "(212, 5, 5, 291)"
      ]
     },
     "execution_count": 478,
     "metadata": {},
     "output_type": "execute_result"
    }
   ],
   "source": [
    "#building confusion matrix \n",
    "tn, fp, fn, tp = confusion_matrix(y_true = y2_test, y_pred= test_predict2).ravel()\n",
    "(tn, fp, fn, tp)"
   ]
  },
  {
   "cell_type": "code",
   "execution_count": 479,
   "metadata": {},
   "outputs": [
    {
     "data": {
      "text/plain": [
       "0.9831081081081081"
      ]
     },
     "execution_count": 479,
     "metadata": {},
     "output_type": "execute_result"
    }
   ],
   "source": [
    "#precision \n",
    "tp/(tp+fp)"
   ]
  },
  {
   "cell_type": "code",
   "execution_count": 480,
   "metadata": {
    "scrolled": true
   },
   "outputs": [
    {
     "data": {
      "text/plain": [
       "0.9800333167268651"
      ]
     },
     "execution_count": 480,
     "metadata": {},
     "output_type": "execute_result"
    }
   ],
   "source": [
    "from sklearn.metrics import roc_auc_score\n",
    "roc_auc_score(y2_test, test_predict2)"
   ]
  },
  {
   "cell_type": "markdown",
   "metadata": {},
   "source": [
    "---\n",
    "\n",
    "## Extracting Keywords Coefficients"
   ]
  },
  {
   "cell_type": "code",
   "execution_count": 481,
   "metadata": {
    "scrolled": false
   },
   "outputs": [
    {
     "data": {
      "text/plain": [
       "[MultinomialNB(alpha=1.0, class_prior=None, fit_prior=True),\n",
       " LogisticRegression(C=1.0, class_weight=None, dual=False, fit_intercept=True,\n",
       "           intercept_scaling=1, max_iter=100, multi_class='warn',\n",
       "           n_jobs=None, penalty='l2', random_state=None, solver='warn',\n",
       "           tol=0.0001, verbose=0, warm_start=False),\n",
       " RandomForestClassifier(bootstrap=True, class_weight=None, criterion='gini',\n",
       "             max_depth=100, max_features='auto', max_leaf_nodes=None,\n",
       "             min_impurity_decrease=0.0, min_impurity_split=None,\n",
       "             min_samples_leaf=2, min_samples_split=2,\n",
       "             min_weight_fraction_leaf=0.0, n_estimators=100, n_jobs=None,\n",
       "             oob_score=False, random_state=None, verbose=0,\n",
       "             warm_start=False),\n",
       " ExtraTreesClassifier(bootstrap=False, class_weight=None, criterion='gini',\n",
       "            max_depth=100, max_features='auto', max_leaf_nodes=None,\n",
       "            min_impurity_decrease=0.0, min_impurity_split=None,\n",
       "            min_samples_leaf=3, min_samples_split=2,\n",
       "            min_weight_fraction_leaf=0.0, n_estimators=50, n_jobs=None,\n",
       "            oob_score=False, random_state=None, verbose=0, warm_start=False),\n",
       " AdaBoostClassifier(algorithm='SAMME.R',\n",
       "           base_estimator=DecisionTreeClassifier(class_weight=None, criterion='gini', max_depth=200,\n",
       "             max_features=None, max_leaf_nodes=None,\n",
       "             min_impurity_decrease=0.0, min_impurity_split=None,\n",
       "             min_samples_leaf=1, min_samples_split=2,\n",
       "             min_weight_fraction_leaf=0.0, presort=False, random_state=None,\n",
       "             splitter='best'),\n",
       "           learning_rate=0.9, n_estimators=200, random_state=None),\n",
       " SVC(C=0.5, cache_size=200, class_weight=None, coef0=0.0,\n",
       "   decision_function_shape='ovr', degree=3, gamma='auto_deprecated',\n",
       "   kernel='linear', max_iter=-1, probability=False, random_state=None,\n",
       "   shrinking=True, tol=0.001, verbose=False)]"
      ]
     },
     "execution_count": 481,
     "metadata": {},
     "output_type": "execute_result"
    }
   ],
   "source": [
    "pipe2.named_steps['vc'].estimators_"
   ]
  },
  {
   "cell_type": "code",
   "execution_count": 482,
   "metadata": {
    "scrolled": true
   },
   "outputs": [
    {
     "data": {
      "text/plain": [
       "1500"
      ]
     },
     "execution_count": 482,
     "metadata": {},
     "output_type": "execute_result"
    }
   ],
   "source": [
    "#get column names \n",
    "tfidf  =  TfidfVectorizer(max_df= 0.95, \n",
    "                       max_features= 1500, \n",
    "                       min_df= 5, \n",
    "                       ngram_range= (1,2))\n",
    "\n",
    "X2_train_tfidf = tfidf.fit_transform(X2_train)\n",
    "\n",
    "#Saving column name\n",
    "col2_name = tfidf.get_feature_names()\n",
    "len(col2_name)"
   ]
  },
  {
   "cell_type": "code",
   "execution_count": 483,
   "metadata": {
    "scrolled": false
   },
   "outputs": [
    {
     "data": {
      "text/plain": [
       "array([[0.        , 0.        , 0.        , ..., 0.        , 0.        ,\n",
       "        0.35365013],\n",
       "       [0.        , 0.        , 0.        , ..., 0.        , 0.        ,\n",
       "        0.        ],\n",
       "       [0.        , 0.        , 0.0524752 , ..., 0.        , 0.        ,\n",
       "        0.        ],\n",
       "       ...,\n",
       "       [0.        , 0.        , 0.05873781, ..., 0.        , 0.        ,\n",
       "        0.        ],\n",
       "       [0.        , 0.        , 0.02380371, ..., 0.        , 0.        ,\n",
       "        0.        ],\n",
       "       [0.        , 0.        , 0.        , ..., 0.        , 0.        ,\n",
       "        0.14540554]])"
      ]
     },
     "execution_count": 483,
     "metadata": {},
     "output_type": "execute_result"
    }
   ],
   "source": [
    "#Transforming Data to array\n",
    "X2_train_tfidf.toarray()"
   ]
  },
  {
   "cell_type": "code",
   "execution_count": 485,
   "metadata": {
    "scrolled": true
   },
   "outputs": [
    {
     "data": {
      "text/html": [
       "<div>\n",
       "<style scoped>\n",
       "    .dataframe tbody tr th:only-of-type {\n",
       "        vertical-align: middle;\n",
       "    }\n",
       "\n",
       "    .dataframe tbody tr th {\n",
       "        vertical-align: top;\n",
       "    }\n",
       "\n",
       "    .dataframe thead th {\n",
       "        text-align: right;\n",
       "    }\n",
       "</style>\n",
       "<table border=\"1\" class=\"dataframe\">\n",
       "  <thead>\n",
       "    <tr style=\"text-align: right;\">\n",
       "      <th></th>\n",
       "      <th>Subreddit</th>\n",
       "      <th>able</th>\n",
       "      <th>able to</th>\n",
       "      <th>about</th>\n",
       "      <th>about her</th>\n",
       "      <th>about him</th>\n",
       "      <th>about how</th>\n",
       "      <th>about it</th>\n",
       "      <th>about me</th>\n",
       "      <th>about months</th>\n",
       "      <th>...</th>\n",
       "      <th>yet</th>\n",
       "      <th>you</th>\n",
       "      <th>you do</th>\n",
       "      <th>you guys</th>\n",
       "      <th>you have</th>\n",
       "      <th>you re</th>\n",
       "      <th>you think</th>\n",
       "      <th>you ve</th>\n",
       "      <th>young</th>\n",
       "      <th>your</th>\n",
       "    </tr>\n",
       "  </thead>\n",
       "  <tbody>\n",
       "    <tr>\n",
       "      <th>0</th>\n",
       "      <td>0</td>\n",
       "      <td>0.0</td>\n",
       "      <td>0.0</td>\n",
       "      <td>0.000000</td>\n",
       "      <td>0.0</td>\n",
       "      <td>0.0</td>\n",
       "      <td>0.0</td>\n",
       "      <td>0.0</td>\n",
       "      <td>0.0</td>\n",
       "      <td>0.0</td>\n",
       "      <td>...</td>\n",
       "      <td>0.0</td>\n",
       "      <td>0.000000</td>\n",
       "      <td>0.0</td>\n",
       "      <td>0.0</td>\n",
       "      <td>0.0</td>\n",
       "      <td>0.0</td>\n",
       "      <td>0.0</td>\n",
       "      <td>0.0</td>\n",
       "      <td>0.0</td>\n",
       "      <td>0.353650</td>\n",
       "    </tr>\n",
       "    <tr>\n",
       "      <th>1</th>\n",
       "      <td>0</td>\n",
       "      <td>0.0</td>\n",
       "      <td>0.0</td>\n",
       "      <td>0.000000</td>\n",
       "      <td>0.0</td>\n",
       "      <td>0.0</td>\n",
       "      <td>0.0</td>\n",
       "      <td>0.0</td>\n",
       "      <td>0.0</td>\n",
       "      <td>0.0</td>\n",
       "      <td>...</td>\n",
       "      <td>0.0</td>\n",
       "      <td>0.000000</td>\n",
       "      <td>0.0</td>\n",
       "      <td>0.0</td>\n",
       "      <td>0.0</td>\n",
       "      <td>0.0</td>\n",
       "      <td>0.0</td>\n",
       "      <td>0.0</td>\n",
       "      <td>0.0</td>\n",
       "      <td>0.000000</td>\n",
       "    </tr>\n",
       "    <tr>\n",
       "      <th>2</th>\n",
       "      <td>0</td>\n",
       "      <td>0.0</td>\n",
       "      <td>0.0</td>\n",
       "      <td>0.052475</td>\n",
       "      <td>0.0</td>\n",
       "      <td>0.0</td>\n",
       "      <td>0.0</td>\n",
       "      <td>0.0</td>\n",
       "      <td>0.0</td>\n",
       "      <td>0.0</td>\n",
       "      <td>...</td>\n",
       "      <td>0.0</td>\n",
       "      <td>0.000000</td>\n",
       "      <td>0.0</td>\n",
       "      <td>0.0</td>\n",
       "      <td>0.0</td>\n",
       "      <td>0.0</td>\n",
       "      <td>0.0</td>\n",
       "      <td>0.0</td>\n",
       "      <td>0.0</td>\n",
       "      <td>0.000000</td>\n",
       "    </tr>\n",
       "    <tr>\n",
       "      <th>3</th>\n",
       "      <td>0</td>\n",
       "      <td>0.0</td>\n",
       "      <td>0.0</td>\n",
       "      <td>0.000000</td>\n",
       "      <td>0.0</td>\n",
       "      <td>0.0</td>\n",
       "      <td>0.0</td>\n",
       "      <td>0.0</td>\n",
       "      <td>0.0</td>\n",
       "      <td>0.0</td>\n",
       "      <td>...</td>\n",
       "      <td>0.0</td>\n",
       "      <td>0.252350</td>\n",
       "      <td>0.0</td>\n",
       "      <td>0.0</td>\n",
       "      <td>0.0</td>\n",
       "      <td>0.0</td>\n",
       "      <td>0.0</td>\n",
       "      <td>0.0</td>\n",
       "      <td>0.0</td>\n",
       "      <td>0.182157</td>\n",
       "    </tr>\n",
       "    <tr>\n",
       "      <th>4</th>\n",
       "      <td>0</td>\n",
       "      <td>0.0</td>\n",
       "      <td>0.0</td>\n",
       "      <td>0.044847</td>\n",
       "      <td>0.0</td>\n",
       "      <td>0.0</td>\n",
       "      <td>0.0</td>\n",
       "      <td>0.0</td>\n",
       "      <td>0.0</td>\n",
       "      <td>0.0</td>\n",
       "      <td>...</td>\n",
       "      <td>0.0</td>\n",
       "      <td>0.020479</td>\n",
       "      <td>0.0</td>\n",
       "      <td>0.0</td>\n",
       "      <td>0.0</td>\n",
       "      <td>0.0</td>\n",
       "      <td>0.0</td>\n",
       "      <td>0.0</td>\n",
       "      <td>0.0</td>\n",
       "      <td>0.000000</td>\n",
       "    </tr>\n",
       "  </tbody>\n",
       "</table>\n",
       "<p>5 rows × 1501 columns</p>\n",
       "</div>"
      ],
      "text/plain": [
       "   Subreddit  able  able to     about  about her  about him  about how  \\\n",
       "0          0   0.0      0.0  0.000000        0.0        0.0        0.0   \n",
       "1          0   0.0      0.0  0.000000        0.0        0.0        0.0   \n",
       "2          0   0.0      0.0  0.052475        0.0        0.0        0.0   \n",
       "3          0   0.0      0.0  0.000000        0.0        0.0        0.0   \n",
       "4          0   0.0      0.0  0.044847        0.0        0.0        0.0   \n",
       "\n",
       "   about it  about me  about months  ...  yet       you  you do  you guys  \\\n",
       "0       0.0       0.0           0.0  ...  0.0  0.000000     0.0       0.0   \n",
       "1       0.0       0.0           0.0  ...  0.0  0.000000     0.0       0.0   \n",
       "2       0.0       0.0           0.0  ...  0.0  0.000000     0.0       0.0   \n",
       "3       0.0       0.0           0.0  ...  0.0  0.252350     0.0       0.0   \n",
       "4       0.0       0.0           0.0  ...  0.0  0.020479     0.0       0.0   \n",
       "\n",
       "   you have  you re  you think  you ve  young      your  \n",
       "0       0.0     0.0        0.0     0.0    0.0  0.353650  \n",
       "1       0.0     0.0        0.0     0.0    0.0  0.000000  \n",
       "2       0.0     0.0        0.0     0.0    0.0  0.000000  \n",
       "3       0.0     0.0        0.0     0.0    0.0  0.182157  \n",
       "4       0.0     0.0        0.0     0.0    0.0  0.000000  \n",
       "\n",
       "[5 rows x 1501 columns]"
      ]
     },
     "execution_count": 485,
     "metadata": {},
     "output_type": "execute_result"
    }
   ],
   "source": [
    "#turining counts into dataframe\n",
    "relationship_word2 = pd.DataFrame(X2_train_tfidf.toarray(), \n",
    "                       columns = col2_name)\n",
    "\n",
    "relationship_word2.insert(0, 'Subreddit', y)\n",
    "relationship_word2.head()"
   ]
  },
  {
   "cell_type": "code",
   "execution_count": 486,
   "metadata": {},
   "outputs": [],
   "source": [
    "#Building relationship word dataframe \n",
    "relationship_word2 = relationship_word2.groupby('Subreddit').sum().T"
   ]
  },
  {
   "cell_type": "code",
   "execution_count": 487,
   "metadata": {},
   "outputs": [
    {
     "data": {
      "text/html": [
       "<div>\n",
       "<style scoped>\n",
       "    .dataframe tbody tr th:only-of-type {\n",
       "        vertical-align: middle;\n",
       "    }\n",
       "\n",
       "    .dataframe tbody tr th {\n",
       "        vertical-align: top;\n",
       "    }\n",
       "\n",
       "    .dataframe thead th {\n",
       "        text-align: right;\n",
       "    }\n",
       "</style>\n",
       "<table border=\"1\" class=\"dataframe\">\n",
       "  <thead>\n",
       "    <tr style=\"text-align: right;\">\n",
       "      <th>Subreddit</th>\n",
       "      <th>0</th>\n",
       "      <th>1</th>\n",
       "    </tr>\n",
       "  </thead>\n",
       "  <tbody>\n",
       "    <tr>\n",
       "      <th>able</th>\n",
       "      <td>2.366216</td>\n",
       "      <td>1.634438</td>\n",
       "    </tr>\n",
       "    <tr>\n",
       "      <th>able to</th>\n",
       "      <td>2.375384</td>\n",
       "      <td>1.262389</td>\n",
       "    </tr>\n",
       "    <tr>\n",
       "      <th>about</th>\n",
       "      <td>25.174923</td>\n",
       "      <td>13.890482</td>\n",
       "    </tr>\n",
       "    <tr>\n",
       "      <th>about her</th>\n",
       "      <td>1.730166</td>\n",
       "      <td>1.404203</td>\n",
       "    </tr>\n",
       "    <tr>\n",
       "      <th>about him</th>\n",
       "      <td>1.290793</td>\n",
       "      <td>0.624963</td>\n",
       "    </tr>\n",
       "  </tbody>\n",
       "</table>\n",
       "</div>"
      ],
      "text/plain": [
       "Subreddit          0          1\n",
       "able        2.366216   1.634438\n",
       "able to     2.375384   1.262389\n",
       "about      25.174923  13.890482\n",
       "about her   1.730166   1.404203\n",
       "about him   1.290793   0.624963"
      ]
     },
     "execution_count": 487,
     "metadata": {},
     "output_type": "execute_result"
    }
   ],
   "source": [
    "relationship_word2.head()"
   ]
  },
  {
   "cell_type": "code",
   "execution_count": 488,
   "metadata": {},
   "outputs": [
    {
     "data": {
      "text/html": [
       "<div>\n",
       "<style scoped>\n",
       "    .dataframe tbody tr th:only-of-type {\n",
       "        vertical-align: middle;\n",
       "    }\n",
       "\n",
       "    .dataframe tbody tr th {\n",
       "        vertical-align: top;\n",
       "    }\n",
       "\n",
       "    .dataframe thead th {\n",
       "        text-align: right;\n",
       "    }\n",
       "</style>\n",
       "<table border=\"1\" class=\"dataframe\">\n",
       "  <thead>\n",
       "    <tr style=\"text-align: right;\">\n",
       "      <th></th>\n",
       "      <th>RelationshipAdvice</th>\n",
       "      <th>AskWomen</th>\n",
       "    </tr>\n",
       "  </thead>\n",
       "  <tbody>\n",
       "    <tr>\n",
       "      <th>able</th>\n",
       "      <td>2.366216</td>\n",
       "      <td>1.634438</td>\n",
       "    </tr>\n",
       "    <tr>\n",
       "      <th>able to</th>\n",
       "      <td>2.375384</td>\n",
       "      <td>1.262389</td>\n",
       "    </tr>\n",
       "    <tr>\n",
       "      <th>about</th>\n",
       "      <td>25.174923</td>\n",
       "      <td>13.890482</td>\n",
       "    </tr>\n",
       "    <tr>\n",
       "      <th>about her</th>\n",
       "      <td>1.730166</td>\n",
       "      <td>1.404203</td>\n",
       "    </tr>\n",
       "    <tr>\n",
       "      <th>about him</th>\n",
       "      <td>1.290793</td>\n",
       "      <td>0.624963</td>\n",
       "    </tr>\n",
       "  </tbody>\n",
       "</table>\n",
       "</div>"
      ],
      "text/plain": [
       "           RelationshipAdvice   AskWomen\n",
       "able                 2.366216   1.634438\n",
       "able to              2.375384   1.262389\n",
       "about               25.174923  13.890482\n",
       "about her            1.730166   1.404203\n",
       "about him            1.290793   0.624963"
      ]
     },
     "execution_count": 488,
     "metadata": {},
     "output_type": "execute_result"
    }
   ],
   "source": [
    "relationship_word2.columns = [\"RelationshipAdvice\", \"AskWomen\"]\n",
    "relationship_word2.to_csv('../data/AskWomen0RelationshipAdvice1wordcount.csv')\n",
    "relationship_word2.head()"
   ]
  },
  {
   "cell_type": "code",
   "execution_count": 489,
   "metadata": {},
   "outputs": [
    {
     "data": {
      "text/plain": [
       "(1500, 1500)"
      ]
     },
     "execution_count": 489,
     "metadata": {},
     "output_type": "execute_result"
    }
   ],
   "source": [
    "#saving NB and logistic coefficient for switched targets \n",
    "mnb_coef_switched = pipe2.named_steps['vc'].estimators_[0].coef_[0] \n",
    "logit_coef_switched = pipe2.named_steps['vc'].estimators_[1].coef_[0]\n",
    "\n",
    "len(mnb_coef_switched), len(logit_coef_switched)"
   ]
  },
  {
   "cell_type": "code",
   "execution_count": 490,
   "metadata": {
    "scrolled": true
   },
   "outputs": [
    {
     "data": {
      "text/html": [
       "<div>\n",
       "<style scoped>\n",
       "    .dataframe tbody tr th:only-of-type {\n",
       "        vertical-align: middle;\n",
       "    }\n",
       "\n",
       "    .dataframe tbody tr th {\n",
       "        vertical-align: top;\n",
       "    }\n",
       "\n",
       "    .dataframe thead th {\n",
       "        text-align: right;\n",
       "    }\n",
       "</style>\n",
       "<table border=\"1\" class=\"dataframe\">\n",
       "  <thead>\n",
       "    <tr style=\"text-align: right;\">\n",
       "      <th></th>\n",
       "      <th>nb_coef_switched</th>\n",
       "      <th>logit_coef_switched</th>\n",
       "    </tr>\n",
       "  </thead>\n",
       "  <tbody>\n",
       "    <tr>\n",
       "      <th>able</th>\n",
       "      <td>-7.697800</td>\n",
       "      <td>-0.061098</td>\n",
       "    </tr>\n",
       "    <tr>\n",
       "      <th>able to</th>\n",
       "      <td>-7.694900</td>\n",
       "      <td>-0.039198</td>\n",
       "    </tr>\n",
       "    <tr>\n",
       "      <th>about</th>\n",
       "      <td>-5.659411</td>\n",
       "      <td>0.503853</td>\n",
       "    </tr>\n",
       "    <tr>\n",
       "      <th>about her</th>\n",
       "      <td>-7.662056</td>\n",
       "      <td>0.128431</td>\n",
       "    </tr>\n",
       "    <tr>\n",
       "      <th>about him</th>\n",
       "      <td>-8.011261</td>\n",
       "      <td>0.103945</td>\n",
       "    </tr>\n",
       "  </tbody>\n",
       "</table>\n",
       "</div>"
      ],
      "text/plain": [
       "           nb_coef_switched  logit_coef_switched\n",
       "able              -7.697800            -0.061098\n",
       "able to           -7.694900            -0.039198\n",
       "about             -5.659411             0.503853\n",
       "about her         -7.662056             0.128431\n",
       "about him         -8.011261             0.103945"
      ]
     },
     "execution_count": 490,
     "metadata": {},
     "output_type": "execute_result"
    }
   ],
   "source": [
    "#building coefficient dataframes \n",
    "womenrelationship_word2 = pd.DataFrame(data= [mnb_coef_switched, logit_coef_switched], columns= col2_name, index= ['nb_coef_switched', 'logit_coef_switched'])\n",
    "womenrelationship_word2 = womenrelationship_word2.T\n",
    "womenrelationship_word2.to_csv('../data/AskWomen0RelationshipAdvice1wordcoeff.csv')\n",
    "womenrelationship_word2.head()"
   ]
  },
  {
   "cell_type": "markdown",
   "metadata": {},
   "source": [
    "## Visualizing Words With Highest Coefficients"
   ]
  },
  {
   "cell_type": "code",
   "execution_count": 495,
   "metadata": {
    "scrolled": false
   },
   "outputs": [
    {
     "data": {
      "text/html": [
       "<div>\n",
       "<style scoped>\n",
       "    .dataframe tbody tr th:only-of-type {\n",
       "        vertical-align: middle;\n",
       "    }\n",
       "\n",
       "    .dataframe tbody tr th {\n",
       "        vertical-align: top;\n",
       "    }\n",
       "\n",
       "    .dataframe thead th {\n",
       "        text-align: right;\n",
       "    }\n",
       "</style>\n",
       "<table border=\"1\" class=\"dataframe\">\n",
       "  <thead>\n",
       "    <tr style=\"text-align: right;\">\n",
       "      <th></th>\n",
       "      <th>nb_coef_switched</th>\n",
       "      <th>logit_coef_switched</th>\n",
       "    </tr>\n",
       "  </thead>\n",
       "  <tbody>\n",
       "    <tr>\n",
       "      <th>and</th>\n",
       "      <td>-4.253006</td>\n",
       "      <td>3.018729</td>\n",
       "    </tr>\n",
       "    <tr>\n",
       "      <th>to</th>\n",
       "      <td>-4.334256</td>\n",
       "      <td>2.313939</td>\n",
       "    </tr>\n",
       "    <tr>\n",
       "      <th>he</th>\n",
       "      <td>-4.614620</td>\n",
       "      <td>2.804925</td>\n",
       "    </tr>\n",
       "    <tr>\n",
       "      <th>she</th>\n",
       "      <td>-4.690114</td>\n",
       "      <td>2.611810</td>\n",
       "    </tr>\n",
       "    <tr>\n",
       "      <th>the</th>\n",
       "      <td>-4.786272</td>\n",
       "      <td>0.803423</td>\n",
       "    </tr>\n",
       "    <tr>\n",
       "      <th>her</th>\n",
       "      <td>-4.857493</td>\n",
       "      <td>2.157683</td>\n",
       "    </tr>\n",
       "    <tr>\n",
       "      <th>me</th>\n",
       "      <td>-4.888376</td>\n",
       "      <td>2.441805</td>\n",
       "    </tr>\n",
       "    <tr>\n",
       "      <th>my</th>\n",
       "      <td>-4.910471</td>\n",
       "      <td>2.511056</td>\n",
       "    </tr>\n",
       "    <tr>\n",
       "      <th>it</th>\n",
       "      <td>-5.009908</td>\n",
       "      <td>1.373701</td>\n",
       "    </tr>\n",
       "    <tr>\n",
       "      <th>that</th>\n",
       "      <td>-5.026045</td>\n",
       "      <td>0.826481</td>\n",
       "    </tr>\n",
       "    <tr>\n",
       "      <th>we</th>\n",
       "      <td>-5.104240</td>\n",
       "      <td>1.914438</td>\n",
       "    </tr>\n",
       "    <tr>\n",
       "      <th>of</th>\n",
       "      <td>-5.186026</td>\n",
       "      <td>0.386304</td>\n",
       "    </tr>\n",
       "    <tr>\n",
       "      <th>with</th>\n",
       "      <td>-5.253350</td>\n",
       "      <td>0.962981</td>\n",
       "    </tr>\n",
       "    <tr>\n",
       "      <th>him</th>\n",
       "      <td>-5.267039</td>\n",
       "      <td>1.575202</td>\n",
       "    </tr>\n",
       "    <tr>\n",
       "      <th>in</th>\n",
       "      <td>-5.280679</td>\n",
       "      <td>0.621451</td>\n",
       "    </tr>\n",
       "    <tr>\n",
       "      <th>but</th>\n",
       "      <td>-5.294294</td>\n",
       "      <td>1.210994</td>\n",
       "    </tr>\n",
       "    <tr>\n",
       "      <th>for</th>\n",
       "      <td>-5.299452</td>\n",
       "      <td>0.464692</td>\n",
       "    </tr>\n",
       "    <tr>\n",
       "      <th>was</th>\n",
       "      <td>-5.349025</td>\n",
       "      <td>0.571994</td>\n",
       "    </tr>\n",
       "    <tr>\n",
       "      <th>this</th>\n",
       "      <td>-5.392376</td>\n",
       "      <td>1.566193</td>\n",
       "    </tr>\n",
       "    <tr>\n",
       "      <th>is</th>\n",
       "      <td>-5.423962</td>\n",
       "      <td>0.156270</td>\n",
       "    </tr>\n",
       "  </tbody>\n",
       "</table>\n",
       "</div>"
      ],
      "text/plain": [
       "      nb_coef_switched  logit_coef_switched\n",
       "and          -4.253006             3.018729\n",
       "to           -4.334256             2.313939\n",
       "he           -4.614620             2.804925\n",
       "she          -4.690114             2.611810\n",
       "the          -4.786272             0.803423\n",
       "her          -4.857493             2.157683\n",
       "me           -4.888376             2.441805\n",
       "my           -4.910471             2.511056\n",
       "it           -5.009908             1.373701\n",
       "that         -5.026045             0.826481\n",
       "we           -5.104240             1.914438\n",
       "of           -5.186026             0.386304\n",
       "with         -5.253350             0.962981\n",
       "him          -5.267039             1.575202\n",
       "in           -5.280679             0.621451\n",
       "but          -5.294294             1.210994\n",
       "for          -5.299452             0.464692\n",
       "was          -5.349025             0.571994\n",
       "this         -5.392376             1.566193\n",
       "is           -5.423962             0.156270"
      ]
     },
     "execution_count": 495,
     "metadata": {},
     "output_type": "execute_result"
    }
   ],
   "source": [
    "#sort by coefficients from highest to lowest, for NB\n",
    "womenrelationship_word2.sort_values(by = 'nb_coef_switched', ascending = False).head(20)"
   ]
  },
  {
   "cell_type": "code",
   "execution_count": 496,
   "metadata": {},
   "outputs": [],
   "source": [
    "#get the index of the sorted dataframe \n",
    "nb_index = womenrelationship_word2.sort_values(by = 'nb_coef_switched', ascending = False).head(20).index"
   ]
  },
  {
   "cell_type": "code",
   "execution_count": 497,
   "metadata": {
    "scrolled": false
   },
   "outputs": [
    {
     "data": {
      "text/html": [
       "<div>\n",
       "<style scoped>\n",
       "    .dataframe tbody tr th:only-of-type {\n",
       "        vertical-align: middle;\n",
       "    }\n",
       "\n",
       "    .dataframe tbody tr th {\n",
       "        vertical-align: top;\n",
       "    }\n",
       "\n",
       "    .dataframe thead th {\n",
       "        text-align: right;\n",
       "    }\n",
       "</style>\n",
       "<table border=\"1\" class=\"dataframe\">\n",
       "  <thead>\n",
       "    <tr style=\"text-align: right;\">\n",
       "      <th></th>\n",
       "      <th>RelationshipAdvice</th>\n",
       "      <th>AskWomen</th>\n",
       "    </tr>\n",
       "  </thead>\n",
       "  <tbody>\n",
       "    <tr>\n",
       "      <th>and</th>\n",
       "      <td>85.465545</td>\n",
       "      <td>55.908178</td>\n",
       "    </tr>\n",
       "    <tr>\n",
       "      <th>to</th>\n",
       "      <td>82.468045</td>\n",
       "      <td>56.510292</td>\n",
       "    </tr>\n",
       "    <tr>\n",
       "      <th>he</th>\n",
       "      <td>53.275884</td>\n",
       "      <td>33.657295</td>\n",
       "    </tr>\n",
       "    <tr>\n",
       "      <th>she</th>\n",
       "      <td>47.596756</td>\n",
       "      <td>32.701248</td>\n",
       "    </tr>\n",
       "    <tr>\n",
       "      <th>the</th>\n",
       "      <td>58.674563</td>\n",
       "      <td>37.868873</td>\n",
       "    </tr>\n",
       "    <tr>\n",
       "      <th>her</th>\n",
       "      <td>39.344212</td>\n",
       "      <td>28.572877</td>\n",
       "    </tr>\n",
       "    <tr>\n",
       "      <th>me</th>\n",
       "      <td>39.393445</td>\n",
       "      <td>27.556200</td>\n",
       "    </tr>\n",
       "    <tr>\n",
       "      <th>my</th>\n",
       "      <td>39.688089</td>\n",
       "      <td>27.064130</td>\n",
       "    </tr>\n",
       "    <tr>\n",
       "      <th>it</th>\n",
       "      <td>43.995242</td>\n",
       "      <td>27.734141</td>\n",
       "    </tr>\n",
       "    <tr>\n",
       "      <th>that</th>\n",
       "      <td>42.276041</td>\n",
       "      <td>26.350006</td>\n",
       "    </tr>\n",
       "    <tr>\n",
       "      <th>we</th>\n",
       "      <td>31.964147</td>\n",
       "      <td>21.343909</td>\n",
       "    </tr>\n",
       "    <tr>\n",
       "      <th>of</th>\n",
       "      <td>39.245505</td>\n",
       "      <td>26.505100</td>\n",
       "    </tr>\n",
       "    <tr>\n",
       "      <th>with</th>\n",
       "      <td>32.883015</td>\n",
       "      <td>22.871155</td>\n",
       "    </tr>\n",
       "    <tr>\n",
       "      <th>him</th>\n",
       "      <td>28.366012</td>\n",
       "      <td>16.560765</td>\n",
       "    </tr>\n",
       "    <tr>\n",
       "      <th>in</th>\n",
       "      <td>32.706796</td>\n",
       "      <td>25.023145</td>\n",
       "    </tr>\n",
       "    <tr>\n",
       "      <th>but</th>\n",
       "      <td>30.066987</td>\n",
       "      <td>18.748917</td>\n",
       "    </tr>\n",
       "    <tr>\n",
       "      <th>for</th>\n",
       "      <td>34.173214</td>\n",
       "      <td>21.498256</td>\n",
       "    </tr>\n",
       "    <tr>\n",
       "      <th>was</th>\n",
       "      <td>30.374279</td>\n",
       "      <td>17.840370</td>\n",
       "    </tr>\n",
       "    <tr>\n",
       "      <th>this</th>\n",
       "      <td>26.347732</td>\n",
       "      <td>15.673581</td>\n",
       "    </tr>\n",
       "    <tr>\n",
       "      <th>is</th>\n",
       "      <td>32.503501</td>\n",
       "      <td>20.429150</td>\n",
       "    </tr>\n",
       "  </tbody>\n",
       "</table>\n",
       "</div>"
      ],
      "text/plain": [
       "      RelationshipAdvice   AskWomen\n",
       "and            85.465545  55.908178\n",
       "to             82.468045  56.510292\n",
       "he             53.275884  33.657295\n",
       "she            47.596756  32.701248\n",
       "the            58.674563  37.868873\n",
       "her            39.344212  28.572877\n",
       "me             39.393445  27.556200\n",
       "my             39.688089  27.064130\n",
       "it             43.995242  27.734141\n",
       "that           42.276041  26.350006\n",
       "we             31.964147  21.343909\n",
       "of             39.245505  26.505100\n",
       "with           32.883015  22.871155\n",
       "him            28.366012  16.560765\n",
       "in             32.706796  25.023145\n",
       "but            30.066987  18.748917\n",
       "for            34.173214  21.498256\n",
       "was            30.374279  17.840370\n",
       "this           26.347732  15.673581\n",
       "is             32.503501  20.429150"
      ]
     },
     "execution_count": 497,
     "metadata": {},
     "output_type": "execute_result"
    }
   ],
   "source": [
    "#finding the counts of the key words \n",
    "relationship_word2.loc[nb_index,]"
   ]
  },
  {
   "cell_type": "code",
   "execution_count": 514,
   "metadata": {
    "scrolled": false
   },
   "outputs": [
    {
     "data": {
      "image/png": "[encoded data removed]",
      "text/plain": [
       "<Figure size 1080x720 with 1 Axes>"
      ]
     },
     "metadata": {
      "needs_background": "light"
     },
     "output_type": "display_data"
    }
   ],
   "source": [
    "#plot counts \n",
    "plt.figure(figsize = (15,10))\n",
    "plt.title('Target: Relationship Advice,  Keywords From Naive Bayes Model', fontsize = 18)\n",
    "sns.barplot(y = relationship_word2.loc[nb_index,].index, \n",
    "            x = relationship_word2.loc[nb_index,]['RelationshipAdvice'],\n",
    "            palette=\"Spectral\")\n",
    "plt.savefig('../images/RelationshipAdvice1(NB).png')"
   ]
  },
  {
   "cell_type": "code",
   "execution_count": 500,
   "metadata": {
    "scrolled": false
   },
   "outputs": [
    {
     "data": {
      "text/html": [
       "<div>\n",
       "<style scoped>\n",
       "    .dataframe tbody tr th:only-of-type {\n",
       "        vertical-align: middle;\n",
       "    }\n",
       "\n",
       "    .dataframe tbody tr th {\n",
       "        vertical-align: top;\n",
       "    }\n",
       "\n",
       "    .dataframe thead th {\n",
       "        text-align: right;\n",
       "    }\n",
       "</style>\n",
       "<table border=\"1\" class=\"dataframe\">\n",
       "  <thead>\n",
       "    <tr style=\"text-align: right;\">\n",
       "      <th></th>\n",
       "      <th>nb_coef_switched</th>\n",
       "      <th>logit_coef_switched</th>\n",
       "    </tr>\n",
       "  </thead>\n",
       "  <tbody>\n",
       "    <tr>\n",
       "      <th>and</th>\n",
       "      <td>-4.253006</td>\n",
       "      <td>3.018729</td>\n",
       "    </tr>\n",
       "    <tr>\n",
       "      <th>he</th>\n",
       "      <td>-4.614620</td>\n",
       "      <td>2.804925</td>\n",
       "    </tr>\n",
       "    <tr>\n",
       "      <th>she</th>\n",
       "      <td>-4.690114</td>\n",
       "      <td>2.611810</td>\n",
       "    </tr>\n",
       "    <tr>\n",
       "      <th>my</th>\n",
       "      <td>-4.910471</td>\n",
       "      <td>2.511056</td>\n",
       "    </tr>\n",
       "    <tr>\n",
       "      <th>me</th>\n",
       "      <td>-4.888376</td>\n",
       "      <td>2.441805</td>\n",
       "    </tr>\n",
       "    <tr>\n",
       "      <th>to</th>\n",
       "      <td>-4.334256</td>\n",
       "      <td>2.313939</td>\n",
       "    </tr>\n",
       "    <tr>\n",
       "      <th>her</th>\n",
       "      <td>-4.857493</td>\n",
       "      <td>2.157683</td>\n",
       "    </tr>\n",
       "    <tr>\n",
       "      <th>we</th>\n",
       "      <td>-5.104240</td>\n",
       "      <td>1.914438</td>\n",
       "    </tr>\n",
       "    <tr>\n",
       "      <th>him</th>\n",
       "      <td>-5.267039</td>\n",
       "      <td>1.575202</td>\n",
       "    </tr>\n",
       "    <tr>\n",
       "      <th>this</th>\n",
       "      <td>-5.392376</td>\n",
       "      <td>1.566193</td>\n",
       "    </tr>\n",
       "    <tr>\n",
       "      <th>it</th>\n",
       "      <td>-5.009908</td>\n",
       "      <td>1.373701</td>\n",
       "    </tr>\n",
       "    <tr>\n",
       "      <th>don</th>\n",
       "      <td>-5.838110</td>\n",
       "      <td>1.224792</td>\n",
       "    </tr>\n",
       "    <tr>\n",
       "      <th>but</th>\n",
       "      <td>-5.294294</td>\n",
       "      <td>1.210994</td>\n",
       "    </tr>\n",
       "    <tr>\n",
       "      <th>am</th>\n",
       "      <td>-6.121595</td>\n",
       "      <td>0.977603</td>\n",
       "    </tr>\n",
       "    <tr>\n",
       "      <th>with</th>\n",
       "      <td>-5.253350</td>\n",
       "      <td>0.962981</td>\n",
       "    </tr>\n",
       "    <tr>\n",
       "      <th>relationship</th>\n",
       "      <td>-6.046256</td>\n",
       "      <td>0.943873</td>\n",
       "    </tr>\n",
       "    <tr>\n",
       "      <th>know</th>\n",
       "      <td>-5.952520</td>\n",
       "      <td>0.943639</td>\n",
       "    </tr>\n",
       "    <tr>\n",
       "      <th>just</th>\n",
       "      <td>-5.664378</td>\n",
       "      <td>0.898428</td>\n",
       "    </tr>\n",
       "    <tr>\n",
       "      <th>help</th>\n",
       "      <td>-6.689355</td>\n",
       "      <td>0.884828</td>\n",
       "    </tr>\n",
       "    <tr>\n",
       "      <th>that</th>\n",
       "      <td>-5.026045</td>\n",
       "      <td>0.826481</td>\n",
       "    </tr>\n",
       "  </tbody>\n",
       "</table>\n",
       "</div>"
      ],
      "text/plain": [
       "              nb_coef_switched  logit_coef_switched\n",
       "and                  -4.253006             3.018729\n",
       "he                   -4.614620             2.804925\n",
       "she                  -4.690114             2.611810\n",
       "my                   -4.910471             2.511056\n",
       "me                   -4.888376             2.441805\n",
       "to                   -4.334256             2.313939\n",
       "her                  -4.857493             2.157683\n",
       "we                   -5.104240             1.914438\n",
       "him                  -5.267039             1.575202\n",
       "this                 -5.392376             1.566193\n",
       "it                   -5.009908             1.373701\n",
       "don                  -5.838110             1.224792\n",
       "but                  -5.294294             1.210994\n",
       "am                   -6.121595             0.977603\n",
       "with                 -5.253350             0.962981\n",
       "relationship         -6.046256             0.943873\n",
       "know                 -5.952520             0.943639\n",
       "just                 -5.664378             0.898428\n",
       "help                 -6.689355             0.884828\n",
       "that                 -5.026045             0.826481"
      ]
     },
     "execution_count": 500,
     "metadata": {},
     "output_type": "execute_result"
    }
   ],
   "source": [
    "#sort by coefficients from highest to lowest, for Logit\n",
    "womenrelationship_word2.sort_values(by = 'logit_coef_switched', ascending = False).head(20)"
   ]
  },
  {
   "cell_type": "code",
   "execution_count": 501,
   "metadata": {},
   "outputs": [],
   "source": [
    "#extract index for sorted logistic regression\n",
    "logreg_index = womenrelationship_word2.sort_values(by = 'logit_coef_switched', ascending = False).head(20).index"
   ]
  },
  {
   "cell_type": "code",
   "execution_count": 502,
   "metadata": {},
   "outputs": [
    {
     "data": {
      "text/html": [
       "<div>\n",
       "<style scoped>\n",
       "    .dataframe tbody tr th:only-of-type {\n",
       "        vertical-align: middle;\n",
       "    }\n",
       "\n",
       "    .dataframe tbody tr th {\n",
       "        vertical-align: top;\n",
       "    }\n",
       "\n",
       "    .dataframe thead th {\n",
       "        text-align: right;\n",
       "    }\n",
       "</style>\n",
       "<table border=\"1\" class=\"dataframe\">\n",
       "  <thead>\n",
       "    <tr style=\"text-align: right;\">\n",
       "      <th></th>\n",
       "      <th>RelationshipAdvice</th>\n",
       "      <th>AskWomen</th>\n",
       "    </tr>\n",
       "  </thead>\n",
       "  <tbody>\n",
       "    <tr>\n",
       "      <th>and</th>\n",
       "      <td>85.465545</td>\n",
       "      <td>55.908178</td>\n",
       "    </tr>\n",
       "    <tr>\n",
       "      <th>he</th>\n",
       "      <td>53.275884</td>\n",
       "      <td>33.657295</td>\n",
       "    </tr>\n",
       "    <tr>\n",
       "      <th>she</th>\n",
       "      <td>47.596756</td>\n",
       "      <td>32.701248</td>\n",
       "    </tr>\n",
       "    <tr>\n",
       "      <th>my</th>\n",
       "      <td>39.688089</td>\n",
       "      <td>27.064130</td>\n",
       "    </tr>\n",
       "    <tr>\n",
       "      <th>me</th>\n",
       "      <td>39.393445</td>\n",
       "      <td>27.556200</td>\n",
       "    </tr>\n",
       "    <tr>\n",
       "      <th>to</th>\n",
       "      <td>82.468045</td>\n",
       "      <td>56.510292</td>\n",
       "    </tr>\n",
       "    <tr>\n",
       "      <th>her</th>\n",
       "      <td>39.344212</td>\n",
       "      <td>28.572877</td>\n",
       "    </tr>\n",
       "    <tr>\n",
       "      <th>we</th>\n",
       "      <td>31.964147</td>\n",
       "      <td>21.343909</td>\n",
       "    </tr>\n",
       "    <tr>\n",
       "      <th>him</th>\n",
       "      <td>28.366012</td>\n",
       "      <td>16.560765</td>\n",
       "    </tr>\n",
       "    <tr>\n",
       "      <th>this</th>\n",
       "      <td>26.347732</td>\n",
       "      <td>15.673581</td>\n",
       "    </tr>\n",
       "    <tr>\n",
       "      <th>it</th>\n",
       "      <td>43.995242</td>\n",
       "      <td>27.734141</td>\n",
       "    </tr>\n",
       "    <tr>\n",
       "      <th>don</th>\n",
       "      <td>15.388784</td>\n",
       "      <td>11.537036</td>\n",
       "    </tr>\n",
       "    <tr>\n",
       "      <th>but</th>\n",
       "      <td>30.066987</td>\n",
       "      <td>18.748917</td>\n",
       "    </tr>\n",
       "    <tr>\n",
       "      <th>am</th>\n",
       "      <td>11.860639</td>\n",
       "      <td>7.817520</td>\n",
       "    </tr>\n",
       "    <tr>\n",
       "      <th>with</th>\n",
       "      <td>32.883015</td>\n",
       "      <td>22.871155</td>\n",
       "    </tr>\n",
       "    <tr>\n",
       "      <th>relationship</th>\n",
       "      <td>14.347401</td>\n",
       "      <td>8.778730</td>\n",
       "    </tr>\n",
       "    <tr>\n",
       "      <th>know</th>\n",
       "      <td>14.224171</td>\n",
       "      <td>9.765679</td>\n",
       "    </tr>\n",
       "    <tr>\n",
       "      <th>just</th>\n",
       "      <td>20.529400</td>\n",
       "      <td>12.166515</td>\n",
       "    </tr>\n",
       "    <tr>\n",
       "      <th>help</th>\n",
       "      <td>5.450800</td>\n",
       "      <td>4.554720</td>\n",
       "    </tr>\n",
       "    <tr>\n",
       "      <th>that</th>\n",
       "      <td>42.276041</td>\n",
       "      <td>26.350006</td>\n",
       "    </tr>\n",
       "  </tbody>\n",
       "</table>\n",
       "</div>"
      ],
      "text/plain": [
       "              RelationshipAdvice   AskWomen\n",
       "and                    85.465545  55.908178\n",
       "he                     53.275884  33.657295\n",
       "she                    47.596756  32.701248\n",
       "my                     39.688089  27.064130\n",
       "me                     39.393445  27.556200\n",
       "to                     82.468045  56.510292\n",
       "her                    39.344212  28.572877\n",
       "we                     31.964147  21.343909\n",
       "him                    28.366012  16.560765\n",
       "this                   26.347732  15.673581\n",
       "it                     43.995242  27.734141\n",
       "don                    15.388784  11.537036\n",
       "but                    30.066987  18.748917\n",
       "am                     11.860639   7.817520\n",
       "with                   32.883015  22.871155\n",
       "relationship           14.347401   8.778730\n",
       "know                   14.224171   9.765679\n",
       "just                   20.529400  12.166515\n",
       "help                    5.450800   4.554720\n",
       "that                   42.276041  26.350006"
      ]
     },
     "execution_count": 502,
     "metadata": {},
     "output_type": "execute_result"
    }
   ],
   "source": [
    "relationship_word2.loc[logreg_index,]"
   ]
  },
  {
   "cell_type": "code",
   "execution_count": 503,
   "metadata": {},
   "outputs": [
    {
     "data": {
      "image/png": "[encoded data removed]",
      "text/plain": [
       "<Figure size 1080x720 with 1 Axes>"
      ]
     },
     "metadata": {
      "needs_background": "light"
     },
     "output_type": "display_data"
    }
   ],
   "source": [
    "#plot counts \n",
    "plt.figure(figsize = (15,10))\n",
    "plt.title('Target: Relationship Advice,  Keywords From Logistic Regression Model', fontsize = 18)\n",
    "sns.barplot(y = relationship_word2.loc[logreg_index,].index, \n",
    "            x = relationship_word2.loc[logreg_index,]['RelationshipAdvice'],\n",
    "            palette=\"Spectral_r\")\n",
    "plt.savefig('../images/RelationshipAdvice(1)_Keywords(logreg).png')"
   ]
  },
  {
   "cell_type": "code",
   "execution_count": null,
   "metadata": {},
   "outputs": [],
   "source": []
  }
 ],
 "metadata": {
  "kernelspec": {
   "display_name": "Python 3",
   "language": "python",
   "name": "python3"
  },
  "language_info": {
   "codemirror_mode": {
    "name": "ipython",
    "version": 3
   },
   "file_extension": ".py",
   "mimetype": "text/x-python",
   "name": "python",
   "nbconvert_exporter": "python",
   "pygments_lexer": "ipython3",
   "version": "3.7.1"
  }
 },
 "nbformat": 4,
 "nbformat_minor": 2
}
