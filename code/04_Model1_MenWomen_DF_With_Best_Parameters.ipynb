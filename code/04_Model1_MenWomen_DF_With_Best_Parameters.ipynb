{
 "cells": [
  {
   "cell_type": "markdown",
   "metadata": {},
   "source": [
    "# Web APIs & Classification"
   ]
  },
  {
   "cell_type": "markdown",
   "metadata": {},
   "source": [
    "## Project Challenge Statement\n",
    "\n",
    "### Goal: \n",
    "#### 1. Using Reddit's API, collect posts from two subreddits: AskWomen, AskMen, Relationship_Advice. \n",
    "#### 2. NLP to train a classifier on which subreddit a given post came from. This is a binary classification problem.\n",
    "\n",
    "### Datasets: \n",
    "1. AskMen vs AskWomen (0, 1)\n",
    "2. AskMen vs Relationship Advice (0, 1)\n",
    "3. AskWomen vs Relationship Advice (0, 1)\n",
    "\n",
    "### Model Improvement\n",
    "Use all baseline models to build ensemble model. \n",
    "\n",
    "#### 1. Ensemble Model \n",
    "- with CountVectorizer \n",
    "- with TFIDF Model\n",
    "- with Logistic Regression \n",
    "- with Multinomial NB"
   ]
  },
  {
   "cell_type": "markdown",
   "metadata": {},
   "source": [
    "## Table of Contents \n",
    "\n",
    "This Notebook is broken down into different sections for analysis purpose. The following links are connected to differenct section within the Notebook for simple navigation. \n",
    "\n",
    "### Contents:\n",
    "- [Ensamble Model 1 menwomen_df With Best Parameters](#Ensamble-Model-1-menwomen_df-With-Best-Parameters)\n",
    "    - [Ensamble Model 1: ](#Ensamble-Model-1)\n",
    "    - [Extracting Coefficients](#Extracting-Coefficients)\n",
    "    - [Model With Target Switched](#Model-With-Target-Switched)"
   ]
  },
  {
   "cell_type": "code",
   "execution_count": 1,
   "metadata": {},
   "outputs": [],
   "source": [
    "import pandas as pd \n",
    "import numpy as np \n",
    "import re\n",
    "from sklearn.pipeline import Pipeline \n",
    "from sklearn.model_selection import train_test_split, GridSearchCV\n",
    "from sklearn.linear_model import LogisticRegression\n",
    "from sklearn.feature_extraction.text import CountVectorizer, TfidfVectorizer\n",
    "from sklearn.naive_bayes import MultinomialNB\n",
    "from sklearn.ensemble import VotingClassifier\n",
    "from sklearn.neighbors import KNeighborsClassifier"
   ]
  },
  {
   "cell_type": "code",
   "execution_count": 2,
   "metadata": {},
   "outputs": [],
   "source": [
    "menwomen_df = pd.read_csv('../data/AskMenAskWomen.csv')\n",
    "menrelationship_df = pd.read_csv('../data/AskMen_Relationship.csv')\n",
    "womenrelationship_df = pd.read_csv('../data/AskWomen_Relationship.csv')"
   ]
  },
  {
   "cell_type": "markdown",
   "metadata": {},
   "source": [
    "## Ensamble Model With Best Parameters "
   ]
  },
  {
   "cell_type": "markdown",
   "metadata": {},
   "source": [
    "## Ensamble Model 1: With menwomen_df"
   ]
  },
  {
   "cell_type": "code",
   "execution_count": 3,
   "metadata": {},
   "outputs": [],
   "source": [
    "# models with Best Parameters from previous notebook\n",
    "cvec = CountVectorizer(max_df= 0.95, \n",
    "                       max_features= 2000, \n",
    "                       min_df= 5, \n",
    "                       ngram_range= (1,1))\n",
    "tfidf1 = TfidfVectorizer(max_df= 0.95, \n",
    "                       max_features= 1000, \n",
    "                       min_df= 5, \n",
    "                       ngram_range= (1,1))\n",
    "tfidf2 = TfidfVectorizer(max_df= 0.95, \n",
    "                       max_features= 1500, \n",
    "                       min_df= 2, \n",
    "                       ngram_range= (1,2))\n",
    "mnb = MultinomialNB()\n",
    "logit = LogisticRegression()"
   ]
  },
  {
   "cell_type": "code",
   "execution_count": 10,
   "metadata": {},
   "outputs": [],
   "source": [
    "#building votingclassifier model \n",
    "#will be apply to the rest of the model\n",
    "vc = VotingClassifier(estimators= [('mnb', mnb),\n",
    "                                   ('logit', logit)], \n",
    "                     voting = 'hard')"
   ]
  },
  {
   "cell_type": "code",
   "execution_count": 14,
   "metadata": {},
   "outputs": [],
   "source": [
    "#building Pipeline\n",
    "pipe1 = Pipeline([\n",
    "#     ('cvec', CountVectorizer(max_df= 0.95, \n",
    "#                        max_features= 2000, \n",
    "#                        min_df= 5, \n",
    "#                        ngram_range= (1,1))), \n",
    "    ('tfidf1', TfidfVectorizer(max_df= 0.95,  #keep this one since it give us highest train test score \n",
    "                       max_features= 1000, \n",
    "                       min_df= 5, \n",
    "                       ngram_range= (1,1))),\n",
    "#     ('tfidf1', TfidfVectorizer(max_df= 0.95, \n",
    "#                        max_features= 1500, \n",
    "#                        min_df= 2, \n",
    "#                        ngram_range= (1,2))),\n",
    "    ('vc', VotingClassifier(estimators= [('mnb', mnb),\n",
    "                                   ('logit', logit)], \n",
    "                     voting = 'hard'))\n",
    "])"
   ]
  },
  {
   "cell_type": "code",
   "execution_count": 15,
   "metadata": {},
   "outputs": [],
   "source": [
    "#train-test-split \n",
    "X = menwomen_df[\"Title_Content\"]\n",
    "y = menwomen_df['Subreddit']\n",
    "\n",
    "#Train Test Split \n",
    "X_train, X_test, y_train, y_test = train_test_split(X, y, test_size=0.3, random_state=42, stratify = y)"
   ]
  },
  {
   "cell_type": "code",
   "execution_count": 16,
   "metadata": {},
   "outputs": [
    {
     "name": "stderr",
     "output_type": "stream",
     "text": [
      "/Users/evelyn/anaconda3/lib/python3.7/site-packages/sklearn/linear_model/logistic.py:433: FutureWarning: Default solver will be changed to 'lbfgs' in 0.22. Specify a solver to silence this warning.\n",
      "  FutureWarning)\n"
     ]
    },
    {
     "data": {
      "text/plain": [
       "Pipeline(memory=None,\n",
       "     steps=[('tfidf1', TfidfVectorizer(analyzer='word', binary=False, decode_error='strict',\n",
       "        dtype=<class 'numpy.float64'>, encoding='utf-8', input='content',\n",
       "        lowercase=True, max_df=0.95, max_features=1000, min_df=5,\n",
       "        ngram_range=(1, 1), norm='l2', preprocessor=None, smooth_idf=Tru...0, warm_start=False))],\n",
       "         flatten_transform=None, n_jobs=None, voting='hard', weights=None))])"
      ]
     },
     "execution_count": 16,
     "metadata": {},
     "output_type": "execute_result"
    }
   ],
   "source": [
    "pipe1.fit(X_train, y_train)"
   ]
  },
  {
   "cell_type": "code",
   "execution_count": 17,
   "metadata": {
    "scrolled": true
   },
   "outputs": [
    {
     "name": "stdout",
     "output_type": "stream",
     "text": [
      "train score 0.8224513172966781\n",
      "test score 0.7466666666666667\n"
     ]
    }
   ],
   "source": [
    "print('train score', pipe1.score(X_train, y_train))\n",
    "print('test score', pipe1.score(X_test, y_test))"
   ]
  },
  {
   "cell_type": "markdown",
   "metadata": {},
   "source": [
    "### Extracting Coefficients "
   ]
  },
  {
   "cell_type": "code",
   "execution_count": 30,
   "metadata": {
    "scrolled": true
   },
   "outputs": [
    {
     "data": {
      "text/plain": [
       "[MultinomialNB(alpha=1.0, class_prior=None, fit_prior=True),\n",
       " LogisticRegression(C=1.0, class_weight=None, dual=False, fit_intercept=True,\n",
       "           intercept_scaling=1, max_iter=100, multi_class='warn',\n",
       "           n_jobs=None, penalty='l2', random_state=None, solver='warn',\n",
       "           tol=0.0001, verbose=0, warm_start=False)]"
      ]
     },
     "execution_count": 30,
     "metadata": {},
     "output_type": "execute_result"
    }
   ],
   "source": [
    "pipe1.named_steps['vc'].estimators_"
   ]
  },
  {
   "cell_type": "code",
   "execution_count": 29,
   "metadata": {},
   "outputs": [],
   "source": [
    "mnb_coef = pipe1.named_steps['vc'].estimators_[0].coef_[0]"
   ]
  },
  {
   "cell_type": "code",
   "execution_count": 31,
   "metadata": {},
   "outputs": [],
   "source": [
    "#saving logistic coefficient \n",
    "logit_coef = pipe1.named_steps['vc'].estimators_[1].coef_[0]"
   ]
  },
  {
   "cell_type": "code",
   "execution_count": 32,
   "metadata": {
    "scrolled": false
   },
   "outputs": [
    {
     "data": {
      "text/plain": [
       "727"
      ]
     },
     "execution_count": 32,
     "metadata": {},
     "output_type": "execute_result"
    }
   ],
   "source": [
    "#get column names \n",
    "tfidf = TfidfVectorizer(max_df= 0.95, \n",
    "                       max_features= 1000, \n",
    "                       min_df= 5, \n",
    "                       ngram_range= (1,1))\n",
    "tfidf.fit_transform(X_train)\n",
    "\n",
    "#Saving column name\n",
    "col_name = tfidf.get_feature_names()\n",
    "len(col_name)"
   ]
  },
  {
   "cell_type": "code",
   "execution_count": 33,
   "metadata": {},
   "outputs": [
    {
     "data": {
      "text/html": [
       "<div>\n",
       "<style scoped>\n",
       "    .dataframe tbody tr th:only-of-type {\n",
       "        vertical-align: middle;\n",
       "    }\n",
       "\n",
       "    .dataframe tbody tr th {\n",
       "        vertical-align: top;\n",
       "    }\n",
       "\n",
       "    .dataframe thead th {\n",
       "        text-align: right;\n",
       "    }\n",
       "</style>\n",
       "<table border=\"1\" class=\"dataframe\">\n",
       "  <thead>\n",
       "    <tr style=\"text-align: right;\">\n",
       "      <th></th>\n",
       "      <th>nb_coef</th>\n",
       "      <th>logit_coef</th>\n",
       "    </tr>\n",
       "  </thead>\n",
       "  <tbody>\n",
       "    <tr>\n",
       "      <th>able</th>\n",
       "      <td>-7.223200</td>\n",
       "      <td>-0.197191</td>\n",
       "    </tr>\n",
       "    <tr>\n",
       "      <th>about</th>\n",
       "      <td>-5.244258</td>\n",
       "      <td>0.033025</td>\n",
       "    </tr>\n",
       "    <tr>\n",
       "      <th>above</th>\n",
       "      <td>-7.676415</td>\n",
       "      <td>-0.068470</td>\n",
       "    </tr>\n",
       "    <tr>\n",
       "      <th>absolutely</th>\n",
       "      <td>-7.647570</td>\n",
       "      <td>-0.292504</td>\n",
       "    </tr>\n",
       "    <tr>\n",
       "      <th>accept</th>\n",
       "      <td>-7.099458</td>\n",
       "      <td>0.035477</td>\n",
       "    </tr>\n",
       "  </tbody>\n",
       "</table>\n",
       "</div>"
      ],
      "text/plain": [
       "             nb_coef  logit_coef\n",
       "able       -7.223200   -0.197191\n",
       "about      -5.244258    0.033025\n",
       "above      -7.676415   -0.068470\n",
       "absolutely -7.647570   -0.292504\n",
       "accept     -7.099458    0.035477"
      ]
     },
     "execution_count": 33,
     "metadata": {},
     "output_type": "execute_result"
    }
   ],
   "source": [
    "menwomen_word = pd.DataFrame(data= [mnb_coef, logit_coef], columns= col_name, index= ['nb_coef', 'logit_coef'])\n",
    "menwomen_word.head()\n",
    "menwomen_word = menwomen_word.T\n",
    "menwomen_word.head()"
   ]
  },
  {
   "cell_type": "code",
   "execution_count": 34,
   "metadata": {},
   "outputs": [
    {
     "data": {
      "text/html": [
       "<div>\n",
       "<style scoped>\n",
       "    .dataframe tbody tr th:only-of-type {\n",
       "        vertical-align: middle;\n",
       "    }\n",
       "\n",
       "    .dataframe tbody tr th {\n",
       "        vertical-align: top;\n",
       "    }\n",
       "\n",
       "    .dataframe thead th {\n",
       "        text-align: right;\n",
       "    }\n",
       "</style>\n",
       "<table border=\"1\" class=\"dataframe\">\n",
       "  <thead>\n",
       "    <tr style=\"text-align: right;\">\n",
       "      <th></th>\n",
       "      <th>nb_coef</th>\n",
       "      <th>logit_coef</th>\n",
       "    </tr>\n",
       "  </thead>\n",
       "  <tbody>\n",
       "    <tr>\n",
       "      <th>bar</th>\n",
       "      <td>-7.819936</td>\n",
       "      <td>-0.155624</td>\n",
       "    </tr>\n",
       "    <tr>\n",
       "      <th>himself</th>\n",
       "      <td>-7.819936</td>\n",
       "      <td>-0.159051</td>\n",
       "    </tr>\n",
       "    <tr>\n",
       "      <th>kinda</th>\n",
       "      <td>-7.819936</td>\n",
       "      <td>-0.360041</td>\n",
       "    </tr>\n",
       "    <tr>\n",
       "      <th>anymore</th>\n",
       "      <td>-7.819936</td>\n",
       "      <td>-0.218410</td>\n",
       "    </tr>\n",
       "    <tr>\n",
       "      <th>three</th>\n",
       "      <td>-7.819936</td>\n",
       "      <td>-0.108125</td>\n",
       "    </tr>\n",
       "    <tr>\n",
       "      <th>small</th>\n",
       "      <td>-7.819936</td>\n",
       "      <td>-0.619330</td>\n",
       "    </tr>\n",
       "    <tr>\n",
       "      <th>came</th>\n",
       "      <td>-7.819936</td>\n",
       "      <td>-0.334269</td>\n",
       "    </tr>\n",
       "    <tr>\n",
       "      <th>group</th>\n",
       "      <td>-7.819936</td>\n",
       "      <td>-0.110682</td>\n",
       "    </tr>\n",
       "    <tr>\n",
       "      <th>half</th>\n",
       "      <td>-7.819936</td>\n",
       "      <td>-0.548768</td>\n",
       "    </tr>\n",
       "    <tr>\n",
       "      <th>late</th>\n",
       "      <td>-7.819936</td>\n",
       "      <td>-0.166031</td>\n",
       "    </tr>\n",
       "    <tr>\n",
       "      <th>fact</th>\n",
       "      <td>-7.819936</td>\n",
       "      <td>-0.467038</td>\n",
       "    </tr>\n",
       "    <tr>\n",
       "      <th>days</th>\n",
       "      <td>-7.819936</td>\n",
       "      <td>-0.549431</td>\n",
       "    </tr>\n",
       "    <tr>\n",
       "      <th>whenever</th>\n",
       "      <td>-7.819936</td>\n",
       "      <td>-0.317271</td>\n",
       "    </tr>\n",
       "    <tr>\n",
       "      <th>probably</th>\n",
       "      <td>-7.819936</td>\n",
       "      <td>-0.164580</td>\n",
       "    </tr>\n",
       "    <tr>\n",
       "      <th>seeing</th>\n",
       "      <td>-7.819936</td>\n",
       "      <td>-0.399858</td>\n",
       "    </tr>\n",
       "    <tr>\n",
       "      <th>gf</th>\n",
       "      <td>-7.819936</td>\n",
       "      <td>-0.648216</td>\n",
       "    </tr>\n",
       "    <tr>\n",
       "      <th>attractive</th>\n",
       "      <td>-7.819936</td>\n",
       "      <td>-0.820848</td>\n",
       "    </tr>\n",
       "    <tr>\n",
       "      <th>hello</th>\n",
       "      <td>-7.819936</td>\n",
       "      <td>-0.198411</td>\n",
       "    </tr>\n",
       "    <tr>\n",
       "      <th>due</th>\n",
       "      <td>-7.819936</td>\n",
       "      <td>-0.227202</td>\n",
       "    </tr>\n",
       "    <tr>\n",
       "      <th>romantically</th>\n",
       "      <td>-7.819936</td>\n",
       "      <td>-0.694142</td>\n",
       "    </tr>\n",
       "  </tbody>\n",
       "</table>\n",
       "</div>"
      ],
      "text/plain": [
       "               nb_coef  logit_coef\n",
       "bar          -7.819936   -0.155624\n",
       "himself      -7.819936   -0.159051\n",
       "kinda        -7.819936   -0.360041\n",
       "anymore      -7.819936   -0.218410\n",
       "three        -7.819936   -0.108125\n",
       "small        -7.819936   -0.619330\n",
       "came         -7.819936   -0.334269\n",
       "group        -7.819936   -0.110682\n",
       "half         -7.819936   -0.548768\n",
       "late         -7.819936   -0.166031\n",
       "fact         -7.819936   -0.467038\n",
       "days         -7.819936   -0.549431\n",
       "whenever     -7.819936   -0.317271\n",
       "probably     -7.819936   -0.164580\n",
       "seeing       -7.819936   -0.399858\n",
       "gf           -7.819936   -0.648216\n",
       "attractive   -7.819936   -0.820848\n",
       "hello        -7.819936   -0.198411\n",
       "due          -7.819936   -0.227202\n",
       "romantically -7.819936   -0.694142"
      ]
     },
     "execution_count": 34,
     "metadata": {},
     "output_type": "execute_result"
    }
   ],
   "source": [
    "menwomen_word.sort_values(by = 'nb_coef', ascending = True).head(20)"
   ]
  },
  {
   "cell_type": "code",
   "execution_count": 35,
   "metadata": {},
   "outputs": [
    {
     "data": {
      "text/html": [
       "<div>\n",
       "<style scoped>\n",
       "    .dataframe tbody tr th:only-of-type {\n",
       "        vertical-align: middle;\n",
       "    }\n",
       "\n",
       "    .dataframe tbody tr th {\n",
       "        vertical-align: top;\n",
       "    }\n",
       "\n",
       "    .dataframe thead th {\n",
       "        text-align: right;\n",
       "    }\n",
       "</style>\n",
       "<table border=\"1\" class=\"dataframe\">\n",
       "  <thead>\n",
       "    <tr style=\"text-align: right;\">\n",
       "      <th></th>\n",
       "      <th>nb_coef</th>\n",
       "      <th>logit_coef</th>\n",
       "    </tr>\n",
       "  </thead>\n",
       "  <tbody>\n",
       "    <tr>\n",
       "      <th>men</th>\n",
       "      <td>-6.961656</td>\n",
       "      <td>-3.155234</td>\n",
       "    </tr>\n",
       "    <tr>\n",
       "      <th>guys</th>\n",
       "      <td>-7.150168</td>\n",
       "      <td>-2.763650</td>\n",
       "    </tr>\n",
       "    <tr>\n",
       "      <th>my</th>\n",
       "      <td>-6.242374</td>\n",
       "      <td>-2.192249</td>\n",
       "    </tr>\n",
       "    <tr>\n",
       "      <th>to</th>\n",
       "      <td>-4.458594</td>\n",
       "      <td>-1.558698</td>\n",
       "    </tr>\n",
       "    <tr>\n",
       "      <th>and</th>\n",
       "      <td>-4.713635</td>\n",
       "      <td>-1.471389</td>\n",
       "    </tr>\n",
       "  </tbody>\n",
       "</table>\n",
       "</div>"
      ],
      "text/plain": [
       "       nb_coef  logit_coef\n",
       "men  -6.961656   -3.155234\n",
       "guys -7.150168   -2.763650\n",
       "my   -6.242374   -2.192249\n",
       "to   -4.458594   -1.558698\n",
       "and  -4.713635   -1.471389"
      ]
     },
     "execution_count": 35,
     "metadata": {},
     "output_type": "execute_result"
    }
   ],
   "source": [
    "menwomen_word.sort_values(by = 'logit_coef', ascending = True).head()"
   ]
  },
  {
   "cell_type": "code",
   "execution_count": null,
   "metadata": {},
   "outputs": [],
   "source": []
  }
 ],
 "metadata": {
  "kernelspec": {
   "display_name": "Python 3",
   "language": "python",
   "name": "python3"
  },
  "language_info": {
   "codemirror_mode": {
    "name": "ipython",
    "version": 3
   },
   "file_extension": ".py",
   "mimetype": "text/x-python",
   "name": "python",
   "nbconvert_exporter": "python",
   "pygments_lexer": "ipython3",
   "version": "3.7.1"
  }
 },
 "nbformat": 4,
 "nbformat_minor": 2
}
