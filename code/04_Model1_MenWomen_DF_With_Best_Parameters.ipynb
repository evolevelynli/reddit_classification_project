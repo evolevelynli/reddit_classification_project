{
 "cells": [
  {
   "cell_type": "markdown",
   "metadata": {},
   "source": [
    "# Web APIs & Classification"
   ]
  },
  {
   "cell_type": "markdown",
   "metadata": {},
   "source": [
    "## Project Challenge Statement\n",
    "\n",
    "### Goal: \n",
    "#### 1. Using Reddit's API, collect posts from two subreddits: AskWomen, AskMen \n",
    "#### 2. NLP to train a classifier on which subreddit a given post came from. This is a binary classification problem.\n",
    "\n",
    "---\n",
    "\n",
    "### Datasets: \n",
    "1. AskMen vs AskWomen (0, 1)\n",
    "\n",
    "---\n",
    "\n",
    "### Model Improvement\n",
    "Use all baseline models with gridsearch parameters in the previous notebook to build ensemble model. \n",
    "\n",
    "---\n",
    "\n",
    "### Ensemble Model \n",
    "- with CountVectorizer \n",
    "- with TFIDF Model\n",
    "- with Logistic Regression \n",
    "- with Multinomial NB\n",
    "- with RandomForestClassifier\n",
    "- with ExtraTreesClassifier\n",
    "- with AdaBoostClassifier\n",
    "- with SVM\n",
    "\n",
    "---\n",
    "\n",
    "### Notebook Walkthrough \n",
    "1. Build ensemble model \n",
    "    - `AskMen:0, AskWomen:1`\n",
    "2. Evaluate model \n",
    "3. Plot keywords with highest coefficients \n",
    "4. Switch targets\n",
    "    - `Askmen:1, AskWomen:0`\n",
    "5. Build ensemble model with switched target \n",
    "6. Evaluate model \n",
    "7. Plot keywords with highest coefficients \n",
    "\n",
    "---"
   ]
  },
  {
   "cell_type": "markdown",
   "metadata": {},
   "source": [
    "## Table of Contents \n",
    "\n",
    "This Notebook is broken down into different sections for analysis purpose. The following links are connected to differenct section within the Notebook for simple navigation. \n",
    "\n",
    "### Contents:\n",
    "- [Ensamble Model With Best Parameters](#Ensamble-Model-With-Best-Parameters)\n",
    "    - [Ensemble Model 1: With menwomen_df](#Ensemble-Model-1:-With-menwomen_df)\n",
    "    - [Model1 Evaluation](#Model1-Evaluation)\n",
    "    - [Extracting Keywords Coefficients](#Extracting-Keywords-Coefficients)\n",
    "    - [Words-EDA](#Words-EDA)\n",
    "    - [Visualizing Words With Highest Coefficients](#Visualizing-Words-With-Highest-Coefficients)\n",
    "- [Model-With-Target-Switched](#Model-With-Target-Switched)\n",
    "    - [Ensemble-Model-2:-With-menwomen_df](#Ensemble-Model-2:-With-menwomen_df)\n",
    "    - [Model2-Evaluation](#Model2-Evaluation)\n",
    "    - [Extracting-Keywords-Coefficients](#Extracting-Keywords-Coefficients)\n",
    "    - [Visualizing Words With Highest Coefficients](#Visualizing-Words-With-Highest-Coefficients)\n",
    "    \n",
    "    \n",
    "---"
   ]
  },
  {
   "cell_type": "code",
   "execution_count": 9,
   "metadata": {},
   "outputs": [],
   "source": [
    "# !pip install pactools\n",
    "import warnings\n",
    "warnings.filterwarnings('ignore')"
   ]
  },
  {
   "cell_type": "code",
   "execution_count": 32,
   "metadata": {},
   "outputs": [],
   "source": [
    "import pandas as pd \n",
    "import numpy as np \n",
    "import re\n",
    "import matplotlib.pyplot as plt\n",
    "import seaborn as sns\n",
    "from sklearn.pipeline import Pipeline \n",
    "from sklearn.model_selection import train_test_split, GridSearchCV, cross_val_score\n",
    "from sklearn.linear_model import LogisticRegression\n",
    "from sklearn.feature_extraction.text import CountVectorizer, TfidfVectorizer\n",
    "from sklearn.naive_bayes import MultinomialNB\n",
    "from sklearn.ensemble import VotingClassifier\n",
    "from sklearn.neighbors import KNeighborsClassifier\n",
    "from pactools.grid_search import GridSearchCVProgressBar\n",
    "from sklearn.tree import DecisionTreeClassifier\n",
    "from sklearn import svm\n",
    "from sklearn.ensemble import VotingClassifier, BaggingClassifier, RandomForestClassifier, ExtraTreesClassifier, AdaBoostClassifier"
   ]
  },
  {
   "cell_type": "code",
   "execution_count": 33,
   "metadata": {},
   "outputs": [],
   "source": [
    "menwomen_df = pd.read_csv('../data/AskMenAskWomen.csv')\n",
    "menwomen_df = menwomen_df.drop(columns = 'Unnamed: 0')"
   ]
  },
  {
   "cell_type": "markdown",
   "metadata": {},
   "source": [
    "### Train Test Split Data"
   ]
  },
  {
   "cell_type": "code",
   "execution_count": 34,
   "metadata": {},
   "outputs": [],
   "source": [
    "#train-test-split \n",
    "X = menwomen_df[\"Title_Content\"]\n",
    "y = menwomen_df['Subreddit']\n",
    "\n",
    "#Train Test Split \n",
    "X_train, X_test, y_train, y_test = train_test_split(X, y, test_size=0.3, random_state=42, stratify = y)"
   ]
  },
  {
   "cell_type": "markdown",
   "metadata": {},
   "source": [
    "# Ensamble Model With Best Parameters "
   ]
  },
  {
   "cell_type": "markdown",
   "metadata": {},
   "source": [
    "## Ensemble Model 1: With menwomen_df"
   ]
  },
  {
   "cell_type": "code",
   "execution_count": 35,
   "metadata": {},
   "outputs": [],
   "source": [
    "# models with Best Parameters from previous notebook\n",
    "mnb = MultinomialNB()\n",
    "logit = LogisticRegression()\n",
    "rf = RandomForestClassifier(max_depth = 100, \n",
    "                            min_samples_leaf= 2, \n",
    "                           n_estimators= 100)\n",
    "et = ExtraTreesClassifier( max_depth = 50, \n",
    "                           min_samples_leaf = 2, \n",
    "                           n_estimators = 100)\n",
    "ada = AdaBoostClassifier(base_estimator=DecisionTreeClassifier(max_depth = 50), \n",
    "                         learning_rate = 1.0, \n",
    "                         n_estimators = 200)\n",
    "svc = svm.SVC(C= 1.5, kernel= 'rbf')"
   ]
  },
  {
   "cell_type": "code",
   "execution_count": 36,
   "metadata": {},
   "outputs": [],
   "source": [
    "#building votingclassifier model \n",
    "#will be apply to the rest of the model\n",
    "vc = VotingClassifier(estimators= [('mnb', mnb),\n",
    "                                   ('logit', logit),\n",
    "                                   ('rf', rf), \n",
    "                                   ('et', et), \n",
    "                                   ('ada', ada), \n",
    "                                   ('svc', svc)], \n",
    "                     voting = 'hard')"
   ]
  },
  {
   "cell_type": "code",
   "execution_count": 37,
   "metadata": {},
   "outputs": [],
   "source": [
    "#building Pipeline\n",
    "pipe1 = Pipeline([\n",
    "#      ('cvec1', CountVectorizer(max_df= 0.95, \n",
    "#                        max_features= 1500, \n",
    "#                        min_df= 2, \n",
    "#                        ngram_range= (1,1))),  \n",
    "    \n",
    "#     ( 'cvec2 ', CountVectorizer(max_df= 0.95, \n",
    "#                        max_features= 1000, \n",
    "#                        min_df= 2, \n",
    "#                        stop_words = 'english',\n",
    "#                        ngram_range= (1,1))), \n",
    "    \n",
    "#     ('tfidf1', TfidfVectorizer(max_df= 0.95,  \n",
    "#                        max_features= 1000, \n",
    "#                        min_df= 5, \n",
    "#                        ngram_range= (1,1))),\n",
    "    \n",
    "    ('tfidf2', TfidfVectorizer(max_df= 0.95,\n",
    "                       max_features= 1500, \n",
    "                       min_df= 2, \n",
    "                       ngram_range= (1,2))),\n",
    "    \n",
    "    ('vc', vc)\n",
    "])"
   ]
  },
  {
   "cell_type": "code",
   "execution_count": 38,
   "metadata": {},
   "outputs": [
    {
     "data": {
      "text/plain": [
       "0.743528103812787"
      ]
     },
     "execution_count": 38,
     "metadata": {},
     "output_type": "execute_result"
    }
   ],
   "source": [
    "#checking baseline CrossValidation Score \n",
    "cross_val_score(pipe1, X_train, y_train, cv = 10).mean()"
   ]
  },
  {
   "cell_type": "code",
   "execution_count": 39,
   "metadata": {},
   "outputs": [
    {
     "data": {
      "text/plain": [
       "Pipeline(memory=None,\n",
       "     steps=[('tfidf2', TfidfVectorizer(analyzer='word', binary=False, decode_error='strict',\n",
       "        dtype=<class 'numpy.float64'>, encoding='utf-8', input='content',\n",
       "        lowercase=True, max_df=0.95, max_features=1500, min_df=2,\n",
       "        ngram_range=(1, 2), norm='l2', preprocessor=None, smooth_idf=Tru....001, verbose=False))],\n",
       "         flatten_transform=None, n_jobs=None, voting='hard', weights=None))])"
      ]
     },
     "execution_count": 39,
     "metadata": {},
     "output_type": "execute_result"
    }
   ],
   "source": [
    "pipe1.fit(X_train, y_train)"
   ]
  },
  {
   "cell_type": "code",
   "execution_count": 40,
   "metadata": {
    "scrolled": true
   },
   "outputs": [
    {
     "name": "stdout",
     "output_type": "stream",
     "text": [
      "train score 0.9129438717067583\n",
      "test score 0.7253333333333334\n"
     ]
    }
   ],
   "source": [
    "print('train score', pipe1.score(X_train, y_train))\n",
    "print('test score', pipe1.score(X_test, y_test))"
   ]
  },
  {
   "cell_type": "code",
   "execution_count": 41,
   "metadata": {},
   "outputs": [],
   "source": [
    "#make prediction \n",
    "predict = pipe1.predict(X_train)"
   ]
  },
  {
   "cell_type": "code",
   "execution_count": 42,
   "metadata": {},
   "outputs": [],
   "source": [
    "#make test prediction \n",
    "test_prediction = pipe1.predict(X_test)"
   ]
  },
  {
   "cell_type": "markdown",
   "metadata": {},
   "source": [
    "## Model1 Evaluation "
   ]
  },
  {
   "cell_type": "markdown",
   "metadata": {},
   "source": [
    "### Train Confusion Matrix "
   ]
  },
  {
   "cell_type": "code",
   "execution_count": 43,
   "metadata": {},
   "outputs": [],
   "source": [
    "from sklearn.metrics import confusion_matrix"
   ]
  },
  {
   "cell_type": "code",
   "execution_count": 44,
   "metadata": {
    "scrolled": true
   },
   "outputs": [
    {
     "data": {
      "text/plain": [
       "array([[293,  74],\n",
       "       [  2, 504]])"
      ]
     },
     "execution_count": 44,
     "metadata": {},
     "output_type": "execute_result"
    }
   ],
   "source": [
    "confusion_matrix(y_true= y_train, y_pred= predict)"
   ]
  },
  {
   "cell_type": "code",
   "execution_count": 45,
   "metadata": {},
   "outputs": [
    {
     "data": {
      "text/plain": [
       "(293, 74, 2, 504)"
      ]
     },
     "execution_count": 45,
     "metadata": {},
     "output_type": "execute_result"
    }
   ],
   "source": [
    "tn, fp, fn, tp = confusion_matrix(y_true= y_train, y_pred= predict).ravel()\n",
    "(tn, fp, fn, tp)"
   ]
  },
  {
   "cell_type": "code",
   "execution_count": 46,
   "metadata": {},
   "outputs": [
    {
     "data": {
      "text/plain": [
       "0.8719723183391004"
      ]
     },
     "execution_count": 46,
     "metadata": {},
     "output_type": "execute_result"
    }
   ],
   "source": [
    "#precision \n",
    "tp/(tp+fp)"
   ]
  },
  {
   "cell_type": "code",
   "execution_count": 47,
   "metadata": {
    "scrolled": true
   },
   "outputs": [
    {
     "data": {
      "text/plain": [
       "0.8972062767229217"
      ]
     },
     "execution_count": 47,
     "metadata": {},
     "output_type": "execute_result"
    }
   ],
   "source": [
    "from sklearn.metrics import roc_auc_score\n",
    "roc_auc_score(y_train, predict)"
   ]
  },
  {
   "cell_type": "markdown",
   "metadata": {},
   "source": [
    "### Test Confusion Matrix "
   ]
  },
  {
   "cell_type": "code",
   "execution_count": 48,
   "metadata": {
    "scrolled": true
   },
   "outputs": [
    {
     "data": {
      "text/plain": [
       "array([[ 75,  83],\n",
       "       [ 20, 197]])"
      ]
     },
     "execution_count": 48,
     "metadata": {},
     "output_type": "execute_result"
    }
   ],
   "source": [
    "confusion_matrix(y_true= y_test, y_pred= test_prediction)"
   ]
  },
  {
   "cell_type": "code",
   "execution_count": 49,
   "metadata": {},
   "outputs": [
    {
     "data": {
      "text/plain": [
       "(75, 83, 20, 197)"
      ]
     },
     "execution_count": 49,
     "metadata": {},
     "output_type": "execute_result"
    }
   ],
   "source": [
    "tn, fp, fn, tp = confusion_matrix(y_true= y_test, y_pred= test_prediction).ravel()\n",
    "(tn, fp, fn, tp)"
   ]
  },
  {
   "cell_type": "code",
   "execution_count": 50,
   "metadata": {},
   "outputs": [
    {
     "data": {
      "text/plain": [
       "0.7035714285714286"
      ]
     },
     "execution_count": 50,
     "metadata": {},
     "output_type": "execute_result"
    }
   ],
   "source": [
    "#precision \n",
    "tp/(tp+fp)"
   ]
  },
  {
   "cell_type": "code",
   "execution_count": 116,
   "metadata": {},
   "outputs": [
    {
     "data": {
      "text/plain": [
       "0.7253333333333334"
      ]
     },
     "execution_count": 116,
     "metadata": {},
     "output_type": "execute_result"
    }
   ],
   "source": [
    "(75+197)/(75+83+20+197)"
   ]
  },
  {
   "cell_type": "code",
   "execution_count": 51,
   "metadata": {
    "scrolled": true
   },
   "outputs": [
    {
     "data": {
      "text/plain": [
       "0.6912588228431429"
      ]
     },
     "execution_count": 51,
     "metadata": {},
     "output_type": "execute_result"
    }
   ],
   "source": [
    "from sklearn.metrics import roc_auc_score\n",
    "roc_auc_score(y_test, test_prediction)"
   ]
  },
  {
   "cell_type": "markdown",
   "metadata": {},
   "source": [
    "## Extracting Keywords Coefficients "
   ]
  },
  {
   "cell_type": "code",
   "execution_count": 52,
   "metadata": {
    "scrolled": false
   },
   "outputs": [
    {
     "data": {
      "text/plain": [
       "[MultinomialNB(alpha=1.0, class_prior=None, fit_prior=True),\n",
       " LogisticRegression(C=1.0, class_weight=None, dual=False, fit_intercept=True,\n",
       "           intercept_scaling=1, max_iter=100, multi_class='warn',\n",
       "           n_jobs=None, penalty='l2', random_state=None, solver='warn',\n",
       "           tol=0.0001, verbose=0, warm_start=False),\n",
       " RandomForestClassifier(bootstrap=True, class_weight=None, criterion='gini',\n",
       "             max_depth=100, max_features='auto', max_leaf_nodes=None,\n",
       "             min_impurity_decrease=0.0, min_impurity_split=None,\n",
       "             min_samples_leaf=2, min_samples_split=2,\n",
       "             min_weight_fraction_leaf=0.0, n_estimators=100, n_jobs=None,\n",
       "             oob_score=False, random_state=None, verbose=0,\n",
       "             warm_start=False),\n",
       " ExtraTreesClassifier(bootstrap=False, class_weight=None, criterion='gini',\n",
       "            max_depth=50, max_features='auto', max_leaf_nodes=None,\n",
       "            min_impurity_decrease=0.0, min_impurity_split=None,\n",
       "            min_samples_leaf=2, min_samples_split=2,\n",
       "            min_weight_fraction_leaf=0.0, n_estimators=100, n_jobs=None,\n",
       "            oob_score=False, random_state=None, verbose=0, warm_start=False),\n",
       " AdaBoostClassifier(algorithm='SAMME.R',\n",
       "           base_estimator=DecisionTreeClassifier(class_weight=None, criterion='gini', max_depth=50,\n",
       "             max_features=None, max_leaf_nodes=None,\n",
       "             min_impurity_decrease=0.0, min_impurity_split=None,\n",
       "             min_samples_leaf=1, min_samples_split=2,\n",
       "             min_weight_fraction_leaf=0.0, presort=False, random_state=None,\n",
       "             splitter='best'),\n",
       "           learning_rate=1.0, n_estimators=200, random_state=None),\n",
       " SVC(C=1.5, cache_size=200, class_weight=None, coef0=0.0,\n",
       "   decision_function_shape='ovr', degree=3, gamma='auto_deprecated',\n",
       "   kernel='rbf', max_iter=-1, probability=False, random_state=None,\n",
       "   shrinking=True, tol=0.001, verbose=False)]"
      ]
     },
     "execution_count": 52,
     "metadata": {},
     "output_type": "execute_result"
    }
   ],
   "source": [
    "pipe1.named_steps['vc'].estimators_"
   ]
  },
  {
   "cell_type": "code",
   "execution_count": 53,
   "metadata": {},
   "outputs": [],
   "source": [
    "mnb_coef = pipe1.named_steps['vc'].estimators_[0].coef_[0]\n",
    "\n",
    "#saving logistic coefficient \n",
    "logit_coef = pipe1.named_steps['vc'].estimators_[1].coef_[0]"
   ]
  },
  {
   "cell_type": "code",
   "execution_count": 54,
   "metadata": {
    "scrolled": false
   },
   "outputs": [
    {
     "data": {
      "text/plain": [
       "1500"
      ]
     },
     "execution_count": 54,
     "metadata": {},
     "output_type": "execute_result"
    }
   ],
   "source": [
    "#get column names \n",
    "tfidf = TfidfVectorizer(max_df= 0.95, \n",
    "                       max_features= 1500, \n",
    "                       min_df= 2, \n",
    "                       ngram_range= (1,2))\n",
    "X_train_tfidf = tfidf.fit_transform(X_train)\n",
    "\n",
    "#Saving column name\n",
    "col_name = tfidf.get_feature_names()\n",
    "len(col_name)"
   ]
  },
  {
   "cell_type": "code",
   "execution_count": 55,
   "metadata": {
    "scrolled": true
   },
   "outputs": [
    {
     "data": {
      "text/plain": [
       "array([[0.        , 0.        , 0.        , ..., 0.        , 0.47603964,\n",
       "        0.        ],\n",
       "       [0.        , 0.        , 0.05049294, ..., 0.        , 0.        ,\n",
       "        0.        ],\n",
       "       [0.        , 0.        , 0.        , ..., 0.        , 0.        ,\n",
       "        0.        ],\n",
       "       ...,\n",
       "       [0.        , 0.        , 0.15711342, ..., 0.        , 0.        ,\n",
       "        0.        ],\n",
       "       [0.        , 0.        , 0.        , ..., 0.        , 0.        ,\n",
       "        0.        ],\n",
       "       [0.        , 0.        , 0.        , ..., 0.        , 0.        ,\n",
       "        0.        ]])"
      ]
     },
     "execution_count": 55,
     "metadata": {},
     "output_type": "execute_result"
    }
   ],
   "source": [
    "#Transforming Data to array\n",
    "X_train_tfidf.toarray()"
   ]
  },
  {
   "cell_type": "code",
   "execution_count": 56,
   "metadata": {
    "scrolled": true
   },
   "outputs": [
    {
     "data": {
      "text/html": [
       "<div>\n",
       "<style scoped>\n",
       "    .dataframe tbody tr th:only-of-type {\n",
       "        vertical-align: middle;\n",
       "    }\n",
       "\n",
       "    .dataframe tbody tr th {\n",
       "        vertical-align: top;\n",
       "    }\n",
       "\n",
       "    .dataframe thead th {\n",
       "        text-align: right;\n",
       "    }\n",
       "</style>\n",
       "<table border=\"1\" class=\"dataframe\">\n",
       "  <thead>\n",
       "    <tr style=\"text-align: right;\">\n",
       "      <th></th>\n",
       "      <th>Subreddit</th>\n",
       "      <th>able</th>\n",
       "      <th>able to</th>\n",
       "      <th>about</th>\n",
       "      <th>about how</th>\n",
       "      <th>about it</th>\n",
       "      <th>about the</th>\n",
       "      <th>about this</th>\n",
       "      <th>about what</th>\n",
       "      <th>about your</th>\n",
       "      <th>...</th>\n",
       "      <th>your opinion</th>\n",
       "      <th>your parents</th>\n",
       "      <th>your partner</th>\n",
       "      <th>your period</th>\n",
       "      <th>your personal</th>\n",
       "      <th>your so</th>\n",
       "      <th>your story</th>\n",
       "      <th>your thoughts</th>\n",
       "      <th>yourself</th>\n",
       "      <th>youtube</th>\n",
       "    </tr>\n",
       "  </thead>\n",
       "  <tbody>\n",
       "    <tr>\n",
       "      <th>0</th>\n",
       "      <td>0</td>\n",
       "      <td>0.0</td>\n",
       "      <td>0.0</td>\n",
       "      <td>0.000000</td>\n",
       "      <td>0.0</td>\n",
       "      <td>0.0</td>\n",
       "      <td>0.0</td>\n",
       "      <td>0.0</td>\n",
       "      <td>0.0</td>\n",
       "      <td>0.0</td>\n",
       "      <td>...</td>\n",
       "      <td>0.0</td>\n",
       "      <td>0.0</td>\n",
       "      <td>0.0</td>\n",
       "      <td>0.0</td>\n",
       "      <td>0.0</td>\n",
       "      <td>0.000000</td>\n",
       "      <td>0.0</td>\n",
       "      <td>0.0</td>\n",
       "      <td>0.47604</td>\n",
       "      <td>0.0</td>\n",
       "    </tr>\n",
       "    <tr>\n",
       "      <th>1</th>\n",
       "      <td>0</td>\n",
       "      <td>0.0</td>\n",
       "      <td>0.0</td>\n",
       "      <td>0.050493</td>\n",
       "      <td>0.0</td>\n",
       "      <td>0.0</td>\n",
       "      <td>0.0</td>\n",
       "      <td>0.0</td>\n",
       "      <td>0.0</td>\n",
       "      <td>0.0</td>\n",
       "      <td>...</td>\n",
       "      <td>0.0</td>\n",
       "      <td>0.0</td>\n",
       "      <td>0.0</td>\n",
       "      <td>0.0</td>\n",
       "      <td>0.0</td>\n",
       "      <td>0.000000</td>\n",
       "      <td>0.0</td>\n",
       "      <td>0.0</td>\n",
       "      <td>0.00000</td>\n",
       "      <td>0.0</td>\n",
       "    </tr>\n",
       "    <tr>\n",
       "      <th>2</th>\n",
       "      <td>0</td>\n",
       "      <td>0.0</td>\n",
       "      <td>0.0</td>\n",
       "      <td>0.000000</td>\n",
       "      <td>0.0</td>\n",
       "      <td>0.0</td>\n",
       "      <td>0.0</td>\n",
       "      <td>0.0</td>\n",
       "      <td>0.0</td>\n",
       "      <td>0.0</td>\n",
       "      <td>...</td>\n",
       "      <td>0.0</td>\n",
       "      <td>0.0</td>\n",
       "      <td>0.0</td>\n",
       "      <td>0.0</td>\n",
       "      <td>0.0</td>\n",
       "      <td>0.000000</td>\n",
       "      <td>0.0</td>\n",
       "      <td>0.0</td>\n",
       "      <td>0.00000</td>\n",
       "      <td>0.0</td>\n",
       "    </tr>\n",
       "    <tr>\n",
       "      <th>3</th>\n",
       "      <td>0</td>\n",
       "      <td>0.0</td>\n",
       "      <td>0.0</td>\n",
       "      <td>0.000000</td>\n",
       "      <td>0.0</td>\n",
       "      <td>0.0</td>\n",
       "      <td>0.0</td>\n",
       "      <td>0.0</td>\n",
       "      <td>0.0</td>\n",
       "      <td>0.0</td>\n",
       "      <td>...</td>\n",
       "      <td>0.0</td>\n",
       "      <td>0.0</td>\n",
       "      <td>0.0</td>\n",
       "      <td>0.0</td>\n",
       "      <td>0.0</td>\n",
       "      <td>0.000000</td>\n",
       "      <td>0.0</td>\n",
       "      <td>0.0</td>\n",
       "      <td>0.00000</td>\n",
       "      <td>0.0</td>\n",
       "    </tr>\n",
       "    <tr>\n",
       "      <th>4</th>\n",
       "      <td>0</td>\n",
       "      <td>0.0</td>\n",
       "      <td>0.0</td>\n",
       "      <td>0.000000</td>\n",
       "      <td>0.0</td>\n",
       "      <td>0.0</td>\n",
       "      <td>0.0</td>\n",
       "      <td>0.0</td>\n",
       "      <td>0.0</td>\n",
       "      <td>0.0</td>\n",
       "      <td>...</td>\n",
       "      <td>0.0</td>\n",
       "      <td>0.0</td>\n",
       "      <td>0.0</td>\n",
       "      <td>0.0</td>\n",
       "      <td>0.0</td>\n",
       "      <td>0.169062</td>\n",
       "      <td>0.0</td>\n",
       "      <td>0.0</td>\n",
       "      <td>0.00000</td>\n",
       "      <td>0.0</td>\n",
       "    </tr>\n",
       "  </tbody>\n",
       "</table>\n",
       "<p>5 rows × 1501 columns</p>\n",
       "</div>"
      ],
      "text/plain": [
       "   Subreddit  able  able to     about  about how  about it  about the  \\\n",
       "0          0   0.0      0.0  0.000000        0.0       0.0        0.0   \n",
       "1          0   0.0      0.0  0.050493        0.0       0.0        0.0   \n",
       "2          0   0.0      0.0  0.000000        0.0       0.0        0.0   \n",
       "3          0   0.0      0.0  0.000000        0.0       0.0        0.0   \n",
       "4          0   0.0      0.0  0.000000        0.0       0.0        0.0   \n",
       "\n",
       "   about this  about what  about your  ...  your opinion  your parents  \\\n",
       "0         0.0         0.0         0.0  ...           0.0           0.0   \n",
       "1         0.0         0.0         0.0  ...           0.0           0.0   \n",
       "2         0.0         0.0         0.0  ...           0.0           0.0   \n",
       "3         0.0         0.0         0.0  ...           0.0           0.0   \n",
       "4         0.0         0.0         0.0  ...           0.0           0.0   \n",
       "\n",
       "   your partner  your period  your personal   your so  your story  \\\n",
       "0           0.0          0.0            0.0  0.000000         0.0   \n",
       "1           0.0          0.0            0.0  0.000000         0.0   \n",
       "2           0.0          0.0            0.0  0.000000         0.0   \n",
       "3           0.0          0.0            0.0  0.000000         0.0   \n",
       "4           0.0          0.0            0.0  0.169062         0.0   \n",
       "\n",
       "   your thoughts  yourself  youtube  \n",
       "0            0.0   0.47604      0.0  \n",
       "1            0.0   0.00000      0.0  \n",
       "2            0.0   0.00000      0.0  \n",
       "3            0.0   0.00000      0.0  \n",
       "4            0.0   0.00000      0.0  \n",
       "\n",
       "[5 rows x 1501 columns]"
      ]
     },
     "execution_count": 56,
     "metadata": {},
     "output_type": "execute_result"
    }
   ],
   "source": [
    "#turining counts into dataframe\n",
    "word_count = pd.DataFrame(X_train_tfidf.toarray(), \n",
    "                       columns= col_name)\n",
    "\n",
    "word_count.insert(0, 'Subreddit', y)\n",
    "word_count.head()"
   ]
  },
  {
   "cell_type": "code",
   "execution_count": 57,
   "metadata": {},
   "outputs": [],
   "source": [
    "#Building relationship word dataframe \n",
    "word_count = word_count.groupby('Subreddit').sum().T"
   ]
  },
  {
   "cell_type": "code",
   "execution_count": 58,
   "metadata": {},
   "outputs": [
    {
     "data": {
      "text/html": [
       "<div>\n",
       "<style scoped>\n",
       "    .dataframe tbody tr th:only-of-type {\n",
       "        vertical-align: middle;\n",
       "    }\n",
       "\n",
       "    .dataframe tbody tr th {\n",
       "        vertical-align: top;\n",
       "    }\n",
       "\n",
       "    .dataframe thead th {\n",
       "        text-align: right;\n",
       "    }\n",
       "</style>\n",
       "<table border=\"1\" class=\"dataframe\">\n",
       "  <thead>\n",
       "    <tr style=\"text-align: right;\">\n",
       "      <th>Subreddit</th>\n",
       "      <th>0</th>\n",
       "      <th>1</th>\n",
       "    </tr>\n",
       "  </thead>\n",
       "  <tbody>\n",
       "    <tr>\n",
       "      <th>able</th>\n",
       "      <td>1.126506</td>\n",
       "      <td>0.798880</td>\n",
       "    </tr>\n",
       "    <tr>\n",
       "      <th>able to</th>\n",
       "      <td>0.800866</td>\n",
       "      <td>0.756425</td>\n",
       "    </tr>\n",
       "    <tr>\n",
       "      <th>about</th>\n",
       "      <td>10.052586</td>\n",
       "      <td>7.193681</td>\n",
       "    </tr>\n",
       "    <tr>\n",
       "      <th>about how</th>\n",
       "      <td>0.446309</td>\n",
       "      <td>0.306689</td>\n",
       "    </tr>\n",
       "    <tr>\n",
       "      <th>about it</th>\n",
       "      <td>2.633626</td>\n",
       "      <td>0.877030</td>\n",
       "    </tr>\n",
       "  </tbody>\n",
       "</table>\n",
       "</div>"
      ],
      "text/plain": [
       "Subreddit          0         1\n",
       "able        1.126506  0.798880\n",
       "able to     0.800866  0.756425\n",
       "about      10.052586  7.193681\n",
       "about how   0.446309  0.306689\n",
       "about it    2.633626  0.877030"
      ]
     },
     "execution_count": 58,
     "metadata": {},
     "output_type": "execute_result"
    }
   ],
   "source": [
    "word_count.head()"
   ]
  },
  {
   "cell_type": "code",
   "execution_count": 59,
   "metadata": {
    "scrolled": true
   },
   "outputs": [
    {
     "data": {
      "text/html": [
       "<div>\n",
       "<style scoped>\n",
       "    .dataframe tbody tr th:only-of-type {\n",
       "        vertical-align: middle;\n",
       "    }\n",
       "\n",
       "    .dataframe tbody tr th {\n",
       "        vertical-align: top;\n",
       "    }\n",
       "\n",
       "    .dataframe thead th {\n",
       "        text-align: right;\n",
       "    }\n",
       "</style>\n",
       "<table border=\"1\" class=\"dataframe\">\n",
       "  <thead>\n",
       "    <tr style=\"text-align: right;\">\n",
       "      <th></th>\n",
       "      <th>AskMen</th>\n",
       "      <th>AskWomen</th>\n",
       "    </tr>\n",
       "  </thead>\n",
       "  <tbody>\n",
       "    <tr>\n",
       "      <th>able</th>\n",
       "      <td>1.126506</td>\n",
       "      <td>0.798880</td>\n",
       "    </tr>\n",
       "    <tr>\n",
       "      <th>able to</th>\n",
       "      <td>0.800866</td>\n",
       "      <td>0.756425</td>\n",
       "    </tr>\n",
       "    <tr>\n",
       "      <th>about</th>\n",
       "      <td>10.052586</td>\n",
       "      <td>7.193681</td>\n",
       "    </tr>\n",
       "    <tr>\n",
       "      <th>about how</th>\n",
       "      <td>0.446309</td>\n",
       "      <td>0.306689</td>\n",
       "    </tr>\n",
       "    <tr>\n",
       "      <th>about it</th>\n",
       "      <td>2.633626</td>\n",
       "      <td>0.877030</td>\n",
       "    </tr>\n",
       "  </tbody>\n",
       "</table>\n",
       "</div>"
      ],
      "text/plain": [
       "              AskMen  AskWomen\n",
       "able        1.126506  0.798880\n",
       "able to     0.800866  0.756425\n",
       "about      10.052586  7.193681\n",
       "about how   0.446309  0.306689\n",
       "about it    2.633626  0.877030"
      ]
     },
     "execution_count": 59,
     "metadata": {},
     "output_type": "execute_result"
    }
   ],
   "source": [
    "word_count.columns = [\"AskMen\", \"AskWomen\"]\n",
    "word_count.to_csv('../data/AskMen0AskWomen1wordcount.csv')\n",
    "word_count.head()"
   ]
  },
  {
   "cell_type": "code",
   "execution_count": 60,
   "metadata": {},
   "outputs": [
    {
     "data": {
      "text/html": [
       "<div>\n",
       "<style scoped>\n",
       "    .dataframe tbody tr th:only-of-type {\n",
       "        vertical-align: middle;\n",
       "    }\n",
       "\n",
       "    .dataframe tbody tr th {\n",
       "        vertical-align: top;\n",
       "    }\n",
       "\n",
       "    .dataframe thead th {\n",
       "        text-align: right;\n",
       "    }\n",
       "</style>\n",
       "<table border=\"1\" class=\"dataframe\">\n",
       "  <thead>\n",
       "    <tr style=\"text-align: right;\">\n",
       "      <th></th>\n",
       "      <th>nb_coef</th>\n",
       "      <th>logit_coef</th>\n",
       "    </tr>\n",
       "  </thead>\n",
       "  <tbody>\n",
       "    <tr>\n",
       "      <th>able</th>\n",
       "      <td>-7.643602</td>\n",
       "      <td>-0.079644</td>\n",
       "    </tr>\n",
       "    <tr>\n",
       "      <th>able to</th>\n",
       "      <td>-7.863674</td>\n",
       "      <td>-0.215020</td>\n",
       "    </tr>\n",
       "    <tr>\n",
       "      <th>about</th>\n",
       "      <td>-5.841216</td>\n",
       "      <td>-0.011452</td>\n",
       "    </tr>\n",
       "    <tr>\n",
       "      <th>about how</th>\n",
       "      <td>-7.959144</td>\n",
       "      <td>-0.012687</td>\n",
       "    </tr>\n",
       "    <tr>\n",
       "      <th>about it</th>\n",
       "      <td>-7.171521</td>\n",
       "      <td>-0.140483</td>\n",
       "    </tr>\n",
       "  </tbody>\n",
       "</table>\n",
       "</div>"
      ],
      "text/plain": [
       "            nb_coef  logit_coef\n",
       "able      -7.643602   -0.079644\n",
       "able to   -7.863674   -0.215020\n",
       "about     -5.841216   -0.011452\n",
       "about how -7.959144   -0.012687\n",
       "about it  -7.171521   -0.140483"
      ]
     },
     "execution_count": 60,
     "metadata": {},
     "output_type": "execute_result"
    }
   ],
   "source": [
    "menwomen_word = pd.DataFrame(data= [mnb_coef, logit_coef], columns= col_name, index= ['nb_coef', 'logit_coef'])\n",
    "menwomen_word = menwomen_word.T\n",
    "menwomen_word.to_csv('../data/AskMen0AskWomen1wordcoeff.csv')\n",
    "menwomen_word.head()"
   ]
  },
  {
   "cell_type": "code",
   "execution_count": 61,
   "metadata": {},
   "outputs": [],
   "source": [
    "menwomen_word.index.name = 'target'"
   ]
  },
  {
   "cell_type": "markdown",
   "metadata": {},
   "source": [
    "## Words EDA "
   ]
  },
  {
   "cell_type": "code",
   "execution_count": 62,
   "metadata": {},
   "outputs": [
    {
     "data": {
      "text/html": [
       "<div>\n",
       "<style scoped>\n",
       "    .dataframe tbody tr th:only-of-type {\n",
       "        vertical-align: middle;\n",
       "    }\n",
       "\n",
       "    .dataframe tbody tr th {\n",
       "        vertical-align: top;\n",
       "    }\n",
       "\n",
       "    .dataframe thead th {\n",
       "        text-align: right;\n",
       "    }\n",
       "</style>\n",
       "<table border=\"1\" class=\"dataframe\">\n",
       "  <thead>\n",
       "    <tr style=\"text-align: right;\">\n",
       "      <th></th>\n",
       "      <th>nb_coef</th>\n",
       "      <th>logit_coef</th>\n",
       "    </tr>\n",
       "  </thead>\n",
       "  <tbody>\n",
       "    <tr>\n",
       "      <th>count</th>\n",
       "      <td>1500.000000</td>\n",
       "      <td>1500.000000</td>\n",
       "    </tr>\n",
       "    <tr>\n",
       "      <th>mean</th>\n",
       "      <td>-7.532928</td>\n",
       "      <td>-0.051024</td>\n",
       "    </tr>\n",
       "    <tr>\n",
       "      <th>std</th>\n",
       "      <td>0.555139</td>\n",
       "      <td>0.283544</td>\n",
       "    </tr>\n",
       "    <tr>\n",
       "      <th>min</th>\n",
       "      <td>-8.179097</td>\n",
       "      <td>-2.685943</td>\n",
       "    </tr>\n",
       "    <tr>\n",
       "      <th>25%</th>\n",
       "      <td>-7.914549</td>\n",
       "      <td>-0.186547</td>\n",
       "    </tr>\n",
       "    <tr>\n",
       "      <th>50%</th>\n",
       "      <td>-7.645499</td>\n",
       "      <td>-0.035760</td>\n",
       "    </tr>\n",
       "    <tr>\n",
       "      <th>75%</th>\n",
       "      <td>-7.328544</td>\n",
       "      <td>0.096281</td>\n",
       "    </tr>\n",
       "    <tr>\n",
       "      <th>max</th>\n",
       "      <td>-4.382095</td>\n",
       "      <td>1.627263</td>\n",
       "    </tr>\n",
       "  </tbody>\n",
       "</table>\n",
       "</div>"
      ],
      "text/plain": [
       "           nb_coef   logit_coef\n",
       "count  1500.000000  1500.000000\n",
       "mean     -7.532928    -0.051024\n",
       "std       0.555139     0.283544\n",
       "min      -8.179097    -2.685943\n",
       "25%      -7.914549    -0.186547\n",
       "50%      -7.645499    -0.035760\n",
       "75%      -7.328544     0.096281\n",
       "max      -4.382095     1.627263"
      ]
     },
     "execution_count": 62,
     "metadata": {},
     "output_type": "execute_result"
    }
   ],
   "source": [
    "menwomen_word.describe()"
   ]
  },
  {
   "cell_type": "code",
   "execution_count": 63,
   "metadata": {
    "scrolled": false
   },
   "outputs": [
    {
     "data": {
      "text/html": [
       "<div>\n",
       "<style scoped>\n",
       "    .dataframe tbody tr th:only-of-type {\n",
       "        vertical-align: middle;\n",
       "    }\n",
       "\n",
       "    .dataframe tbody tr th {\n",
       "        vertical-align: top;\n",
       "    }\n",
       "\n",
       "    .dataframe thead th {\n",
       "        text-align: right;\n",
       "    }\n",
       "</style>\n",
       "<table border=\"1\" class=\"dataframe\">\n",
       "  <thead>\n",
       "    <tr style=\"text-align: right;\">\n",
       "      <th></th>\n",
       "      <th>nb_coef</th>\n",
       "      <th>logit_coef</th>\n",
       "    </tr>\n",
       "    <tr>\n",
       "      <th>target</th>\n",
       "      <th></th>\n",
       "      <th></th>\n",
       "    </tr>\n",
       "  </thead>\n",
       "  <tbody>\n",
       "    <tr>\n",
       "      <th>guys who</th>\n",
       "      <td>-8.179097</td>\n",
       "      <td>-0.790965</td>\n",
       "    </tr>\n",
       "    <tr>\n",
       "      <th>for it</th>\n",
       "      <td>-8.179097</td>\n",
       "      <td>-0.088054</td>\n",
       "    </tr>\n",
       "    <tr>\n",
       "      <th>ask her</th>\n",
       "      <td>-8.179097</td>\n",
       "      <td>-0.059461</td>\n",
       "    </tr>\n",
       "    <tr>\n",
       "      <th>class</th>\n",
       "      <td>-8.179097</td>\n",
       "      <td>-0.131403</td>\n",
       "    </tr>\n",
       "    <tr>\n",
       "      <th>he is</th>\n",
       "      <td>-8.179097</td>\n",
       "      <td>-0.102100</td>\n",
       "    </tr>\n",
       "    <tr>\n",
       "      <th>whenever</th>\n",
       "      <td>-8.179097</td>\n",
       "      <td>-0.266105</td>\n",
       "    </tr>\n",
       "    <tr>\n",
       "      <th>gf</th>\n",
       "      <td>-8.179097</td>\n",
       "      <td>-0.519240</td>\n",
       "    </tr>\n",
       "    <tr>\n",
       "      <th>head</th>\n",
       "      <td>-8.179097</td>\n",
       "      <td>-0.496253</td>\n",
       "    </tr>\n",
       "    <tr>\n",
       "      <th>men of</th>\n",
       "      <td>-8.179097</td>\n",
       "      <td>-0.885945</td>\n",
       "    </tr>\n",
       "    <tr>\n",
       "      <th>father</th>\n",
       "      <td>-8.179097</td>\n",
       "      <td>-0.131840</td>\n",
       "    </tr>\n",
       "    <tr>\n",
       "      <th>close</th>\n",
       "      <td>-8.179097</td>\n",
       "      <td>-0.273343</td>\n",
       "    </tr>\n",
       "    <tr>\n",
       "      <th>fact that</th>\n",
       "      <td>-8.179097</td>\n",
       "      <td>-0.311705</td>\n",
       "    </tr>\n",
       "    <tr>\n",
       "      <th>heart</th>\n",
       "      <td>-8.179097</td>\n",
       "      <td>-0.213914</td>\n",
       "    </tr>\n",
       "    <tr>\n",
       "      <th>hello</th>\n",
       "      <td>-8.179097</td>\n",
       "      <td>-0.151142</td>\n",
       "    </tr>\n",
       "    <tr>\n",
       "      <th>help</th>\n",
       "      <td>-8.179097</td>\n",
       "      <td>-0.904422</td>\n",
       "    </tr>\n",
       "    <tr>\n",
       "      <th>fact</th>\n",
       "      <td>-8.179097</td>\n",
       "      <td>-0.378340</td>\n",
       "    </tr>\n",
       "    <tr>\n",
       "      <th>seems like</th>\n",
       "      <td>-8.179097</td>\n",
       "      <td>-0.163456</td>\n",
       "    </tr>\n",
       "    <tr>\n",
       "      <th>friday</th>\n",
       "      <td>-8.179097</td>\n",
       "      <td>-0.073069</td>\n",
       "    </tr>\n",
       "    <tr>\n",
       "      <th>her and</th>\n",
       "      <td>-8.179097</td>\n",
       "      <td>-0.139453</td>\n",
       "    </tr>\n",
       "    <tr>\n",
       "      <th>told me</th>\n",
       "      <td>-8.179097</td>\n",
       "      <td>-0.148436</td>\n",
       "    </tr>\n",
       "  </tbody>\n",
       "</table>\n",
       "</div>"
      ],
      "text/plain": [
       "             nb_coef  logit_coef\n",
       "target                          \n",
       "guys who   -8.179097   -0.790965\n",
       "for it     -8.179097   -0.088054\n",
       "ask her    -8.179097   -0.059461\n",
       "class      -8.179097   -0.131403\n",
       "he is      -8.179097   -0.102100\n",
       "whenever   -8.179097   -0.266105\n",
       "gf         -8.179097   -0.519240\n",
       "head       -8.179097   -0.496253\n",
       "men of     -8.179097   -0.885945\n",
       "father     -8.179097   -0.131840\n",
       "close      -8.179097   -0.273343\n",
       "fact that  -8.179097   -0.311705\n",
       "heart      -8.179097   -0.213914\n",
       "hello      -8.179097   -0.151142\n",
       "help       -8.179097   -0.904422\n",
       "fact       -8.179097   -0.378340\n",
       "seems like -8.179097   -0.163456\n",
       "friday     -8.179097   -0.073069\n",
       "her and    -8.179097   -0.139453\n",
       "told me    -8.179097   -0.148436"
      ]
     },
     "execution_count": 63,
     "metadata": {},
     "output_type": "execute_result"
    }
   ],
   "source": [
    "menwomen_word.sort_values(by = 'nb_coef', ascending = True).head(20)"
   ]
  },
  {
   "cell_type": "code",
   "execution_count": 64,
   "metadata": {
    "scrolled": false
   },
   "outputs": [
    {
     "data": {
      "text/html": [
       "<div>\n",
       "<style scoped>\n",
       "    .dataframe tbody tr th:only-of-type {\n",
       "        vertical-align: middle;\n",
       "    }\n",
       "\n",
       "    .dataframe tbody tr th {\n",
       "        vertical-align: top;\n",
       "    }\n",
       "\n",
       "    .dataframe thead th {\n",
       "        text-align: right;\n",
       "    }\n",
       "</style>\n",
       "<table border=\"1\" class=\"dataframe\">\n",
       "  <thead>\n",
       "    <tr style=\"text-align: right;\">\n",
       "      <th></th>\n",
       "      <th>nb_coef</th>\n",
       "      <th>logit_coef</th>\n",
       "    </tr>\n",
       "    <tr>\n",
       "      <th>target</th>\n",
       "      <th></th>\n",
       "      <th></th>\n",
       "    </tr>\n",
       "  </thead>\n",
       "  <tbody>\n",
       "    <tr>\n",
       "      <th>ladies</th>\n",
       "      <td>-6.039852</td>\n",
       "      <td>1.627263</td>\n",
       "    </tr>\n",
       "    <tr>\n",
       "      <th>women</th>\n",
       "      <td>-5.870884</td>\n",
       "      <td>1.286027</td>\n",
       "    </tr>\n",
       "    <tr>\n",
       "      <th>your</th>\n",
       "      <td>-4.771480</td>\n",
       "      <td>1.163422</td>\n",
       "    </tr>\n",
       "    <tr>\n",
       "      <th>you have</th>\n",
       "      <td>-6.111311</td>\n",
       "      <td>1.104103</td>\n",
       "    </tr>\n",
       "    <tr>\n",
       "      <th>what</th>\n",
       "      <td>-4.635956</td>\n",
       "      <td>0.988478</td>\n",
       "    </tr>\n",
       "    <tr>\n",
       "      <th>do you</th>\n",
       "      <td>-5.090199</td>\n",
       "      <td>0.896632</td>\n",
       "    </tr>\n",
       "    <tr>\n",
       "      <th>you</th>\n",
       "      <td>-4.382095</td>\n",
       "      <td>0.890905</td>\n",
       "    </tr>\n",
       "    <tr>\n",
       "      <th>women who</th>\n",
       "      <td>-6.671499</td>\n",
       "      <td>0.820473</td>\n",
       "    </tr>\n",
       "    <tr>\n",
       "      <th>as</th>\n",
       "      <td>-6.193797</td>\n",
       "      <td>0.758852</td>\n",
       "    </tr>\n",
       "    <tr>\n",
       "      <th>people</th>\n",
       "      <td>-6.283569</td>\n",
       "      <td>0.728867</td>\n",
       "    </tr>\n",
       "    <tr>\n",
       "      <th>experience</th>\n",
       "      <td>-6.340374</td>\n",
       "      <td>0.716907</td>\n",
       "    </tr>\n",
       "    <tr>\n",
       "      <th>etc</th>\n",
       "      <td>-6.586746</td>\n",
       "      <td>0.692541</td>\n",
       "    </tr>\n",
       "    <tr>\n",
       "      <th>ladies who</th>\n",
       "      <td>-6.848480</td>\n",
       "      <td>0.692492</td>\n",
       "    </tr>\n",
       "    <tr>\n",
       "      <th>bad</th>\n",
       "      <td>-6.611273</td>\n",
       "      <td>0.685095</td>\n",
       "    </tr>\n",
       "    <tr>\n",
       "      <th>that you</th>\n",
       "      <td>-6.334303</td>\n",
       "      <td>0.684118</td>\n",
       "    </tr>\n",
       "    <tr>\n",
       "      <th>you re</th>\n",
       "      <td>-6.333539</td>\n",
       "      <td>0.669664</td>\n",
       "    </tr>\n",
       "    <tr>\n",
       "      <th>often do</th>\n",
       "      <td>-6.758157</td>\n",
       "      <td>0.660485</td>\n",
       "    </tr>\n",
       "    <tr>\n",
       "      <th>you deal</th>\n",
       "      <td>-6.686728</td>\n",
       "      <td>0.656176</td>\n",
       "    </tr>\n",
       "    <tr>\n",
       "      <th>ladies what</th>\n",
       "      <td>-6.593020</td>\n",
       "      <td>0.650856</td>\n",
       "    </tr>\n",
       "    <tr>\n",
       "      <th>you like</th>\n",
       "      <td>-6.600656</td>\n",
       "      <td>0.647460</td>\n",
       "    </tr>\n",
       "  </tbody>\n",
       "</table>\n",
       "</div>"
      ],
      "text/plain": [
       "              nb_coef  logit_coef\n",
       "target                           \n",
       "ladies      -6.039852    1.627263\n",
       "women       -5.870884    1.286027\n",
       "your        -4.771480    1.163422\n",
       "you have    -6.111311    1.104103\n",
       "what        -4.635956    0.988478\n",
       "do you      -5.090199    0.896632\n",
       "you         -4.382095    0.890905\n",
       "women who   -6.671499    0.820473\n",
       "as          -6.193797    0.758852\n",
       "people      -6.283569    0.728867\n",
       "experience  -6.340374    0.716907\n",
       "etc         -6.586746    0.692541\n",
       "ladies who  -6.848480    0.692492\n",
       "bad         -6.611273    0.685095\n",
       "that you    -6.334303    0.684118\n",
       "you re      -6.333539    0.669664\n",
       "often do    -6.758157    0.660485\n",
       "you deal    -6.686728    0.656176\n",
       "ladies what -6.593020    0.650856\n",
       "you like    -6.600656    0.647460"
      ]
     },
     "execution_count": 64,
     "metadata": {},
     "output_type": "execute_result"
    }
   ],
   "source": [
    "menwomen_word.sort_values(by = 'logit_coef', ascending = False).head(20)"
   ]
  },
  {
   "cell_type": "code",
   "execution_count": 69,
   "metadata": {},
   "outputs": [],
   "source": [
    "#code reference Mark's NLP EDA notebook\n",
    "top_words_nb = list(menwomen_word.groupby('target').mean().sort_values('nb_coef', ascending = False).head(20).index)\n",
    "top_words_logit = list(menwomen_word.groupby('target').mean().sort_values('logit_coef', ascending = False).head(20).index)"
   ]
  },
  {
   "cell_type": "code",
   "execution_count": 70,
   "metadata": {
    "scrolled": true
   },
   "outputs": [
    {
     "data": {
      "text/plain": [
       "(['you', 'what', 'your', 'do', 'the', 'to', 'do you', 'how'],\n",
       " ['ladies', 'women', 'your', 'you have', 'what', 'do you', 'you', 'women who'])"
      ]
     },
     "execution_count": 70,
     "metadata": {},
     "output_type": "execute_result"
    }
   ],
   "source": [
    "top_words_nb[:8], top_words_logit[:8]"
   ]
  },
  {
   "cell_type": "markdown",
   "metadata": {},
   "source": [
    "## Visualizing Words With Highest Coefficients "
   ]
  },
  {
   "cell_type": "code",
   "execution_count": 76,
   "metadata": {},
   "outputs": [
    {
     "data": {
      "text/plain": [
       "Index(['you', 'what', 'your', 'do', 'the', 'to', 'do you', 'how', 'and', 'of',\n",
       "       'are', 'is', 'it', 'have', 'that', 'in', 'for', 'did', 'what are',\n",
       "       'or'],\n",
       "      dtype='object', name='target')"
      ]
     },
     "execution_count": 76,
     "metadata": {},
     "output_type": "execute_result"
    }
   ],
   "source": [
    "#extracting index to find word counts for Naive Base\n",
    "#Coefficient from most negative\n",
    "word_index = menwomen_word.sort_values(by = 'nb_coef', ascending = False).head(20).index\n",
    "word_index"
   ]
  },
  {
   "cell_type": "code",
   "execution_count": 77,
   "metadata": {},
   "outputs": [
    {
     "data": {
      "text/html": [
       "<div>\n",
       "<style scoped>\n",
       "    .dataframe tbody tr th:only-of-type {\n",
       "        vertical-align: middle;\n",
       "    }\n",
       "\n",
       "    .dataframe tbody tr th {\n",
       "        vertical-align: top;\n",
       "    }\n",
       "\n",
       "    .dataframe thead th {\n",
       "        text-align: right;\n",
       "    }\n",
       "</style>\n",
       "<table border=\"1\" class=\"dataframe\">\n",
       "  <thead>\n",
       "    <tr style=\"text-align: right;\">\n",
       "      <th></th>\n",
       "      <th>AskMen</th>\n",
       "      <th>AskWomen</th>\n",
       "    </tr>\n",
       "    <tr>\n",
       "      <th>target</th>\n",
       "      <th></th>\n",
       "      <th></th>\n",
       "    </tr>\n",
       "  </thead>\n",
       "  <tbody>\n",
       "    <tr>\n",
       "      <th>you</th>\n",
       "      <td>40.694791</td>\n",
       "      <td>28.624296</td>\n",
       "    </tr>\n",
       "    <tr>\n",
       "      <th>what</th>\n",
       "      <td>31.534464</td>\n",
       "      <td>20.296435</td>\n",
       "    </tr>\n",
       "    <tr>\n",
       "      <th>your</th>\n",
       "      <td>26.823695</td>\n",
       "      <td>16.341694</td>\n",
       "    </tr>\n",
       "    <tr>\n",
       "      <th>do</th>\n",
       "      <td>23.625515</td>\n",
       "      <td>16.424676</td>\n",
       "    </tr>\n",
       "    <tr>\n",
       "      <th>the</th>\n",
       "      <td>29.164440</td>\n",
       "      <td>15.120878</td>\n",
       "    </tr>\n",
       "    <tr>\n",
       "      <th>to</th>\n",
       "      <td>29.553963</td>\n",
       "      <td>18.756743</td>\n",
       "    </tr>\n",
       "    <tr>\n",
       "      <th>do you</th>\n",
       "      <td>18.786654</td>\n",
       "      <td>13.083760</td>\n",
       "    </tr>\n",
       "    <tr>\n",
       "      <th>how</th>\n",
       "      <td>20.601487</td>\n",
       "      <td>14.023856</td>\n",
       "    </tr>\n",
       "    <tr>\n",
       "      <th>and</th>\n",
       "      <td>23.137510</td>\n",
       "      <td>15.862905</td>\n",
       "    </tr>\n",
       "    <tr>\n",
       "      <th>of</th>\n",
       "      <td>22.251476</td>\n",
       "      <td>11.496622</td>\n",
       "    </tr>\n",
       "    <tr>\n",
       "      <th>are</th>\n",
       "      <td>15.724162</td>\n",
       "      <td>10.466221</td>\n",
       "    </tr>\n",
       "    <tr>\n",
       "      <th>is</th>\n",
       "      <td>18.599231</td>\n",
       "      <td>10.076457</td>\n",
       "    </tr>\n",
       "    <tr>\n",
       "      <th>it</th>\n",
       "      <td>18.979157</td>\n",
       "      <td>11.521551</td>\n",
       "    </tr>\n",
       "    <tr>\n",
       "      <th>have</th>\n",
       "      <td>14.547712</td>\n",
       "      <td>9.350434</td>\n",
       "    </tr>\n",
       "    <tr>\n",
       "      <th>that</th>\n",
       "      <td>16.291292</td>\n",
       "      <td>10.173338</td>\n",
       "    </tr>\n",
       "    <tr>\n",
       "      <th>in</th>\n",
       "      <td>15.405334</td>\n",
       "      <td>10.983381</td>\n",
       "    </tr>\n",
       "    <tr>\n",
       "      <th>for</th>\n",
       "      <td>16.167641</td>\n",
       "      <td>8.941527</td>\n",
       "    </tr>\n",
       "    <tr>\n",
       "      <th>did</th>\n",
       "      <td>10.084772</td>\n",
       "      <td>8.316768</td>\n",
       "    </tr>\n",
       "    <tr>\n",
       "      <th>what are</th>\n",
       "      <td>11.414048</td>\n",
       "      <td>6.134373</td>\n",
       "    </tr>\n",
       "    <tr>\n",
       "      <th>or</th>\n",
       "      <td>14.120438</td>\n",
       "      <td>7.724406</td>\n",
       "    </tr>\n",
       "  </tbody>\n",
       "</table>\n",
       "</div>"
      ],
      "text/plain": [
       "             AskMen   AskWomen\n",
       "target                        \n",
       "you       40.694791  28.624296\n",
       "what      31.534464  20.296435\n",
       "your      26.823695  16.341694\n",
       "do        23.625515  16.424676\n",
       "the       29.164440  15.120878\n",
       "to        29.553963  18.756743\n",
       "do you    18.786654  13.083760\n",
       "how       20.601487  14.023856\n",
       "and       23.137510  15.862905\n",
       "of        22.251476  11.496622\n",
       "are       15.724162  10.466221\n",
       "is        18.599231  10.076457\n",
       "it        18.979157  11.521551\n",
       "have      14.547712   9.350434\n",
       "that      16.291292  10.173338\n",
       "in        15.405334  10.983381\n",
       "for       16.167641   8.941527\n",
       "did       10.084772   8.316768\n",
       "what are  11.414048   6.134373\n",
       "or        14.120438   7.724406"
      ]
     },
     "execution_count": 77,
     "metadata": {},
     "output_type": "execute_result"
    }
   ],
   "source": [
    "word_count.loc[word_index,]"
   ]
  },
  {
   "cell_type": "code",
   "execution_count": 79,
   "metadata": {
    "scrolled": false
   },
   "outputs": [
    {
     "data": {
      "image/png": "[encoded data removed]",
      "text/plain": [
       "<Figure size 1080x720 with 1 Axes>"
      ]
     },
     "metadata": {
      "needs_background": "light"
     },
     "output_type": "display_data"
    }
   ],
   "source": [
    "#plotting Naive Bayes Keyword coefficients from lowest to highest \n",
    "plt.figure(figsize = (15,10))\n",
    "plt.title('Target: AskWomen,  Keywords From Naive Bayes Model', fontsize = 18)\n",
    "sns.barplot(y = word_count.loc[word_index,].index, \n",
    "            x = word_count.loc[word_index,]['AskWomen'],\n",
    "            palette=\"Spectral\")\n",
    "plt.savefig('../images/AskWomen_Keywords(NB).png')"
   ]
  },
  {
   "cell_type": "code",
   "execution_count": 80,
   "metadata": {},
   "outputs": [
    {
     "data": {
      "text/plain": [
       "Index(['ladies', 'women', 'your', 'you have', 'what', 'do you', 'you',\n",
       "       'women who', 'as', 'people', 'experience', 'etc', 'ladies who', 'bad',\n",
       "       'that you', 'you re', 'often do', 'you deal', 'ladies what',\n",
       "       'you like'],\n",
       "      dtype='object', name='target')"
      ]
     },
     "execution_count": 80,
     "metadata": {},
     "output_type": "execute_result"
    }
   ],
   "source": [
    "#extracting index to find word counts for Logistic Regression\n",
    "word_index2 = menwomen_word.sort_values(by = 'logit_coef', ascending = False).head(20).index\n",
    "word_index2"
   ]
  },
  {
   "cell_type": "code",
   "execution_count": 81,
   "metadata": {
    "scrolled": false
   },
   "outputs": [
    {
     "data": {
      "image/png": "[encoded data removed]",
      "text/plain": [
       "<Figure size 1080x720 with 1 Axes>"
      ]
     },
     "metadata": {
      "needs_background": "light"
     },
     "output_type": "display_data"
    }
   ],
   "source": [
    "#plotting keywords with high coefficients \n",
    "plt.figure(figsize = (15,10))\n",
    "plt.title('Target: AskWomen,  Keywords From Logistic Regression Model', fontsize = 18)\n",
    "sns.barplot(y = word_count.loc[word_index2,].index, \n",
    "            x = word_count.loc[word_index2,]['AskWomen'],\n",
    "            palette=\"Spectral\")\n",
    "plt.savefig('../images/AskWomen_Keywords(logreg).png')"
   ]
  },
  {
   "cell_type": "markdown",
   "metadata": {},
   "source": [
    "# Model With Target Switched"
   ]
  },
  {
   "cell_type": "markdown",
   "metadata": {},
   "source": [
    "### Explaination \n",
    "\n",
    "In the previous steps with dataframe men women, this model uses dictionary: \n",
    "```\n",
    "dic = { \"AskMen\": 0, \"AskWomen\": 1}\n",
    "```\n",
    "\n",
    "In the following section, I will swtich the target and analyze the keywords again. with new dictionary: \n",
    "```\n",
    "dic = {0: 1, 1: 0 }\n",
    "dic = { \"AskMen\": 1, \"AskWomen\": 0}\n",
    "```"
   ]
  },
  {
   "cell_type": "code",
   "execution_count": 82,
   "metadata": {
    "scrolled": true
   },
   "outputs": [
    {
     "data": {
      "text/plain": [
       "1    723\n",
       "0    525\n",
       "Name: Subreddit, dtype: int64"
      ]
     },
     "execution_count": 82,
     "metadata": {},
     "output_type": "execute_result"
    }
   ],
   "source": [
    "menwomen_df['Subreddit'].value_counts()"
   ]
  },
  {
   "cell_type": "code",
   "execution_count": 83,
   "metadata": {},
   "outputs": [],
   "source": [
    "#switching target. \n",
    "dic = {0: 1, 1: 0}\n",
    "menwomen_df2 = menwomen_df\n",
    "menwomen_df2['Subreddit'] = menwomen_df2['Subreddit'].map(dic)"
   ]
  },
  {
   "cell_type": "code",
   "execution_count": 84,
   "metadata": {
    "scrolled": true
   },
   "outputs": [
    {
     "name": "stdout",
     "output_type": "stream",
     "text": [
      "0    723\n",
      "1    525\n",
      "Name: Subreddit, dtype: int64\n"
     ]
    },
    {
     "data": {
      "text/html": [
       "<div>\n",
       "<style scoped>\n",
       "    .dataframe tbody tr th:only-of-type {\n",
       "        vertical-align: middle;\n",
       "    }\n",
       "\n",
       "    .dataframe tbody tr th {\n",
       "        vertical-align: top;\n",
       "    }\n",
       "\n",
       "    .dataframe thead th {\n",
       "        text-align: right;\n",
       "    }\n",
       "</style>\n",
       "<table border=\"1\" class=\"dataframe\">\n",
       "  <thead>\n",
       "    <tr style=\"text-align: right;\">\n",
       "      <th></th>\n",
       "      <th>Subreddit</th>\n",
       "      <th>Title_Content</th>\n",
       "    </tr>\n",
       "  </thead>\n",
       "  <tbody>\n",
       "    <tr>\n",
       "      <th>0</th>\n",
       "      <td>1</td>\n",
       "      <td>The AskMen Book Club   The Picture of Dorian G...</td>\n",
       "    </tr>\n",
       "    <tr>\n",
       "      <th>1</th>\n",
       "      <td>1</td>\n",
       "      <td>I am starting to realise my dad wont live fore...</td>\n",
       "    </tr>\n",
       "    <tr>\n",
       "      <th>2</th>\n",
       "      <td>1</td>\n",
       "      <td>What do you see on women s dating profiles tha...</td>\n",
       "    </tr>\n",
       "    <tr>\n",
       "      <th>3</th>\n",
       "      <td>1</td>\n",
       "      <td>What could women put in their dating profiles ...</td>\n",
       "    </tr>\n",
       "    <tr>\n",
       "      <th>4</th>\n",
       "      <td>1</td>\n",
       "      <td>What are some things on your mind that you can...</td>\n",
       "    </tr>\n",
       "  </tbody>\n",
       "</table>\n",
       "</div>"
      ],
      "text/plain": [
       "   Subreddit                                      Title_Content\n",
       "0          1  The AskMen Book Club   The Picture of Dorian G...\n",
       "1          1  I am starting to realise my dad wont live fore...\n",
       "2          1  What do you see on women s dating profiles tha...\n",
       "3          1  What could women put in their dating profiles ...\n",
       "4          1  What are some things on your mind that you can..."
      ]
     },
     "execution_count": 84,
     "metadata": {},
     "output_type": "execute_result"
    }
   ],
   "source": [
    "print(menwomen_df2['Subreddit'].value_counts())\n",
    "menwomen_df2.head()"
   ]
  },
  {
   "cell_type": "markdown",
   "metadata": {},
   "source": [
    "## Ensemble Model 2: With menwomen_df"
   ]
  },
  {
   "cell_type": "code",
   "execution_count": 85,
   "metadata": {},
   "outputs": [],
   "source": [
    "#train-test-split \n",
    "X = menwomen_df2[\"Title_Content\"]\n",
    "y = menwomen_df2['Subreddit']\n",
    "\n",
    "#Train Test Split \n",
    "X2_train, X2_test, y2_train, y2_test = train_test_split(X, y, test_size=0.3, random_state=42, stratify = y)"
   ]
  },
  {
   "cell_type": "code",
   "execution_count": 86,
   "metadata": {},
   "outputs": [],
   "source": [
    "#Building Pipeline2 \n",
    "#building Pipeline\n",
    "pipe2 = Pipeline([\n",
    "    ('tfidf1', TfidfVectorizer(max_df= 0.95, #keep this one since it give us highest train test score \n",
    "                       max_features= 1500, \n",
    "                       min_df= 2, \n",
    "                       ngram_range= (1,2))),\n",
    "    \n",
    "    ('vc', vc)\n",
    "])"
   ]
  },
  {
   "cell_type": "code",
   "execution_count": 87,
   "metadata": {},
   "outputs": [
    {
     "data": {
      "text/plain": [
       "Pipeline(memory=None,\n",
       "     steps=[('tfidf1', TfidfVectorizer(analyzer='word', binary=False, decode_error='strict',\n",
       "        dtype=<class 'numpy.float64'>, encoding='utf-8', input='content',\n",
       "        lowercase=True, max_df=0.95, max_features=1500, min_df=2,\n",
       "        ngram_range=(1, 2), norm='l2', preprocessor=None, smooth_idf=Tru....001, verbose=False))],\n",
       "         flatten_transform=None, n_jobs=None, voting='hard', weights=None))])"
      ]
     },
     "execution_count": 87,
     "metadata": {},
     "output_type": "execute_result"
    }
   ],
   "source": [
    "pipe2.fit(X2_train, y2_train)"
   ]
  },
  {
   "cell_type": "code",
   "execution_count": 88,
   "metadata": {
    "scrolled": true
   },
   "outputs": [
    {
     "name": "stdout",
     "output_type": "stream",
     "text": [
      "train score 0.8671248568155785\n",
      "test score 0.7253333333333334\n"
     ]
    }
   ],
   "source": [
    "print('train score', pipe2.score(X2_train, y2_train))\n",
    "print('test score', pipe2.score(X2_test, y2_test))"
   ]
  },
  {
   "cell_type": "code",
   "execution_count": 89,
   "metadata": {},
   "outputs": [],
   "source": [
    "#make prediction \n",
    "predict2 = pipe2.predict(X2_train)\n",
    "test_predict2 = pipe2.predict(X2_test)"
   ]
  },
  {
   "cell_type": "markdown",
   "metadata": {},
   "source": [
    "## Model2 Evaluation "
   ]
  },
  {
   "cell_type": "markdown",
   "metadata": {},
   "source": [
    "### Train Data Confusion Matrix "
   ]
  },
  {
   "cell_type": "code",
   "execution_count": 90,
   "metadata": {},
   "outputs": [
    {
     "data": {
      "text/plain": [
       "(506, 0, 116, 251)"
      ]
     },
     "execution_count": 90,
     "metadata": {},
     "output_type": "execute_result"
    }
   ],
   "source": [
    "#building confusion matrix \n",
    "tn, fp, fn, tp = confusion_matrix(y_true = y2_train, y_pred= predict2).ravel()\n",
    "(tn, fp, fn, tp)"
   ]
  },
  {
   "cell_type": "code",
   "execution_count": 91,
   "metadata": {},
   "outputs": [
    {
     "data": {
      "text/plain": [
       "1.0"
      ]
     },
     "execution_count": 91,
     "metadata": {},
     "output_type": "execute_result"
    }
   ],
   "source": [
    "#precision \n",
    "tp/(tp+fp)"
   ]
  },
  {
   "cell_type": "code",
   "execution_count": 92,
   "metadata": {
    "scrolled": true
   },
   "outputs": [
    {
     "data": {
      "text/plain": [
       "0.7480237154150198"
      ]
     },
     "execution_count": 92,
     "metadata": {},
     "output_type": "execute_result"
    }
   ],
   "source": [
    "from sklearn.metrics import roc_auc_score\n",
    "roc_auc_score(y_train, predict2)"
   ]
  },
  {
   "cell_type": "markdown",
   "metadata": {},
   "source": [
    "### Test Data Confusion Matrix "
   ]
  },
  {
   "cell_type": "code",
   "execution_count": 93,
   "metadata": {},
   "outputs": [
    {
     "data": {
      "text/plain": [
       "(204, 13, 90, 68)"
      ]
     },
     "execution_count": 93,
     "metadata": {},
     "output_type": "execute_result"
    }
   ],
   "source": [
    "#building confusion matrix \n",
    "tn, fp, fn, tp = confusion_matrix(y_true = y2_test, y_pred= test_predict2).ravel()\n",
    "(tn, fp, fn, tp)"
   ]
  },
  {
   "cell_type": "code",
   "execution_count": 94,
   "metadata": {},
   "outputs": [
    {
     "data": {
      "text/plain": [
       "0.8395061728395061"
      ]
     },
     "execution_count": 94,
     "metadata": {},
     "output_type": "execute_result"
    }
   ],
   "source": [
    "#precision \n",
    "tp/(tp+fp)"
   ]
  },
  {
   "cell_type": "code",
   "execution_count": 95,
   "metadata": {
    "scrolled": true
   },
   "outputs": [
    {
     "data": {
      "text/plain": [
       "0.6852359563670304"
      ]
     },
     "execution_count": 95,
     "metadata": {},
     "output_type": "execute_result"
    }
   ],
   "source": [
    "from sklearn.metrics import roc_auc_score\n",
    "roc_auc_score(y2_test, test_predict2)"
   ]
  },
  {
   "cell_type": "markdown",
   "metadata": {},
   "source": [
    "## Extracting Keywords Coefficients"
   ]
  },
  {
   "cell_type": "code",
   "execution_count": 96,
   "metadata": {
    "scrolled": false
   },
   "outputs": [
    {
     "data": {
      "text/plain": [
       "[MultinomialNB(alpha=1.0, class_prior=None, fit_prior=True),\n",
       " LogisticRegression(C=1.0, class_weight=None, dual=False, fit_intercept=True,\n",
       "           intercept_scaling=1, max_iter=100, multi_class='warn',\n",
       "           n_jobs=None, penalty='l2', random_state=None, solver='warn',\n",
       "           tol=0.0001, verbose=0, warm_start=False),\n",
       " RandomForestClassifier(bootstrap=True, class_weight=None, criterion='gini',\n",
       "             max_depth=100, max_features='auto', max_leaf_nodes=None,\n",
       "             min_impurity_decrease=0.0, min_impurity_split=None,\n",
       "             min_samples_leaf=2, min_samples_split=2,\n",
       "             min_weight_fraction_leaf=0.0, n_estimators=100, n_jobs=None,\n",
       "             oob_score=False, random_state=None, verbose=0,\n",
       "             warm_start=False),\n",
       " ExtraTreesClassifier(bootstrap=False, class_weight=None, criterion='gini',\n",
       "            max_depth=50, max_features='auto', max_leaf_nodes=None,\n",
       "            min_impurity_decrease=0.0, min_impurity_split=None,\n",
       "            min_samples_leaf=2, min_samples_split=2,\n",
       "            min_weight_fraction_leaf=0.0, n_estimators=100, n_jobs=None,\n",
       "            oob_score=False, random_state=None, verbose=0, warm_start=False),\n",
       " AdaBoostClassifier(algorithm='SAMME.R',\n",
       "           base_estimator=DecisionTreeClassifier(class_weight=None, criterion='gini', max_depth=50,\n",
       "             max_features=None, max_leaf_nodes=None,\n",
       "             min_impurity_decrease=0.0, min_impurity_split=None,\n",
       "             min_samples_leaf=1, min_samples_split=2,\n",
       "             min_weight_fraction_leaf=0.0, presort=False, random_state=None,\n",
       "             splitter='best'),\n",
       "           learning_rate=1.0, n_estimators=200, random_state=None),\n",
       " SVC(C=1.5, cache_size=200, class_weight=None, coef0=0.0,\n",
       "   decision_function_shape='ovr', degree=3, gamma='auto_deprecated',\n",
       "   kernel='rbf', max_iter=-1, probability=False, random_state=None,\n",
       "   shrinking=True, tol=0.001, verbose=False)]"
      ]
     },
     "execution_count": 96,
     "metadata": {},
     "output_type": "execute_result"
    }
   ],
   "source": [
    "pipe2.named_steps['vc'].estimators_"
   ]
  },
  {
   "cell_type": "code",
   "execution_count": 97,
   "metadata": {},
   "outputs": [
    {
     "data": {
      "text/plain": [
       "(1500, 1500)"
      ]
     },
     "execution_count": 97,
     "metadata": {},
     "output_type": "execute_result"
    }
   ],
   "source": [
    "#saving NB and logistic coefficient for switched targets \n",
    "mnb_coef_switched = pipe2.named_steps['vc'].estimators_[0].coef_[0] \n",
    "logit_coef_switched = pipe2.named_steps['vc'].estimators_[1].coef_[0]\n",
    "\n",
    "len(mnb_coef_switched), len(logit_coef_switched)"
   ]
  },
  {
   "cell_type": "code",
   "execution_count": 98,
   "metadata": {
    "scrolled": true
   },
   "outputs": [
    {
     "data": {
      "text/plain": [
       "1500"
      ]
     },
     "execution_count": 98,
     "metadata": {},
     "output_type": "execute_result"
    }
   ],
   "source": [
    "#get column names \n",
    "tfidf = TfidfVectorizer(max_df= 0.95, #keep this one since it give us highest train test score \n",
    "                       max_features= 1500, \n",
    "                       min_df= 2, \n",
    "                       ngram_range= (1,2))\n",
    "\n",
    "X2_train_tfidf = tfidf.fit_transform(X2_train)\n",
    "\n",
    "#Saving column name\n",
    "col2_name = tfidf.get_feature_names()\n",
    "len(col2_name)"
   ]
  },
  {
   "cell_type": "code",
   "execution_count": 99,
   "metadata": {
    "scrolled": true
   },
   "outputs": [
    {
     "data": {
      "text/plain": [
       "array([[0., 0., 0., ..., 0., 0., 0.],\n",
       "       [0., 0., 0., ..., 0., 0., 0.],\n",
       "       [0., 0., 0., ..., 0., 0., 0.],\n",
       "       ...,\n",
       "       [0., 0., 0., ..., 0., 0., 0.],\n",
       "       [0., 0., 0., ..., 0., 0., 0.],\n",
       "       [0., 0., 0., ..., 0., 0., 0.]])"
      ]
     },
     "execution_count": 99,
     "metadata": {},
     "output_type": "execute_result"
    }
   ],
   "source": [
    "#Transforming Data to array\n",
    "X2_train_tfidf.toarray()"
   ]
  },
  {
   "cell_type": "code",
   "execution_count": 100,
   "metadata": {
    "scrolled": true
   },
   "outputs": [
    {
     "data": {
      "text/html": [
       "<div>\n",
       "<style scoped>\n",
       "    .dataframe tbody tr th:only-of-type {\n",
       "        vertical-align: middle;\n",
       "    }\n",
       "\n",
       "    .dataframe tbody tr th {\n",
       "        vertical-align: top;\n",
       "    }\n",
       "\n",
       "    .dataframe thead th {\n",
       "        text-align: right;\n",
       "    }\n",
       "</style>\n",
       "<table border=\"1\" class=\"dataframe\">\n",
       "  <thead>\n",
       "    <tr style=\"text-align: right;\">\n",
       "      <th></th>\n",
       "      <th>Subreddit</th>\n",
       "      <th>able</th>\n",
       "      <th>able to</th>\n",
       "      <th>about</th>\n",
       "      <th>about how</th>\n",
       "      <th>about it</th>\n",
       "      <th>about the</th>\n",
       "      <th>about their</th>\n",
       "      <th>about this</th>\n",
       "      <th>about what</th>\n",
       "      <th>...</th>\n",
       "      <th>your most</th>\n",
       "      <th>your opinion</th>\n",
       "      <th>your parents</th>\n",
       "      <th>your partner</th>\n",
       "      <th>your period</th>\n",
       "      <th>your so</th>\n",
       "      <th>your story</th>\n",
       "      <th>your thoughts</th>\n",
       "      <th>yourself</th>\n",
       "      <th>youtube</th>\n",
       "    </tr>\n",
       "  </thead>\n",
       "  <tbody>\n",
       "    <tr>\n",
       "      <th>0</th>\n",
       "      <td>1</td>\n",
       "      <td>0.0</td>\n",
       "      <td>0.0</td>\n",
       "      <td>0.00000</td>\n",
       "      <td>0.0</td>\n",
       "      <td>0.0</td>\n",
       "      <td>0.0</td>\n",
       "      <td>0.0</td>\n",
       "      <td>0.0</td>\n",
       "      <td>0.0</td>\n",
       "      <td>...</td>\n",
       "      <td>0.0</td>\n",
       "      <td>0.0</td>\n",
       "      <td>0.0</td>\n",
       "      <td>0.0</td>\n",
       "      <td>0.0</td>\n",
       "      <td>0.0</td>\n",
       "      <td>0.0</td>\n",
       "      <td>0.0</td>\n",
       "      <td>0.0</td>\n",
       "      <td>0.0</td>\n",
       "    </tr>\n",
       "    <tr>\n",
       "      <th>1</th>\n",
       "      <td>1</td>\n",
       "      <td>0.0</td>\n",
       "      <td>0.0</td>\n",
       "      <td>0.00000</td>\n",
       "      <td>0.0</td>\n",
       "      <td>0.0</td>\n",
       "      <td>0.0</td>\n",
       "      <td>0.0</td>\n",
       "      <td>0.0</td>\n",
       "      <td>0.0</td>\n",
       "      <td>...</td>\n",
       "      <td>0.0</td>\n",
       "      <td>0.0</td>\n",
       "      <td>0.0</td>\n",
       "      <td>0.0</td>\n",
       "      <td>0.0</td>\n",
       "      <td>0.0</td>\n",
       "      <td>0.0</td>\n",
       "      <td>0.0</td>\n",
       "      <td>0.0</td>\n",
       "      <td>0.0</td>\n",
       "    </tr>\n",
       "    <tr>\n",
       "      <th>2</th>\n",
       "      <td>1</td>\n",
       "      <td>0.0</td>\n",
       "      <td>0.0</td>\n",
       "      <td>0.00000</td>\n",
       "      <td>0.0</td>\n",
       "      <td>0.0</td>\n",
       "      <td>0.0</td>\n",
       "      <td>0.0</td>\n",
       "      <td>0.0</td>\n",
       "      <td>0.0</td>\n",
       "      <td>...</td>\n",
       "      <td>0.0</td>\n",
       "      <td>0.0</td>\n",
       "      <td>0.0</td>\n",
       "      <td>0.0</td>\n",
       "      <td>0.0</td>\n",
       "      <td>0.0</td>\n",
       "      <td>0.0</td>\n",
       "      <td>0.0</td>\n",
       "      <td>0.0</td>\n",
       "      <td>0.0</td>\n",
       "    </tr>\n",
       "    <tr>\n",
       "      <th>3</th>\n",
       "      <td>1</td>\n",
       "      <td>0.0</td>\n",
       "      <td>0.0</td>\n",
       "      <td>0.00000</td>\n",
       "      <td>0.0</td>\n",
       "      <td>0.0</td>\n",
       "      <td>0.0</td>\n",
       "      <td>0.0</td>\n",
       "      <td>0.0</td>\n",
       "      <td>0.0</td>\n",
       "      <td>...</td>\n",
       "      <td>0.0</td>\n",
       "      <td>0.0</td>\n",
       "      <td>0.0</td>\n",
       "      <td>0.0</td>\n",
       "      <td>0.0</td>\n",
       "      <td>0.0</td>\n",
       "      <td>0.0</td>\n",
       "      <td>0.0</td>\n",
       "      <td>0.0</td>\n",
       "      <td>0.0</td>\n",
       "    </tr>\n",
       "    <tr>\n",
       "      <th>4</th>\n",
       "      <td>1</td>\n",
       "      <td>0.0</td>\n",
       "      <td>0.0</td>\n",
       "      <td>0.31313</td>\n",
       "      <td>0.0</td>\n",
       "      <td>0.0</td>\n",
       "      <td>0.0</td>\n",
       "      <td>0.0</td>\n",
       "      <td>0.0</td>\n",
       "      <td>0.0</td>\n",
       "      <td>...</td>\n",
       "      <td>0.0</td>\n",
       "      <td>0.0</td>\n",
       "      <td>0.0</td>\n",
       "      <td>0.0</td>\n",
       "      <td>0.0</td>\n",
       "      <td>0.0</td>\n",
       "      <td>0.0</td>\n",
       "      <td>0.0</td>\n",
       "      <td>0.0</td>\n",
       "      <td>0.0</td>\n",
       "    </tr>\n",
       "  </tbody>\n",
       "</table>\n",
       "<p>5 rows × 1501 columns</p>\n",
       "</div>"
      ],
      "text/plain": [
       "   Subreddit  able  able to    about  about how  about it  about the  \\\n",
       "0          1   0.0      0.0  0.00000        0.0       0.0        0.0   \n",
       "1          1   0.0      0.0  0.00000        0.0       0.0        0.0   \n",
       "2          1   0.0      0.0  0.00000        0.0       0.0        0.0   \n",
       "3          1   0.0      0.0  0.00000        0.0       0.0        0.0   \n",
       "4          1   0.0      0.0  0.31313        0.0       0.0        0.0   \n",
       "\n",
       "   about their  about this  about what  ...  your most  your opinion  \\\n",
       "0          0.0         0.0         0.0  ...        0.0           0.0   \n",
       "1          0.0         0.0         0.0  ...        0.0           0.0   \n",
       "2          0.0         0.0         0.0  ...        0.0           0.0   \n",
       "3          0.0         0.0         0.0  ...        0.0           0.0   \n",
       "4          0.0         0.0         0.0  ...        0.0           0.0   \n",
       "\n",
       "   your parents  your partner  your period  your so  your story  \\\n",
       "0           0.0           0.0          0.0      0.0         0.0   \n",
       "1           0.0           0.0          0.0      0.0         0.0   \n",
       "2           0.0           0.0          0.0      0.0         0.0   \n",
       "3           0.0           0.0          0.0      0.0         0.0   \n",
       "4           0.0           0.0          0.0      0.0         0.0   \n",
       "\n",
       "   your thoughts  yourself  youtube  \n",
       "0            0.0       0.0      0.0  \n",
       "1            0.0       0.0      0.0  \n",
       "2            0.0       0.0      0.0  \n",
       "3            0.0       0.0      0.0  \n",
       "4            0.0       0.0      0.0  \n",
       "\n",
       "[5 rows x 1501 columns]"
      ]
     },
     "execution_count": 100,
     "metadata": {},
     "output_type": "execute_result"
    }
   ],
   "source": [
    "#turining counts into dataframe\n",
    "women_word = pd.DataFrame(X2_train_tfidf.toarray(), \n",
    "                       columns = col2_name)\n",
    "\n",
    "women_word.insert(0, 'Subreddit', y)\n",
    "women_word.head()"
   ]
  },
  {
   "cell_type": "code",
   "execution_count": 101,
   "metadata": {},
   "outputs": [],
   "source": [
    "#Building relationship word dataframe \n",
    "women_word = women_word.groupby('Subreddit').sum().T"
   ]
  },
  {
   "cell_type": "code",
   "execution_count": 102,
   "metadata": {},
   "outputs": [
    {
     "data": {
      "text/html": [
       "<div>\n",
       "<style scoped>\n",
       "    .dataframe tbody tr th:only-of-type {\n",
       "        vertical-align: middle;\n",
       "    }\n",
       "\n",
       "    .dataframe tbody tr th {\n",
       "        vertical-align: top;\n",
       "    }\n",
       "\n",
       "    .dataframe thead th {\n",
       "        text-align: right;\n",
       "    }\n",
       "</style>\n",
       "<table border=\"1\" class=\"dataframe\">\n",
       "  <thead>\n",
       "    <tr style=\"text-align: right;\">\n",
       "      <th></th>\n",
       "      <th>AskWomen</th>\n",
       "      <th>AskMen</th>\n",
       "    </tr>\n",
       "  </thead>\n",
       "  <tbody>\n",
       "    <tr>\n",
       "      <th>able</th>\n",
       "      <td>0.910359</td>\n",
       "      <td>0.819219</td>\n",
       "    </tr>\n",
       "    <tr>\n",
       "      <th>able to</th>\n",
       "      <td>0.607226</td>\n",
       "      <td>0.831810</td>\n",
       "    </tr>\n",
       "    <tr>\n",
       "      <th>about</th>\n",
       "      <td>6.028664</td>\n",
       "      <td>11.728361</td>\n",
       "    </tr>\n",
       "    <tr>\n",
       "      <th>about how</th>\n",
       "      <td>0.000000</td>\n",
       "      <td>0.706804</td>\n",
       "    </tr>\n",
       "    <tr>\n",
       "      <th>about it</th>\n",
       "      <td>1.436445</td>\n",
       "      <td>2.063529</td>\n",
       "    </tr>\n",
       "  </tbody>\n",
       "</table>\n",
       "</div>"
      ],
      "text/plain": [
       "           AskWomen     AskMen\n",
       "able       0.910359   0.819219\n",
       "able to    0.607226   0.831810\n",
       "about      6.028664  11.728361\n",
       "about how  0.000000   0.706804\n",
       "about it   1.436445   2.063529"
      ]
     },
     "execution_count": 102,
     "metadata": {},
     "output_type": "execute_result"
    }
   ],
   "source": [
    "women_word.columns = [\"AskWomen\", \"AskMen\"]\n",
    "word_count.to_csv('../data/AskMen1AskWomen0wordcount.csv')\n",
    "women_word.head()"
   ]
  },
  {
   "cell_type": "code",
   "execution_count": 103,
   "metadata": {
    "scrolled": true
   },
   "outputs": [
    {
     "data": {
      "text/plain": [
       "(1500, 2)"
      ]
     },
     "execution_count": 103,
     "metadata": {},
     "output_type": "execute_result"
    }
   ],
   "source": [
    "#building coefficient dataframes \n",
    "menwomen_word2 = pd.DataFrame(data= [mnb_coef_switched, logit_coef_switched], columns= col2_name, index= ['nb_coef_switched', 'logit_coef_switched'])\n",
    "menwomen_word2 = menwomen_word2.T\n",
    "menwomen_word2.to_csv('../data/AskMen1AskWomen0wordcoeff.csv')\n",
    "menwomen_word2.shape"
   ]
  },
  {
   "cell_type": "code",
   "execution_count": 104,
   "metadata": {
    "scrolled": false
   },
   "outputs": [
    {
     "data": {
      "text/html": [
       "<div>\n",
       "<style scoped>\n",
       "    .dataframe tbody tr th:only-of-type {\n",
       "        vertical-align: middle;\n",
       "    }\n",
       "\n",
       "    .dataframe tbody tr th {\n",
       "        vertical-align: top;\n",
       "    }\n",
       "\n",
       "    .dataframe thead th {\n",
       "        text-align: right;\n",
       "    }\n",
       "</style>\n",
       "<table border=\"1\" class=\"dataframe\">\n",
       "  <thead>\n",
       "    <tr style=\"text-align: right;\">\n",
       "      <th></th>\n",
       "      <th>nb_coef_switched</th>\n",
       "      <th>logit_coef_switched</th>\n",
       "    </tr>\n",
       "  </thead>\n",
       "  <tbody>\n",
       "    <tr>\n",
       "      <th>would it</th>\n",
       "      <td>-8.159145</td>\n",
       "      <td>-0.398823</td>\n",
       "    </tr>\n",
       "    <tr>\n",
       "      <th>those who</th>\n",
       "      <td>-8.159145</td>\n",
       "      <td>-0.546484</td>\n",
       "    </tr>\n",
       "    <tr>\n",
       "      <th>women of</th>\n",
       "      <td>-8.159145</td>\n",
       "      <td>-0.517970</td>\n",
       "    </tr>\n",
       "    <tr>\n",
       "      <th>because you</th>\n",
       "      <td>-8.159145</td>\n",
       "      <td>-0.382218</td>\n",
       "    </tr>\n",
       "    <tr>\n",
       "      <th>affected</th>\n",
       "      <td>-8.159145</td>\n",
       "      <td>-0.406670</td>\n",
       "    </tr>\n",
       "    <tr>\n",
       "      <th>often do</th>\n",
       "      <td>-8.159145</td>\n",
       "      <td>-0.577645</td>\n",
       "    </tr>\n",
       "    <tr>\n",
       "      <th>so many</th>\n",
       "      <td>-8.159145</td>\n",
       "      <td>-0.458353</td>\n",
       "    </tr>\n",
       "    <tr>\n",
       "      <th>list</th>\n",
       "      <td>-8.159145</td>\n",
       "      <td>-0.126992</td>\n",
       "    </tr>\n",
       "    <tr>\n",
       "      <th>ladies who</th>\n",
       "      <td>-8.159145</td>\n",
       "      <td>-0.809739</td>\n",
       "    </tr>\n",
       "    <tr>\n",
       "      <th>ladies what</th>\n",
       "      <td>-8.159145</td>\n",
       "      <td>-0.659581</td>\n",
       "    </tr>\n",
       "    <tr>\n",
       "      <th>your period</th>\n",
       "      <td>-8.159145</td>\n",
       "      <td>-0.410356</td>\n",
       "    </tr>\n",
       "    <tr>\n",
       "      <th>ladies</th>\n",
       "      <td>-8.159145</td>\n",
       "      <td>-1.854391</td>\n",
       "    </tr>\n",
       "    <tr>\n",
       "      <th>your experiences</th>\n",
       "      <td>-8.159145</td>\n",
       "      <td>-0.366907</td>\n",
       "    </tr>\n",
       "    <tr>\n",
       "      <th>dealing</th>\n",
       "      <td>-8.119925</td>\n",
       "      <td>-0.342371</td>\n",
       "    </tr>\n",
       "    <tr>\n",
       "      <th>dealing with</th>\n",
       "      <td>-8.119925</td>\n",
       "      <td>-0.342371</td>\n",
       "    </tr>\n",
       "    <tr>\n",
       "      <th>rejection</th>\n",
       "      <td>-8.112031</td>\n",
       "      <td>-0.230747</td>\n",
       "    </tr>\n",
       "    <tr>\n",
       "      <th>rules for</th>\n",
       "      <td>-8.101806</td>\n",
       "      <td>-0.051582</td>\n",
       "    </tr>\n",
       "    <tr>\n",
       "      <th>you spend</th>\n",
       "      <td>-8.098134</td>\n",
       "      <td>-0.271833</td>\n",
       "    </tr>\n",
       "    <tr>\n",
       "      <th>the people</th>\n",
       "      <td>-8.096331</td>\n",
       "      <td>-0.120193</td>\n",
       "    </tr>\n",
       "    <tr>\n",
       "      <th>hurt</th>\n",
       "      <td>-8.091636</td>\n",
       "      <td>-0.307677</td>\n",
       "    </tr>\n",
       "  </tbody>\n",
       "</table>\n",
       "</div>"
      ],
      "text/plain": [
       "                  nb_coef_switched  logit_coef_switched\n",
       "would it                 -8.159145            -0.398823\n",
       "those who                -8.159145            -0.546484\n",
       "women of                 -8.159145            -0.517970\n",
       "because you              -8.159145            -0.382218\n",
       "affected                 -8.159145            -0.406670\n",
       "often do                 -8.159145            -0.577645\n",
       "so many                  -8.159145            -0.458353\n",
       "list                     -8.159145            -0.126992\n",
       "ladies who               -8.159145            -0.809739\n",
       "ladies what              -8.159145            -0.659581\n",
       "your period              -8.159145            -0.410356\n",
       "ladies                   -8.159145            -1.854391\n",
       "your experiences         -8.159145            -0.366907\n",
       "dealing                  -8.119925            -0.342371\n",
       "dealing with             -8.119925            -0.342371\n",
       "rejection                -8.112031            -0.230747\n",
       "rules for                -8.101806            -0.051582\n",
       "you spend                -8.098134            -0.271833\n",
       "the people               -8.096331            -0.120193\n",
       "hurt                     -8.091636            -0.307677"
      ]
     },
     "execution_count": 104,
     "metadata": {},
     "output_type": "execute_result"
    }
   ],
   "source": [
    "#sort by coefficients from highest to lowest, for NB\n",
    "menwomen_word2.sort_values(by = 'nb_coef_switched', ascending = True).head(20)"
   ]
  },
  {
   "cell_type": "markdown",
   "metadata": {},
   "source": [
    "## Visualizing Words With Highest Coefficients"
   ]
  },
  {
   "cell_type": "code",
   "execution_count": 108,
   "metadata": {},
   "outputs": [],
   "source": [
    "#get the index of the sorted dataframe \n",
    "nb_index = menwomen_word2.sort_values(by = 'nb_coef_switched', ascending = False).head(20).index"
   ]
  },
  {
   "cell_type": "code",
   "execution_count": 109,
   "metadata": {
    "scrolled": false
   },
   "outputs": [
    {
     "data": {
      "text/html": [
       "<div>\n",
       "<style scoped>\n",
       "    .dataframe tbody tr th:only-of-type {\n",
       "        vertical-align: middle;\n",
       "    }\n",
       "\n",
       "    .dataframe tbody tr th {\n",
       "        vertical-align: top;\n",
       "    }\n",
       "\n",
       "    .dataframe thead th {\n",
       "        text-align: right;\n",
       "    }\n",
       "</style>\n",
       "<table border=\"1\" class=\"dataframe\">\n",
       "  <thead>\n",
       "    <tr style=\"text-align: right;\">\n",
       "      <th></th>\n",
       "      <th>AskWomen</th>\n",
       "      <th>AskMen</th>\n",
       "    </tr>\n",
       "  </thead>\n",
       "  <tbody>\n",
       "    <tr>\n",
       "      <th>to</th>\n",
       "      <td>20.762132</td>\n",
       "      <td>28.453759</td>\n",
       "    </tr>\n",
       "    <tr>\n",
       "      <th>you</th>\n",
       "      <td>26.961558</td>\n",
       "      <td>41.646057</td>\n",
       "    </tr>\n",
       "    <tr>\n",
       "      <th>the</th>\n",
       "      <td>17.440302</td>\n",
       "      <td>27.139381</td>\n",
       "    </tr>\n",
       "    <tr>\n",
       "      <th>and</th>\n",
       "      <td>16.746842</td>\n",
       "      <td>22.188635</td>\n",
       "    </tr>\n",
       "    <tr>\n",
       "      <th>what</th>\n",
       "      <td>21.136262</td>\n",
       "      <td>31.473508</td>\n",
       "    </tr>\n",
       "    <tr>\n",
       "      <th>of</th>\n",
       "      <td>13.635758</td>\n",
       "      <td>19.541105</td>\n",
       "    </tr>\n",
       "    <tr>\n",
       "      <th>is</th>\n",
       "      <td>12.190652</td>\n",
       "      <td>17.804771</td>\n",
       "    </tr>\n",
       "    <tr>\n",
       "      <th>it</th>\n",
       "      <td>12.711779</td>\n",
       "      <td>16.695735</td>\n",
       "    </tr>\n",
       "    <tr>\n",
       "      <th>do</th>\n",
       "      <td>15.366286</td>\n",
       "      <td>22.871797</td>\n",
       "    </tr>\n",
       "    <tr>\n",
       "      <th>that</th>\n",
       "      <td>11.003177</td>\n",
       "      <td>15.266470</td>\n",
       "    </tr>\n",
       "    <tr>\n",
       "      <th>how</th>\n",
       "      <td>14.282097</td>\n",
       "      <td>21.507610</td>\n",
       "    </tr>\n",
       "    <tr>\n",
       "      <th>in</th>\n",
       "      <td>11.609947</td>\n",
       "      <td>16.130447</td>\n",
       "    </tr>\n",
       "    <tr>\n",
       "      <th>your</th>\n",
       "      <td>17.623733</td>\n",
       "      <td>25.601156</td>\n",
       "    </tr>\n",
       "    <tr>\n",
       "      <th>my</th>\n",
       "      <td>7.662634</td>\n",
       "      <td>8.725076</td>\n",
       "    </tr>\n",
       "    <tr>\n",
       "      <th>for</th>\n",
       "      <td>9.641659</td>\n",
       "      <td>15.303920</td>\n",
       "    </tr>\n",
       "    <tr>\n",
       "      <th>are</th>\n",
       "      <td>9.966987</td>\n",
       "      <td>15.488192</td>\n",
       "    </tr>\n",
       "    <tr>\n",
       "      <th>have</th>\n",
       "      <td>9.413590</td>\n",
       "      <td>14.433533</td>\n",
       "    </tr>\n",
       "    <tr>\n",
       "      <th>with</th>\n",
       "      <td>9.735331</td>\n",
       "      <td>12.232645</td>\n",
       "    </tr>\n",
       "    <tr>\n",
       "      <th>do you</th>\n",
       "      <td>12.760034</td>\n",
       "      <td>18.663900</td>\n",
       "    </tr>\n",
       "    <tr>\n",
       "      <th>but</th>\n",
       "      <td>6.578555</td>\n",
       "      <td>9.323215</td>\n",
       "    </tr>\n",
       "  </tbody>\n",
       "</table>\n",
       "</div>"
      ],
      "text/plain": [
       "         AskWomen     AskMen\n",
       "to      20.762132  28.453759\n",
       "you     26.961558  41.646057\n",
       "the     17.440302  27.139381\n",
       "and     16.746842  22.188635\n",
       "what    21.136262  31.473508\n",
       "of      13.635758  19.541105\n",
       "is      12.190652  17.804771\n",
       "it      12.711779  16.695735\n",
       "do      15.366286  22.871797\n",
       "that    11.003177  15.266470\n",
       "how     14.282097  21.507610\n",
       "in      11.609947  16.130447\n",
       "your    17.623733  25.601156\n",
       "my       7.662634   8.725076\n",
       "for      9.641659  15.303920\n",
       "are      9.966987  15.488192\n",
       "have     9.413590  14.433533\n",
       "with     9.735331  12.232645\n",
       "do you  12.760034  18.663900\n",
       "but      6.578555   9.323215"
      ]
     },
     "execution_count": 109,
     "metadata": {},
     "output_type": "execute_result"
    }
   ],
   "source": [
    "women_word.loc[nb_index,]"
   ]
  },
  {
   "cell_type": "code",
   "execution_count": 111,
   "metadata": {
    "scrolled": false
   },
   "outputs": [
    {
     "data": {
      "image/png": "[encoded data removed]",
      "text/plain": [
       "<Figure size 1080x720 with 1 Axes>"
      ]
     },
     "metadata": {
      "needs_background": "light"
     },
     "output_type": "display_data"
    }
   ],
   "source": [
    "#plot counts \n",
    "plt.figure(figsize = (15,10))\n",
    "plt.title('Target: AskMen,  Keywords From Naive Bayes Model', fontsize = 18)\n",
    "sns.barplot(y = women_word.loc[nb_index,].index, \n",
    "            x = women_word.loc[nb_index,]['AskMen'],\n",
    "            palette=\"Spectral\")\n",
    "plt.savefig('../images/AskMen_Keywords(NB).png')"
   ]
  },
  {
   "cell_type": "code",
   "execution_count": 112,
   "metadata": {
    "scrolled": false
   },
   "outputs": [
    {
     "data": {
      "text/html": [
       "<div>\n",
       "<style scoped>\n",
       "    .dataframe tbody tr th:only-of-type {\n",
       "        vertical-align: middle;\n",
       "    }\n",
       "\n",
       "    .dataframe tbody tr th {\n",
       "        vertical-align: top;\n",
       "    }\n",
       "\n",
       "    .dataframe thead th {\n",
       "        text-align: right;\n",
       "    }\n",
       "</style>\n",
       "<table border=\"1\" class=\"dataframe\">\n",
       "  <thead>\n",
       "    <tr style=\"text-align: right;\">\n",
       "      <th></th>\n",
       "      <th>nb_coef_switched</th>\n",
       "      <th>logit_coef_switched</th>\n",
       "    </tr>\n",
       "  </thead>\n",
       "  <tbody>\n",
       "    <tr>\n",
       "      <th>men</th>\n",
       "      <td>-5.973712</td>\n",
       "      <td>2.316345</td>\n",
       "    </tr>\n",
       "    <tr>\n",
       "      <th>guys</th>\n",
       "      <td>-6.145557</td>\n",
       "      <td>2.090470</td>\n",
       "    </tr>\n",
       "    <tr>\n",
       "      <th>my</th>\n",
       "      <td>-5.529801</td>\n",
       "      <td>1.924988</td>\n",
       "    </tr>\n",
       "    <tr>\n",
       "      <th>to</th>\n",
       "      <td>-4.810618</td>\n",
       "      <td>1.653101</td>\n",
       "    </tr>\n",
       "    <tr>\n",
       "      <th>and</th>\n",
       "      <td>-4.994186</td>\n",
       "      <td>1.596805</td>\n",
       "    </tr>\n",
       "    <tr>\n",
       "      <th>she</th>\n",
       "      <td>-6.118351</td>\n",
       "      <td>1.190787</td>\n",
       "    </tr>\n",
       "    <tr>\n",
       "      <th>her</th>\n",
       "      <td>-6.138620</td>\n",
       "      <td>1.107499</td>\n",
       "    </tr>\n",
       "    <tr>\n",
       "      <th>out</th>\n",
       "      <td>-6.014033</td>\n",
       "      <td>1.055357</td>\n",
       "    </tr>\n",
       "    <tr>\n",
       "      <th>men of</th>\n",
       "      <td>-6.776649</td>\n",
       "      <td>1.032370</td>\n",
       "    </tr>\n",
       "    <tr>\n",
       "      <th>that</th>\n",
       "      <td>-5.401980</td>\n",
       "      <td>0.946948</td>\n",
       "    </tr>\n",
       "    <tr>\n",
       "      <th>girl</th>\n",
       "      <td>-6.487877</td>\n",
       "      <td>0.923017</td>\n",
       "    </tr>\n",
       "    <tr>\n",
       "      <th>is</th>\n",
       "      <td>-5.352484</td>\n",
       "      <td>0.873195</td>\n",
       "    </tr>\n",
       "    <tr>\n",
       "      <th>the</th>\n",
       "      <td>-4.982079</td>\n",
       "      <td>0.846975</td>\n",
       "    </tr>\n",
       "    <tr>\n",
       "      <th>do to</th>\n",
       "      <td>-6.908783</td>\n",
       "      <td>0.845025</td>\n",
       "    </tr>\n",
       "    <tr>\n",
       "      <th>into</th>\n",
       "      <td>-6.580840</td>\n",
       "      <td>0.824095</td>\n",
       "    </tr>\n",
       "    <tr>\n",
       "      <th>me</th>\n",
       "      <td>-5.994100</td>\n",
       "      <td>0.817272</td>\n",
       "    </tr>\n",
       "    <tr>\n",
       "      <th>help</th>\n",
       "      <td>-6.842483</td>\n",
       "      <td>0.804540</td>\n",
       "    </tr>\n",
       "    <tr>\n",
       "      <th>this</th>\n",
       "      <td>-5.974991</td>\n",
       "      <td>0.797351</td>\n",
       "    </tr>\n",
       "    <tr>\n",
       "      <th>nice</th>\n",
       "      <td>-7.086745</td>\n",
       "      <td>0.795830</td>\n",
       "    </tr>\n",
       "    <tr>\n",
       "      <th>man</th>\n",
       "      <td>-6.633494</td>\n",
       "      <td>0.779795</td>\n",
       "    </tr>\n",
       "  </tbody>\n",
       "</table>\n",
       "</div>"
      ],
      "text/plain": [
       "        nb_coef_switched  logit_coef_switched\n",
       "men            -5.973712             2.316345\n",
       "guys           -6.145557             2.090470\n",
       "my             -5.529801             1.924988\n",
       "to             -4.810618             1.653101\n",
       "and            -4.994186             1.596805\n",
       "she            -6.118351             1.190787\n",
       "her            -6.138620             1.107499\n",
       "out            -6.014033             1.055357\n",
       "men of         -6.776649             1.032370\n",
       "that           -5.401980             0.946948\n",
       "girl           -6.487877             0.923017\n",
       "is             -5.352484             0.873195\n",
       "the            -4.982079             0.846975\n",
       "do to          -6.908783             0.845025\n",
       "into           -6.580840             0.824095\n",
       "me             -5.994100             0.817272\n",
       "help           -6.842483             0.804540\n",
       "this           -5.974991             0.797351\n",
       "nice           -7.086745             0.795830\n",
       "man            -6.633494             0.779795"
      ]
     },
     "execution_count": 112,
     "metadata": {},
     "output_type": "execute_result"
    }
   ],
   "source": [
    "#sort by coefficients from highest to lowest, for Logit\n",
    "menwomen_word2.sort_values(by = 'logit_coef_switched', ascending = False).head(20)"
   ]
  },
  {
   "cell_type": "code",
   "execution_count": 113,
   "metadata": {},
   "outputs": [],
   "source": [
    "#extract index for sorted logistic regression\n",
    "logreg_index = menwomen_word2.sort_values(by = 'logit_coef_switched', ascending = False).head(20).index"
   ]
  },
  {
   "cell_type": "code",
   "execution_count": 114,
   "metadata": {},
   "outputs": [
    {
     "data": {
      "text/html": [
       "<div>\n",
       "<style scoped>\n",
       "    .dataframe tbody tr th:only-of-type {\n",
       "        vertical-align: middle;\n",
       "    }\n",
       "\n",
       "    .dataframe tbody tr th {\n",
       "        vertical-align: top;\n",
       "    }\n",
       "\n",
       "    .dataframe thead th {\n",
       "        text-align: right;\n",
       "    }\n",
       "</style>\n",
       "<table border=\"1\" class=\"dataframe\">\n",
       "  <thead>\n",
       "    <tr style=\"text-align: right;\">\n",
       "      <th></th>\n",
       "      <th>AskWomen</th>\n",
       "      <th>AskMen</th>\n",
       "    </tr>\n",
       "  </thead>\n",
       "  <tbody>\n",
       "    <tr>\n",
       "      <th>men</th>\n",
       "      <td>3.661598</td>\n",
       "      <td>5.416497</td>\n",
       "    </tr>\n",
       "    <tr>\n",
       "      <th>guys</th>\n",
       "      <td>1.606848</td>\n",
       "      <td>5.827423</td>\n",
       "    </tr>\n",
       "    <tr>\n",
       "      <th>my</th>\n",
       "      <td>7.662634</td>\n",
       "      <td>8.725076</td>\n",
       "    </tr>\n",
       "    <tr>\n",
       "      <th>to</th>\n",
       "      <td>20.762132</td>\n",
       "      <td>28.453759</td>\n",
       "    </tr>\n",
       "    <tr>\n",
       "      <th>and</th>\n",
       "      <td>16.746842</td>\n",
       "      <td>22.188635</td>\n",
       "    </tr>\n",
       "    <tr>\n",
       "      <th>she</th>\n",
       "      <td>3.246631</td>\n",
       "      <td>4.119725</td>\n",
       "    </tr>\n",
       "    <tr>\n",
       "      <th>her</th>\n",
       "      <td>3.247596</td>\n",
       "      <td>4.102725</td>\n",
       "    </tr>\n",
       "    <tr>\n",
       "      <th>out</th>\n",
       "      <td>4.715427</td>\n",
       "      <td>6.896601</td>\n",
       "    </tr>\n",
       "    <tr>\n",
       "      <th>men of</th>\n",
       "      <td>1.003176</td>\n",
       "      <td>1.981658</td>\n",
       "    </tr>\n",
       "    <tr>\n",
       "      <th>that</th>\n",
       "      <td>11.003177</td>\n",
       "      <td>15.266470</td>\n",
       "    </tr>\n",
       "    <tr>\n",
       "      <th>girl</th>\n",
       "      <td>2.952021</td>\n",
       "      <td>2.530478</td>\n",
       "    </tr>\n",
       "    <tr>\n",
       "      <th>is</th>\n",
       "      <td>12.190652</td>\n",
       "      <td>17.804771</td>\n",
       "    </tr>\n",
       "    <tr>\n",
       "      <th>the</th>\n",
       "      <td>17.440302</td>\n",
       "      <td>27.139381</td>\n",
       "    </tr>\n",
       "    <tr>\n",
       "      <th>do to</th>\n",
       "      <td>1.383463</td>\n",
       "      <td>2.235253</td>\n",
       "    </tr>\n",
       "    <tr>\n",
       "      <th>into</th>\n",
       "      <td>3.099139</td>\n",
       "      <td>2.032364</td>\n",
       "    </tr>\n",
       "    <tr>\n",
       "      <th>me</th>\n",
       "      <td>4.238921</td>\n",
       "      <td>5.743675</td>\n",
       "    </tr>\n",
       "    <tr>\n",
       "      <th>help</th>\n",
       "      <td>1.139357</td>\n",
       "      <td>1.647712</td>\n",
       "    </tr>\n",
       "    <tr>\n",
       "      <th>this</th>\n",
       "      <td>5.778785</td>\n",
       "      <td>5.818523</td>\n",
       "    </tr>\n",
       "    <tr>\n",
       "      <th>nice</th>\n",
       "      <td>0.132183</td>\n",
       "      <td>1.899069</td>\n",
       "    </tr>\n",
       "    <tr>\n",
       "      <th>man</th>\n",
       "      <td>1.796309</td>\n",
       "      <td>3.099343</td>\n",
       "    </tr>\n",
       "  </tbody>\n",
       "</table>\n",
       "</div>"
      ],
      "text/plain": [
       "         AskWomen     AskMen\n",
       "men      3.661598   5.416497\n",
       "guys     1.606848   5.827423\n",
       "my       7.662634   8.725076\n",
       "to      20.762132  28.453759\n",
       "and     16.746842  22.188635\n",
       "she      3.246631   4.119725\n",
       "her      3.247596   4.102725\n",
       "out      4.715427   6.896601\n",
       "men of   1.003176   1.981658\n",
       "that    11.003177  15.266470\n",
       "girl     2.952021   2.530478\n",
       "is      12.190652  17.804771\n",
       "the     17.440302  27.139381\n",
       "do to    1.383463   2.235253\n",
       "into     3.099139   2.032364\n",
       "me       4.238921   5.743675\n",
       "help     1.139357   1.647712\n",
       "this     5.778785   5.818523\n",
       "nice     0.132183   1.899069\n",
       "man      1.796309   3.099343"
      ]
     },
     "execution_count": 114,
     "metadata": {},
     "output_type": "execute_result"
    }
   ],
   "source": [
    "women_word.loc[logreg_index,]"
   ]
  },
  {
   "cell_type": "code",
   "execution_count": 115,
   "metadata": {},
   "outputs": [
    {
     "data": {
      "image/png": "[encoded data removed]",
      "text/plain": [
       "<Figure size 1080x720 with 1 Axes>"
      ]
     },
     "metadata": {
      "needs_background": "light"
     },
     "output_type": "display_data"
    }
   ],
   "source": [
    "#plot counts \n",
    "plt.figure(figsize = (15,10))\n",
    "plt.title('Target: AskMen,  Keywords From Logistic Regression Model', fontsize = 18)\n",
    "sns.barplot(y = women_word.loc[logreg_index,].index, \n",
    "            x = women_word.loc[logreg_index,]['AskMen'],\n",
    "            palette=\"Spectral_r\")\n",
    "plt.savefig('../images/AskMen_Keywords(logreg).png')"
   ]
  },
  {
   "cell_type": "code",
   "execution_count": null,
   "metadata": {},
   "outputs": [],
   "source": []
  }
 ],
 "metadata": {
  "kernelspec": {
   "display_name": "Python 3",
   "language": "python",
   "name": "python3"
  },
  "language_info": {
   "codemirror_mode": {
    "name": "ipython",
    "version": 3
   },
   "file_extension": ".py",
   "mimetype": "text/x-python",
   "name": "python",
   "nbconvert_exporter": "python",
   "pygments_lexer": "ipython3",
   "version": "3.7.1"
  }
 },
 "nbformat": 4,
 "nbformat_minor": 2
}
