{
 "cells": [
  {
   "cell_type": "markdown",
   "metadata": {},
   "source": [
    "# Web APIs & Classification"
   ]
  },
  {
   "cell_type": "markdown",
   "metadata": {},
   "source": [
    "## Project Challenge Statement\n",
    "\n",
    "### Goal: \n",
    "#### 1. Using Reddit's API, collect posts from two subreddits: AskWomen, AskMen, Relationship_Advice. \n",
    "#### 2. NLP to train a classifier on which subreddit a given post came from. This is a binary classification problem.\n",
    "\n",
    "\n",
    "\n",
    "### Data Cleaning Steps \n",
    "\n",
    "#### 1. Cleaning Length_of_time Variable \n",
    "-  Build the instance of this time, use it to subtract the time to get the time length of the post\n",
    "\n",
    "#### 2. Cleaning Title \n",
    "- Remove unecessay indent and all that, keep text only. \n",
    "\n",
    "#### 3. Cleaning Content \n",
    "- Remove unecessay indent and all that, keep text only. \n",
    "\n",
    "#### 4. Combining DataFrame \n",
    "- AskMen vs AskWomen \n",
    "- AskWomen vs Relationship_Advice \n",
    "- AskMen vs Relationship_Advice "
   ]
  },
  {
   "cell_type": "markdown",
   "metadata": {},
   "source": [
    "## Table of Contents \n",
    "\n",
    "This Notebook is broken down into different sections for analysis purpose. The following links are connected to differenct section within the Notebook for simple navigation. \n",
    "\n",
    "### Contents:\n",
    "- [Cleaning Length_of_time Variable](#Cleaning-Length_of_time-Variable)\n",
    "- [Cleaning Title](#Cleaning-Title)\n",
    "- [Cleaning Content](#Cleaning-Content)\n",
    "- [Combining DataFrame](#Combining-DataFrame)"
   ]
  },
  {
   "cell_type": "code",
   "execution_count": 1,
   "metadata": {},
   "outputs": [],
   "source": [
    "#Import libraries \n",
    "import requests \n",
    "import pandas as pd \n",
    "import datetime\n",
    "import time \n",
    "import re"
   ]
  },
  {
   "cell_type": "code",
   "execution_count": 2,
   "metadata": {},
   "outputs": [],
   "source": [
    "#import data \n",
    "men_df = pd.read_csv(\"../data/AskMen.csv\")\n",
    "women_df = pd.read_csv(\"../data/AskWomen.csv\")\n",
    "relationship_df = pd.read_csv(\"../data/relationship_advice.csv\")"
   ]
  },
  {
   "cell_type": "markdown",
   "metadata": {},
   "source": [
    "## Cleaning Length_of_time Variable"
   ]
  },
  {
   "cell_type": "code",
   "execution_count": 3,
   "metadata": {},
   "outputs": [
    {
     "data": {
      "text/plain": [
       "1554436322.0"
      ]
     },
     "execution_count": 3,
     "metadata": {},
     "output_type": "execute_result"
    }
   ],
   "source": [
    "#3/31 2019, 1:38 pm as the time stamp for now \n",
    "dt = datetime.datetime.now()\n",
    "now  = time.mktime(dt.timetuple())\n",
    "now "
   ]
  },
  {
   "cell_type": "code",
   "execution_count": 4,
   "metadata": {},
   "outputs": [],
   "source": [
    "#build function to change time \n",
    "\n",
    "def time_stamp_to_day(time_column):\n",
    "    post_length = []\n",
    "    for time in time_column: \n",
    "        length = now - time\n",
    "        length = length/86400  #86400 seconds in a day, we get number of days of the post has been made \n",
    "        day = round(length, 2)\n",
    "        post_length.append(day)\n",
    "    return post_length"
   ]
  },
  {
   "cell_type": "code",
   "execution_count": 5,
   "metadata": {},
   "outputs": [
    {
     "data": {
      "text/html": [
       "<div>\n",
       "<style scoped>\n",
       "    .dataframe tbody tr th:only-of-type {\n",
       "        vertical-align: middle;\n",
       "    }\n",
       "\n",
       "    .dataframe tbody tr th {\n",
       "        vertical-align: top;\n",
       "    }\n",
       "\n",
       "    .dataframe thead th {\n",
       "        text-align: right;\n",
       "    }\n",
       "</style>\n",
       "<table border=\"1\" class=\"dataframe\">\n",
       "  <thead>\n",
       "    <tr style=\"text-align: right;\">\n",
       "      <th></th>\n",
       "      <th>Unnamed: 0</th>\n",
       "      <th>Content</th>\n",
       "      <th>ID</th>\n",
       "      <th>Length_of_time</th>\n",
       "      <th>Number_of_comment</th>\n",
       "      <th>Subreddit</th>\n",
       "      <th>Title</th>\n",
       "      <th>Length_of_time_days</th>\n",
       "    </tr>\n",
       "  </thead>\n",
       "  <tbody>\n",
       "    <tr>\n",
       "      <th>0</th>\n",
       "      <td>0</td>\n",
       "      <td>Hello and welcome to the final discussion thre...</td>\n",
       "      <td>t3_b68n3g</td>\n",
       "      <td>1.553715e+09</td>\n",
       "      <td>4</td>\n",
       "      <td>AskMen</td>\n",
       "      <td>The AskMen Book Club: \"The Picture of Dorian G...</td>\n",
       "      <td>8.34</td>\n",
       "    </tr>\n",
       "    <tr>\n",
       "      <th>1</th>\n",
       "      <td>1</td>\n",
       "      <td>My dads health has been declining for while, n...</td>\n",
       "      <td>t3_b6q6yr</td>\n",
       "      <td>1.553817e+09</td>\n",
       "      <td>354</td>\n",
       "      <td>AskMen</td>\n",
       "      <td>I am starting to realise my dad wont live fore...</td>\n",
       "      <td>7.17</td>\n",
       "    </tr>\n",
       "  </tbody>\n",
       "</table>\n",
       "</div>"
      ],
      "text/plain": [
       "   Unnamed: 0                                            Content         ID  \\\n",
       "0           0  Hello and welcome to the final discussion thre...  t3_b68n3g   \n",
       "1           1  My dads health has been declining for while, n...  t3_b6q6yr   \n",
       "\n",
       "   Length_of_time  Number_of_comment Subreddit  \\\n",
       "0    1.553715e+09                  4    AskMen   \n",
       "1    1.553817e+09                354    AskMen   \n",
       "\n",
       "                                               Title  Length_of_time_days  \n",
       "0  The AskMen Book Club: \"The Picture of Dorian G...                 8.34  \n",
       "1  I am starting to realise my dad wont live fore...                 7.17  "
      ]
     },
     "execution_count": 5,
     "metadata": {},
     "output_type": "execute_result"
    }
   ],
   "source": [
    "#Engineering days for Men df \n",
    "men_df['Length_of_time_days'] = time_stamp_to_day(men_df['Length_of_time'])\n",
    "men_df.head(2)"
   ]
  },
  {
   "cell_type": "code",
   "execution_count": 6,
   "metadata": {},
   "outputs": [
    {
     "data": {
      "text/html": [
       "<div>\n",
       "<style scoped>\n",
       "    .dataframe tbody tr th:only-of-type {\n",
       "        vertical-align: middle;\n",
       "    }\n",
       "\n",
       "    .dataframe tbody tr th {\n",
       "        vertical-align: top;\n",
       "    }\n",
       "\n",
       "    .dataframe thead th {\n",
       "        text-align: right;\n",
       "    }\n",
       "</style>\n",
       "<table border=\"1\" class=\"dataframe\">\n",
       "  <thead>\n",
       "    <tr style=\"text-align: right;\">\n",
       "      <th></th>\n",
       "      <th>Unnamed: 0</th>\n",
       "      <th>Content</th>\n",
       "      <th>ID</th>\n",
       "      <th>Length_of_time</th>\n",
       "      <th>Number_of_comment</th>\n",
       "      <th>Subreddit</th>\n",
       "      <th>Title</th>\n",
       "      <th>Length_of_time_days</th>\n",
       "    </tr>\n",
       "  </thead>\n",
       "  <tbody>\n",
       "    <tr>\n",
       "      <th>0</th>\n",
       "      <td>0</td>\n",
       "      <td>**Welcome to AskWomen!**\\n\\nIn honor of the ch...</td>\n",
       "      <td>t3_b3r260</td>\n",
       "      <td>1.553178e+09</td>\n",
       "      <td>0</td>\n",
       "      <td>AskWomen</td>\n",
       "      <td>Welcome to a new season! Spring/Fall AskWomen ...</td>\n",
       "      <td>14.57</td>\n",
       "    </tr>\n",
       "    <tr>\n",
       "      <th>1</th>\n",
       "      <td>1</td>\n",
       "      <td>NaN</td>\n",
       "      <td>t3_b6vwfn</td>\n",
       "      <td>1.553858e+09</td>\n",
       "      <td>45</td>\n",
       "      <td>AskWomen</td>\n",
       "      <td>What was a time you had to let a dream (i.e. c...</td>\n",
       "      <td>6.70</td>\n",
       "    </tr>\n",
       "  </tbody>\n",
       "</table>\n",
       "</div>"
      ],
      "text/plain": [
       "   Unnamed: 0                                            Content         ID  \\\n",
       "0           0  **Welcome to AskWomen!**\\n\\nIn honor of the ch...  t3_b3r260   \n",
       "1           1                                                NaN  t3_b6vwfn   \n",
       "\n",
       "   Length_of_time  Number_of_comment Subreddit  \\\n",
       "0    1.553178e+09                  0  AskWomen   \n",
       "1    1.553858e+09                 45  AskWomen   \n",
       "\n",
       "                                               Title  Length_of_time_days  \n",
       "0  Welcome to a new season! Spring/Fall AskWomen ...                14.57  \n",
       "1  What was a time you had to let a dream (i.e. c...                 6.70  "
      ]
     },
     "execution_count": 6,
     "metadata": {},
     "output_type": "execute_result"
    }
   ],
   "source": [
    "#Engineering days for women df \n",
    "women_df['Length_of_time_days'] = time_stamp_to_day(women_df['Length_of_time'])\n",
    "women_df.head(2)"
   ]
  },
  {
   "cell_type": "code",
   "execution_count": 7,
   "metadata": {},
   "outputs": [
    {
     "data": {
      "text/html": [
       "<div>\n",
       "<style scoped>\n",
       "    .dataframe tbody tr th:only-of-type {\n",
       "        vertical-align: middle;\n",
       "    }\n",
       "\n",
       "    .dataframe tbody tr th {\n",
       "        vertical-align: top;\n",
       "    }\n",
       "\n",
       "    .dataframe thead th {\n",
       "        text-align: right;\n",
       "    }\n",
       "</style>\n",
       "<table border=\"1\" class=\"dataframe\">\n",
       "  <thead>\n",
       "    <tr style=\"text-align: right;\">\n",
       "      <th></th>\n",
       "      <th>Unnamed: 0</th>\n",
       "      <th>Content</th>\n",
       "      <th>ID</th>\n",
       "      <th>Length_of_time</th>\n",
       "      <th>Number_of_comment</th>\n",
       "      <th>Subreddit</th>\n",
       "      <th>Title</th>\n",
       "      <th>Length_of_time_days</th>\n",
       "    </tr>\n",
       "  </thead>\n",
       "  <tbody>\n",
       "    <tr>\n",
       "      <th>0</th>\n",
       "      <td>0</td>\n",
       "      <td>###Applications are open.\\n\\nApplications may ...</td>\n",
       "      <td>t3_b11tx5</td>\n",
       "      <td>1.552578e+09</td>\n",
       "      <td>23</td>\n",
       "      <td>relationship_advice</td>\n",
       "      <td>[Meta] Mod Applications</td>\n",
       "      <td>21.51</td>\n",
       "    </tr>\n",
       "    <tr>\n",
       "      <th>1</th>\n",
       "      <td>1</td>\n",
       "      <td>Since two or three times a week we end up remo...</td>\n",
       "      <td>t3_b2nc2f</td>\n",
       "      <td>1.552939e+09</td>\n",
       "      <td>52</td>\n",
       "      <td>relationship_advice</td>\n",
       "      <td>[meta] Think of the comments as an inverted Ub...</td>\n",
       "      <td>17.32</td>\n",
       "    </tr>\n",
       "  </tbody>\n",
       "</table>\n",
       "</div>"
      ],
      "text/plain": [
       "   Unnamed: 0                                            Content         ID  \\\n",
       "0           0  ###Applications are open.\\n\\nApplications may ...  t3_b11tx5   \n",
       "1           1  Since two or three times a week we end up remo...  t3_b2nc2f   \n",
       "\n",
       "   Length_of_time  Number_of_comment            Subreddit  \\\n",
       "0    1.552578e+09                 23  relationship_advice   \n",
       "1    1.552939e+09                 52  relationship_advice   \n",
       "\n",
       "                                               Title  Length_of_time_days  \n",
       "0                            [Meta] Mod Applications                21.51  \n",
       "1  [meta] Think of the comments as an inverted Ub...                17.32  "
      ]
     },
     "execution_count": 7,
     "metadata": {},
     "output_type": "execute_result"
    }
   ],
   "source": [
    "#Engineering days for relationship df \n",
    "relationship_df['Length_of_time_days'] = time_stamp_to_day(relationship_df['Length_of_time'])\n",
    "relationship_df.head(2)"
   ]
  },
  {
   "cell_type": "markdown",
   "metadata": {},
   "source": [
    "## Cleaning Title"
   ]
  },
  {
   "cell_type": "code",
   "execution_count": 8,
   "metadata": {},
   "outputs": [],
   "source": [
    "#cleaning title fuction \n",
    "def clean_title(title_columns): \n",
    "    clean_title = []\n",
    "    for m in title_columns: \n",
    "        col = re.sub(\"[^a-zA-Z]\", \" \", m)\n",
    "        clean_title.append(col)\n",
    "    return clean_title"
   ]
  },
  {
   "cell_type": "code",
   "execution_count": 9,
   "metadata": {},
   "outputs": [
    {
     "data": {
      "text/html": [
       "<div>\n",
       "<style scoped>\n",
       "    .dataframe tbody tr th:only-of-type {\n",
       "        vertical-align: middle;\n",
       "    }\n",
       "\n",
       "    .dataframe tbody tr th {\n",
       "        vertical-align: top;\n",
       "    }\n",
       "\n",
       "    .dataframe thead th {\n",
       "        text-align: right;\n",
       "    }\n",
       "</style>\n",
       "<table border=\"1\" class=\"dataframe\">\n",
       "  <thead>\n",
       "    <tr style=\"text-align: right;\">\n",
       "      <th></th>\n",
       "      <th>Unnamed: 0</th>\n",
       "      <th>Content</th>\n",
       "      <th>ID</th>\n",
       "      <th>Length_of_time</th>\n",
       "      <th>Number_of_comment</th>\n",
       "      <th>Subreddit</th>\n",
       "      <th>Title</th>\n",
       "      <th>Length_of_time_days</th>\n",
       "      <th>Clean_Title</th>\n",
       "    </tr>\n",
       "  </thead>\n",
       "  <tbody>\n",
       "    <tr>\n",
       "      <th>0</th>\n",
       "      <td>0</td>\n",
       "      <td>Hello and welcome to the final discussion thre...</td>\n",
       "      <td>t3_b68n3g</td>\n",
       "      <td>1.553715e+09</td>\n",
       "      <td>4</td>\n",
       "      <td>AskMen</td>\n",
       "      <td>The AskMen Book Club: \"The Picture of Dorian G...</td>\n",
       "      <td>8.34</td>\n",
       "      <td>The AskMen Book Club   The Picture of Dorian G...</td>\n",
       "    </tr>\n",
       "    <tr>\n",
       "      <th>1</th>\n",
       "      <td>1</td>\n",
       "      <td>My dads health has been declining for while, n...</td>\n",
       "      <td>t3_b6q6yr</td>\n",
       "      <td>1.553817e+09</td>\n",
       "      <td>354</td>\n",
       "      <td>AskMen</td>\n",
       "      <td>I am starting to realise my dad wont live fore...</td>\n",
       "      <td>7.17</td>\n",
       "      <td>I am starting to realise my dad wont live fore...</td>\n",
       "    </tr>\n",
       "  </tbody>\n",
       "</table>\n",
       "</div>"
      ],
      "text/plain": [
       "   Unnamed: 0                                            Content         ID  \\\n",
       "0           0  Hello and welcome to the final discussion thre...  t3_b68n3g   \n",
       "1           1  My dads health has been declining for while, n...  t3_b6q6yr   \n",
       "\n",
       "   Length_of_time  Number_of_comment Subreddit  \\\n",
       "0    1.553715e+09                  4    AskMen   \n",
       "1    1.553817e+09                354    AskMen   \n",
       "\n",
       "                                               Title  Length_of_time_days  \\\n",
       "0  The AskMen Book Club: \"The Picture of Dorian G...                 8.34   \n",
       "1  I am starting to realise my dad wont live fore...                 7.17   \n",
       "\n",
       "                                         Clean_Title  \n",
       "0  The AskMen Book Club   The Picture of Dorian G...  \n",
       "1  I am starting to realise my dad wont live fore...  "
      ]
     },
     "execution_count": 9,
     "metadata": {},
     "output_type": "execute_result"
    }
   ],
   "source": [
    "#Cleaning title columns for Men df\n",
    "men_df[\"Clean_Title\"] = clean_title(men_df['Title'])\n",
    "men_df.head(2)"
   ]
  },
  {
   "cell_type": "code",
   "execution_count": 10,
   "metadata": {},
   "outputs": [
    {
     "data": {
      "text/html": [
       "<div>\n",
       "<style scoped>\n",
       "    .dataframe tbody tr th:only-of-type {\n",
       "        vertical-align: middle;\n",
       "    }\n",
       "\n",
       "    .dataframe tbody tr th {\n",
       "        vertical-align: top;\n",
       "    }\n",
       "\n",
       "    .dataframe thead th {\n",
       "        text-align: right;\n",
       "    }\n",
       "</style>\n",
       "<table border=\"1\" class=\"dataframe\">\n",
       "  <thead>\n",
       "    <tr style=\"text-align: right;\">\n",
       "      <th></th>\n",
       "      <th>Unnamed: 0</th>\n",
       "      <th>Content</th>\n",
       "      <th>ID</th>\n",
       "      <th>Length_of_time</th>\n",
       "      <th>Number_of_comment</th>\n",
       "      <th>Subreddit</th>\n",
       "      <th>Title</th>\n",
       "      <th>Length_of_time_days</th>\n",
       "      <th>Clean_Title</th>\n",
       "    </tr>\n",
       "  </thead>\n",
       "  <tbody>\n",
       "    <tr>\n",
       "      <th>0</th>\n",
       "      <td>0</td>\n",
       "      <td>**Welcome to AskWomen!**\\n\\nIn honor of the ch...</td>\n",
       "      <td>t3_b3r260</td>\n",
       "      <td>1.553178e+09</td>\n",
       "      <td>0</td>\n",
       "      <td>AskWomen</td>\n",
       "      <td>Welcome to a new season! Spring/Fall AskWomen ...</td>\n",
       "      <td>14.57</td>\n",
       "      <td>Welcome to a new season  Spring Fall AskWomen ...</td>\n",
       "    </tr>\n",
       "    <tr>\n",
       "      <th>1</th>\n",
       "      <td>1</td>\n",
       "      <td>NaN</td>\n",
       "      <td>t3_b6vwfn</td>\n",
       "      <td>1.553858e+09</td>\n",
       "      <td>45</td>\n",
       "      <td>AskWomen</td>\n",
       "      <td>What was a time you had to let a dream (i.e. c...</td>\n",
       "      <td>6.70</td>\n",
       "      <td>What was a time you had to let a dream  i e  c...</td>\n",
       "    </tr>\n",
       "  </tbody>\n",
       "</table>\n",
       "</div>"
      ],
      "text/plain": [
       "   Unnamed: 0                                            Content         ID  \\\n",
       "0           0  **Welcome to AskWomen!**\\n\\nIn honor of the ch...  t3_b3r260   \n",
       "1           1                                                NaN  t3_b6vwfn   \n",
       "\n",
       "   Length_of_time  Number_of_comment Subreddit  \\\n",
       "0    1.553178e+09                  0  AskWomen   \n",
       "1    1.553858e+09                 45  AskWomen   \n",
       "\n",
       "                                               Title  Length_of_time_days  \\\n",
       "0  Welcome to a new season! Spring/Fall AskWomen ...                14.57   \n",
       "1  What was a time you had to let a dream (i.e. c...                 6.70   \n",
       "\n",
       "                                         Clean_Title  \n",
       "0  Welcome to a new season  Spring Fall AskWomen ...  \n",
       "1  What was a time you had to let a dream  i e  c...  "
      ]
     },
     "execution_count": 10,
     "metadata": {},
     "output_type": "execute_result"
    }
   ],
   "source": [
    "#Cleaning title columns for women df\n",
    "women_df[\"Clean_Title\"] = clean_title(women_df['Title'])\n",
    "women_df.head(2)"
   ]
  },
  {
   "cell_type": "code",
   "execution_count": 11,
   "metadata": {},
   "outputs": [
    {
     "data": {
      "text/html": [
       "<div>\n",
       "<style scoped>\n",
       "    .dataframe tbody tr th:only-of-type {\n",
       "        vertical-align: middle;\n",
       "    }\n",
       "\n",
       "    .dataframe tbody tr th {\n",
       "        vertical-align: top;\n",
       "    }\n",
       "\n",
       "    .dataframe thead th {\n",
       "        text-align: right;\n",
       "    }\n",
       "</style>\n",
       "<table border=\"1\" class=\"dataframe\">\n",
       "  <thead>\n",
       "    <tr style=\"text-align: right;\">\n",
       "      <th></th>\n",
       "      <th>Unnamed: 0</th>\n",
       "      <th>Content</th>\n",
       "      <th>ID</th>\n",
       "      <th>Length_of_time</th>\n",
       "      <th>Number_of_comment</th>\n",
       "      <th>Subreddit</th>\n",
       "      <th>Title</th>\n",
       "      <th>Length_of_time_days</th>\n",
       "      <th>Clean_Title</th>\n",
       "    </tr>\n",
       "  </thead>\n",
       "  <tbody>\n",
       "    <tr>\n",
       "      <th>0</th>\n",
       "      <td>0</td>\n",
       "      <td>###Applications are open.\\n\\nApplications may ...</td>\n",
       "      <td>t3_b11tx5</td>\n",
       "      <td>1.552578e+09</td>\n",
       "      <td>23</td>\n",
       "      <td>relationship_advice</td>\n",
       "      <td>[Meta] Mod Applications</td>\n",
       "      <td>21.51</td>\n",
       "      <td>Meta  Mod Applications</td>\n",
       "    </tr>\n",
       "    <tr>\n",
       "      <th>1</th>\n",
       "      <td>1</td>\n",
       "      <td>Since two or three times a week we end up remo...</td>\n",
       "      <td>t3_b2nc2f</td>\n",
       "      <td>1.552939e+09</td>\n",
       "      <td>52</td>\n",
       "      <td>relationship_advice</td>\n",
       "      <td>[meta] Think of the comments as an inverted Ub...</td>\n",
       "      <td>17.32</td>\n",
       "      <td>meta  Think of the comments as an inverted Ub...</td>\n",
       "    </tr>\n",
       "  </tbody>\n",
       "</table>\n",
       "</div>"
      ],
      "text/plain": [
       "   Unnamed: 0                                            Content         ID  \\\n",
       "0           0  ###Applications are open.\\n\\nApplications may ...  t3_b11tx5   \n",
       "1           1  Since two or three times a week we end up remo...  t3_b2nc2f   \n",
       "\n",
       "   Length_of_time  Number_of_comment            Subreddit  \\\n",
       "0    1.552578e+09                 23  relationship_advice   \n",
       "1    1.552939e+09                 52  relationship_advice   \n",
       "\n",
       "                                               Title  Length_of_time_days  \\\n",
       "0                            [Meta] Mod Applications                21.51   \n",
       "1  [meta] Think of the comments as an inverted Ub...                17.32   \n",
       "\n",
       "                                         Clean_Title  \n",
       "0                             Meta  Mod Applications  \n",
       "1   meta  Think of the comments as an inverted Ub...  "
      ]
     },
     "execution_count": 11,
     "metadata": {},
     "output_type": "execute_result"
    }
   ],
   "source": [
    "#Cleaning title columns for relationship df\n",
    "relationship_df[\"Clean_Title\"] = clean_title(relationship_df['Title'])\n",
    "relationship_df.head(2)"
   ]
  },
  {
   "cell_type": "markdown",
   "metadata": {},
   "source": [
    "## Cleaning Content"
   ]
  },
  {
   "cell_type": "markdown",
   "metadata": {},
   "source": [
    "#### Notes : \n",
    "Some of the reddit posts does not have content because some of them are image/gif, and others put their content as part of the title. To solve this problem, I will combine the title and the content together into one cell. "
   ]
  },
  {
   "cell_type": "code",
   "execution_count": 12,
   "metadata": {},
   "outputs": [
    {
     "data": {
      "text/plain": [
       "229"
      ]
     },
     "execution_count": 12,
     "metadata": {},
     "output_type": "execute_result"
    }
   ],
   "source": [
    "# Men df missing values \n",
    "men_df['Content'].isnull().sum()"
   ]
  },
  {
   "cell_type": "code",
   "execution_count": 13,
   "metadata": {},
   "outputs": [
    {
     "data": {
      "text/plain": [
       "512"
      ]
     },
     "execution_count": 13,
     "metadata": {},
     "output_type": "execute_result"
    }
   ],
   "source": [
    "# Women df missing values \n",
    "women_df['Content'].isnull().sum()"
   ]
  },
  {
   "cell_type": "code",
   "execution_count": 14,
   "metadata": {},
   "outputs": [
    {
     "data": {
      "text/plain": [
       "5"
      ]
     },
     "execution_count": 14,
     "metadata": {},
     "output_type": "execute_result"
    }
   ],
   "source": [
    "# relationship df missing values \n",
    "relationship_df['Content'].isnull().sum()"
   ]
  },
  {
   "cell_type": "markdown",
   "metadata": {},
   "source": [
    "#### Combining Title Column with Content Column For men_df"
   ]
  },
  {
   "cell_type": "code",
   "execution_count": 15,
   "metadata": {
    "scrolled": true
   },
   "outputs": [],
   "source": [
    "#Combinding columns for men_df \n",
    "title_content = []\n",
    "\n",
    "for i in list(men_df.index): \n",
    "    if str(men_df['Content'][i])  == \"nan\":\n",
    "        title_content.append(str(men_df['Clean_Title'][i]))\n",
    "        \n",
    "    else: \n",
    "        title_content.append(str(men_df['Clean_Title'][i]) + str(men_df['Content'][i]))\n",
    "        \n",
    "#cleaning the column \n",
    "men_df['Title_Content'] = title_content\n",
    "men_df[\"Title_Content\"] = clean_title(men_df['Title_Content'])"
   ]
  },
  {
   "cell_type": "code",
   "execution_count": 16,
   "metadata": {},
   "outputs": [
    {
     "data": {
      "text/plain": [
       "'What are some things on your mind that you can t talk about without being told  be a man  '"
      ]
     },
     "execution_count": 16,
     "metadata": {},
     "output_type": "execute_result"
    }
   ],
   "source": [
    "title_content[4]"
   ]
  },
  {
   "cell_type": "code",
   "execution_count": 17,
   "metadata": {
    "scrolled": false
   },
   "outputs": [
    {
     "data": {
      "text/plain": [
       "0"
      ]
     },
     "execution_count": 17,
     "metadata": {},
     "output_type": "execute_result"
    }
   ],
   "source": [
    "men_df['Title_Content'].isnull().sum()"
   ]
  },
  {
   "cell_type": "code",
   "execution_count": 18,
   "metadata": {
    "scrolled": false
   },
   "outputs": [
    {
     "data": {
      "text/html": [
       "<div>\n",
       "<style scoped>\n",
       "    .dataframe tbody tr th:only-of-type {\n",
       "        vertical-align: middle;\n",
       "    }\n",
       "\n",
       "    .dataframe tbody tr th {\n",
       "        vertical-align: top;\n",
       "    }\n",
       "\n",
       "    .dataframe thead th {\n",
       "        text-align: right;\n",
       "    }\n",
       "</style>\n",
       "<table border=\"1\" class=\"dataframe\">\n",
       "  <thead>\n",
       "    <tr style=\"text-align: right;\">\n",
       "      <th></th>\n",
       "      <th>Unnamed: 0</th>\n",
       "      <th>Content</th>\n",
       "      <th>ID</th>\n",
       "      <th>Length_of_time</th>\n",
       "      <th>Number_of_comment</th>\n",
       "      <th>Subreddit</th>\n",
       "      <th>Title</th>\n",
       "      <th>Length_of_time_days</th>\n",
       "      <th>Clean_Title</th>\n",
       "      <th>Title_Content</th>\n",
       "    </tr>\n",
       "  </thead>\n",
       "  <tbody>\n",
       "    <tr>\n",
       "      <th>0</th>\n",
       "      <td>0</td>\n",
       "      <td>Hello and welcome to the final discussion thre...</td>\n",
       "      <td>t3_b68n3g</td>\n",
       "      <td>1.553715e+09</td>\n",
       "      <td>4</td>\n",
       "      <td>AskMen</td>\n",
       "      <td>The AskMen Book Club: \"The Picture of Dorian G...</td>\n",
       "      <td>8.34</td>\n",
       "      <td>The AskMen Book Club   The Picture of Dorian G...</td>\n",
       "      <td>The AskMen Book Club   The Picture of Dorian G...</td>\n",
       "    </tr>\n",
       "    <tr>\n",
       "      <th>1</th>\n",
       "      <td>1</td>\n",
       "      <td>My dads health has been declining for while, n...</td>\n",
       "      <td>t3_b6q6yr</td>\n",
       "      <td>1.553817e+09</td>\n",
       "      <td>354</td>\n",
       "      <td>AskMen</td>\n",
       "      <td>I am starting to realise my dad wont live fore...</td>\n",
       "      <td>7.17</td>\n",
       "      <td>I am starting to realise my dad wont live fore...</td>\n",
       "      <td>I am starting to realise my dad wont live fore...</td>\n",
       "    </tr>\n",
       "    <tr>\n",
       "      <th>2</th>\n",
       "      <td>2</td>\n",
       "      <td>Constructive criticism is good so I will start...</td>\n",
       "      <td>t3_b6vx6s</td>\n",
       "      <td>1.553858e+09</td>\n",
       "      <td>301</td>\n",
       "      <td>AskMen</td>\n",
       "      <td>What do you see on women's dating profiles tha...</td>\n",
       "      <td>6.70</td>\n",
       "      <td>What do you see on women s dating profiles tha...</td>\n",
       "      <td>What do you see on women s dating profiles tha...</td>\n",
       "    </tr>\n",
       "    <tr>\n",
       "      <th>3</th>\n",
       "      <td>3</td>\n",
       "      <td>Because constructive criticism is helpful \\n\\n...</td>\n",
       "      <td>t3_b6xrue</td>\n",
       "      <td>1.553869e+09</td>\n",
       "      <td>20</td>\n",
       "      <td>AskMen</td>\n",
       "      <td>What could women put in their dating profiles ...</td>\n",
       "      <td>6.57</td>\n",
       "      <td>What could women put in their dating profiles ...</td>\n",
       "      <td>What could women put in their dating profiles ...</td>\n",
       "    </tr>\n",
       "    <tr>\n",
       "      <th>4</th>\n",
       "      <td>4</td>\n",
       "      <td>NaN</td>\n",
       "      <td>t3_b6wej9</td>\n",
       "      <td>1.553861e+09</td>\n",
       "      <td>38</td>\n",
       "      <td>AskMen</td>\n",
       "      <td>What are some things on your mind that you can...</td>\n",
       "      <td>6.66</td>\n",
       "      <td>What are some things on your mind that you can...</td>\n",
       "      <td>What are some things on your mind that you can...</td>\n",
       "    </tr>\n",
       "  </tbody>\n",
       "</table>\n",
       "</div>"
      ],
      "text/plain": [
       "   Unnamed: 0                                            Content         ID  \\\n",
       "0           0  Hello and welcome to the final discussion thre...  t3_b68n3g   \n",
       "1           1  My dads health has been declining for while, n...  t3_b6q6yr   \n",
       "2           2  Constructive criticism is good so I will start...  t3_b6vx6s   \n",
       "3           3  Because constructive criticism is helpful \\n\\n...  t3_b6xrue   \n",
       "4           4                                                NaN  t3_b6wej9   \n",
       "\n",
       "   Length_of_time  Number_of_comment Subreddit  \\\n",
       "0    1.553715e+09                  4    AskMen   \n",
       "1    1.553817e+09                354    AskMen   \n",
       "2    1.553858e+09                301    AskMen   \n",
       "3    1.553869e+09                 20    AskMen   \n",
       "4    1.553861e+09                 38    AskMen   \n",
       "\n",
       "                                               Title  Length_of_time_days  \\\n",
       "0  The AskMen Book Club: \"The Picture of Dorian G...                 8.34   \n",
       "1  I am starting to realise my dad wont live fore...                 7.17   \n",
       "2  What do you see on women's dating profiles tha...                 6.70   \n",
       "3  What could women put in their dating profiles ...                 6.57   \n",
       "4  What are some things on your mind that you can...                 6.66   \n",
       "\n",
       "                                         Clean_Title  \\\n",
       "0  The AskMen Book Club   The Picture of Dorian G...   \n",
       "1  I am starting to realise my dad wont live fore...   \n",
       "2  What do you see on women s dating profiles tha...   \n",
       "3  What could women put in their dating profiles ...   \n",
       "4  What are some things on your mind that you can...   \n",
       "\n",
       "                                       Title_Content  \n",
       "0  The AskMen Book Club   The Picture of Dorian G...  \n",
       "1  I am starting to realise my dad wont live fore...  \n",
       "2  What do you see on women s dating profiles tha...  \n",
       "3  What could women put in their dating profiles ...  \n",
       "4  What are some things on your mind that you can...  "
      ]
     },
     "execution_count": 18,
     "metadata": {},
     "output_type": "execute_result"
    }
   ],
   "source": [
    "men_df.head(5)"
   ]
  },
  {
   "cell_type": "markdown",
   "metadata": {},
   "source": [
    "#### Combining Title Column with Content Column For women_df"
   ]
  },
  {
   "cell_type": "code",
   "execution_count": 19,
   "metadata": {
    "scrolled": true
   },
   "outputs": [],
   "source": [
    "#Combinding columns for wowomen_df \n",
    "title_content = []\n",
    "\n",
    "for i in list(women_df.index): \n",
    "    if str(women_df['Content'][i])  == \"nan\":\n",
    "        title_content.append(str(women_df['Clean_Title'][i]))\n",
    "        \n",
    "    else: \n",
    "        title_content.append(str(women_df['Clean_Title'][i]) + str(women_df['Content'][i]))\n",
    "        \n",
    "#cleaning the column \n",
    "women_df['Title_Content'] = title_content\n",
    "women_df[\"Title_Content\"] = clean_title(women_df['Title_Content'])"
   ]
  },
  {
   "cell_type": "code",
   "execution_count": 20,
   "metadata": {},
   "outputs": [
    {
     "data": {
      "text/plain": [
       "'What was a time you had to let a dream  i e  career  hopes of being with someone  etc  go and how did you bounce back '"
      ]
     },
     "execution_count": 20,
     "metadata": {},
     "output_type": "execute_result"
    }
   ],
   "source": [
    "title_content[1]"
   ]
  },
  {
   "cell_type": "code",
   "execution_count": 21,
   "metadata": {
    "scrolled": true
   },
   "outputs": [
    {
     "data": {
      "text/plain": [
       "0"
      ]
     },
     "execution_count": 21,
     "metadata": {},
     "output_type": "execute_result"
    }
   ],
   "source": [
    "women_df['Title_Content'].isnull().sum()"
   ]
  },
  {
   "cell_type": "code",
   "execution_count": 22,
   "metadata": {
    "scrolled": false
   },
   "outputs": [
    {
     "data": {
      "text/html": [
       "<div>\n",
       "<style scoped>\n",
       "    .dataframe tbody tr th:only-of-type {\n",
       "        vertical-align: middle;\n",
       "    }\n",
       "\n",
       "    .dataframe tbody tr th {\n",
       "        vertical-align: top;\n",
       "    }\n",
       "\n",
       "    .dataframe thead th {\n",
       "        text-align: right;\n",
       "    }\n",
       "</style>\n",
       "<table border=\"1\" class=\"dataframe\">\n",
       "  <thead>\n",
       "    <tr style=\"text-align: right;\">\n",
       "      <th></th>\n",
       "      <th>Unnamed: 0</th>\n",
       "      <th>Content</th>\n",
       "      <th>ID</th>\n",
       "      <th>Length_of_time</th>\n",
       "      <th>Number_of_comment</th>\n",
       "      <th>Subreddit</th>\n",
       "      <th>Title</th>\n",
       "      <th>Length_of_time_days</th>\n",
       "      <th>Clean_Title</th>\n",
       "      <th>Title_Content</th>\n",
       "    </tr>\n",
       "  </thead>\n",
       "  <tbody>\n",
       "    <tr>\n",
       "      <th>0</th>\n",
       "      <td>0</td>\n",
       "      <td>**Welcome to AskWomen!**\\n\\nIn honor of the ch...</td>\n",
       "      <td>t3_b3r260</td>\n",
       "      <td>1.553178e+09</td>\n",
       "      <td>0</td>\n",
       "      <td>AskWomen</td>\n",
       "      <td>Welcome to a new season! Spring/Fall AskWomen ...</td>\n",
       "      <td>14.57</td>\n",
       "      <td>Welcome to a new season  Spring Fall AskWomen ...</td>\n",
       "      <td>Welcome to a new season  Spring Fall AskWomen ...</td>\n",
       "    </tr>\n",
       "    <tr>\n",
       "      <th>1</th>\n",
       "      <td>1</td>\n",
       "      <td>NaN</td>\n",
       "      <td>t3_b6vwfn</td>\n",
       "      <td>1.553858e+09</td>\n",
       "      <td>45</td>\n",
       "      <td>AskWomen</td>\n",
       "      <td>What was a time you had to let a dream (i.e. c...</td>\n",
       "      <td>6.70</td>\n",
       "      <td>What was a time you had to let a dream  i e  c...</td>\n",
       "      <td>What was a time you had to let a dream  i e  c...</td>\n",
       "    </tr>\n",
       "    <tr>\n",
       "      <th>2</th>\n",
       "      <td>2</td>\n",
       "      <td>NaN</td>\n",
       "      <td>t3_b6ndvr</td>\n",
       "      <td>1.553802e+09</td>\n",
       "      <td>636</td>\n",
       "      <td>AskWomen</td>\n",
       "      <td>What's the lamest thing you ever did to get a ...</td>\n",
       "      <td>7.34</td>\n",
       "      <td>What s the lamest thing you ever did to get a ...</td>\n",
       "      <td>What s the lamest thing you ever did to get a ...</td>\n",
       "    </tr>\n",
       "    <tr>\n",
       "      <th>3</th>\n",
       "      <td>3</td>\n",
       "      <td>NaN</td>\n",
       "      <td>t3_b6xgfr</td>\n",
       "      <td>1.553867e+09</td>\n",
       "      <td>53</td>\n",
       "      <td>AskWomen</td>\n",
       "      <td>Global check in: how is everyone with anxiety/...</td>\n",
       "      <td>6.59</td>\n",
       "      <td>Global check in  how is everyone with anxiety ...</td>\n",
       "      <td>Global check in  how is everyone with anxiety ...</td>\n",
       "    </tr>\n",
       "    <tr>\n",
       "      <th>4</th>\n",
       "      <td>4</td>\n",
       "      <td>&amp;amp;#x200B;\\n\\nHave you ever had a 'falling o...</td>\n",
       "      <td>t3_b6wh0j</td>\n",
       "      <td>1.553861e+09</td>\n",
       "      <td>86</td>\n",
       "      <td>AskWomen</td>\n",
       "      <td>What's the dumbest reason someone decided not ...</td>\n",
       "      <td>6.65</td>\n",
       "      <td>What s the dumbest reason someone decided not ...</td>\n",
       "      <td>What s the dumbest reason someone decided not ...</td>\n",
       "    </tr>\n",
       "  </tbody>\n",
       "</table>\n",
       "</div>"
      ],
      "text/plain": [
       "   Unnamed: 0                                            Content         ID  \\\n",
       "0           0  **Welcome to AskWomen!**\\n\\nIn honor of the ch...  t3_b3r260   \n",
       "1           1                                                NaN  t3_b6vwfn   \n",
       "2           2                                                NaN  t3_b6ndvr   \n",
       "3           3                                                NaN  t3_b6xgfr   \n",
       "4           4  &amp;#x200B;\\n\\nHave you ever had a 'falling o...  t3_b6wh0j   \n",
       "\n",
       "   Length_of_time  Number_of_comment Subreddit  \\\n",
       "0    1.553178e+09                  0  AskWomen   \n",
       "1    1.553858e+09                 45  AskWomen   \n",
       "2    1.553802e+09                636  AskWomen   \n",
       "3    1.553867e+09                 53  AskWomen   \n",
       "4    1.553861e+09                 86  AskWomen   \n",
       "\n",
       "                                               Title  Length_of_time_days  \\\n",
       "0  Welcome to a new season! Spring/Fall AskWomen ...                14.57   \n",
       "1  What was a time you had to let a dream (i.e. c...                 6.70   \n",
       "2  What's the lamest thing you ever did to get a ...                 7.34   \n",
       "3  Global check in: how is everyone with anxiety/...                 6.59   \n",
       "4  What's the dumbest reason someone decided not ...                 6.65   \n",
       "\n",
       "                                         Clean_Title  \\\n",
       "0  Welcome to a new season  Spring Fall AskWomen ...   \n",
       "1  What was a time you had to let a dream  i e  c...   \n",
       "2  What s the lamest thing you ever did to get a ...   \n",
       "3  Global check in  how is everyone with anxiety ...   \n",
       "4  What s the dumbest reason someone decided not ...   \n",
       "\n",
       "                                       Title_Content  \n",
       "0  Welcome to a new season  Spring Fall AskWomen ...  \n",
       "1  What was a time you had to let a dream  i e  c...  \n",
       "2  What s the lamest thing you ever did to get a ...  \n",
       "3  Global check in  how is everyone with anxiety ...  \n",
       "4  What s the dumbest reason someone decided not ...  "
      ]
     },
     "execution_count": 22,
     "metadata": {},
     "output_type": "execute_result"
    }
   ],
   "source": [
    "women_df.head(5)"
   ]
  },
  {
   "cell_type": "markdown",
   "metadata": {},
   "source": [
    "### Combining Title Column with Content Column For relationship_df"
   ]
  },
  {
   "cell_type": "code",
   "execution_count": 23,
   "metadata": {
    "scrolled": true
   },
   "outputs": [],
   "source": [
    "#Combinding columns for worelationship_df \n",
    "title_content = []\n",
    "\n",
    "for i in list(relationship_df.index): \n",
    "    if str(relationship_df['Content'][i])  == \"nan\":\n",
    "        title_content.append(str(relationship_df['Clean_Title'][i]))\n",
    "        \n",
    "    else: \n",
    "        title_content.append(str(relationship_df['Clean_Title'][i]) + str(relationship_df['Content'][i]))\n",
    "        \n",
    "#cleaning the column \n",
    "relationship_df['Title_Content'] = title_content\n",
    "relationship_df[\"Title_Content\"] = clean_title(relationship_df['Title_Content'])"
   ]
  },
  {
   "cell_type": "code",
   "execution_count": 24,
   "metadata": {
    "scrolled": true
   },
   "outputs": [
    {
     "data": {
      "text/plain": [
       "0"
      ]
     },
     "execution_count": 24,
     "metadata": {},
     "output_type": "execute_result"
    }
   ],
   "source": [
    "relationship_df['Title_Content'].isnull().sum()"
   ]
  },
  {
   "cell_type": "code",
   "execution_count": 25,
   "metadata": {},
   "outputs": [
    {
     "data": {
      "text/html": [
       "<div>\n",
       "<style scoped>\n",
       "    .dataframe tbody tr th:only-of-type {\n",
       "        vertical-align: middle;\n",
       "    }\n",
       "\n",
       "    .dataframe tbody tr th {\n",
       "        vertical-align: top;\n",
       "    }\n",
       "\n",
       "    .dataframe thead th {\n",
       "        text-align: right;\n",
       "    }\n",
       "</style>\n",
       "<table border=\"1\" class=\"dataframe\">\n",
       "  <thead>\n",
       "    <tr style=\"text-align: right;\">\n",
       "      <th></th>\n",
       "      <th>Unnamed: 0</th>\n",
       "      <th>Content</th>\n",
       "      <th>ID</th>\n",
       "      <th>Length_of_time</th>\n",
       "      <th>Number_of_comment</th>\n",
       "      <th>Subreddit</th>\n",
       "      <th>Title</th>\n",
       "      <th>Length_of_time_days</th>\n",
       "      <th>Clean_Title</th>\n",
       "      <th>Title_Content</th>\n",
       "    </tr>\n",
       "  </thead>\n",
       "  <tbody>\n",
       "    <tr>\n",
       "      <th>0</th>\n",
       "      <td>0</td>\n",
       "      <td>###Applications are open.\\n\\nApplications may ...</td>\n",
       "      <td>t3_b11tx5</td>\n",
       "      <td>1.552578e+09</td>\n",
       "      <td>23</td>\n",
       "      <td>relationship_advice</td>\n",
       "      <td>[Meta] Mod Applications</td>\n",
       "      <td>21.51</td>\n",
       "      <td>Meta  Mod Applications</td>\n",
       "      <td>Meta  Mod Applications   Applications are ope...</td>\n",
       "    </tr>\n",
       "    <tr>\n",
       "      <th>1</th>\n",
       "      <td>1</td>\n",
       "      <td>Since two or three times a week we end up remo...</td>\n",
       "      <td>t3_b2nc2f</td>\n",
       "      <td>1.552939e+09</td>\n",
       "      <td>52</td>\n",
       "      <td>relationship_advice</td>\n",
       "      <td>[meta] Think of the comments as an inverted Ub...</td>\n",
       "      <td>17.32</td>\n",
       "      <td>meta  Think of the comments as an inverted Ub...</td>\n",
       "      <td>meta  Think of the comments as an inverted Ub...</td>\n",
       "    </tr>\n",
       "    <tr>\n",
       "      <th>2</th>\n",
       "      <td>2</td>\n",
       "      <td>So... my girlfriend tends to be sometimes jeal...</td>\n",
       "      <td>t3_b6wkec</td>\n",
       "      <td>1.553862e+09</td>\n",
       "      <td>284</td>\n",
       "      <td>relationship_advice</td>\n",
       "      <td>My girlfriend (20F) secretly took my (22M) fac...</td>\n",
       "      <td>6.65</td>\n",
       "      <td>My girlfriend    F  secretly took my    M  fac...</td>\n",
       "      <td>My girlfriend    F  secretly took my    M  fac...</td>\n",
       "    </tr>\n",
       "    <tr>\n",
       "      <th>3</th>\n",
       "      <td>3</td>\n",
       "      <td>I’ll get right to it\\n\\nBF and I have been tog...</td>\n",
       "      <td>t3_b6nhjf</td>\n",
       "      <td>1.553803e+09</td>\n",
       "      <td>10685</td>\n",
       "      <td>relationship_advice</td>\n",
       "      <td>My (24F) boyfriend (25M) had a bizarre reactio...</td>\n",
       "      <td>7.33</td>\n",
       "      <td>My    F  boyfriend    M  had a bizarre reactio...</td>\n",
       "      <td>My    F  boyfriend    M  had a bizarre reactio...</td>\n",
       "    </tr>\n",
       "    <tr>\n",
       "      <th>4</th>\n",
       "      <td>4</td>\n",
       "      <td>I don't want anyone having the slightest clue ...</td>\n",
       "      <td>t3_b6wak4</td>\n",
       "      <td>1.553860e+09</td>\n",
       "      <td>163</td>\n",
       "      <td>relationship_advice</td>\n",
       "      <td>I (19f) dumped and blocked my boyfriend (19m) ...</td>\n",
       "      <td>6.67</td>\n",
       "      <td>I    f  dumped and blocked my boyfriend    m  ...</td>\n",
       "      <td>I    f  dumped and blocked my boyfriend    m  ...</td>\n",
       "    </tr>\n",
       "  </tbody>\n",
       "</table>\n",
       "</div>"
      ],
      "text/plain": [
       "   Unnamed: 0                                            Content         ID  \\\n",
       "0           0  ###Applications are open.\\n\\nApplications may ...  t3_b11tx5   \n",
       "1           1  Since two or three times a week we end up remo...  t3_b2nc2f   \n",
       "2           2  So... my girlfriend tends to be sometimes jeal...  t3_b6wkec   \n",
       "3           3  I’ll get right to it\\n\\nBF and I have been tog...  t3_b6nhjf   \n",
       "4           4  I don't want anyone having the slightest clue ...  t3_b6wak4   \n",
       "\n",
       "   Length_of_time  Number_of_comment            Subreddit  \\\n",
       "0    1.552578e+09                 23  relationship_advice   \n",
       "1    1.552939e+09                 52  relationship_advice   \n",
       "2    1.553862e+09                284  relationship_advice   \n",
       "3    1.553803e+09              10685  relationship_advice   \n",
       "4    1.553860e+09                163  relationship_advice   \n",
       "\n",
       "                                               Title  Length_of_time_days  \\\n",
       "0                            [Meta] Mod Applications                21.51   \n",
       "1  [meta] Think of the comments as an inverted Ub...                17.32   \n",
       "2  My girlfriend (20F) secretly took my (22M) fac...                 6.65   \n",
       "3  My (24F) boyfriend (25M) had a bizarre reactio...                 7.33   \n",
       "4  I (19f) dumped and blocked my boyfriend (19m) ...                 6.67   \n",
       "\n",
       "                                         Clean_Title  \\\n",
       "0                             Meta  Mod Applications   \n",
       "1   meta  Think of the comments as an inverted Ub...   \n",
       "2  My girlfriend    F  secretly took my    M  fac...   \n",
       "3  My    F  boyfriend    M  had a bizarre reactio...   \n",
       "4  I    f  dumped and blocked my boyfriend    m  ...   \n",
       "\n",
       "                                       Title_Content  \n",
       "0   Meta  Mod Applications   Applications are ope...  \n",
       "1   meta  Think of the comments as an inverted Ub...  \n",
       "2  My girlfriend    F  secretly took my    M  fac...  \n",
       "3  My    F  boyfriend    M  had a bizarre reactio...  \n",
       "4  I    f  dumped and blocked my boyfriend    m  ...  "
      ]
     },
     "execution_count": 25,
     "metadata": {},
     "output_type": "execute_result"
    }
   ],
   "source": [
    "relationship_df.head(5)"
   ]
  },
  {
   "cell_type": "markdown",
   "metadata": {},
   "source": [
    "## Combining DataFrames "
   ]
  },
  {
   "cell_type": "code",
   "execution_count": 26,
   "metadata": {},
   "outputs": [],
   "source": [
    "askmen_df = men_df[['Subreddit', 'Title_Content']]\n",
    "askwomen_df = women_df[['Subreddit', 'Title_Content']]\n",
    "relationshipadvice_df = relationship_df[['Subreddit', 'Title_Content']]"
   ]
  },
  {
   "cell_type": "markdown",
   "metadata": {},
   "source": [
    "#### Dataframe 1: AskMen vs AskWomen"
   ]
  },
  {
   "cell_type": "code",
   "execution_count": 27,
   "metadata": {},
   "outputs": [
    {
     "data": {
      "text/html": [
       "<div>\n",
       "<style scoped>\n",
       "    .dataframe tbody tr th:only-of-type {\n",
       "        vertical-align: middle;\n",
       "    }\n",
       "\n",
       "    .dataframe tbody tr th {\n",
       "        vertical-align: top;\n",
       "    }\n",
       "\n",
       "    .dataframe thead th {\n",
       "        text-align: right;\n",
       "    }\n",
       "</style>\n",
       "<table border=\"1\" class=\"dataframe\">\n",
       "  <thead>\n",
       "    <tr style=\"text-align: right;\">\n",
       "      <th></th>\n",
       "      <th>Subreddit</th>\n",
       "      <th>Title_Content</th>\n",
       "    </tr>\n",
       "  </thead>\n",
       "  <tbody>\n",
       "    <tr>\n",
       "      <th>0</th>\n",
       "      <td>AskMen</td>\n",
       "      <td>The AskMen Book Club   The Picture of Dorian G...</td>\n",
       "    </tr>\n",
       "    <tr>\n",
       "      <th>1</th>\n",
       "      <td>AskMen</td>\n",
       "      <td>I am starting to realise my dad wont live fore...</td>\n",
       "    </tr>\n",
       "    <tr>\n",
       "      <th>2</th>\n",
       "      <td>AskMen</td>\n",
       "      <td>What do you see on women s dating profiles tha...</td>\n",
       "    </tr>\n",
       "    <tr>\n",
       "      <th>3</th>\n",
       "      <td>AskMen</td>\n",
       "      <td>What could women put in their dating profiles ...</td>\n",
       "    </tr>\n",
       "    <tr>\n",
       "      <th>4</th>\n",
       "      <td>AskMen</td>\n",
       "      <td>What are some things on your mind that you can...</td>\n",
       "    </tr>\n",
       "  </tbody>\n",
       "</table>\n",
       "</div>"
      ],
      "text/plain": [
       "  Subreddit                                      Title_Content\n",
       "0    AskMen  The AskMen Book Club   The Picture of Dorian G...\n",
       "1    AskMen  I am starting to realise my dad wont live fore...\n",
       "2    AskMen  What do you see on women s dating profiles tha...\n",
       "3    AskMen  What could women put in their dating profiles ...\n",
       "4    AskMen  What are some things on your mind that you can..."
      ]
     },
     "execution_count": 27,
     "metadata": {},
     "output_type": "execute_result"
    }
   ],
   "source": [
    "men_women_df = pd.concat([askmen_df, askwomen_df])\n",
    "men_women_df.head()"
   ]
  },
  {
   "cell_type": "code",
   "execution_count": 28,
   "metadata": {},
   "outputs": [],
   "source": [
    "#Changing the Subreddit Key \n",
    "dic = {\n",
    "    \"AskMen\": 0, \n",
    "    \"AskWomen\": 1\n",
    "}"
   ]
  },
  {
   "cell_type": "code",
   "execution_count": 29,
   "metadata": {},
   "outputs": [],
   "source": [
    "men_women_df['Subreddit'] = men_women_df['Subreddit'].map(dic)"
   ]
  },
  {
   "cell_type": "code",
   "execution_count": 30,
   "metadata": {},
   "outputs": [
    {
     "data": {
      "text/html": [
       "<div>\n",
       "<style scoped>\n",
       "    .dataframe tbody tr th:only-of-type {\n",
       "        vertical-align: middle;\n",
       "    }\n",
       "\n",
       "    .dataframe tbody tr th {\n",
       "        vertical-align: top;\n",
       "    }\n",
       "\n",
       "    .dataframe thead th {\n",
       "        text-align: right;\n",
       "    }\n",
       "</style>\n",
       "<table border=\"1\" class=\"dataframe\">\n",
       "  <thead>\n",
       "    <tr style=\"text-align: right;\">\n",
       "      <th></th>\n",
       "      <th>Subreddit</th>\n",
       "      <th>Title_Content</th>\n",
       "    </tr>\n",
       "  </thead>\n",
       "  <tbody>\n",
       "    <tr>\n",
       "      <th>0</th>\n",
       "      <td>0</td>\n",
       "      <td>The AskMen Book Club   The Picture of Dorian G...</td>\n",
       "    </tr>\n",
       "    <tr>\n",
       "      <th>1</th>\n",
       "      <td>0</td>\n",
       "      <td>I am starting to realise my dad wont live fore...</td>\n",
       "    </tr>\n",
       "    <tr>\n",
       "      <th>2</th>\n",
       "      <td>0</td>\n",
       "      <td>What do you see on women s dating profiles tha...</td>\n",
       "    </tr>\n",
       "    <tr>\n",
       "      <th>3</th>\n",
       "      <td>0</td>\n",
       "      <td>What could women put in their dating profiles ...</td>\n",
       "    </tr>\n",
       "    <tr>\n",
       "      <th>4</th>\n",
       "      <td>0</td>\n",
       "      <td>What are some things on your mind that you can...</td>\n",
       "    </tr>\n",
       "  </tbody>\n",
       "</table>\n",
       "</div>"
      ],
      "text/plain": [
       "   Subreddit                                      Title_Content\n",
       "0          0  The AskMen Book Club   The Picture of Dorian G...\n",
       "1          0  I am starting to realise my dad wont live fore...\n",
       "2          0  What do you see on women s dating profiles tha...\n",
       "3          0  What could women put in their dating profiles ...\n",
       "4          0  What are some things on your mind that you can..."
      ]
     },
     "execution_count": 30,
     "metadata": {},
     "output_type": "execute_result"
    }
   ],
   "source": [
    "men_women_df.head()"
   ]
  },
  {
   "cell_type": "code",
   "execution_count": 31,
   "metadata": {},
   "outputs": [],
   "source": [
    "#save as csv \n",
    "men_women_df.to_csv('../data/AskMenAskWomen.csv')"
   ]
  },
  {
   "cell_type": "markdown",
   "metadata": {},
   "source": [
    "#### Dataframe 2: AskMen vs Relationship Advice "
   ]
  },
  {
   "cell_type": "code",
   "execution_count": 32,
   "metadata": {},
   "outputs": [
    {
     "data": {
      "text/html": [
       "<div>\n",
       "<style scoped>\n",
       "    .dataframe tbody tr th:only-of-type {\n",
       "        vertical-align: middle;\n",
       "    }\n",
       "\n",
       "    .dataframe tbody tr th {\n",
       "        vertical-align: top;\n",
       "    }\n",
       "\n",
       "    .dataframe thead th {\n",
       "        text-align: right;\n",
       "    }\n",
       "</style>\n",
       "<table border=\"1\" class=\"dataframe\">\n",
       "  <thead>\n",
       "    <tr style=\"text-align: right;\">\n",
       "      <th></th>\n",
       "      <th>Subreddit</th>\n",
       "      <th>Title_Content</th>\n",
       "    </tr>\n",
       "  </thead>\n",
       "  <tbody>\n",
       "    <tr>\n",
       "      <th>0</th>\n",
       "      <td>AskMen</td>\n",
       "      <td>The AskMen Book Club   The Picture of Dorian G...</td>\n",
       "    </tr>\n",
       "    <tr>\n",
       "      <th>1</th>\n",
       "      <td>AskMen</td>\n",
       "      <td>I am starting to realise my dad wont live fore...</td>\n",
       "    </tr>\n",
       "    <tr>\n",
       "      <th>2</th>\n",
       "      <td>AskMen</td>\n",
       "      <td>What do you see on women s dating profiles tha...</td>\n",
       "    </tr>\n",
       "    <tr>\n",
       "      <th>3</th>\n",
       "      <td>AskMen</td>\n",
       "      <td>What could women put in their dating profiles ...</td>\n",
       "    </tr>\n",
       "    <tr>\n",
       "      <th>4</th>\n",
       "      <td>AskMen</td>\n",
       "      <td>What are some things on your mind that you can...</td>\n",
       "    </tr>\n",
       "  </tbody>\n",
       "</table>\n",
       "</div>"
      ],
      "text/plain": [
       "  Subreddit                                      Title_Content\n",
       "0    AskMen  The AskMen Book Club   The Picture of Dorian G...\n",
       "1    AskMen  I am starting to realise my dad wont live fore...\n",
       "2    AskMen  What do you see on women s dating profiles tha...\n",
       "3    AskMen  What could women put in their dating profiles ...\n",
       "4    AskMen  What are some things on your mind that you can..."
      ]
     },
     "execution_count": 32,
     "metadata": {},
     "output_type": "execute_result"
    }
   ],
   "source": [
    "men_relation_df = pd.concat([askmen_df, relationshipadvice_df])\n",
    "men_relation_df.head()"
   ]
  },
  {
   "cell_type": "code",
   "execution_count": 33,
   "metadata": {},
   "outputs": [],
   "source": [
    "#Changing the Subreddit Key \n",
    "dic = {\n",
    "    \"AskMen\": 0, \n",
    "    \"relationship_advice\": 1\n",
    "}"
   ]
  },
  {
   "cell_type": "code",
   "execution_count": 34,
   "metadata": {},
   "outputs": [],
   "source": [
    "men_relation_df['Subreddit'] = men_relation_df['Subreddit'].map(dic)"
   ]
  },
  {
   "cell_type": "code",
   "execution_count": 35,
   "metadata": {},
   "outputs": [
    {
     "data": {
      "text/html": [
       "<div>\n",
       "<style scoped>\n",
       "    .dataframe tbody tr th:only-of-type {\n",
       "        vertical-align: middle;\n",
       "    }\n",
       "\n",
       "    .dataframe tbody tr th {\n",
       "        vertical-align: top;\n",
       "    }\n",
       "\n",
       "    .dataframe thead th {\n",
       "        text-align: right;\n",
       "    }\n",
       "</style>\n",
       "<table border=\"1\" class=\"dataframe\">\n",
       "  <thead>\n",
       "    <tr style=\"text-align: right;\">\n",
       "      <th></th>\n",
       "      <th>Subreddit</th>\n",
       "      <th>Title_Content</th>\n",
       "    </tr>\n",
       "  </thead>\n",
       "  <tbody>\n",
       "    <tr>\n",
       "      <th>0</th>\n",
       "      <td>0</td>\n",
       "      <td>The AskMen Book Club   The Picture of Dorian G...</td>\n",
       "    </tr>\n",
       "    <tr>\n",
       "      <th>1</th>\n",
       "      <td>0</td>\n",
       "      <td>I am starting to realise my dad wont live fore...</td>\n",
       "    </tr>\n",
       "    <tr>\n",
       "      <th>2</th>\n",
       "      <td>0</td>\n",
       "      <td>What do you see on women s dating profiles tha...</td>\n",
       "    </tr>\n",
       "    <tr>\n",
       "      <th>3</th>\n",
       "      <td>0</td>\n",
       "      <td>What could women put in their dating profiles ...</td>\n",
       "    </tr>\n",
       "    <tr>\n",
       "      <th>4</th>\n",
       "      <td>0</td>\n",
       "      <td>What are some things on your mind that you can...</td>\n",
       "    </tr>\n",
       "  </tbody>\n",
       "</table>\n",
       "</div>"
      ],
      "text/plain": [
       "   Subreddit                                      Title_Content\n",
       "0          0  The AskMen Book Club   The Picture of Dorian G...\n",
       "1          0  I am starting to realise my dad wont live fore...\n",
       "2          0  What do you see on women s dating profiles tha...\n",
       "3          0  What could women put in their dating profiles ...\n",
       "4          0  What are some things on your mind that you can..."
      ]
     },
     "execution_count": 35,
     "metadata": {},
     "output_type": "execute_result"
    }
   ],
   "source": [
    "men_relation_df.head()"
   ]
  },
  {
   "cell_type": "code",
   "execution_count": 36,
   "metadata": {},
   "outputs": [],
   "source": [
    "men_relation_df.to_csv('../data/AskMen_Relationship.csv')"
   ]
  },
  {
   "cell_type": "markdown",
   "metadata": {},
   "source": [
    "#### Dataframe 3: AskWomen vs Relationship Advice "
   ]
  },
  {
   "cell_type": "code",
   "execution_count": 37,
   "metadata": {},
   "outputs": [
    {
     "data": {
      "text/html": [
       "<div>\n",
       "<style scoped>\n",
       "    .dataframe tbody tr th:only-of-type {\n",
       "        vertical-align: middle;\n",
       "    }\n",
       "\n",
       "    .dataframe tbody tr th {\n",
       "        vertical-align: top;\n",
       "    }\n",
       "\n",
       "    .dataframe thead th {\n",
       "        text-align: right;\n",
       "    }\n",
       "</style>\n",
       "<table border=\"1\" class=\"dataframe\">\n",
       "  <thead>\n",
       "    <tr style=\"text-align: right;\">\n",
       "      <th></th>\n",
       "      <th>Subreddit</th>\n",
       "      <th>Title_Content</th>\n",
       "    </tr>\n",
       "  </thead>\n",
       "  <tbody>\n",
       "    <tr>\n",
       "      <th>0</th>\n",
       "      <td>AskWomen</td>\n",
       "      <td>Welcome to a new season  Spring Fall AskWomen ...</td>\n",
       "    </tr>\n",
       "    <tr>\n",
       "      <th>1</th>\n",
       "      <td>AskWomen</td>\n",
       "      <td>What was a time you had to let a dream  i e  c...</td>\n",
       "    </tr>\n",
       "    <tr>\n",
       "      <th>2</th>\n",
       "      <td>AskWomen</td>\n",
       "      <td>What s the lamest thing you ever did to get a ...</td>\n",
       "    </tr>\n",
       "    <tr>\n",
       "      <th>3</th>\n",
       "      <td>AskWomen</td>\n",
       "      <td>Global check in  how is everyone with anxiety ...</td>\n",
       "    </tr>\n",
       "    <tr>\n",
       "      <th>4</th>\n",
       "      <td>AskWomen</td>\n",
       "      <td>What s the dumbest reason someone decided not ...</td>\n",
       "    </tr>\n",
       "  </tbody>\n",
       "</table>\n",
       "</div>"
      ],
      "text/plain": [
       "  Subreddit                                      Title_Content\n",
       "0  AskWomen  Welcome to a new season  Spring Fall AskWomen ...\n",
       "1  AskWomen  What was a time you had to let a dream  i e  c...\n",
       "2  AskWomen  What s the lamest thing you ever did to get a ...\n",
       "3  AskWomen  Global check in  how is everyone with anxiety ...\n",
       "4  AskWomen  What s the dumbest reason someone decided not ..."
      ]
     },
     "execution_count": 37,
     "metadata": {},
     "output_type": "execute_result"
    }
   ],
   "source": [
    "women_relation_df = pd.concat([askwomen_df, relationshipadvice_df])\n",
    "women_relation_df.head()"
   ]
  },
  {
   "cell_type": "code",
   "execution_count": 39,
   "metadata": {},
   "outputs": [],
   "source": [
    "#Changing the Subreddit Key \n",
    "dic = {\n",
    "    \"AskWomen\": 1, \n",
    "    \"relationship_advice\": 0\n",
    "}"
   ]
  },
  {
   "cell_type": "code",
   "execution_count": 40,
   "metadata": {},
   "outputs": [],
   "source": [
    "women_relation_df['Subreddit'] = women_relation_df['Subreddit'].map(dic)"
   ]
  },
  {
   "cell_type": "code",
   "execution_count": 41,
   "metadata": {},
   "outputs": [
    {
     "data": {
      "text/html": [
       "<div>\n",
       "<style scoped>\n",
       "    .dataframe tbody tr th:only-of-type {\n",
       "        vertical-align: middle;\n",
       "    }\n",
       "\n",
       "    .dataframe tbody tr th {\n",
       "        vertical-align: top;\n",
       "    }\n",
       "\n",
       "    .dataframe thead th {\n",
       "        text-align: right;\n",
       "    }\n",
       "</style>\n",
       "<table border=\"1\" class=\"dataframe\">\n",
       "  <thead>\n",
       "    <tr style=\"text-align: right;\">\n",
       "      <th></th>\n",
       "      <th>Subreddit</th>\n",
       "      <th>Title_Content</th>\n",
       "    </tr>\n",
       "  </thead>\n",
       "  <tbody>\n",
       "    <tr>\n",
       "      <th>0</th>\n",
       "      <td>1</td>\n",
       "      <td>Welcome to a new season  Spring Fall AskWomen ...</td>\n",
       "    </tr>\n",
       "    <tr>\n",
       "      <th>1</th>\n",
       "      <td>1</td>\n",
       "      <td>What was a time you had to let a dream  i e  c...</td>\n",
       "    </tr>\n",
       "    <tr>\n",
       "      <th>2</th>\n",
       "      <td>1</td>\n",
       "      <td>What s the lamest thing you ever did to get a ...</td>\n",
       "    </tr>\n",
       "    <tr>\n",
       "      <th>3</th>\n",
       "      <td>1</td>\n",
       "      <td>Global check in  how is everyone with anxiety ...</td>\n",
       "    </tr>\n",
       "    <tr>\n",
       "      <th>4</th>\n",
       "      <td>1</td>\n",
       "      <td>What s the dumbest reason someone decided not ...</td>\n",
       "    </tr>\n",
       "  </tbody>\n",
       "</table>\n",
       "</div>"
      ],
      "text/plain": [
       "   Subreddit                                      Title_Content\n",
       "0          1  Welcome to a new season  Spring Fall AskWomen ...\n",
       "1          1  What was a time you had to let a dream  i e  c...\n",
       "2          1  What s the lamest thing you ever did to get a ...\n",
       "3          1  Global check in  how is everyone with anxiety ...\n",
       "4          1  What s the dumbest reason someone decided not ..."
      ]
     },
     "execution_count": 41,
     "metadata": {},
     "output_type": "execute_result"
    }
   ],
   "source": [
    "women_relation_df.head()"
   ]
  },
  {
   "cell_type": "code",
   "execution_count": 42,
   "metadata": {},
   "outputs": [],
   "source": [
    "women_relation_df.to_csv('../data/AskWomen_Relationship.csv')"
   ]
  },
  {
   "cell_type": "code",
   "execution_count": null,
   "metadata": {},
   "outputs": [],
   "source": []
  }
 ],
 "metadata": {
  "kernelspec": {
   "display_name": "Python 3",
   "language": "python",
   "name": "python3"
  },
  "language_info": {
   "codemirror_mode": {
    "name": "ipython",
    "version": 3
   },
   "file_extension": ".py",
   "mimetype": "text/x-python",
   "name": "python",
   "nbconvert_exporter": "python",
   "pygments_lexer": "ipython3",
   "version": "3.7.1"
  }
 },
 "nbformat": 4,
 "nbformat_minor": 2
}
