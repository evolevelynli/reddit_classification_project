{
 "cells": [
  {
   "cell_type": "markdown",
   "metadata": {},
   "source": [
    "# Web APIs & Classification"
   ]
  },
  {
   "cell_type": "markdown",
   "metadata": {},
   "source": [
    "## Project Challenge Statement\n",
    "\n",
    "### Goal: \n",
    "#### 1. Using Reddit's API, collect posts from two subreddits: AskWomen, AskMen, Relationship_Advice. \n",
    "#### 2. NLP to train a classifier on which subreddit a given post came from. This is a binary classification problem.\n",
    "\n",
    "### Datasets: \n",
    "1. AskMen vs AskWomen (0, 1)\n",
    "2. AskMen vs Relationship Advice (0, 1)\n",
    "3. AskWomen vs Relationship Advice (0, 1)\n",
    "\n",
    "### Model Improvement\n",
    "Use all baseline models to build ensemble model. \n",
    "\n",
    "#### 1. Ensemble Model \n",
    "- with CountVectorizer \n",
    "- with TFIDF Model\n",
    "- with Logistic Regression \n",
    "- with Multinomial NB"
   ]
  },
  {
   "cell_type": "markdown",
   "metadata": {},
   "source": [
    "## Table of Contents \n",
    "\n",
    "This Notebook is broken down into different sections for analysis purpose. The following links are connected to differenct section within the Notebook for simple navigation. \n",
    "\n",
    "### Contents:\n",
    "- [Ensamble Model 1 menwomen_df With Best Parameters](#Ensamble-Model-1-menwomen_df-With-Best-Parameters)\n",
    "    - [Ensamble Model 1: ](#Ensamble-Model-1)\n",
    "    - [Extracting Coefficients](#Extracting-Coefficients)\n",
    "    - [Model With Target Switched](#Model-With-Target-Switched)"
   ]
  },
  {
   "cell_type": "code",
   "execution_count": 2,
   "metadata": {},
   "outputs": [],
   "source": [
    "import pandas as pd \n",
    "import numpy as np \n",
    "import re\n",
    "from sklearn.pipeline import Pipeline \n",
    "from sklearn.model_selection import train_test_split, GridSearchCV\n",
    "from sklearn.linear_model import LogisticRegression\n",
    "from sklearn.feature_extraction.text import CountVectorizer, TfidfVectorizer\n",
    "from sklearn.naive_bayes import MultinomialNB\n",
    "from sklearn.ensemble import VotingClassifier\n",
    "from sklearn.neighbors import KNeighborsClassifier"
   ]
  },
  {
   "cell_type": "code",
   "execution_count": 3,
   "metadata": {},
   "outputs": [],
   "source": [
    "womenrelationship_df = pd.read_csv('../data/AskWomen_Relationship.csv')"
   ]
  },
  {
   "cell_type": "markdown",
   "metadata": {},
   "source": [
    "## Ensamble Model 3: With womenrelationship_df"
   ]
  },
  {
   "cell_type": "code",
   "execution_count": 5,
   "metadata": {},
   "outputs": [],
   "source": [
    "# models with Best Parameters from previous notebook\n",
    "cvec = CountVectorizer(max_df= 0.95, \n",
    "                       max_features= 2000, \n",
    "                       min_df= 5, \n",
    "                       ngram_range= (1,1))\n",
    "\n",
    "tfidf1 = TfidfVectorizer(max_df= 0.95, \n",
    "                       max_features= 1000, \n",
    "                       min_df= 5, \n",
    "                       ngram_range= (1,1))\n",
    "\n",
    "tfidf2 = TfidfVectorizer(max_df= 0.95, \n",
    "                       max_features= 1500, \n",
    "                       min_df= 2, \n",
    "                       ngram_range= (1,2))\n",
    "mnb = MultinomialNB()\n",
    "logit = LogisticRegression()"
   ]
  },
  {
   "cell_type": "code",
   "execution_count": 25,
   "metadata": {},
   "outputs": [],
   "source": [
    "#building Pipeline\n",
    "pipe3 = Pipeline([     \n",
    "      ('cvec', CountVectorizer(max_df= 0.95, #keep this one since it give us highest train test score \n",
    "                       max_features= 2000, \n",
    "                       min_df= 5, \n",
    "                       ngram_range= (1,1))), \n",
    "    \n",
    "#      ('tfidf1', TfidfVectorizer(max_df= 0.95, \n",
    "#                        max_features= 1000, \n",
    "#                        min_df= 5, \n",
    "#                        ngram_range= (1,1))),\n",
    "     \n",
    "#      ('tfidf2',  TfidfVectorizer(max_df= 0.95, \n",
    "#                        max_features= 1500, \n",
    "#                        min_df= 2, \n",
    "#                        ngram_range= (1,2))),\n",
    "     \n",
    "    ('vc', VotingClassifier(estimators= [('mnb', mnb),\n",
    "                                   ('logit', logit)], \n",
    "                     voting = 'hard'))\n",
    "])"
   ]
  },
  {
   "cell_type": "code",
   "execution_count": 26,
   "metadata": {},
   "outputs": [],
   "source": [
    "X = womenrelationship_df[\"Title_Content\"]\n",
    "y = womenrelationship_df['Subreddit']\n",
    "\n",
    "#Train Test Split \n",
    "X_train, X_test, y_train, y_test = train_test_split(X, y, test_size=0.3, random_state=42, stratify = y)"
   ]
  },
  {
   "cell_type": "code",
   "execution_count": 27,
   "metadata": {},
   "outputs": [
    {
     "name": "stderr",
     "output_type": "stream",
     "text": [
      "/Users/evelyn/anaconda3/lib/python3.7/site-packages/sklearn/linear_model/logistic.py:433: FutureWarning: Default solver will be changed to 'lbfgs' in 0.22. Specify a solver to silence this warning.\n",
      "  FutureWarning)\n"
     ]
    },
    {
     "data": {
      "text/plain": [
       "Pipeline(memory=None,\n",
       "     steps=[('cvec', CountVectorizer(analyzer='word', binary=False, decode_error='strict',\n",
       "        dtype=<class 'numpy.int64'>, encoding='utf-8', input='content',\n",
       "        lowercase=True, max_df=0.95, max_features=2000, min_df=5,\n",
       "        ngram_range=(1, 1), preprocessor=None, stop_words=None,\n",
       "        stri...0, warm_start=False))],\n",
       "         flatten_transform=None, n_jobs=None, voting='hard', weights=None))])"
      ]
     },
     "execution_count": 27,
     "metadata": {},
     "output_type": "execute_result"
    }
   ],
   "source": [
    "pipe3.fit(X_train, y_train)"
   ]
  },
  {
   "cell_type": "code",
   "execution_count": 28,
   "metadata": {
    "scrolled": false
   },
   "outputs": [
    {
     "name": "stdout",
     "output_type": "stream",
     "text": [
      "train score 0.9840871021775545\n",
      "test score 0.9824561403508771\n"
     ]
    }
   ],
   "source": [
    "print('train score', pipe3.score(X_train, y_train))\n",
    "print('test score', pipe3.score(X_test, y_test))"
   ]
  },
  {
   "cell_type": "markdown",
   "metadata": {},
   "source": [
    "### Extracting Coefficients "
   ]
  },
  {
   "cell_type": "code",
   "execution_count": 38,
   "metadata": {},
   "outputs": [
    {
     "data": {
      "text/plain": [
       "[MultinomialNB(alpha=1.0, class_prior=None, fit_prior=True),\n",
       " LogisticRegression(C=1.0, class_weight=None, dual=False, fit_intercept=True,\n",
       "           intercept_scaling=1, max_iter=100, multi_class='warn',\n",
       "           n_jobs=None, penalty='l2', random_state=None, solver='warn',\n",
       "           tol=0.0001, verbose=0, warm_start=False)]"
      ]
     },
     "execution_count": 38,
     "metadata": {},
     "output_type": "execute_result"
    }
   ],
   "source": [
    "pipe3.named_steps['vc'].estimators_"
   ]
  },
  {
   "cell_type": "code",
   "execution_count": 36,
   "metadata": {},
   "outputs": [
    {
     "data": {
      "text/plain": [
       "2000"
      ]
     },
     "execution_count": 36,
     "metadata": {},
     "output_type": "execute_result"
    }
   ],
   "source": [
    "#extracting coefficients \n",
    "mnb3_coef = pipe3.named_steps['vc'].estimators_[0].coef_[0]\n",
    "\n",
    "logit3_coef = pipe3.named_steps['vc'].estimators_[1].coef_[0]\n",
    "len(mnb3_coef)"
   ]
  },
  {
   "cell_type": "code",
   "execution_count": 39,
   "metadata": {},
   "outputs": [
    {
     "data": {
      "text/plain": [
       "2000"
      ]
     },
     "execution_count": 39,
     "metadata": {},
     "output_type": "execute_result"
    }
   ],
   "source": [
    "#get column names for man relationship columns\n",
    "cvec = CountVectorizer(max_df= 0.95, \n",
    "                       max_features= 2000, \n",
    "                       min_df= 5, \n",
    "                       ngram_range= (1,1))\n",
    "\n",
    "cvec.fit_transform(X_train)\n",
    "\n",
    "#Saving column name\n",
    "col_name3 = cvec.get_feature_names()\n",
    "len(col_name3)"
   ]
  },
  {
   "cell_type": "code",
   "execution_count": 40,
   "metadata": {},
   "outputs": [
    {
     "data": {
      "text/html": [
       "<div>\n",
       "<style scoped>\n",
       "    .dataframe tbody tr th:only-of-type {\n",
       "        vertical-align: middle;\n",
       "    }\n",
       "\n",
       "    .dataframe tbody tr th {\n",
       "        vertical-align: top;\n",
       "    }\n",
       "\n",
       "    .dataframe thead th {\n",
       "        text-align: right;\n",
       "    }\n",
       "</style>\n",
       "<table border=\"1\" class=\"dataframe\">\n",
       "  <thead>\n",
       "    <tr style=\"text-align: right;\">\n",
       "      <th></th>\n",
       "      <th>nb_coef</th>\n",
       "      <th>logit_coef</th>\n",
       "    </tr>\n",
       "  </thead>\n",
       "  <tbody>\n",
       "    <tr>\n",
       "      <th>able</th>\n",
       "      <td>-8.034415</td>\n",
       "      <td>-0.229925</td>\n",
       "    </tr>\n",
       "    <tr>\n",
       "      <th>abortion</th>\n",
       "      <td>-9.538492</td>\n",
       "      <td>0.000209</td>\n",
       "    </tr>\n",
       "    <tr>\n",
       "      <th>about</th>\n",
       "      <td>-4.942111</td>\n",
       "      <td>0.011605</td>\n",
       "    </tr>\n",
       "    <tr>\n",
       "      <th>above</th>\n",
       "      <td>-9.538492</td>\n",
       "      <td>-0.026743</td>\n",
       "    </tr>\n",
       "    <tr>\n",
       "      <th>absolute</th>\n",
       "      <td>-10.113857</td>\n",
       "      <td>0.000077</td>\n",
       "    </tr>\n",
       "  </tbody>\n",
       "</table>\n",
       "</div>"
      ],
      "text/plain": [
       "            nb_coef  logit_coef\n",
       "able      -8.034415   -0.229925\n",
       "abortion  -9.538492    0.000209\n",
       "about     -4.942111    0.011605\n",
       "above     -9.538492   -0.026743\n",
       "absolute -10.113857    0.000077"
      ]
     },
     "execution_count": 40,
     "metadata": {},
     "output_type": "execute_result"
    }
   ],
   "source": [
    "womenrelationship_word = pd.DataFrame(data= [mnb3_coef, logit3_coef], columns= col_name3, index= ['nb_coef', 'logit_coef'])\n",
    "womenrelationship_word = womenrelationship_word.T\n",
    "womenrelationship_word.head()"
   ]
  },
  {
   "cell_type": "code",
   "execution_count": null,
   "metadata": {},
   "outputs": [],
   "source": []
  }
 ],
 "metadata": {
  "kernelspec": {
   "display_name": "Python 3",
   "language": "python",
   "name": "python3"
  },
  "language_info": {
   "codemirror_mode": {
    "name": "ipython",
    "version": 3
   },
   "file_extension": ".py",
   "mimetype": "text/x-python",
   "name": "python",
   "nbconvert_exporter": "python",
   "pygments_lexer": "ipython3",
   "version": "3.7.1"
  }
 },
 "nbformat": 4,
 "nbformat_minor": 2
}
