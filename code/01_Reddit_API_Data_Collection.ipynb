{
 "cells": [
  {
   "cell_type": "markdown",
   "metadata": {},
   "source": [
    "# Web APIs & Classification"
   ]
  },
  {
   "cell_type": "markdown",
   "metadata": {},
   "source": [
    "\n",
    "## Project Challenge Statement\n",
    "\n",
    "### Goal: \n",
    "#### 1. Using Reddit's API, collect posts from two subreddits: AskWomen, AskMen, Relationship_Advice. \n",
    "#### 2. NLP to train a classifier on which subreddit a given post came from. This is a binary classification problem.\n",
    "\n",
    "\n",
    "### Things included in the dataset \n",
    "\n",
    "1. the title of the thread\n",
    "2. length of time has been on reddit\n",
    "3. the number of comments on the thread\n",
    "4. the self text \n",
    "5. the subreddit that the thread is correspond to\n"
   ]
  },
  {
   "cell_type": "markdown",
   "metadata": {},
   "source": [
    "## Table of Contents \n",
    "\n",
    "This Notebook is broken down into different sections for analysis purpose. The following links are connected to differenct section within the Notebook for simple navigation. \n",
    "\n",
    "### Contents:\n",
    "- [Subreddit Data Collection: AskWomen](#Subreddits-Data-Collection:-AskWomen)\n",
    "- [Subreddit Data Collection: AskMen](#Subreddits-Data-Collection:-AskMen)\n",
    "- [Subreddits Data Collection: Relationship_Advice](#Subreddits-Data-Collection:-Relationship_Advice)\n",
    "- [Function to_dataframe](#Function-to_dataframe)"
   ]
  },
  {
   "cell_type": "markdown",
   "metadata": {},
   "source": [
    "##### Libraries "
   ]
  },
  {
   "cell_type": "code",
   "execution_count": 1,
   "metadata": {},
   "outputs": [],
   "source": [
    "import requests \n",
    "import pandas as pd \n",
    "import time "
   ]
  },
  {
   "cell_type": "markdown",
   "metadata": {},
   "source": [
    "### Subreddits Data Collection: AskWomen"
   ]
  },
  {
   "cell_type": "code",
   "execution_count": 9,
   "metadata": {},
   "outputs": [
    {
     "name": "stdout",
     "output_type": "stream",
     "text": [
      "0\n",
      "10\n",
      "20\n",
      "30\n"
     ]
    }
   ],
   "source": [
    "#reference code from Riely's video \n",
    "\n",
    "headers = {'User-agent': \"Evelyn Li\"}\n",
    "women_posts = []\n",
    "after = None\n",
    "for i in range(40):\n",
    "    if i % 10 == 0:\n",
    "        print(i)\n",
    "    if after == None:\n",
    "        params = {}\n",
    "    else:\n",
    "        params = {'after' : after}\n",
    "        \n",
    "    url = 'https://www.reddit.com/r/AskWomen/.json'\n",
    "    res = requests.get(url, params = params, headers = headers)\n",
    "    \n",
    "    if res.status_code == 200:\n",
    "        raddit_json  = res.json ()\n",
    "        women_posts.extend(raddit_json['data']['children'])\n",
    "        after = raddit_json['data']['after']\n",
    "    else:\n",
    "        print(res.status_code)\n",
    "        break \n",
    "    time.sleep(1)"
   ]
  },
  {
   "cell_type": "code",
   "execution_count": 10,
   "metadata": {},
   "outputs": [
    {
     "name": "stdout",
     "output_type": "stream",
     "text": [
      "Post length 999\n",
      "Post with Unique ID 723\n"
     ]
    }
   ],
   "source": [
    "#check for unique posts\n",
    "print('Post length', len(women_posts))\n",
    "print('Post with Unique ID', len(set([post['data']['name'] for post in women_posts])))"
   ]
  },
  {
   "cell_type": "markdown",
   "metadata": {},
   "source": [
    "### Subreddits Data Collection: AskMen"
   ]
  },
  {
   "cell_type": "code",
   "execution_count": 14,
   "metadata": {},
   "outputs": [
    {
     "name": "stdout",
     "output_type": "stream",
     "text": [
      "0\n",
      "10\n",
      "20\n",
      "30\n"
     ]
    }
   ],
   "source": [
    "#reference code from Riely's video \n",
    "headers = {'User-agent': \"Evelyn Li\"}\n",
    "men_posts = []\n",
    "after = None\n",
    "for i in range(40):\n",
    "    if i % 10 == 0:\n",
    "        print(i)\n",
    "    if after == None:\n",
    "        params = {}\n",
    "    else:\n",
    "        params = {'after' : after}\n",
    "        \n",
    "    url = 'https://www.reddit.com/r/AskMen/.json'\n",
    "    res = requests.get(url, params = params, headers = headers)\n",
    "    \n",
    "    if res.status_code == 200:\n",
    "        raddit_json  = res.json ()\n",
    "        men_posts.extend(raddit_json['data']['children'])\n",
    "        after = raddit_json['data']['after']\n",
    "    else:\n",
    "        print(res.status_code)\n",
    "        break \n",
    "    time.sleep(1)"
   ]
  },
  {
   "cell_type": "code",
   "execution_count": 16,
   "metadata": {
    "scrolled": false
   },
   "outputs": [
    {
     "name": "stdout",
     "output_type": "stream",
     "text": [
      "Post length 1001\n",
      "Post with Unique ID 525\n"
     ]
    }
   ],
   "source": [
    "#check for unique posts \n",
    "print('Post length', len(men_posts))\n",
    "print('Post with Unique ID', len(set([post['data']['name'] for post in men_posts])))"
   ]
  },
  {
   "cell_type": "markdown",
   "metadata": {},
   "source": [
    "### Subreddits Data Collection: Relationship_Advice"
   ]
  },
  {
   "cell_type": "code",
   "execution_count": 17,
   "metadata": {},
   "outputs": [
    {
     "name": "stdout",
     "output_type": "stream",
     "text": [
      "0\n",
      "10\n",
      "20\n",
      "30\n",
      "40\n"
     ]
    }
   ],
   "source": [
    "#reference code from Riely's video \n",
    "headers = {'User-agent': \"Evelyn Li\"}\n",
    "relationship_posts = []\n",
    "after = None\n",
    "for i in range(50):\n",
    "    if i % 10 == 0:\n",
    "        print(i)\n",
    "    if after == None:\n",
    "        params = {}\n",
    "    else:\n",
    "        params = {'after' : after}\n",
    "        \n",
    "    url = 'https://www.reddit.com/r/relationship_advice/.json'\n",
    "    res = requests.get(url, params = params, headers = headers)\n",
    "    \n",
    "    if res.status_code == 200:\n",
    "        raddit_json  = res.json ()\n",
    "        relationship_posts.extend(raddit_json['data']['children'])\n",
    "        after = raddit_json['data']['after']\n",
    "    else:\n",
    "        print(res.status_code)\n",
    "        break \n",
    "    time.sleep(1)"
   ]
  },
  {
   "cell_type": "code",
   "execution_count": 18,
   "metadata": {},
   "outputs": [
    {
     "name": "stdout",
     "output_type": "stream",
     "text": [
      "Post length 1236\n",
      "Post with Unique ID 984\n"
     ]
    }
   ],
   "source": [
    "#check for unique posts \n",
    "print('Post length', len(relationship_posts))\n",
    "print('Post with Unique ID', len(set([post['data']['name'] for post in relationship_posts])))"
   ]
  },
  {
   "cell_type": "markdown",
   "metadata": {},
   "source": [
    "### Notes on Subreddits: \n",
    "1. AskWomen has 727 posts \n",
    "2. AskMen has 548 posts \n",
    "\n",
    "Since there are only this many posts in these subreddit, this is the ones that I will try to build my model on. "
   ]
  },
  {
   "cell_type": "markdown",
   "metadata": {},
   "source": [
    "## Function to_dataframe"
   ]
  },
  {
   "cell_type": "markdown",
   "metadata": {},
   "source": [
    "### Building Function to Extract Necessary Information From API to DataFrame"
   ]
  },
  {
   "cell_type": "code",
   "execution_count": 19,
   "metadata": {},
   "outputs": [],
   "source": [
    "#function to build dataframe \n",
    "\n",
    "def to_dataframe(posts): \n",
    "    post_list = []\n",
    "    \n",
    "    for pst in posts: \n",
    "        post_dic = {}\n",
    "        post_dic = {\n",
    "            'ID':pst['data']['name'],\n",
    "            'Title' : pst['data']['title'],\n",
    "            'Length_of_time': pst['data']['created_utc'], \n",
    "            'Number_of_comment': pst['data']['num_comments'], \n",
    "            'Content' : pst['data']['selftext'], \n",
    "            'Subreddit':pst['data']['subreddit']\n",
    "        }\n",
    "        \n",
    "        post_list.append(post_dic)\n",
    "    \n",
    "    return pd.DataFrame(post_list)"
   ]
  },
  {
   "cell_type": "markdown",
   "metadata": {},
   "source": [
    "#### Save AskWomen to DataFrame"
   ]
  },
  {
   "cell_type": "code",
   "execution_count": 15,
   "metadata": {
    "scrolled": true
   },
   "outputs": [
    {
     "data": {
      "text/html": [
       "<div>\n",
       "<style scoped>\n",
       "    .dataframe tbody tr th:only-of-type {\n",
       "        vertical-align: middle;\n",
       "    }\n",
       "\n",
       "    .dataframe tbody tr th {\n",
       "        vertical-align: top;\n",
       "    }\n",
       "\n",
       "    .dataframe thead th {\n",
       "        text-align: right;\n",
       "    }\n",
       "</style>\n",
       "<table border=\"1\" class=\"dataframe\">\n",
       "  <thead>\n",
       "    <tr style=\"text-align: right;\">\n",
       "      <th></th>\n",
       "      <th>Content</th>\n",
       "      <th>ID</th>\n",
       "      <th>Length_of_time</th>\n",
       "      <th>Number_of_comment</th>\n",
       "      <th>Subreddit</th>\n",
       "      <th>Title</th>\n",
       "    </tr>\n",
       "  </thead>\n",
       "  <tbody>\n",
       "    <tr>\n",
       "      <th>0</th>\n",
       "      <td>**Welcome to AskWomen!**\\n\\nIn honor of the ch...</td>\n",
       "      <td>t3_b3r260</td>\n",
       "      <td>1.553178e+09</td>\n",
       "      <td>0</td>\n",
       "      <td>AskWomen</td>\n",
       "      <td>Welcome to a new season! Spring/Fall AskWomen ...</td>\n",
       "    </tr>\n",
       "    <tr>\n",
       "      <th>1</th>\n",
       "      <td></td>\n",
       "      <td>t3_b6vwfn</td>\n",
       "      <td>1.553858e+09</td>\n",
       "      <td>45</td>\n",
       "      <td>AskWomen</td>\n",
       "      <td>What was a time you had to let a dream (i.e. c...</td>\n",
       "    </tr>\n",
       "    <tr>\n",
       "      <th>2</th>\n",
       "      <td></td>\n",
       "      <td>t3_b6ndvr</td>\n",
       "      <td>1.553802e+09</td>\n",
       "      <td>636</td>\n",
       "      <td>AskWomen</td>\n",
       "      <td>What's the lamest thing you ever did to get a ...</td>\n",
       "    </tr>\n",
       "    <tr>\n",
       "      <th>3</th>\n",
       "      <td></td>\n",
       "      <td>t3_b6xgfr</td>\n",
       "      <td>1.553867e+09</td>\n",
       "      <td>53</td>\n",
       "      <td>AskWomen</td>\n",
       "      <td>Global check in: how is everyone with anxiety/...</td>\n",
       "    </tr>\n",
       "    <tr>\n",
       "      <th>4</th>\n",
       "      <td>&amp;amp;#x200B;\\n\\nHave you ever had a 'falling o...</td>\n",
       "      <td>t3_b6wh0j</td>\n",
       "      <td>1.553861e+09</td>\n",
       "      <td>86</td>\n",
       "      <td>AskWomen</td>\n",
       "      <td>What's the dumbest reason someone decided not ...</td>\n",
       "    </tr>\n",
       "  </tbody>\n",
       "</table>\n",
       "</div>"
      ],
      "text/plain": [
       "                                             Content         ID  \\\n",
       "0  **Welcome to AskWomen!**\\n\\nIn honor of the ch...  t3_b3r260   \n",
       "1                                                     t3_b6vwfn   \n",
       "2                                                     t3_b6ndvr   \n",
       "3                                                     t3_b6xgfr   \n",
       "4  &amp;#x200B;\\n\\nHave you ever had a 'falling o...  t3_b6wh0j   \n",
       "\n",
       "   Length_of_time  Number_of_comment Subreddit  \\\n",
       "0    1.553178e+09                  0  AskWomen   \n",
       "1    1.553858e+09                 45  AskWomen   \n",
       "2    1.553802e+09                636  AskWomen   \n",
       "3    1.553867e+09                 53  AskWomen   \n",
       "4    1.553861e+09                 86  AskWomen   \n",
       "\n",
       "                                               Title  \n",
       "0  Welcome to a new season! Spring/Fall AskWomen ...  \n",
       "1  What was a time you had to let a dream (i.e. c...  \n",
       "2  What's the lamest thing you ever did to get a ...  \n",
       "3  Global check in: how is everyone with anxiety/...  \n",
       "4  What's the dumbest reason someone decided not ...  "
      ]
     },
     "execution_count": 15,
     "metadata": {},
     "output_type": "execute_result"
    }
   ],
   "source": [
    "#convert women_post to dataframe \n",
    "women_df = to_dataframe(women_posts)\n",
    "women_df.head()"
   ]
  },
  {
   "cell_type": "code",
   "execution_count": 39,
   "metadata": {},
   "outputs": [],
   "source": [
    "#select rows without duplicates \n",
    "women_df = women_df.iloc[women_df[[\"ID\"]].drop_duplicates().index]"
   ]
  },
  {
   "cell_type": "code",
   "execution_count": 40,
   "metadata": {},
   "outputs": [
    {
     "data": {
      "text/plain": [
       "(723, 6)"
      ]
     },
     "execution_count": 40,
     "metadata": {},
     "output_type": "execute_result"
    }
   ],
   "source": [
    "#dataframe without duplicates \n",
    "women_df.shape"
   ]
  },
  {
   "cell_type": "code",
   "execution_count": 41,
   "metadata": {},
   "outputs": [],
   "source": [
    "#Save as csv\n",
    "women_df.to_csv('./data/AskWomen.csv')"
   ]
  },
  {
   "cell_type": "markdown",
   "metadata": {},
   "source": [
    "#### Save AskMen to DataFrame"
   ]
  },
  {
   "cell_type": "code",
   "execution_count": 42,
   "metadata": {
    "scrolled": true
   },
   "outputs": [
    {
     "data": {
      "text/html": [
       "<div>\n",
       "<style scoped>\n",
       "    .dataframe tbody tr th:only-of-type {\n",
       "        vertical-align: middle;\n",
       "    }\n",
       "\n",
       "    .dataframe tbody tr th {\n",
       "        vertical-align: top;\n",
       "    }\n",
       "\n",
       "    .dataframe thead th {\n",
       "        text-align: right;\n",
       "    }\n",
       "</style>\n",
       "<table border=\"1\" class=\"dataframe\">\n",
       "  <thead>\n",
       "    <tr style=\"text-align: right;\">\n",
       "      <th></th>\n",
       "      <th>Content</th>\n",
       "      <th>ID</th>\n",
       "      <th>Length_of_time</th>\n",
       "      <th>Number_of_comment</th>\n",
       "      <th>Subreddit</th>\n",
       "      <th>Title</th>\n",
       "    </tr>\n",
       "  </thead>\n",
       "  <tbody>\n",
       "    <tr>\n",
       "      <th>0</th>\n",
       "      <td>Hello and welcome to the final discussion thre...</td>\n",
       "      <td>t3_b68n3g</td>\n",
       "      <td>1.553715e+09</td>\n",
       "      <td>4</td>\n",
       "      <td>AskMen</td>\n",
       "      <td>The AskMen Book Club: \"The Picture of Dorian G...</td>\n",
       "    </tr>\n",
       "    <tr>\n",
       "      <th>1</th>\n",
       "      <td>My dads health has been declining for while, n...</td>\n",
       "      <td>t3_b6q6yr</td>\n",
       "      <td>1.553817e+09</td>\n",
       "      <td>354</td>\n",
       "      <td>AskMen</td>\n",
       "      <td>I am starting to realise my dad wont live fore...</td>\n",
       "    </tr>\n",
       "    <tr>\n",
       "      <th>2</th>\n",
       "      <td>Constructive criticism is good so I will start...</td>\n",
       "      <td>t3_b6vx6s</td>\n",
       "      <td>1.553858e+09</td>\n",
       "      <td>301</td>\n",
       "      <td>AskMen</td>\n",
       "      <td>What do you see on women's dating profiles tha...</td>\n",
       "    </tr>\n",
       "    <tr>\n",
       "      <th>3</th>\n",
       "      <td>Because constructive criticism is helpful \\n\\n...</td>\n",
       "      <td>t3_b6xrue</td>\n",
       "      <td>1.553869e+09</td>\n",
       "      <td>20</td>\n",
       "      <td>AskMen</td>\n",
       "      <td>What could women put in their dating profiles ...</td>\n",
       "    </tr>\n",
       "    <tr>\n",
       "      <th>4</th>\n",
       "      <td></td>\n",
       "      <td>t3_b6wej9</td>\n",
       "      <td>1.553861e+09</td>\n",
       "      <td>38</td>\n",
       "      <td>AskMen</td>\n",
       "      <td>What are some things on your mind that you can...</td>\n",
       "    </tr>\n",
       "  </tbody>\n",
       "</table>\n",
       "</div>"
      ],
      "text/plain": [
       "                                             Content         ID  \\\n",
       "0  Hello and welcome to the final discussion thre...  t3_b68n3g   \n",
       "1  My dads health has been declining for while, n...  t3_b6q6yr   \n",
       "2  Constructive criticism is good so I will start...  t3_b6vx6s   \n",
       "3  Because constructive criticism is helpful \\n\\n...  t3_b6xrue   \n",
       "4                                                     t3_b6wej9   \n",
       "\n",
       "   Length_of_time  Number_of_comment Subreddit  \\\n",
       "0    1.553715e+09                  4    AskMen   \n",
       "1    1.553817e+09                354    AskMen   \n",
       "2    1.553858e+09                301    AskMen   \n",
       "3    1.553869e+09                 20    AskMen   \n",
       "4    1.553861e+09                 38    AskMen   \n",
       "\n",
       "                                               Title  \n",
       "0  The AskMen Book Club: \"The Picture of Dorian G...  \n",
       "1  I am starting to realise my dad wont live fore...  \n",
       "2  What do you see on women's dating profiles tha...  \n",
       "3  What could women put in their dating profiles ...  \n",
       "4  What are some things on your mind that you can...  "
      ]
     },
     "execution_count": 42,
     "metadata": {},
     "output_type": "execute_result"
    }
   ],
   "source": [
    "#convert men_post to dataframe \n",
    "men_df = to_dataframe(men_posts)\n",
    "men_df.head()"
   ]
  },
  {
   "cell_type": "code",
   "execution_count": 43,
   "metadata": {},
   "outputs": [
    {
     "data": {
      "text/plain": [
       "(1001, 6)"
      ]
     },
     "execution_count": 43,
     "metadata": {},
     "output_type": "execute_result"
    }
   ],
   "source": [
    "men_df.shape"
   ]
  },
  {
   "cell_type": "code",
   "execution_count": 44,
   "metadata": {
    "scrolled": true
   },
   "outputs": [],
   "source": [
    "#select rows without duplicates \n",
    "men_df = men_df.iloc[men_df[[\"ID\"]].drop_duplicates().index]"
   ]
  },
  {
   "cell_type": "code",
   "execution_count": 45,
   "metadata": {},
   "outputs": [
    {
     "name": "stdout",
     "output_type": "stream",
     "text": [
      "(525, 6)\n"
     ]
    },
    {
     "data": {
      "text/html": [
       "<div>\n",
       "<style scoped>\n",
       "    .dataframe tbody tr th:only-of-type {\n",
       "        vertical-align: middle;\n",
       "    }\n",
       "\n",
       "    .dataframe tbody tr th {\n",
       "        vertical-align: top;\n",
       "    }\n",
       "\n",
       "    .dataframe thead th {\n",
       "        text-align: right;\n",
       "    }\n",
       "</style>\n",
       "<table border=\"1\" class=\"dataframe\">\n",
       "  <thead>\n",
       "    <tr style=\"text-align: right;\">\n",
       "      <th></th>\n",
       "      <th>Content</th>\n",
       "      <th>ID</th>\n",
       "      <th>Length_of_time</th>\n",
       "      <th>Number_of_comment</th>\n",
       "      <th>Subreddit</th>\n",
       "      <th>Title</th>\n",
       "    </tr>\n",
       "  </thead>\n",
       "  <tbody>\n",
       "    <tr>\n",
       "      <th>0</th>\n",
       "      <td>Hello and welcome to the final discussion thre...</td>\n",
       "      <td>t3_b68n3g</td>\n",
       "      <td>1.553715e+09</td>\n",
       "      <td>4</td>\n",
       "      <td>AskMen</td>\n",
       "      <td>The AskMen Book Club: \"The Picture of Dorian G...</td>\n",
       "    </tr>\n",
       "    <tr>\n",
       "      <th>1</th>\n",
       "      <td>My dads health has been declining for while, n...</td>\n",
       "      <td>t3_b6q6yr</td>\n",
       "      <td>1.553817e+09</td>\n",
       "      <td>354</td>\n",
       "      <td>AskMen</td>\n",
       "      <td>I am starting to realise my dad wont live fore...</td>\n",
       "    </tr>\n",
       "    <tr>\n",
       "      <th>2</th>\n",
       "      <td>Constructive criticism is good so I will start...</td>\n",
       "      <td>t3_b6vx6s</td>\n",
       "      <td>1.553858e+09</td>\n",
       "      <td>301</td>\n",
       "      <td>AskMen</td>\n",
       "      <td>What do you see on women's dating profiles tha...</td>\n",
       "    </tr>\n",
       "    <tr>\n",
       "      <th>3</th>\n",
       "      <td>Because constructive criticism is helpful \\n\\n...</td>\n",
       "      <td>t3_b6xrue</td>\n",
       "      <td>1.553869e+09</td>\n",
       "      <td>20</td>\n",
       "      <td>AskMen</td>\n",
       "      <td>What could women put in their dating profiles ...</td>\n",
       "    </tr>\n",
       "    <tr>\n",
       "      <th>4</th>\n",
       "      <td></td>\n",
       "      <td>t3_b6wej9</td>\n",
       "      <td>1.553861e+09</td>\n",
       "      <td>38</td>\n",
       "      <td>AskMen</td>\n",
       "      <td>What are some things on your mind that you can...</td>\n",
       "    </tr>\n",
       "  </tbody>\n",
       "</table>\n",
       "</div>"
      ],
      "text/plain": [
       "                                             Content         ID  \\\n",
       "0  Hello and welcome to the final discussion thre...  t3_b68n3g   \n",
       "1  My dads health has been declining for while, n...  t3_b6q6yr   \n",
       "2  Constructive criticism is good so I will start...  t3_b6vx6s   \n",
       "3  Because constructive criticism is helpful \\n\\n...  t3_b6xrue   \n",
       "4                                                     t3_b6wej9   \n",
       "\n",
       "   Length_of_time  Number_of_comment Subreddit  \\\n",
       "0    1.553715e+09                  4    AskMen   \n",
       "1    1.553817e+09                354    AskMen   \n",
       "2    1.553858e+09                301    AskMen   \n",
       "3    1.553869e+09                 20    AskMen   \n",
       "4    1.553861e+09                 38    AskMen   \n",
       "\n",
       "                                               Title  \n",
       "0  The AskMen Book Club: \"The Picture of Dorian G...  \n",
       "1  I am starting to realise my dad wont live fore...  \n",
       "2  What do you see on women's dating profiles tha...  \n",
       "3  What could women put in their dating profiles ...  \n",
       "4  What are some things on your mind that you can...  "
      ]
     },
     "execution_count": 45,
     "metadata": {},
     "output_type": "execute_result"
    }
   ],
   "source": [
    "#dataframe without duplicates \n",
    "print(men_df.shape)\n",
    "men_df.head()"
   ]
  },
  {
   "cell_type": "code",
   "execution_count": 46,
   "metadata": {},
   "outputs": [],
   "source": [
    "#Save as csv\n",
    "men_df.to_csv('./data/AskMen.csv')"
   ]
  },
  {
   "cell_type": "markdown",
   "metadata": {},
   "source": [
    "#### Save Relationship_Adviceto DataFrame"
   ]
  },
  {
   "cell_type": "code",
   "execution_count": 48,
   "metadata": {},
   "outputs": [
    {
     "data": {
      "text/html": [
       "<div>\n",
       "<style scoped>\n",
       "    .dataframe tbody tr th:only-of-type {\n",
       "        vertical-align: middle;\n",
       "    }\n",
       "\n",
       "    .dataframe tbody tr th {\n",
       "        vertical-align: top;\n",
       "    }\n",
       "\n",
       "    .dataframe thead th {\n",
       "        text-align: right;\n",
       "    }\n",
       "</style>\n",
       "<table border=\"1\" class=\"dataframe\">\n",
       "  <thead>\n",
       "    <tr style=\"text-align: right;\">\n",
       "      <th></th>\n",
       "      <th>Content</th>\n",
       "      <th>ID</th>\n",
       "      <th>Length_of_time</th>\n",
       "      <th>Number_of_comment</th>\n",
       "      <th>Subreddit</th>\n",
       "      <th>Title</th>\n",
       "    </tr>\n",
       "  </thead>\n",
       "  <tbody>\n",
       "    <tr>\n",
       "      <th>0</th>\n",
       "      <td>###Applications are open.\\n\\nApplications may ...</td>\n",
       "      <td>t3_b11tx5</td>\n",
       "      <td>1.552578e+09</td>\n",
       "      <td>23</td>\n",
       "      <td>relationship_advice</td>\n",
       "      <td>[Meta] Mod Applications</td>\n",
       "    </tr>\n",
       "    <tr>\n",
       "      <th>1</th>\n",
       "      <td>Since two or three times a week we end up remo...</td>\n",
       "      <td>t3_b2nc2f</td>\n",
       "      <td>1.552939e+09</td>\n",
       "      <td>52</td>\n",
       "      <td>relationship_advice</td>\n",
       "      <td>[meta] Think of the comments as an inverted Ub...</td>\n",
       "    </tr>\n",
       "    <tr>\n",
       "      <th>2</th>\n",
       "      <td>So... my girlfriend tends to be sometimes jeal...</td>\n",
       "      <td>t3_b6wkec</td>\n",
       "      <td>1.553862e+09</td>\n",
       "      <td>284</td>\n",
       "      <td>relationship_advice</td>\n",
       "      <td>My girlfriend (20F) secretly took my (22M) fac...</td>\n",
       "    </tr>\n",
       "    <tr>\n",
       "      <th>3</th>\n",
       "      <td>I’ll get right to it\\n\\nBF and I have been tog...</td>\n",
       "      <td>t3_b6nhjf</td>\n",
       "      <td>1.553803e+09</td>\n",
       "      <td>10685</td>\n",
       "      <td>relationship_advice</td>\n",
       "      <td>My (24F) boyfriend (25M) had a bizarre reactio...</td>\n",
       "    </tr>\n",
       "    <tr>\n",
       "      <th>4</th>\n",
       "      <td>I don't want anyone having the slightest clue ...</td>\n",
       "      <td>t3_b6wak4</td>\n",
       "      <td>1.553860e+09</td>\n",
       "      <td>163</td>\n",
       "      <td>relationship_advice</td>\n",
       "      <td>I (19f) dumped and blocked my boyfriend (19m) ...</td>\n",
       "    </tr>\n",
       "  </tbody>\n",
       "</table>\n",
       "</div>"
      ],
      "text/plain": [
       "                                             Content         ID  \\\n",
       "0  ###Applications are open.\\n\\nApplications may ...  t3_b11tx5   \n",
       "1  Since two or three times a week we end up remo...  t3_b2nc2f   \n",
       "2  So... my girlfriend tends to be sometimes jeal...  t3_b6wkec   \n",
       "3  I’ll get right to it\\n\\nBF and I have been tog...  t3_b6nhjf   \n",
       "4  I don't want anyone having the slightest clue ...  t3_b6wak4   \n",
       "\n",
       "   Length_of_time  Number_of_comment            Subreddit  \\\n",
       "0    1.552578e+09                 23  relationship_advice   \n",
       "1    1.552939e+09                 52  relationship_advice   \n",
       "2    1.553862e+09                284  relationship_advice   \n",
       "3    1.553803e+09              10685  relationship_advice   \n",
       "4    1.553860e+09                163  relationship_advice   \n",
       "\n",
       "                                               Title  \n",
       "0                            [Meta] Mod Applications  \n",
       "1  [meta] Think of the comments as an inverted Ub...  \n",
       "2  My girlfriend (20F) secretly took my (22M) fac...  \n",
       "3  My (24F) boyfriend (25M) had a bizarre reactio...  \n",
       "4  I (19f) dumped and blocked my boyfriend (19m) ...  "
      ]
     },
     "execution_count": 48,
     "metadata": {},
     "output_type": "execute_result"
    }
   ],
   "source": [
    "relationship_df = to_dataframe(relationship_posts)\n",
    "relationship_df.head()"
   ]
  },
  {
   "cell_type": "code",
   "execution_count": 49,
   "metadata": {},
   "outputs": [
    {
     "data": {
      "text/plain": [
       "(1236, 6)"
      ]
     },
     "execution_count": 49,
     "metadata": {},
     "output_type": "execute_result"
    }
   ],
   "source": [
    "relationship_df.shape"
   ]
  },
  {
   "cell_type": "code",
   "execution_count": 50,
   "metadata": {},
   "outputs": [],
   "source": [
    "#select rows without duplicates \n",
    "relationship_df = relationship_df.iloc[relationship_df[[\"ID\"]].drop_duplicates().index]"
   ]
  },
  {
   "cell_type": "code",
   "execution_count": 52,
   "metadata": {},
   "outputs": [
    {
     "data": {
      "text/plain": [
       "(984, 6)"
      ]
     },
     "execution_count": 52,
     "metadata": {},
     "output_type": "execute_result"
    }
   ],
   "source": [
    "#dataframe without duplicates \n",
    "relationship_df.shape"
   ]
  },
  {
   "cell_type": "code",
   "execution_count": 53,
   "metadata": {},
   "outputs": [],
   "source": [
    "relationship_df.to_csv('./data/relationship_advice.csv')"
   ]
  }
 ],
 "metadata": {
  "kernelspec": {
   "display_name": "Python 3",
   "language": "python",
   "name": "python3"
  },
  "language_info": {
   "codemirror_mode": {
    "name": "ipython",
    "version": 3
   },
   "file_extension": ".py",
   "mimetype": "text/x-python",
   "name": "python",
   "nbconvert_exporter": "python",
   "pygments_lexer": "ipython3",
   "version": "3.7.1"
  }
 },
 "nbformat": 4,
 "nbformat_minor": 2
}
