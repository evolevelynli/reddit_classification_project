{
 "cells": [
  {
   "cell_type": "markdown",
   "metadata": {},
   "source": [
    "# Web APIs & Classification"
   ]
  },
  {
   "cell_type": "markdown",
   "metadata": {},
   "source": [
    "## Project Challenge Statement\n",
    "\n",
    "### Goal: \n",
    "#### 1. Using Reddit's API, collect posts from Three subreddits: AskWomen, AskMen, Relationship_Advice. \n",
    "#### 2. NLP to train a classifier on which subreddit a given post came from. This is a binary classification problem.\n",
    "\n",
    "### Datasets: \n",
    "1. AskMen vs AskWomen (0, 1)\n",
    "2. Relationship Advice vs AskWomen (1, 0)\n",
    "\n",
    "### Baseline Model Building \n",
    "Baseline models are built without using tokenizers, \n",
    "#### 1. CountVectorizer Model \n",
    "- with Logistic Regression \n",
    "- with Multinomial NB\n",
    "\n",
    "#### 2. TF-IDF Model\n",
    "- with Logistic Regression \n",
    "- with Multinomial NB"
   ]
  },
  {
   "cell_type": "markdown",
   "metadata": {},
   "source": [
    "## Table of Contents \n",
    "\n",
    "This Notebook is broken down into different sections for analysis purpose. The following links are connected to differenct section within the Notebook for simple navigation. \n",
    "\n",
    "### Contents:\n",
    "[Models](#Models)\n",
    "1. [CountVectorizer Model With Logistic Regression](#CountVectorizer-Model-With-Logistic-Regression)\n",
    "   1. AskMen vs AskWomen (0, 1)\n",
    "    2. Relationship Advice vs AskWomen (1, 0)\n",
    "    \n",
    "    \n",
    "2. [CountVectorizer Model With Multinomial NB](#CountVectorizer-Model-With-Multinomial-NB)\n",
    "    1. AskMen vs AskWomen (0, 1)\n",
    "    2. AskWomen vs Relationship Advice (1, 0)\n",
    "    \n",
    "    \n",
    "3. [TFIDF Model With Logistic Regression](#TFIDF-Model-With-Logistic-Regression)\n",
    "    1. AskMen vs AskWomen (0, 1)\n",
    "    2. AskWomen vs Relationship Advice (1, 0)\n",
    "    \n",
    "    \n",
    "4. [TFIDF Model With Multinomial NB](#TFIDF-Model-With-Multinomial-NB)\n",
    "    1. AskMen vs AskWomen (0, 1)\n",
    "    2. AskWomen vs Relationship Advice (1, 0)\n",
    "    \n",
    "    \n",
    "5. [Random Forest Model Feature Extraction](#Random-Forest-Model-Feature-Extraction)\n",
    "    1. AskMen vs AskWomen (0, 1)\n",
    "    2. AskWomen vs Relationship Advice (1, 0)\n",
    "    \n",
    "6. [Extra Tree Model Feature Extraction](#Extra-Tree-Model-Feature-Extraction)\n",
    "    1. AskMen vs AskWomen (0, 1)\n",
    "    2. AskWomen vs Relationship Advice (1, 0)\n",
    "    \n",
    "    \n",
    "7. [AdaBoostClassifier Model Feature Extraction](#AdaBoostClassifier-Model-Feature-Extraction)\n",
    "    1. AskMen vs AskWomen (0, 1)\n",
    "    2. AskWomen vs Relationship Advice (1, 0)\n",
    "    \n",
    "[Model Comparison](#Model-Comparison)\n",
    "    "
   ]
  },
  {
   "cell_type": "code",
   "execution_count": 2,
   "metadata": {},
   "outputs": [],
   "source": [
    "# !pip install pactools\n",
    "import warnings\n",
    "warnings.filterwarnings('ignore')"
   ]
  },
  {
   "cell_type": "markdown",
   "metadata": {},
   "source": [
    "##### Libraries "
   ]
  },
  {
   "cell_type": "code",
   "execution_count": 3,
   "metadata": {},
   "outputs": [],
   "source": [
    "import pandas as pd \n",
    "import numpy as np \n",
    "import re\n",
    "from sklearn.pipeline import Pipeline \n",
    "from sklearn.model_selection import train_test_split, GridSearchCV\n",
    "from sklearn.linear_model import LogisticRegression\n",
    "from sklearn.feature_extraction.text import CountVectorizer, TfidfVectorizer\n",
    "from sklearn.naive_bayes import MultinomialNB\n",
    "from sklearn import svm"
   ]
  },
  {
   "cell_type": "code",
   "execution_count": 5,
   "metadata": {},
   "outputs": [],
   "source": [
    "menwomen_df = pd.read_csv('../data/AskMenAskWomen.csv')\n",
    "womenrelationship_df = pd.read_csv('../data/AskWomen_Relationship.csv')"
   ]
  },
  {
   "cell_type": "code",
   "execution_count": 6,
   "metadata": {
    "scrolled": false
   },
   "outputs": [
    {
     "data": {
      "text/html": [
       "<div>\n",
       "<style scoped>\n",
       "    .dataframe tbody tr th:only-of-type {\n",
       "        vertical-align: middle;\n",
       "    }\n",
       "\n",
       "    .dataframe tbody tr th {\n",
       "        vertical-align: top;\n",
       "    }\n",
       "\n",
       "    .dataframe thead th {\n",
       "        text-align: right;\n",
       "    }\n",
       "</style>\n",
       "<table border=\"1\" class=\"dataframe\">\n",
       "  <thead>\n",
       "    <tr style=\"text-align: right;\">\n",
       "      <th></th>\n",
       "      <th>Unnamed: 0</th>\n",
       "      <th>Subreddit</th>\n",
       "      <th>Title_Content</th>\n",
       "    </tr>\n",
       "  </thead>\n",
       "  <tbody>\n",
       "    <tr>\n",
       "      <th>0</th>\n",
       "      <td>0</td>\n",
       "      <td>0</td>\n",
       "      <td>The AskMen Book Club   The Picture of Dorian G...</td>\n",
       "    </tr>\n",
       "    <tr>\n",
       "      <th>1</th>\n",
       "      <td>1</td>\n",
       "      <td>0</td>\n",
       "      <td>I am starting to realise my dad wont live fore...</td>\n",
       "    </tr>\n",
       "    <tr>\n",
       "      <th>2</th>\n",
       "      <td>2</td>\n",
       "      <td>0</td>\n",
       "      <td>What do you see on women s dating profiles tha...</td>\n",
       "    </tr>\n",
       "    <tr>\n",
       "      <th>3</th>\n",
       "      <td>3</td>\n",
       "      <td>0</td>\n",
       "      <td>What could women put in their dating profiles ...</td>\n",
       "    </tr>\n",
       "    <tr>\n",
       "      <th>4</th>\n",
       "      <td>4</td>\n",
       "      <td>0</td>\n",
       "      <td>What are some things on your mind that you can...</td>\n",
       "    </tr>\n",
       "  </tbody>\n",
       "</table>\n",
       "</div>"
      ],
      "text/plain": [
       "   Unnamed: 0  Subreddit                                      Title_Content\n",
       "0           0          0  The AskMen Book Club   The Picture of Dorian G...\n",
       "1           1          0  I am starting to realise my dad wont live fore...\n",
       "2           2          0  What do you see on women s dating profiles tha...\n",
       "3           3          0  What could women put in their dating profiles ...\n",
       "4           4          0  What are some things on your mind that you can..."
      ]
     },
     "execution_count": 6,
     "metadata": {},
     "output_type": "execute_result"
    }
   ],
   "source": [
    "menwomen_df.head()"
   ]
  },
  {
   "cell_type": "markdown",
   "metadata": {},
   "source": [
    "### Tokenizer Function"
   ]
  },
  {
   "cell_type": "code",
   "execution_count": 5,
   "metadata": {},
   "outputs": [],
   "source": [
    "#build custom tokenizers with lemmaliszer \n",
    "from nltk.stem import WordNetLemmatizer\n",
    "from nltk.tokenize import RegexpTokenizer\n",
    "\n",
    "def lemma(content):\n",
    "    tokenizer = RegexpTokenizer(r'\\w+')\n",
    "    tokens = tokenizer.tokenize(content.lower())\n",
    "    lemmatizer = WordNetLemmatizer()\n",
    "    tokens_lem = [lemmatizer.lemmatize(i) for i in tokens]\n",
    "    return(\" \".join(tokens_lem))"
   ]
  },
  {
   "cell_type": "code",
   "execution_count": 6,
   "metadata": {},
   "outputs": [],
   "source": [
    "#build custom tokenizers with lemmaliszer \n",
    "from nltk.stem.porter import PorterStemmer\n",
    "\n",
    "def stemmer(content):\n",
    "    tokenizer = RegexpTokenizer(r'\\w+')\n",
    "    tokens = tokenizer.tokenize(content.lower())\n",
    "    p_stemmer = PorterStemmer()\n",
    "    stem_tokens = [p_stemmer.stem(i) for i in tokens]\n",
    "    return(\" \".join(stem_tokens))"
   ]
  },
  {
   "cell_type": "markdown",
   "metadata": {},
   "source": [
    "## CountVectorizer Model With Logistic Regression"
   ]
  },
  {
   "cell_type": "code",
   "execution_count": 7,
   "metadata": {},
   "outputs": [],
   "source": [
    "#building pipeline and gridsearch model \n",
    "#pipeline \n",
    "loggit_pipe = Pipeline([\n",
    "    ('cvec', CountVectorizer()), \n",
    "    ('logreg', LogisticRegression())\n",
    "])\n",
    "\n",
    "#parameters for grid search \n",
    "params_1 = {\n",
    "    'cvec__stop_words':[None, 'english'],\n",
    "    'cvec__max_features': [1000, 1500, 2000, 2500],\n",
    "    'cvec__min_df': [2, 5],\n",
    "    'cvec__max_df': [.95, 0.99],\n",
    "    'cvec__ngram_range': [(1,1), (1,2)],\n",
    "#     'cvec__tokenizer':[None, lemma, stemmer]\n",
    "}\n",
    "\n",
    "#gridsearch \n",
    "gs1 = GridSearchCV(loggit_pipe, param_grid = params_1 , cv = 3)\n",
    "gs2 = GridSearchCV(loggit_pipe, param_grid = params_1 , cv = 3)\n",
    "gs3 = GridSearchCV(loggit_pipe, param_grid = params_1 , cv = 3)"
   ]
  },
  {
   "cell_type": "markdown",
   "metadata": {},
   "source": [
    "#### Model 1 with menwomen_df"
   ]
  },
  {
   "cell_type": "code",
   "execution_count": 8,
   "metadata": {},
   "outputs": [],
   "source": [
    "X = menwomen_df[\"Title_Content\"]\n",
    "y = menwomen_df['Subreddit']\n",
    "\n",
    "#Train Test Split \n",
    "X_train, X_test, y_train, y_test = train_test_split(X, y, test_size=0.3, random_state=42, stratify = y)"
   ]
  },
  {
   "cell_type": "code",
   "execution_count": 9,
   "metadata": {},
   "outputs": [
    {
     "data": {
      "text/plain": [
       "{'cvec__max_df': 0.95,\n",
       " 'cvec__max_features': 1000,\n",
       " 'cvec__min_df': 2,\n",
       " 'cvec__ngram_range': (1, 1),\n",
       " 'cvec__stop_words': 'english'}"
      ]
     },
     "execution_count": 9,
     "metadata": {},
     "output_type": "execute_result"
    }
   ],
   "source": [
    "gs1.fit(X_train, y_train)\n",
    "gs1.best_params_"
   ]
  },
  {
   "cell_type": "code",
   "execution_count": 10,
   "metadata": {
    "scrolled": false
   },
   "outputs": [
    {
     "name": "stdout",
     "output_type": "stream",
     "text": [
      "train score 0.9117983963344788\n",
      "test score 0.704\n"
     ]
    }
   ],
   "source": [
    "print('train score', gs1.score(X_train, y_train))\n",
    "print('test score', gs1.score(X_test, y_test))"
   ]
  },
  {
   "cell_type": "code",
   "execution_count": 7,
   "metadata": {},
   "outputs": [],
   "source": [
    "#building a list of records \n",
    "model1 = ['CountVectorizer Model With Logistic Regression']\n",
    "train_score1 = ['0.9117983963344788']\n",
    "test_score1 = ['0.704']"
   ]
  },
  {
   "cell_type": "markdown",
   "metadata": {},
   "source": [
    "#### Model 1 with  womenrelationship_df"
   ]
  },
  {
   "cell_type": "code",
   "execution_count": 12,
   "metadata": {},
   "outputs": [],
   "source": [
    "X = womenrelationship_df[\"Title_Content\"]\n",
    "y = womenrelationship_df['Subreddit']\n",
    "\n",
    "#Train Test Split \n",
    "X_train, X_test, y_train, y_test = train_test_split(X, y, test_size=0.3, random_state=42, stratify = y)"
   ]
  },
  {
   "cell_type": "code",
   "execution_count": 13,
   "metadata": {},
   "outputs": [
    {
     "data": {
      "text/plain": [
       "{'cvec__max_df': 0.95,\n",
       " 'cvec__max_features': 2000,\n",
       " 'cvec__min_df': 2,\n",
       " 'cvec__ngram_range': (1, 1),\n",
       " 'cvec__stop_words': None}"
      ]
     },
     "execution_count": 13,
     "metadata": {},
     "output_type": "execute_result"
    }
   ],
   "source": [
    "gs2.fit(X_train, y_train)\n",
    "gs2.best_params_"
   ]
  },
  {
   "cell_type": "code",
   "execution_count": 14,
   "metadata": {},
   "outputs": [
    {
     "name": "stdout",
     "output_type": "stream",
     "text": [
      "train score 0.9991624790619765\n",
      "test score 0.9766081871345029\n"
     ]
    }
   ],
   "source": [
    "print('train score', gs2.score(X_train, y_train))\n",
    "print('test score', gs2.score(X_test, y_test))"
   ]
  },
  {
   "cell_type": "code",
   "execution_count": 8,
   "metadata": {},
   "outputs": [],
   "source": [
    "#building a list of records \n",
    "model2 = ['CountVectorizer Model With Logistic Regression']\n",
    "train_score2 = ['0.9991624790619765']\n",
    "test_score2 = ['0.9766081871345029']"
   ]
  },
  {
   "cell_type": "markdown",
   "metadata": {},
   "source": [
    "## CountVectorizer Model With Multinomial NB"
   ]
  },
  {
   "cell_type": "code",
   "execution_count": 17,
   "metadata": {},
   "outputs": [],
   "source": [
    "#building pipeline and gridsearch model \n",
    "#pipeline \n",
    "nb_pipe = Pipeline([\n",
    "    ('cvec', CountVectorizer()), \n",
    "    ('mnb', MultinomialNB())\n",
    "])\n",
    "\n",
    "#parameters for grid search \n",
    "params_2 = {\n",
    "    'cvec__stop_words':[None, 'english'],\n",
    "    'cvec__max_features': [1000, 1500, 2000, 2500],\n",
    "    'cvec__min_df': [2, 5],\n",
    "    'cvec__max_df': [.95, 0.99],\n",
    "    'cvec__ngram_range': [(1,1), (1,2)]\n",
    "}\n",
    "\n",
    "#gridsearch \n",
    "gs4 = GridSearchCV(nb_pipe, param_grid = params_2 , cv = 3)\n",
    "gs5 = GridSearchCV(nb_pipe, param_grid = params_2 , cv = 3)\n",
    "gs6 = GridSearchCV(nb_pipe, param_grid = params_2 , cv = 3)"
   ]
  },
  {
   "cell_type": "markdown",
   "metadata": {},
   "source": [
    "#### Model 2 with menwomen_df"
   ]
  },
  {
   "cell_type": "code",
   "execution_count": 18,
   "metadata": {},
   "outputs": [],
   "source": [
    "X = menwomen_df[\"Title_Content\"]\n",
    "y = menwomen_df['Subreddit']\n",
    "\n",
    "#Train Test Split \n",
    "X_train, X_test, y_train, y_test = train_test_split(X, y, test_size=0.3, random_state=42, stratify = y)"
   ]
  },
  {
   "cell_type": "code",
   "execution_count": 19,
   "metadata": {},
   "outputs": [
    {
     "data": {
      "text/plain": [
       "{'cvec__max_df': 0.95,\n",
       " 'cvec__max_features': 1500,\n",
       " 'cvec__min_df': 2,\n",
       " 'cvec__ngram_range': (1, 1),\n",
       " 'cvec__stop_words': None}"
      ]
     },
     "execution_count": 19,
     "metadata": {},
     "output_type": "execute_result"
    }
   ],
   "source": [
    "gs4.fit(X_train, y_train)\n",
    "gs4.best_params_"
   ]
  },
  {
   "cell_type": "code",
   "execution_count": 20,
   "metadata": {
    "scrolled": true
   },
   "outputs": [
    {
     "name": "stdout",
     "output_type": "stream",
     "text": [
      "train score 0.8213058419243986\n",
      "test score 0.7066666666666667\n"
     ]
    }
   ],
   "source": [
    "print('train score', gs4.score(X_train, y_train))\n",
    "print('test score', gs4.score(X_test, y_test))"
   ]
  },
  {
   "cell_type": "code",
   "execution_count": 9,
   "metadata": {},
   "outputs": [],
   "source": [
    "#building a list of records \n",
    "model1.append('CountVectorizer_Model_With_Multinomial_NB')\n",
    "train_score1.append('0.8213058419243986')\n",
    "test_score1.append(' 0.7066666666666667')"
   ]
  },
  {
   "cell_type": "markdown",
   "metadata": {},
   "source": [
    "#### Model 2 with  womenrelationship_df"
   ]
  },
  {
   "cell_type": "code",
   "execution_count": 23,
   "metadata": {},
   "outputs": [],
   "source": [
    "X = womenrelationship_df[\"Title_Content\"]\n",
    "y = womenrelationship_df['Subreddit']\n",
    "\n",
    "#Train Test Split \n",
    "X_train, X_test, y_train, y_test = train_test_split(X, y, test_size=0.3, random_state=42, stratify = y)"
   ]
  },
  {
   "cell_type": "code",
   "execution_count": 24,
   "metadata": {},
   "outputs": [
    {
     "data": {
      "text/plain": [
       "{'cvec__max_df': 0.95,\n",
       " 'cvec__max_features': 1000,\n",
       " 'cvec__min_df': 2,\n",
       " 'cvec__ngram_range': (1, 1),\n",
       " 'cvec__stop_words': None}"
      ]
     },
     "execution_count": 24,
     "metadata": {},
     "output_type": "execute_result"
    }
   ],
   "source": [
    "gs6.fit(X_train, y_train)\n",
    "gs6.best_params_"
   ]
  },
  {
   "cell_type": "code",
   "execution_count": 25,
   "metadata": {},
   "outputs": [
    {
     "name": "stdout",
     "output_type": "stream",
     "text": [
      "train score 0.981574539363484\n",
      "test score 0.9727095516569201\n"
     ]
    }
   ],
   "source": [
    "print('train score', gs6.score(X_train, y_train))\n",
    "print('test score', gs6.score(X_test, y_test))"
   ]
  },
  {
   "cell_type": "code",
   "execution_count": 10,
   "metadata": {},
   "outputs": [],
   "source": [
    "#building a list of records \n",
    "model2.append('CountVectorizer_Model_With_Multinomial_NB')\n",
    "train_score2.append('0.981574539363484')\n",
    "test_score2.append('0.9727095516569201')"
   ]
  },
  {
   "cell_type": "markdown",
   "metadata": {},
   "source": [
    "## TFIDF Model With Logistic Regression"
   ]
  },
  {
   "cell_type": "code",
   "execution_count": 27,
   "metadata": {},
   "outputs": [],
   "source": [
    "#building pipeline and gridsearch model \n",
    "#pipeline \n",
    "loggit_pipe2 = Pipeline([\n",
    "    ('tfidf', TfidfVectorizer()), \n",
    "    ('logreg', LogisticRegression())\n",
    "])\n",
    "\n",
    "#parameters for grid search \n",
    "params_3 = {\n",
    "    'tfidf__stop_words':[None, 'english'],\n",
    "    'tfidf__max_features': [1000, 1500, 2000, 2500],\n",
    "    'tfidf__min_df': [2, 5],\n",
    "    'tfidf__max_df': [.95, 0.99],\n",
    "    'tfidf__ngram_range': [(1,1), (1,2)]\n",
    "}\n",
    "\n",
    "#gridsearch \n",
    "gs7 = GridSearchCV(loggit_pipe2, param_grid = params_3 , cv = 3)\n",
    "gs8 = GridSearchCV(loggit_pipe2, param_grid = params_3 , cv = 3)\n",
    "gs9 = GridSearchCV(loggit_pipe2, param_grid = params_3 , cv = 3)"
   ]
  },
  {
   "cell_type": "markdown",
   "metadata": {},
   "source": [
    "#### Model 3 with menwomen_df"
   ]
  },
  {
   "cell_type": "code",
   "execution_count": 28,
   "metadata": {},
   "outputs": [],
   "source": [
    "X = menwomen_df[\"Title_Content\"]\n",
    "y = menwomen_df['Subreddit']\n",
    "\n",
    "#Train Test Split \n",
    "X_train, X_test, y_train, y_test = train_test_split(X, y, test_size=0.3, random_state=42, stratify = y)"
   ]
  },
  {
   "cell_type": "code",
   "execution_count": 29,
   "metadata": {
    "scrolled": true
   },
   "outputs": [
    {
     "data": {
      "text/plain": [
       "{'tfidf__max_df': 0.95,\n",
       " 'tfidf__max_features': 1500,\n",
       " 'tfidf__min_df': 2,\n",
       " 'tfidf__ngram_range': (1, 1),\n",
       " 'tfidf__stop_words': None}"
      ]
     },
     "execution_count": 29,
     "metadata": {},
     "output_type": "execute_result"
    }
   ],
   "source": [
    "gs7.fit(X_train, y_train)\n",
    "gs7.best_params_"
   ]
  },
  {
   "cell_type": "code",
   "execution_count": 30,
   "metadata": {},
   "outputs": [
    {
     "name": "stdout",
     "output_type": "stream",
     "text": [
      "train score 0.8384879725085911\n",
      "test score 0.728\n"
     ]
    }
   ],
   "source": [
    "print('train score', gs7.score(X_train, y_train))\n",
    "print('test score', gs7.score(X_test, y_test))"
   ]
  },
  {
   "cell_type": "code",
   "execution_count": 11,
   "metadata": {},
   "outputs": [],
   "source": [
    "#building a list of records \n",
    "model1.append('TFIDF Model With Logistic Regression')\n",
    "train_score1.append('0.8384879725085911')\n",
    "test_score1.append('0.728')"
   ]
  },
  {
   "cell_type": "markdown",
   "metadata": {},
   "source": [
    "#### Model 3 with  womenrelationship_df"
   ]
  },
  {
   "cell_type": "code",
   "execution_count": 32,
   "metadata": {},
   "outputs": [],
   "source": [
    "X = womenrelationship_df[\"Title_Content\"]\n",
    "y = womenrelationship_df['Subreddit']\n",
    "\n",
    "#Train Test Split \n",
    "X_train, X_test, y_train, y_test = train_test_split(X, y, test_size=0.3, random_state=42, stratify = y)"
   ]
  },
  {
   "cell_type": "code",
   "execution_count": 33,
   "metadata": {
    "scrolled": true
   },
   "outputs": [
    {
     "data": {
      "text/plain": [
       "{'tfidf__max_df': 0.95,\n",
       " 'tfidf__max_features': 1000,\n",
       " 'tfidf__min_df': 2,\n",
       " 'tfidf__ngram_range': (1, 1),\n",
       " 'tfidf__stop_words': None}"
      ]
     },
     "execution_count": 33,
     "metadata": {},
     "output_type": "execute_result"
    }
   ],
   "source": [
    "gs9.fit(X_train, y_train)\n",
    "gs9.best_params_"
   ]
  },
  {
   "cell_type": "code",
   "execution_count": 34,
   "metadata": {},
   "outputs": [
    {
     "name": "stdout",
     "output_type": "stream",
     "text": [
      "train score 0.983249581239531\n",
      "test score 0.9727095516569201\n"
     ]
    }
   ],
   "source": [
    "print('train score', gs9.score(X_train, y_train))\n",
    "print('test score', gs9.score(X_test, y_test))"
   ]
  },
  {
   "cell_type": "code",
   "execution_count": 12,
   "metadata": {},
   "outputs": [],
   "source": [
    "#building a list of records \n",
    "model2.append('TFIDF Model With Logistic Regression')\n",
    "train_score2.append('0.983249581239531')\n",
    "test_score2.append('0.9727095516569201')"
   ]
  },
  {
   "cell_type": "markdown",
   "metadata": {},
   "source": [
    "## TFIDF Model With Multinomial NB"
   ]
  },
  {
   "cell_type": "code",
   "execution_count": 36,
   "metadata": {},
   "outputs": [],
   "source": [
    "#building pipeline and gridsearch model \n",
    "#pipeline \n",
    "nb_pipe2 = Pipeline([\n",
    "    ('tfidf', TfidfVectorizer()), \n",
    "    ('mnb', MultinomialNB())\n",
    "])\n",
    "\n",
    "#parameters for grid search \n",
    "params_4 = {\n",
    "    'tfidf__stop_words':[None, 'english'],\n",
    "    'tfidf__max_features': [1000, 1500, 2000, 2500],\n",
    "    'tfidf__min_df': [2, 5],\n",
    "    'tfidf__max_df': [.95, 0.99],\n",
    "    'tfidf__ngram_range': [(1,1), (1,2)],\n",
    "#     'tfidf__tokenizer':[None, lemma, stemmer]\n",
    "}\n",
    "\n",
    "#gridsearch \n",
    "gs10 = GridSearchCV(nb_pipe2, param_grid = params_4 , cv = 3)\n",
    "gs11 = GridSearchCV(nb_pipe2, param_grid = params_4 , cv = 3)\n",
    "gs12 = GridSearchCV(nb_pipe2, param_grid = params_4 , cv = 3)"
   ]
  },
  {
   "cell_type": "markdown",
   "metadata": {},
   "source": [
    "#### Model 4 with menwomen_df"
   ]
  },
  {
   "cell_type": "code",
   "execution_count": 37,
   "metadata": {},
   "outputs": [],
   "source": [
    "X = menwomen_df[\"Title_Content\"]\n",
    "y = menwomen_df['Subreddit']\n",
    "\n",
    "#Train Test Split \n",
    "X_train, X_test, y_train, y_test = train_test_split(X, y, test_size=0.3, random_state=42, stratify = y)"
   ]
  },
  {
   "cell_type": "code",
   "execution_count": 38,
   "metadata": {
    "scrolled": true
   },
   "outputs": [
    {
     "data": {
      "text/plain": [
       "{'tfidf__max_df': 0.95,\n",
       " 'tfidf__max_features': 1000,\n",
       " 'tfidf__min_df': 2,\n",
       " 'tfidf__ngram_range': (1, 2),\n",
       " 'tfidf__stop_words': None}"
      ]
     },
     "execution_count": 38,
     "metadata": {},
     "output_type": "execute_result"
    }
   ],
   "source": [
    "gs10.fit(X_train, y_train)\n",
    "gs10.best_params_"
   ]
  },
  {
   "cell_type": "code",
   "execution_count": 39,
   "metadata": {},
   "outputs": [
    {
     "name": "stdout",
     "output_type": "stream",
     "text": [
      "train score 0.8018327605956472\n",
      "test score 0.72\n"
     ]
    }
   ],
   "source": [
    "print('train score', gs10.score(X_train, y_train))\n",
    "print('test score', gs10.score(X_test, y_test))"
   ]
  },
  {
   "cell_type": "code",
   "execution_count": 13,
   "metadata": {},
   "outputs": [],
   "source": [
    "#building a list of records \n",
    "model1.append('TFIDF Model With Multinomial NB')\n",
    "train_score1.append('0.8018327605956472')\n",
    "test_score1.append('0.72')"
   ]
  },
  {
   "cell_type": "markdown",
   "metadata": {},
   "source": [
    "#### Model 4 with  womenrelationship_df"
   ]
  },
  {
   "cell_type": "code",
   "execution_count": 41,
   "metadata": {},
   "outputs": [],
   "source": [
    "X = womenrelationship_df[\"Title_Content\"]\n",
    "y = womenrelationship_df['Subreddit']\n",
    "\n",
    "#Train Test Split \n",
    "X_train, X_test, y_train, y_test = train_test_split(X, y, test_size=0.3, random_state=42, stratify = y)"
   ]
  },
  {
   "cell_type": "code",
   "execution_count": 42,
   "metadata": {},
   "outputs": [
    {
     "data": {
      "text/plain": [
       "{'tfidf__max_df': 0.95,\n",
       " 'tfidf__max_features': 1500,\n",
       " 'tfidf__min_df': 2,\n",
       " 'tfidf__ngram_range': (1, 2),\n",
       " 'tfidf__stop_words': None}"
      ]
     },
     "execution_count": 42,
     "metadata": {},
     "output_type": "execute_result"
    }
   ],
   "source": [
    "gs12.fit(X_train, y_train)\n",
    "gs12.best_params_"
   ]
  },
  {
   "cell_type": "code",
   "execution_count": 43,
   "metadata": {},
   "outputs": [
    {
     "name": "stdout",
     "output_type": "stream",
     "text": [
      "train score 0.9840871021775545\n",
      "test score 0.9610136452241715\n"
     ]
    }
   ],
   "source": [
    "print('train score', gs12.score(X_train, y_train))\n",
    "print('test score', gs12.score(X_test, y_test))"
   ]
  },
  {
   "cell_type": "code",
   "execution_count": 14,
   "metadata": {},
   "outputs": [],
   "source": [
    "#building a list of records \n",
    "model2.append('TFIDF Model With Multinomial NB')\n",
    "train_score2.append('0.9840871021775545')\n",
    "test_score2.append('0.9610136452241715')"
   ]
  },
  {
   "cell_type": "markdown",
   "metadata": {},
   "source": [
    "## Random Forest Model Feature Extraction"
   ]
  },
  {
   "cell_type": "code",
   "execution_count": 45,
   "metadata": {},
   "outputs": [],
   "source": [
    "from pactools.grid_search import GridSearchCVProgressBar"
   ]
  },
  {
   "cell_type": "code",
   "execution_count": 46,
   "metadata": {},
   "outputs": [
    {
     "name": "stderr",
     "output_type": "stream",
     "text": [
      "/Users/evelyn/anaconda3/lib/python3.7/importlib/_bootstrap.py:219: RuntimeWarning: numpy.ufunc size changed, may indicate binary incompatibility. Expected 192 from C header, got 216 from PyObject\n",
      "  return f(*args, **kwds)\n"
     ]
    }
   ],
   "source": [
    "from sklearn.ensemble import VotingClassifier, BaggingClassifier, RandomForestClassifier, ExtraTreesClassifier, AdaBoostClassifier\n",
    "from sklearn.tree import DecisionTreeClassifier"
   ]
  },
  {
   "cell_type": "code",
   "execution_count": 47,
   "metadata": {},
   "outputs": [],
   "source": [
    "rf_pipe = Pipeline([\n",
    "    ('cvec', CountVectorizer(max_df= 0.95, \n",
    "                       max_features= 1000, \n",
    "                       min_df= 5, \n",
    "                       ngram_range= (1,1))), \n",
    "#     ('tfidf', TfidfVectorizer(max_df= 0.95, \n",
    "#                        max_features= 1500, \n",
    "#                        min_df= 5, \n",
    "#                        ngram_range= (1,2))),\n",
    "    ('rf', RandomForestClassifier())\n",
    "])"
   ]
  },
  {
   "cell_type": "code",
   "execution_count": 48,
   "metadata": {
    "scrolled": true
   },
   "outputs": [],
   "source": [
    "rf_params = {\n",
    "    'rf__n_estimators':[50, 100],\n",
    "    'rf__max_depth': [50, 100, 150, 200],\n",
    "    'rf__max_features': ['auto', 4,5], \n",
    "    'rf__min_samples_leaf' :[2,3,4]\n",
    "}\n",
    "\n",
    "gs_rf1 = GridSearchCV(rf_pipe, param_grid = rf_params, cv = 3)\n",
    "gs_rf2 = GridSearchCV(rf_pipe, param_grid = rf_params, cv = 3)"
   ]
  },
  {
   "cell_type": "markdown",
   "metadata": {},
   "source": [
    "#### Model 5 with menwomen_df"
   ]
  },
  {
   "cell_type": "code",
   "execution_count": 52,
   "metadata": {},
   "outputs": [],
   "source": [
    "X = menwomen_df[\"Title_Content\"]\n",
    "y = menwomen_df['Subreddit']\n",
    "\n",
    "#Train Test Split \n",
    "X_train, X_test, y_train, y_test = train_test_split(X, y, test_size=0.3, random_state=42, stratify = y)"
   ]
  },
  {
   "cell_type": "code",
   "execution_count": 53,
   "metadata": {
    "scrolled": true
   },
   "outputs": [
    {
     "data": {
      "text/plain": [
       "GridSearchCV(cv=3, error_score='raise-deprecating',\n",
       "       estimator=Pipeline(memory=None,\n",
       "     steps=[('cvec', CountVectorizer(analyzer='word', binary=False, decode_error='strict',\n",
       "        dtype=<class 'numpy.int64'>, encoding='utf-8', input='content',\n",
       "        lowercase=True, max_df=0.95, max_features=1000, min_df=5,\n",
       "        ngram_range=(1, 1), preprocessor=None, stop_words=None,\n",
       "        stri...obs=None,\n",
       "            oob_score=False, random_state=None, verbose=0,\n",
       "            warm_start=False))]),\n",
       "       fit_params=None, iid='warn', n_jobs=None,\n",
       "       param_grid={'rf__n_estimators': [50, 100], 'rf__max_depth': [50, 100, 150, 200], 'rf__max_features': ['auto', 4, 5], 'rf__min_samples_leaf': [2, 3, 4]},\n",
       "       pre_dispatch='2*n_jobs', refit=True, return_train_score='warn',\n",
       "       scoring=None, verbose=0)"
      ]
     },
     "execution_count": 53,
     "metadata": {},
     "output_type": "execute_result"
    }
   ],
   "source": [
    "gs_rf1.fit(X_train, y_train)"
   ]
  },
  {
   "cell_type": "code",
   "execution_count": 54,
   "metadata": {},
   "outputs": [
    {
     "data": {
      "text/plain": [
       "{'rf__max_depth': 100,\n",
       " 'rf__max_features': 'auto',\n",
       " 'rf__min_samples_leaf': 2,\n",
       " 'rf__n_estimators': 100}"
      ]
     },
     "execution_count": 54,
     "metadata": {},
     "output_type": "execute_result"
    }
   ],
   "source": [
    "gs_rf1.best_params_"
   ]
  },
  {
   "cell_type": "code",
   "execution_count": 55,
   "metadata": {
    "scrolled": true
   },
   "outputs": [
    {
     "name": "stdout",
     "output_type": "stream",
     "text": [
      "train score 0.8843069873997709\n",
      "test score 0.728\n"
     ]
    }
   ],
   "source": [
    "print('train score', gs_rf1.score(X_train, y_train))\n",
    "print('test score', gs_rf1.score(X_test, y_test))"
   ]
  },
  {
   "cell_type": "code",
   "execution_count": 15,
   "metadata": {},
   "outputs": [],
   "source": [
    "#building a list of records \n",
    "model1.append('CVEC with Random Forest Model')\n",
    "train_score1.append('0.8843069873997709')\n",
    "test_score1.append('0.728')"
   ]
  },
  {
   "cell_type": "markdown",
   "metadata": {},
   "source": [
    "#### Model 5 with  womenrelationship_df"
   ]
  },
  {
   "cell_type": "code",
   "execution_count": 57,
   "metadata": {},
   "outputs": [],
   "source": [
    "X = womenrelationship_df[\"Title_Content\"]\n",
    "y = womenrelationship_df['Subreddit']\n",
    "\n",
    "#Train Test Split \n",
    "X_train, X_test, y_train, y_test = train_test_split(X, y, test_size=0.3, random_state=42, stratify = y)"
   ]
  },
  {
   "cell_type": "code",
   "execution_count": 58,
   "metadata": {
    "scrolled": false
   },
   "outputs": [
    {
     "data": {
      "text/plain": [
       "{'rf__max_depth': 50,\n",
       " 'rf__max_features': 'auto',\n",
       " 'rf__min_samples_leaf': 2,\n",
       " 'rf__n_estimators': 50}"
      ]
     },
     "execution_count": 58,
     "metadata": {},
     "output_type": "execute_result"
    }
   ],
   "source": [
    "gs_rf2.fit(X_train, y_train)\n",
    "gs_rf2.best_params_"
   ]
  },
  {
   "cell_type": "code",
   "execution_count": 59,
   "metadata": {},
   "outputs": [
    {
     "name": "stdout",
     "output_type": "stream",
     "text": [
      "train score 0.9882747068676717\n",
      "test score 0.9688109161793372\n"
     ]
    }
   ],
   "source": [
    "print('train score', gs_rf2.score(X_train, y_train))\n",
    "print('test score', gs_rf2.score(X_test, y_test))"
   ]
  },
  {
   "cell_type": "code",
   "execution_count": 16,
   "metadata": {},
   "outputs": [],
   "source": [
    "#building a list of records \n",
    "model2.append('CVEC with Random Forest Model')\n",
    "train_score2.append('0.984087102177554')\n",
    "test_score2.append (' 0.9785575048732943')"
   ]
  },
  {
   "cell_type": "markdown",
   "metadata": {},
   "source": [
    "## Extra Tree Model Feature Extraction"
   ]
  },
  {
   "cell_type": "code",
   "execution_count": 61,
   "metadata": {},
   "outputs": [],
   "source": [
    "et_pipe = Pipeline([\n",
    "#     ('cvec', CountVectorizer(max_df= 0.95, \n",
    "#                        max_features= 1000, \n",
    "#                        min_df= 5, \n",
    "#                        ngram_range= (1,1))), \n",
    "    ('tfidf', TfidfVectorizer(max_df= 0.95, \n",
    "                       max_features= 1500, \n",
    "                       min_df= 5, \n",
    "                       ngram_range= (1,2))),\n",
    "    ('et', ExtraTreesClassifier())\n",
    "])"
   ]
  },
  {
   "cell_type": "code",
   "execution_count": 62,
   "metadata": {
    "scrolled": true
   },
   "outputs": [],
   "source": [
    "et_params = {\n",
    "    'et__n_estimators':[50, 100],\n",
    "    'et__max_depth': [50, 100, 150, 200],\n",
    "    'et__max_features': ['auto', 4,5], \n",
    "    'et__min_samples_leaf' :[2, 3, 4]\n",
    "}\n",
    "\n",
    "gs_et1 = GridSearchCV(et_pipe, param_grid = et_params, cv = 3)\n",
    "gs_et2 = GridSearchCV(et_pipe, param_grid = et_params, cv = 3)"
   ]
  },
  {
   "cell_type": "markdown",
   "metadata": {},
   "source": [
    "#### Model 6 with Extra Tree menwomen_df"
   ]
  },
  {
   "cell_type": "code",
   "execution_count": 63,
   "metadata": {},
   "outputs": [],
   "source": [
    "X = menwomen_df[\"Title_Content\"]\n",
    "y = menwomen_df['Subreddit']\n",
    "\n",
    "#Train Test Split \n",
    "X_train, X_test, y_train, y_test = train_test_split(X, y, test_size=0.3, random_state=42, stratify = y)"
   ]
  },
  {
   "cell_type": "code",
   "execution_count": 64,
   "metadata": {
    "scrolled": true
   },
   "outputs": [
    {
     "data": {
      "text/plain": [
       "GridSearchCV(cv=3, error_score='raise-deprecating',\n",
       "       estimator=Pipeline(memory=None,\n",
       "     steps=[('tfidf', TfidfVectorizer(analyzer='word', binary=False, decode_error='strict',\n",
       "        dtype=<class 'numpy.float64'>, encoding='utf-8', input='content',\n",
       "        lowercase=True, max_df=0.95, max_features=1500, min_df=5,\n",
       "        ngram_range=(1, 2), norm='l2', preprocessor=None, smooth_idf=True...s='warn', n_jobs=None,\n",
       "           oob_score=False, random_state=None, verbose=0, warm_start=False))]),\n",
       "       fit_params=None, iid='warn', n_jobs=None,\n",
       "       param_grid={'et__n_estimators': [50, 100], 'et__max_depth': [50, 100, 150, 200], 'et__max_features': ['auto', 4, 5], 'et__min_samples_leaf': [2, 3, 4]},\n",
       "       pre_dispatch='2*n_jobs', refit=True, return_train_score='warn',\n",
       "       scoring=None, verbose=0)"
      ]
     },
     "execution_count": 64,
     "metadata": {},
     "output_type": "execute_result"
    }
   ],
   "source": [
    "gs_et1.fit(X_train, y_train)"
   ]
  },
  {
   "cell_type": "code",
   "execution_count": 65,
   "metadata": {},
   "outputs": [
    {
     "data": {
      "text/plain": [
       "{'et__max_depth': 150,\n",
       " 'et__max_features': 'auto',\n",
       " 'et__min_samples_leaf': 3,\n",
       " 'et__n_estimators': 100}"
      ]
     },
     "execution_count": 65,
     "metadata": {},
     "output_type": "execute_result"
    }
   ],
   "source": [
    "gs_et1.best_params_"
   ]
  },
  {
   "cell_type": "code",
   "execution_count": 66,
   "metadata": {
    "scrolled": true
   },
   "outputs": [
    {
     "name": "stdout",
     "output_type": "stream",
     "text": [
      "train score 0.9014891179839634\n",
      "test score 0.7306666666666667\n"
     ]
    }
   ],
   "source": [
    "print('train score', gs_et1.score(X_train, y_train))\n",
    "print('test score', gs_et1.score(X_test, y_test))"
   ]
  },
  {
   "cell_type": "code",
   "execution_count": 17,
   "metadata": {},
   "outputs": [],
   "source": [
    "#building a list of records \n",
    "model1.append('TFIDF with Extra Tree Model')\n",
    "train_score1.append('0.9014891179839634')\n",
    "test_score1.append ('0.7306666666666667')"
   ]
  },
  {
   "cell_type": "markdown",
   "metadata": {},
   "source": [
    "#### Model 6 with Extra Tree womenrelationship_df"
   ]
  },
  {
   "cell_type": "code",
   "execution_count": 68,
   "metadata": {},
   "outputs": [],
   "source": [
    "X = womenrelationship_df[\"Title_Content\"]\n",
    "y = womenrelationship_df['Subreddit']\n",
    "\n",
    "#Train Test Split \n",
    "X_train, X_test, y_train, y_test = train_test_split(X, y, test_size=0.3, random_state=42, stratify = y)"
   ]
  },
  {
   "cell_type": "code",
   "execution_count": 69,
   "metadata": {
    "scrolled": false
   },
   "outputs": [
    {
     "data": {
      "text/plain": [
       "{'et__max_depth': 150,\n",
       " 'et__max_features': 'auto',\n",
       " 'et__min_samples_leaf': 2,\n",
       " 'et__n_estimators': 100}"
      ]
     },
     "execution_count": 69,
     "metadata": {},
     "output_type": "execute_result"
    }
   ],
   "source": [
    "gs_et2.fit(X_train, y_train)\n",
    "gs_et2.best_params_"
   ]
  },
  {
   "cell_type": "code",
   "execution_count": 70,
   "metadata": {
    "scrolled": false
   },
   "outputs": [
    {
     "name": "stdout",
     "output_type": "stream",
     "text": [
      "train score 0.9941373534338358\n",
      "test score 0.9746588693957114\n"
     ]
    }
   ],
   "source": [
    "print('train score', gs_et2.score(X_train, y_train))\n",
    "print('test score', gs_et2.score(X_test, y_test))"
   ]
  },
  {
   "cell_type": "code",
   "execution_count": 18,
   "metadata": {},
   "outputs": [],
   "source": [
    "#building a list of records \n",
    "model2.append('TFIDF with Extra Tree Model')\n",
    "train_score2.append('0.9941373534338358')\n",
    "test_score2.append ('0.9746588693957114')"
   ]
  },
  {
   "cell_type": "markdown",
   "metadata": {},
   "source": [
    "## AdaBoostClassifier Model Feature Extraction"
   ]
  },
  {
   "cell_type": "code",
   "execution_count": 72,
   "metadata": {},
   "outputs": [],
   "source": [
    "ada_pipe = Pipeline([\n",
    "    ('cvec', CountVectorizer(max_df= 0.95, \n",
    "                       max_features= 1000, \n",
    "                       min_df= 5, \n",
    "                       ngram_range= (1,1))),\n",
    "    \n",
    "#     ('tfidf', TfidfVectorizer(max_df= 0.95, \n",
    "#                        max_features= 1500, \n",
    "#                        min_df= 5, \n",
    "#                        ngram_range= (1,2))),\n",
    "    ('ada', AdaBoostClassifier(base_estimator=DecisionTreeClassifier())) \n",
    "])"
   ]
  },
  {
   "cell_type": "code",
   "execution_count": 73,
   "metadata": {
    "scrolled": true
   },
   "outputs": [],
   "source": [
    "ada_params = {\n",
    "    'ada__n_estimators': [100, 200, 300],\n",
    "    'ada__base_estimator__max_depth': [50,100, 200],\n",
    "    'ada__learning_rate': [.9, 1.]\n",
    "}\n",
    "\n",
    "gs_ada1 = GridSearchCV(ada_pipe, param_grid = ada_params, cv = 3)\n",
    "gs_ada2 = GridSearchCV(ada_pipe, param_grid = ada_params, cv = 3)"
   ]
  },
  {
   "cell_type": "markdown",
   "metadata": {},
   "source": [
    "#### Model 7 with AdaBoostClassifier menwomen_df"
   ]
  },
  {
   "cell_type": "code",
   "execution_count": 74,
   "metadata": {},
   "outputs": [],
   "source": [
    "X = menwomen_df[\"Title_Content\"]\n",
    "y = menwomen_df['Subreddit']\n",
    "\n",
    "#Train Test Split \n",
    "X_train, X_test, y_train, y_test = train_test_split(X, y, test_size=0.3, random_state=42, stratify = y)"
   ]
  },
  {
   "cell_type": "code",
   "execution_count": 75,
   "metadata": {
    "scrolled": true
   },
   "outputs": [
    {
     "data": {
      "text/plain": [
       "GridSearchCV(cv=3, error_score='raise-deprecating',\n",
       "       estimator=Pipeline(memory=None,\n",
       "     steps=[('cvec', CountVectorizer(analyzer='word', binary=False, decode_error='strict',\n",
       "        dtype=<class 'numpy.int64'>, encoding='utf-8', input='content',\n",
       "        lowercase=True, max_df=0.95, max_features=1000, min_df=5,\n",
       "        ngram_range=(1, 1), preprocessor=None, stop_words=None,\n",
       "        stri...ne,\n",
       "            splitter='best'),\n",
       "          learning_rate=1.0, n_estimators=50, random_state=None))]),\n",
       "       fit_params=None, iid='warn', n_jobs=None,\n",
       "       param_grid={'ada__n_estimators': [100, 200, 300], 'ada__base_estimator__max_depth': [50, 100, 200], 'ada__learning_rate': [0.9, 1.0]},\n",
       "       pre_dispatch='2*n_jobs', refit=True, return_train_score='warn',\n",
       "       scoring=None, verbose=0)"
      ]
     },
     "execution_count": 75,
     "metadata": {},
     "output_type": "execute_result"
    }
   ],
   "source": [
    "gs_ada1.fit(X_train, y_train)"
   ]
  },
  {
   "cell_type": "code",
   "execution_count": 76,
   "metadata": {},
   "outputs": [
    {
     "data": {
      "text/plain": [
       "{'ada__base_estimator__max_depth': 50,\n",
       " 'ada__learning_rate': 1.0,\n",
       " 'ada__n_estimators': 100}"
      ]
     },
     "execution_count": 76,
     "metadata": {},
     "output_type": "execute_result"
    }
   ],
   "source": [
    "gs_ada1.best_params_"
   ]
  },
  {
   "cell_type": "code",
   "execution_count": 77,
   "metadata": {
    "scrolled": false
   },
   "outputs": [
    {
     "name": "stdout",
     "output_type": "stream",
     "text": [
      "train score 0.9988545246277205\n",
      "test score 0.6693333333333333\n"
     ]
    }
   ],
   "source": [
    "print('train score', gs_ada1.score(X_train, y_train))\n",
    "print('test score', gs_ada1.score(X_test, y_test))"
   ]
  },
  {
   "cell_type": "code",
   "execution_count": 19,
   "metadata": {},
   "outputs": [],
   "source": [
    "#building a list of records \n",
    "model1.append('CVEC with AdaBoostClassifier Model')\n",
    "train_score1.append('0.9988545246277205')\n",
    "test_score1.append ('0.6693333333333333')"
   ]
  },
  {
   "cell_type": "markdown",
   "metadata": {},
   "source": [
    "#### Model 7 with AdaBoostClassifier womenrelationship_df"
   ]
  },
  {
   "cell_type": "code",
   "execution_count": 79,
   "metadata": {},
   "outputs": [],
   "source": [
    "X = womenrelationship_df[\"Title_Content\"]\n",
    "y = womenrelationship_df['Subreddit']\n",
    "\n",
    "#Train Test Split \n",
    "X_train, X_test, y_train, y_test = train_test_split(X, y, test_size=0.3, random_state=42, stratify = y)"
   ]
  },
  {
   "cell_type": "code",
   "execution_count": 80,
   "metadata": {
    "scrolled": false
   },
   "outputs": [
    {
     "data": {
      "text/plain": [
       "{'ada__base_estimator__max_depth': 100,\n",
       " 'ada__learning_rate': 0.9,\n",
       " 'ada__n_estimators': 300}"
      ]
     },
     "execution_count": 80,
     "metadata": {},
     "output_type": "execute_result"
    }
   ],
   "source": [
    "gs_ada2.fit(X_train, y_train)\n",
    "gs_ada2.best_params_"
   ]
  },
  {
   "cell_type": "code",
   "execution_count": 81,
   "metadata": {
    "scrolled": false
   },
   "outputs": [
    {
     "name": "stdout",
     "output_type": "stream",
     "text": [
      "train score 1.0\n",
      "test score 0.9532163742690059\n"
     ]
    }
   ],
   "source": [
    "print('train score', gs_ada2.score(X_train, y_train))\n",
    "print('test score', gs_ada2.score(X_test, y_test))"
   ]
  },
  {
   "cell_type": "code",
   "execution_count": 20,
   "metadata": {},
   "outputs": [],
   "source": [
    "#building a list of records \n",
    "model2.append('CVEC with AdaBoostClassifier Model')\n",
    "train_score2.append('1.0')\n",
    "test_score2.append ('0.949317738791423')"
   ]
  },
  {
   "cell_type": "markdown",
   "metadata": {},
   "source": [
    "## Support Vector Machine Feature Extraction"
   ]
  },
  {
   "cell_type": "code",
   "execution_count": 83,
   "metadata": {},
   "outputs": [],
   "source": [
    "svc_pipe = Pipeline([\n",
    "    ('cvec', CountVectorizer(max_df= 0.95, \n",
    "                       max_features= 1000, \n",
    "                       min_df= 5, \n",
    "                       ngram_range= (1,1))),\n",
    "    \n",
    "#     ('tfidf', TfidfVectorizer(max_df= 0.95, \n",
    "#                        max_features= 1500, \n",
    "#                        min_df= 5, \n",
    "#                        ngram_range= (1,2))),\n",
    "    ('svc', svm.SVC()) \n",
    "])"
   ]
  },
  {
   "cell_type": "code",
   "execution_count": 84,
   "metadata": {
    "scrolled": true
   },
   "outputs": [],
   "source": [
    "svc_params = {\n",
    "    'svc__C': [0.5, 1, 1.5],\n",
    "    'svc__kernel' : ['linear', 'poly', 'rbf', 'sigmoid']\n",
    "}\n",
    "\n",
    "gs_svc1 = GridSearchCV(svc_pipe, param_grid = svc_params, cv = 3)\n",
    "gs_svc2 = GridSearchCV(svc_pipe, param_grid = svc_params, cv = 3)"
   ]
  },
  {
   "cell_type": "markdown",
   "metadata": {},
   "source": [
    "### Model 7 with SVC menwomen_df"
   ]
  },
  {
   "cell_type": "code",
   "execution_count": 85,
   "metadata": {},
   "outputs": [],
   "source": [
    "X = menwomen_df[\"Title_Content\"]\n",
    "y = menwomen_df['Subreddit']\n",
    "\n",
    "#Train Test Split \n",
    "X_train, X_test, y_train, y_test = train_test_split(X, y, test_size=0.3, random_state=42, stratify = y)"
   ]
  },
  {
   "cell_type": "code",
   "execution_count": 86,
   "metadata": {
    "scrolled": true
   },
   "outputs": [
    {
     "data": {
      "text/plain": [
       "GridSearchCV(cv=3, error_score='raise-deprecating',\n",
       "       estimator=Pipeline(memory=None,\n",
       "     steps=[('cvec', CountVectorizer(analyzer='word', binary=False, decode_error='strict',\n",
       "        dtype=<class 'numpy.int64'>, encoding='utf-8', input='content',\n",
       "        lowercase=True, max_df=0.95, max_features=1000, min_df=5,\n",
       "        ngram_range=(1, 1), preprocessor=None, stop_words=None,\n",
       "        stri...f', max_iter=-1, probability=False, random_state=None,\n",
       "  shrinking=True, tol=0.001, verbose=False))]),\n",
       "       fit_params=None, iid='warn', n_jobs=None,\n",
       "       param_grid={'svc__C': [0.5, 1, 1.5], 'svc__kernel': ['linear', 'poly', 'rbf', 'sigmoid']},\n",
       "       pre_dispatch='2*n_jobs', refit=True, return_train_score='warn',\n",
       "       scoring=None, verbose=0)"
      ]
     },
     "execution_count": 86,
     "metadata": {},
     "output_type": "execute_result"
    }
   ],
   "source": [
    "gs_svc1.fit(X_train, y_train)"
   ]
  },
  {
   "cell_type": "code",
   "execution_count": 87,
   "metadata": {},
   "outputs": [
    {
     "data": {
      "text/plain": [
       "{'svc__C': 1.5, 'svc__kernel': 'rbf'}"
      ]
     },
     "execution_count": 87,
     "metadata": {},
     "output_type": "execute_result"
    }
   ],
   "source": [
    "gs_svc1.best_params_"
   ]
  },
  {
   "cell_type": "code",
   "execution_count": 88,
   "metadata": {
    "scrolled": false
   },
   "outputs": [
    {
     "name": "stdout",
     "output_type": "stream",
     "text": [
      "train score 0.7170675830469645\n",
      "test score 0.6773333333333333\n"
     ]
    }
   ],
   "source": [
    "print('train score', gs_svc1.score(X_train, y_train))\n",
    "print('test score', gs_svc1.score(X_test, y_test))"
   ]
  },
  {
   "cell_type": "code",
   "execution_count": 21,
   "metadata": {},
   "outputs": [],
   "source": [
    "#building a list of records \n",
    "model1.append('CVEC with SVC Model')\n",
    "train_score1.append('0.7170675830469645')\n",
    "test_score1.append ('0.6773333333333333')"
   ]
  },
  {
   "cell_type": "markdown",
   "metadata": {},
   "source": [
    "### Model 7 with SVC womenrelationship_df"
   ]
  },
  {
   "cell_type": "code",
   "execution_count": 98,
   "metadata": {},
   "outputs": [],
   "source": [
    "X = womenrelationship_df[\"Title_Content\"]\n",
    "y = womenrelationship_df['Subreddit']\n",
    "\n",
    "#Train Test Split \n",
    "X_train, X_test, y_train, y_test = train_test_split(X, y, test_size=0.3, random_state=42, stratify = y)"
   ]
  },
  {
   "cell_type": "code",
   "execution_count": 99,
   "metadata": {
    "scrolled": false
   },
   "outputs": [
    {
     "data": {
      "text/plain": [
       "{'svc__C': 0.5, 'svc__kernel': 'linear'}"
      ]
     },
     "execution_count": 99,
     "metadata": {},
     "output_type": "execute_result"
    }
   ],
   "source": [
    "gs_svc2.fit(X_train, y_train)\n",
    "gs_svc2.best_params_"
   ]
  },
  {
   "cell_type": "code",
   "execution_count": 100,
   "metadata": {
    "scrolled": false
   },
   "outputs": [
    {
     "name": "stdout",
     "output_type": "stream",
     "text": [
      "train score 0.9991624790619765\n",
      "test score 0.9766081871345029\n"
     ]
    }
   ],
   "source": [
    "print('train score', gs_svc2.score(X_train, y_train))\n",
    "print('test score', gs_svc2.score(X_test, y_test))"
   ]
  },
  {
   "cell_type": "code",
   "execution_count": 22,
   "metadata": {},
   "outputs": [],
   "source": [
    "#building a list of records \n",
    "model2.append('CVEC with SVC Model')\n",
    "train_score2.append('0.9991624790619765')\n",
    "test_score2.append ('0.9766081871345029')"
   ]
  },
  {
   "cell_type": "markdown",
   "metadata": {},
   "source": [
    "## Model Comparison "
   ]
  },
  {
   "cell_type": "code",
   "execution_count": 23,
   "metadata": {},
   "outputs": [],
   "source": [
    "import matplotlib.pyplot as plt"
   ]
  },
  {
   "cell_type": "code",
   "execution_count": 24,
   "metadata": {},
   "outputs": [
    {
     "data": {
      "text/plain": [
       "(8, 8, 8)"
      ]
     },
     "execution_count": 24,
     "metadata": {},
     "output_type": "execute_result"
    }
   ],
   "source": [
    "len(model1), len(train_score1), len(test_score1)"
   ]
  },
  {
   "cell_type": "code",
   "execution_count": 25,
   "metadata": {
    "scrolled": true
   },
   "outputs": [
    {
     "data": {
      "text/plain": [
       "(8, 8, 8)"
      ]
     },
     "execution_count": 25,
     "metadata": {},
     "output_type": "execute_result"
    }
   ],
   "source": [
    "len(model2), len(train_score2), len(test_score2)"
   ]
  },
  {
   "cell_type": "code",
   "execution_count": 26,
   "metadata": {},
   "outputs": [],
   "source": [
    "train_score1 = [round(float(i),2) for i in train_score1]"
   ]
  },
  {
   "cell_type": "code",
   "execution_count": 27,
   "metadata": {},
   "outputs": [],
   "source": [
    "test_score1 = [round(float(i),2) for i in test_score1]"
   ]
  },
  {
   "cell_type": "code",
   "execution_count": 28,
   "metadata": {},
   "outputs": [],
   "source": [
    "train_score2 = [round(float(i),2) for i in train_score2]"
   ]
  },
  {
   "cell_type": "code",
   "execution_count": 29,
   "metadata": {},
   "outputs": [],
   "source": [
    "test_score2 = [round(float(i),2) for i in test_score2]"
   ]
  },
  {
   "cell_type": "code",
   "execution_count": 30,
   "metadata": {
    "scrolled": true
   },
   "outputs": [
    {
     "data": {
      "text/html": [
       "<div>\n",
       "<style scoped>\n",
       "    .dataframe tbody tr th:only-of-type {\n",
       "        vertical-align: middle;\n",
       "    }\n",
       "\n",
       "    .dataframe tbody tr th {\n",
       "        vertical-align: top;\n",
       "    }\n",
       "\n",
       "    .dataframe thead th {\n",
       "        text-align: right;\n",
       "    }\n",
       "</style>\n",
       "<table border=\"1\" class=\"dataframe\">\n",
       "  <thead>\n",
       "    <tr style=\"text-align: right;\">\n",
       "      <th></th>\n",
       "      <th>model_name</th>\n",
       "      <th>train_score</th>\n",
       "      <th>test_score</th>\n",
       "    </tr>\n",
       "  </thead>\n",
       "  <tbody>\n",
       "    <tr>\n",
       "      <th>0</th>\n",
       "      <td>CountVectorizer Model With Logistic Regression</td>\n",
       "      <td>0.91</td>\n",
       "      <td>0.7</td>\n",
       "    </tr>\n",
       "    <tr>\n",
       "      <th>1</th>\n",
       "      <td>CountVectorizer_Model_With_Multinomial_NB</td>\n",
       "      <td>0.82</td>\n",
       "      <td>0.71</td>\n",
       "    </tr>\n",
       "    <tr>\n",
       "      <th>2</th>\n",
       "      <td>TFIDF Model With Logistic Regression</td>\n",
       "      <td>0.84</td>\n",
       "      <td>0.73</td>\n",
       "    </tr>\n",
       "    <tr>\n",
       "      <th>3</th>\n",
       "      <td>TFIDF Model With Multinomial NB</td>\n",
       "      <td>0.8</td>\n",
       "      <td>0.72</td>\n",
       "    </tr>\n",
       "    <tr>\n",
       "      <th>4</th>\n",
       "      <td>CVEC with Random Forest Model</td>\n",
       "      <td>0.88</td>\n",
       "      <td>0.73</td>\n",
       "    </tr>\n",
       "    <tr>\n",
       "      <th>5</th>\n",
       "      <td>TFIDF with Extra Tree Model</td>\n",
       "      <td>0.9</td>\n",
       "      <td>0.73</td>\n",
       "    </tr>\n",
       "    <tr>\n",
       "      <th>6</th>\n",
       "      <td>CVEC with AdaBoostClassifier Model</td>\n",
       "      <td>1</td>\n",
       "      <td>0.67</td>\n",
       "    </tr>\n",
       "    <tr>\n",
       "      <th>7</th>\n",
       "      <td>CVEC with SVC Model</td>\n",
       "      <td>0.72</td>\n",
       "      <td>0.68</td>\n",
       "    </tr>\n",
       "  </tbody>\n",
       "</table>\n",
       "</div>"
      ],
      "text/plain": [
       "                                       model_name train_score test_score\n",
       "0  CountVectorizer Model With Logistic Regression        0.91        0.7\n",
       "1       CountVectorizer_Model_With_Multinomial_NB        0.82       0.71\n",
       "2            TFIDF Model With Logistic Regression        0.84       0.73\n",
       "3                 TFIDF Model With Multinomial NB         0.8       0.72\n",
       "4                   CVEC with Random Forest Model        0.88       0.73\n",
       "5                     TFIDF with Extra Tree Model         0.9       0.73\n",
       "6              CVEC with AdaBoostClassifier Model           1       0.67\n",
       "7                             CVEC with SVC Model        0.72       0.68"
      ]
     },
     "execution_count": 30,
     "metadata": {},
     "output_type": "execute_result"
    }
   ],
   "source": [
    "#Building Askmen AskWomen Model DF\n",
    "men_women_model_df = pd.DataFrame([model1, train_score1, test_score1])\n",
    "men_women_model_df = men_women_model_df.T\n",
    "men_women_model_df.columns = ['model_name', 'train_score', 'test_score']\n",
    "men_women_model_df"
   ]
  },
  {
   "cell_type": "code",
   "execution_count": 41,
   "metadata": {},
   "outputs": [
    {
     "data": {
      "image/png": "[encoded data removed]",
      "text/plain": [
       "<Figure size 1296x720 with 1 Axes>"
      ]
     },
     "metadata": {
      "needs_background": "light"
     },
     "output_type": "display_data"
    }
   ],
   "source": [
    "fig = plt.figure(figsize = (18,10))\n",
    "plt.plot(men_women_model_df['train_score'])\n",
    "plt.plot(men_women_model_df['test_score'])\n",
    "ax = plt.gca()\n",
    "plt.title('AskMen And AskWomen Subreddit Model Evaluatoin', fontsize = 18)\n",
    "ax.set_xticklabels(['','CVEC With Logistic Regression',\n",
    "       'CVEC Model_With_Multinomial_NB',\n",
    "       'TFIDF Model With Logistic Regression',\n",
    "       'TFIDF Model With Multinomial NB', 'CVEC with Random Forest Model',\n",
    "       'TFIDF with Extra Tree Model',\n",
    "       'CVEC with AdaBoostClassifier Model', 'CVEC with SVC Model'], ha = 'right', fontsize = 14)\n",
    "ax.tick_params(axis='x', rotation= 10)\n",
    "ax.legend(fontsize = 20)\n",
    "plt.savefig('../images/AskMenWomen_modeleval.png')"
   ]
  },
  {
   "cell_type": "code",
   "execution_count": 32,
   "metadata": {},
   "outputs": [
    {
     "data": {
      "text/html": [
       "<div>\n",
       "<style scoped>\n",
       "    .dataframe tbody tr th:only-of-type {\n",
       "        vertical-align: middle;\n",
       "    }\n",
       "\n",
       "    .dataframe tbody tr th {\n",
       "        vertical-align: top;\n",
       "    }\n",
       "\n",
       "    .dataframe thead th {\n",
       "        text-align: right;\n",
       "    }\n",
       "</style>\n",
       "<table border=\"1\" class=\"dataframe\">\n",
       "  <thead>\n",
       "    <tr style=\"text-align: right;\">\n",
       "      <th></th>\n",
       "      <th>model_name</th>\n",
       "      <th>train_score</th>\n",
       "      <th>test_score</th>\n",
       "    </tr>\n",
       "  </thead>\n",
       "  <tbody>\n",
       "    <tr>\n",
       "      <th>0</th>\n",
       "      <td>CountVectorizer Model With Logistic Regression</td>\n",
       "      <td>1</td>\n",
       "      <td>0.98</td>\n",
       "    </tr>\n",
       "    <tr>\n",
       "      <th>1</th>\n",
       "      <td>CountVectorizer_Model_With_Multinomial_NB</td>\n",
       "      <td>0.98</td>\n",
       "      <td>0.97</td>\n",
       "    </tr>\n",
       "    <tr>\n",
       "      <th>2</th>\n",
       "      <td>TFIDF Model With Logistic Regression</td>\n",
       "      <td>0.98</td>\n",
       "      <td>0.97</td>\n",
       "    </tr>\n",
       "    <tr>\n",
       "      <th>3</th>\n",
       "      <td>TFIDF Model With Multinomial NB</td>\n",
       "      <td>0.98</td>\n",
       "      <td>0.96</td>\n",
       "    </tr>\n",
       "    <tr>\n",
       "      <th>4</th>\n",
       "      <td>CVEC with Random Forest Model</td>\n",
       "      <td>0.98</td>\n",
       "      <td>0.98</td>\n",
       "    </tr>\n",
       "    <tr>\n",
       "      <th>5</th>\n",
       "      <td>TFIDF with Extra Tree Model</td>\n",
       "      <td>0.99</td>\n",
       "      <td>0.97</td>\n",
       "    </tr>\n",
       "    <tr>\n",
       "      <th>6</th>\n",
       "      <td>CVEC with AdaBoostClassifier Model</td>\n",
       "      <td>1</td>\n",
       "      <td>0.95</td>\n",
       "    </tr>\n",
       "    <tr>\n",
       "      <th>7</th>\n",
       "      <td>CVEC with SVC Model</td>\n",
       "      <td>1</td>\n",
       "      <td>0.98</td>\n",
       "    </tr>\n",
       "  </tbody>\n",
       "</table>\n",
       "</div>"
      ],
      "text/plain": [
       "                                       model_name train_score test_score\n",
       "0  CountVectorizer Model With Logistic Regression           1       0.98\n",
       "1       CountVectorizer_Model_With_Multinomial_NB        0.98       0.97\n",
       "2            TFIDF Model With Logistic Regression        0.98       0.97\n",
       "3                 TFIDF Model With Multinomial NB        0.98       0.96\n",
       "4                   CVEC with Random Forest Model        0.98       0.98\n",
       "5                     TFIDF with Extra Tree Model        0.99       0.97\n",
       "6              CVEC with AdaBoostClassifier Model           1       0.95\n",
       "7                             CVEC with SVC Model           1       0.98"
      ]
     },
     "execution_count": 32,
     "metadata": {},
     "output_type": "execute_result"
    }
   ],
   "source": [
    "#Building AskWomen Relationship Advice Model DF\n",
    "women_relationship_model_df = pd.DataFrame([model2, train_score2, test_score2])\n",
    "women_relationship_model_df = women_relationship_model_df.T\n",
    "women_relationship_model_df.columns = ['model_name', 'train_score', 'test_score']\n",
    "women_relationship_model_df"
   ]
  },
  {
   "cell_type": "code",
   "execution_count": 42,
   "metadata": {},
   "outputs": [
    {
     "data": {
      "image/png": "[encoded data removed]",
      "text/plain": [
       "<Figure size 1440x720 with 1 Axes>"
      ]
     },
     "metadata": {
      "needs_background": "light"
     },
     "output_type": "display_data"
    }
   ],
   "source": [
    "fig = plt.figure(figsize = (20,10))\n",
    "plt.plot(women_relationship_model_df['train_score'])\n",
    "plt.plot(women_relationship_model_df['test_score'])\n",
    "ax = plt.gca()\n",
    "plt.title('AskWomen and Relationship Advice Subreddit Model Evaluatoin', fontsize = 18)\n",
    "ax.set_xticklabels(['','CVEC With Logistic Regression',\n",
    "       'CVEC Model_With_Multinomial_NB',\n",
    "       'TFIDF Model With Logistic Regression',\n",
    "       'TFIDF Model With Multinomial NB', 'CVEC with Random Forest Model',\n",
    "       'TFIDF with Extra Tree Model',\n",
    "       'CVEC with AdaBoostClassifier Model', 'CVEC with SVC Model'], ha = 'right', fontsize = 14)\n",
    "ax.tick_params(axis='x', rotation=10);\n",
    "ax.legend(fontsize = 20)\n",
    "plt.savefig('../images/AskWomenRelationship_modeleval.png')"
   ]
  },
  {
   "cell_type": "code",
   "execution_count": null,
   "metadata": {},
   "outputs": [],
   "source": []
  }
 ],
 "metadata": {
  "kernelspec": {
   "display_name": "Python 3",
   "language": "python",
   "name": "python3"
  },
  "language_info": {
   "codemirror_mode": {
    "name": "ipython",
    "version": 3
   },
   "file_extension": ".py",
   "mimetype": "text/x-python",
   "name": "python",
   "nbconvert_exporter": "python",
   "pygments_lexer": "ipython3",
   "version": "3.7.1"
  }
 },
 "nbformat": 4,
 "nbformat_minor": 2
}
